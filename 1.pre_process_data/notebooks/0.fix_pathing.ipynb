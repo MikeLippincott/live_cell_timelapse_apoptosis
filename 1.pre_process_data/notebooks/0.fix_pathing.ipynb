{
 "cells": [
  {
   "cell_type": "markdown",
   "metadata": {},
   "source": [
    "This notebook fixes issues with data paths by replacing spaces with underscores"
   ]
  },
  {
   "cell_type": "code",
   "execution_count": 1,
   "metadata": {},
   "outputs": [],
   "source": [
    "import pathlib"
   ]
  },
  {
   "cell_type": "code",
   "execution_count": 2,
   "metadata": {},
   "outputs": [],
   "source": [
    "# set data path\n",
    "data_path = pathlib.Path(\"../../data/raw_data/\").resolve(strict=True)"
   ]
  },
  {
   "cell_type": "code",
   "execution_count": 3,
   "metadata": {},
   "outputs": [
    {
     "data": {
      "text/plain": [
       "[PosixPath('/home/lippincm/4TB_A/live_cell_timelapse_apoptosis/data/raw_data/20231017ChromaLive_6hr_4ch_MaxIP'),\n",
       " PosixPath('/home/lippincm/4TB_A/live_cell_timelapse_apoptosis/data/raw_data/20231017ChromaLive_endpoint_w_AnnexinV_2ch_MaxIP')]"
      ]
     },
     "execution_count": 3,
     "metadata": {},
     "output_type": "execute_result"
    }
   ],
   "source": [
    "# get all directories in data path\n",
    "directories = [x for x in data_path.iterdir() if x.is_dir()]\n",
    "directories"
   ]
  },
  {
   "cell_type": "code",
   "execution_count": 4,
   "metadata": {},
   "outputs": [],
   "source": [
    "# rename the directories to replace spaces with underscores\n",
    "for directory in directories:\n",
    "    new_name = directory.name.replace(\" \", \"_\")\n",
    "    directory.rename(directory.parent / new_name)"
   ]
  },
  {
   "cell_type": "code",
   "execution_count": null,
   "metadata": {},
   "outputs": [
    {
     "data": {
      "text/plain": [
       "[PosixPath('/home/lippincm/4TB_A/live_cell_timelapse_apoptosis/data/raw_data/20231017ChromaLive_6hr_4ch_MaxIP'),\n",
       " PosixPath('/home/lippincm/4TB_A/live_cell_timelapse_apoptosis/data/raw_data/20231017ChromaLive_endpoint_w_AnnexinV_2ch_MaxIP')]"
      ]
     },
     "execution_count": 5,
     "metadata": {},
     "output_type": "execute_result"
    },
    {
     "ename": "",
     "evalue": "",
     "output_type": "error",
     "traceback": [
      "\u001b[1;31mThe Kernel crashed while executing code in the current cell or a previous cell. \n",
      "\u001b[1;31mPlease review the code in the cell(s) to identify a possible cause of the failure. \n",
      "\u001b[1;31mClick <a href='https://aka.ms/vscodeJupyterKernelCrash'>here</a> for more info. \n",
      "\u001b[1;31mView Jupyter <a href='command:jupyter.viewOutput'>log</a> for further details."
     ]
    }
   ],
   "source": [
    "# get all directories in data path\n",
    "directories = [x for x in data_path.iterdir() if x.is_dir()]\n",
    "directories"
   ]
  }
 ],
 "metadata": {
  "kernelspec": {
   "display_name": "timelapse_env",
   "language": "python",
   "name": "python3"
  },
  "language_info": {
   "codemirror_mode": {
    "name": "ipython",
    "version": 3
   },
   "file_extension": ".py",
   "mimetype": "text/x-python",
   "name": "python",
   "nbconvert_exporter": "python",
   "pygments_lexer": "ipython3",
   "version": "3.11.10"
  }
 },
 "nbformat": 4,
 "nbformat_minor": 2
}
