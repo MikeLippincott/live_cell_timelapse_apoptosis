{
 "cells": [
  {
   "cell_type": "markdown",
   "metadata": {},
   "source": [
    "This notebook fixes issues with data paths by replacing spaces with underscores"
   ]
  },
  {
   "cell_type": "code",
   "execution_count": 1,
   "metadata": {},
   "outputs": [],
   "source": [
    "import pathlib"
   ]
  },
  {
   "cell_type": "code",
   "execution_count": 2,
   "metadata": {},
   "outputs": [],
   "source": [
    "# set data path\n",
    "data_path = pathlib.Path(\"../../data\").resolve(strict=True)"
   ]
  },
  {
   "cell_type": "code",
   "execution_count": 3,
   "metadata": {},
   "outputs": [
    {
     "data": {
      "text/plain": [
       "[PosixPath('/home/lippincm/Documents/4TB/data/live_cell_timelapse_apoptosis/data/20231004ChromaLive6hr_4ch_MaxIP'),\n",
       " PosixPath('/home/lippincm/Documents/4TB/data/live_cell_timelapse_apoptosis/data/20231017ChromaLive_endpoint_w_AnnexinV_2ch'),\n",
       " PosixPath('/home/lippincm/Documents/4TB/data/live_cell_timelapse_apoptosis/data/20231017ChromaLive_6hr_4ch_MaxIP'),\n",
       " PosixPath('/home/lippincm/Documents/4TB/data/live_cell_timelapse_apoptosis/data/20231017ChromaLive_endpoint_w_AnnexinV_2ch_MaxIP'),\n",
       " PosixPath('/home/lippincm/Documents/4TB/data/live_cell_timelapse_apoptosis/data/20231017ChromaLive_6hr_4ch'),\n",
       " PosixPath('/home/lippincm/Documents/4TB/data/live_cell_timelapse_apoptosis/data/20230920ChromaLiveTL_24hr4ch_MaxIP'),\n",
       " PosixPath('/home/lippincm/Documents/4TB/data/live_cell_timelapse_apoptosis/data/20230920ChromaLiveTL_24hr4ch'),\n",
       " PosixPath('/home/lippincm/Documents/4TB/data/live_cell_timelapse_apoptosis/data/20231004ChromaLive6hr_4ch')]"
      ]
     },
     "execution_count": 3,
     "metadata": {},
     "output_type": "execute_result"
    }
   ],
   "source": [
    "# get all directories in data path\n",
    "directories = [x for x in data_path.iterdir() if x.is_dir()]\n",
    "directories"
   ]
  },
  {
   "cell_type": "code",
   "execution_count": 4,
   "metadata": {},
   "outputs": [],
   "source": [
    "# rename the directories to replace spaces with underscores\n",
    "for directory in directories:\n",
    "    new_name = directory.name.replace(\" \", \"_\")\n",
    "    directory.rename(directory.parent / new_name)"
   ]
  },
  {
   "cell_type": "code",
   "execution_count": 5,
   "metadata": {},
   "outputs": [
    {
     "data": {
      "text/plain": [
       "[PosixPath('/home/lippincm/Documents/4TB/data/live_cell_timelapse_apoptosis/data/20231004ChromaLive6hr_4ch_MaxIP'),\n",
       " PosixPath('/home/lippincm/Documents/4TB/data/live_cell_timelapse_apoptosis/data/20231017ChromaLive_endpoint_w_AnnexinV_2ch'),\n",
       " PosixPath('/home/lippincm/Documents/4TB/data/live_cell_timelapse_apoptosis/data/20231017ChromaLive_6hr_4ch_MaxIP'),\n",
       " PosixPath('/home/lippincm/Documents/4TB/data/live_cell_timelapse_apoptosis/data/20231017ChromaLive_endpoint_w_AnnexinV_2ch_MaxIP'),\n",
       " PosixPath('/home/lippincm/Documents/4TB/data/live_cell_timelapse_apoptosis/data/20231017ChromaLive_6hr_4ch'),\n",
       " PosixPath('/home/lippincm/Documents/4TB/data/live_cell_timelapse_apoptosis/data/20230920ChromaLiveTL_24hr4ch_MaxIP'),\n",
       " PosixPath('/home/lippincm/Documents/4TB/data/live_cell_timelapse_apoptosis/data/20230920ChromaLiveTL_24hr4ch'),\n",
       " PosixPath('/home/lippincm/Documents/4TB/data/live_cell_timelapse_apoptosis/data/20231004ChromaLive6hr_4ch')]"
      ]
     },
     "execution_count": 5,
     "metadata": {},
     "output_type": "execute_result"
    }
   ],
   "source": [
    "# get all directories in data path\n",
    "directories = [x for x in data_path.iterdir() if x.is_dir()]\n",
    "directories"
   ]
  }
 ],
 "metadata": {
  "kernelspec": {
   "display_name": "timelapse_env",
   "language": "python",
   "name": "python3"
  },
  "language_info": {
   "codemirror_mode": {
    "name": "ipython",
    "version": 3
   },
   "file_extension": ".py",
   "mimetype": "text/x-python",
   "name": "python",
   "nbconvert_exporter": "python",
   "pygments_lexer": "ipython3",
   "version": "3.9.19"
  }
 },
 "nbformat": 4,
 "nbformat_minor": 2
}
