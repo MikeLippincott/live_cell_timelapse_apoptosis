{
 "cells": [
  {
   "cell_type": "markdown",
   "metadata": {},
   "source": [
    "This notebook will sort the image files by Well and FOV across time for more effiecient parallel processing. \n",
    "The sorted images will be saved in a new directory."
   ]
  },
  {
   "cell_type": "code",
   "execution_count": 1,
   "metadata": {},
   "outputs": [],
   "source": [
    "import pathlib\n",
    "import shutil\n",
    "\n",
    "import numpy as np\n",
    "import pandas as pd"
   ]
  },
  {
   "cell_type": "code",
   "execution_count": null,
   "metadata": {},
   "outputs": [],
   "source": [
    "raw_data_path = pathlib.Path(\"../../data/raw_data/\").resolve(strict=True)\n",
    "preprocessed_data_path = pathlib.Path(\"../../data/preprocessed_data/\").resolve()\n",
    "preprocessed_data_path.mkdir(parents=True, exist_ok=True)\n",
    "# get the list of dirs in the raw_data_path\n",
    "dirs = [x for x in raw_data_path.iterdir() if x.is_dir()]"
   ]
  },
  {
   "cell_type": "code",
   "execution_count": null,
   "metadata": {},
   "outputs": [
    {
     "name": "stderr",
     "output_type": "stream",
     "text": [
      "/tmp/ipykernel_1819725/2918831004.py:26: SettingWithCopyWarning: \n",
      "A value is trying to be set on a copy of a slice from a DataFrame.\n",
      "Try using .loc[row_indexer,col_indexer] = value instead\n",
      "\n",
      "See the caveats in the documentation: https://pandas.pydata.org/pandas-docs/stable/user_guide/indexing.html#returning-a-view-versus-a-copy\n",
      "  tmp_df['group'] = tmp_df['file'].str.split(\"_T\", expand=True)[0]\n",
      "/tmp/ipykernel_1819725/2918831004.py:26: SettingWithCopyWarning: \n",
      "A value is trying to be set on a copy of a slice from a DataFrame.\n",
      "Try using .loc[row_indexer,col_indexer] = value instead\n",
      "\n",
      "See the caveats in the documentation: https://pandas.pydata.org/pandas-docs/stable/user_guide/indexing.html#returning-a-view-versus-a-copy\n",
      "  tmp_df['group'] = tmp_df['file'].str.split(\"_T\", expand=True)[0]\n"
     ]
    }
   ],
   "source": [
    "files_dict = {}\n",
    "for dir in dirs:\n",
    "    files = [x for x in dir.iterdir() if x.is_file()]\n",
    "    files_dict[dir.name] = files\n",
    "\n",
    "output_dict = {\n",
    "    \"experiment\": [],\n",
    "    \"file_path\": [],\n",
    "    \"file\": [],\n",
    "}\n",
    "# loop through each experiment and get the file paths\n",
    "for experiment, files in files_dict.items():\n",
    "    new_data_path = pathlib.Path(preprocessed_data_path / experiment)\n",
    "    new_data_path.mkdir(parents=True, exist_ok=True)\n",
    "    for f in files:\n",
    "        if not f.suffix == \".npz\" and f.suffix == \".tif\":\n",
    "            output_dict[\"experiment\"].append(experiment)\n",
    "            output_dict[\"file_path\"].append(f)\n",
    "            output_dict[\"file\"].append(f.name)\n",
    "\n",
    "\n",
    "files_df = pd.DataFrame(output_dict)\n",
    "# loop through each experiment and group the files\n",
    "for experiment in files_df[\"experiment\"].unique():\n",
    "    tmp_df = files_df[files_df[\"experiment\"] == experiment]\n",
    "    tmp_df[\"group\"] = tmp_df[\"file\"].str.split(\"_T\", expand=True)[0]\n",
    "    for group in sorted(tmp_df[\"group\"].unique()):\n",
    "        file_sorting_df = tmp_df[tmp_df[\"group\"] == group]\n",
    "        new_group_path = pathlib.Path(\n",
    "            preprocessed_data_path / experiment / group\n",
    "        ).resolve()\n",
    "        new_group_path.mkdir(parents=True, exist_ok=True)\n",
    "        for i, row in file_sorting_df.iterrows():\n",
    "            file_name = row[\"file\"]\n",
    "            old_file_path = row[\"file_path\"]\n",
    "            new_file_path = pathlib.Path(new_group_path / file_name).resolve()\n",
    "            shutil.copy(old_file_path, new_file_path)"
   ]
  }
 ],
 "metadata": {
  "kernelspec": {
   "display_name": "timelapse_env",
   "language": "python",
   "name": "python3"
  },
  "language_info": {
   "codemirror_mode": {
    "name": "ipython",
    "version": 3
   },
   "file_extension": ".py",
   "mimetype": "text/x-python",
   "name": "python",
   "nbconvert_exporter": "python",
   "pygments_lexer": "ipython3",
   "version": "3.11.10"
  }
 },
 "nbformat": 4,
 "nbformat_minor": 2
}
