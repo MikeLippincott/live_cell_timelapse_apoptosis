{
 "cells": [
  {
   "cell_type": "markdown",
   "metadata": {},
   "source": [
    "This notebook will sort the image files by Well and FOV across time for more effiecient parallel processing. \n",
    "The sorted images will be saved in a new directory."
   ]
  },
  {
   "cell_type": "code",
   "execution_count": 1,
   "metadata": {},
   "outputs": [],
   "source": [
    "import pathlib\n",
    "import shutil\n",
    "\n",
    "import numpy as np\n",
    "import pandas as pd"
   ]
  },
  {
   "cell_type": "code",
   "execution_count": 2,
   "metadata": {},
   "outputs": [],
   "source": [
    "raw_data_path = pathlib.Path(\"../../data/raw_data/\").resolve(strict=True)\n",
    "preprocessed_data_path = pathlib.Path(\"../../data/preprocessed_data/\").resolve()\n",
    "preprocessed_data_path.mkdir(parents=True, exist_ok=True)\n",
    "# get the list of dirs in the raw_data_path\n",
    "dirs = [x for x in raw_data_path.iterdir() if x.is_dir()]"
   ]
  },
  {
   "cell_type": "code",
   "execution_count": null,
   "metadata": {},
   "outputs": [
    {
     "name": "stderr",
     "output_type": "stream",
     "text": [
      "/tmp/ipykernel_464049/3918670240.py:26: SettingWithCopyWarning: \n",
      "A value is trying to be set on a copy of a slice from a DataFrame.\n",
      "Try using .loc[row_indexer,col_indexer] = value instead\n",
      "\n",
      "See the caveats in the documentation: https://pandas.pydata.org/pandas-docs/stable/user_guide/indexing.html#returning-a-view-versus-a-copy\n",
      "  tmp_df[\"group\"] = tmp_df[\"file\"].str.split(\"_T\", expand=True)[0]\n"
     ]
    },
    {
     "ename": "KeyboardInterrupt",
     "evalue": "",
     "output_type": "error",
     "traceback": [
      "\u001b[0;31m---------------------------------------------------------------------------\u001b[0m",
      "\u001b[0;31mKeyboardInterrupt\u001b[0m                         Traceback (most recent call last)",
      "Cell \u001b[0;32mIn[3], line 37\u001b[0m\n\u001b[1;32m     35\u001b[0m old_file_path \u001b[38;5;241m=\u001b[39m row[\u001b[38;5;124m\"\u001b[39m\u001b[38;5;124mfile_path\u001b[39m\u001b[38;5;124m\"\u001b[39m]\n\u001b[1;32m     36\u001b[0m new_file_path \u001b[38;5;241m=\u001b[39m pathlib\u001b[38;5;241m.\u001b[39mPath(new_group_path \u001b[38;5;241m/\u001b[39m file_name)\u001b[38;5;241m.\u001b[39mresolve()\n\u001b[0;32m---> 37\u001b[0m shutil\u001b[38;5;241m.\u001b[39mcopy(old_file_path, new_file_path)\n",
      "File \u001b[0;32m~/miniforge3/envs/timelapse_env/lib/python3.11/shutil.py:431\u001b[0m, in \u001b[0;36mcopy\u001b[0;34m(src, dst, follow_symlinks)\u001b[0m\n\u001b[1;32m    429\u001b[0m \u001b[38;5;28;01mif\u001b[39;00m os\u001b[38;5;241m.\u001b[39mpath\u001b[38;5;241m.\u001b[39misdir(dst):\n\u001b[1;32m    430\u001b[0m     dst \u001b[38;5;241m=\u001b[39m os\u001b[38;5;241m.\u001b[39mpath\u001b[38;5;241m.\u001b[39mjoin(dst, os\u001b[38;5;241m.\u001b[39mpath\u001b[38;5;241m.\u001b[39mbasename(src))\n\u001b[0;32m--> 431\u001b[0m copyfile(src, dst, follow_symlinks\u001b[38;5;241m=\u001b[39mfollow_symlinks)\n\u001b[1;32m    432\u001b[0m copymode(src, dst, follow_symlinks\u001b[38;5;241m=\u001b[39mfollow_symlinks)\n\u001b[1;32m    433\u001b[0m \u001b[38;5;28;01mreturn\u001b[39;00m dst\n",
      "File \u001b[0;32m~/miniforge3/envs/timelapse_env/lib/python3.11/shutil.py:269\u001b[0m, in \u001b[0;36mcopyfile\u001b[0;34m(src, dst, follow_symlinks)\u001b[0m\n\u001b[1;32m    267\u001b[0m \u001b[38;5;28;01melif\u001b[39;00m _USE_CP_SENDFILE:\n\u001b[1;32m    268\u001b[0m     \u001b[38;5;28;01mtry\u001b[39;00m:\n\u001b[0;32m--> 269\u001b[0m         _fastcopy_sendfile(fsrc, fdst)\n\u001b[1;32m    270\u001b[0m         \u001b[38;5;28;01mreturn\u001b[39;00m dst\n\u001b[1;32m    271\u001b[0m     \u001b[38;5;28;01mexcept\u001b[39;00m _GiveupOnFastCopy:\n",
      "File \u001b[0;32m~/miniforge3/envs/timelapse_env/lib/python3.11/shutil.py:144\u001b[0m, in \u001b[0;36m_fastcopy_sendfile\u001b[0;34m(fsrc, fdst)\u001b[0m\n\u001b[1;32m    142\u001b[0m \u001b[38;5;28;01mwhile\u001b[39;00m \u001b[38;5;28;01mTrue\u001b[39;00m:\n\u001b[1;32m    143\u001b[0m     \u001b[38;5;28;01mtry\u001b[39;00m:\n\u001b[0;32m--> 144\u001b[0m         sent \u001b[38;5;241m=\u001b[39m os\u001b[38;5;241m.\u001b[39msendfile(outfd, infd, offset, blocksize)\n\u001b[1;32m    145\u001b[0m     \u001b[38;5;28;01mexcept\u001b[39;00m \u001b[38;5;167;01mOSError\u001b[39;00m \u001b[38;5;28;01mas\u001b[39;00m err:\n\u001b[1;32m    146\u001b[0m         \u001b[38;5;66;03m# ...in oder to have a more informative exception.\u001b[39;00m\n\u001b[1;32m    147\u001b[0m         err\u001b[38;5;241m.\u001b[39mfilename \u001b[38;5;241m=\u001b[39m fsrc\u001b[38;5;241m.\u001b[39mname\n",
      "\u001b[0;31mKeyboardInterrupt\u001b[0m: "
     ]
    },
    {
     "ename": "",
     "evalue": "",
     "output_type": "error",
     "traceback": [
      "\u001b[1;31mThe Kernel crashed while executing code in the current cell or a previous cell. \n",
      "\u001b[1;31mPlease review the code in the cell(s) to identify a possible cause of the failure. \n",
      "\u001b[1;31mClick <a href='https://aka.ms/vscodeJupyterKernelCrash'>here</a> for more info. \n",
      "\u001b[1;31mView Jupyter <a href='command:jupyter.viewOutput'>log</a> for further details."
     ]
    }
   ],
   "source": [
    "files_dict = {}\n",
    "for dir in dirs:\n",
    "    files = [x for x in dir.iterdir() if x.is_file()]\n",
    "    files_dict[dir.name] = files\n",
    "\n",
    "output_dict = {\n",
    "    \"experiment\": [],\n",
    "    \"file_path\": [],\n",
    "    \"file\": [],\n",
    "}\n",
    "# loop through each experiment and get the file paths\n",
    "for experiment, files in files_dict.items():\n",
    "    new_data_path = pathlib.Path(preprocessed_data_path / experiment)\n",
    "    new_data_path.mkdir(parents=True, exist_ok=True)\n",
    "    for f in files:\n",
    "        if not f.suffix == \".npz\" and f.suffix == \".tif\":\n",
    "            output_dict[\"experiment\"].append(experiment)\n",
    "            output_dict[\"file_path\"].append(f)\n",
    "            output_dict[\"file\"].append(f.name)\n",
    "\n",
    "\n",
    "files_df = pd.DataFrame(output_dict)\n",
    "# loop through each experiment and group the files\n",
    "for experiment in files_df[\"experiment\"].unique():\n",
    "    tmp_df = files_df[files_df[\"experiment\"] == experiment]\n",
    "    tmp_df[\"group\"] = tmp_df[\"file\"].str.split(\"_T\", expand=True)[0]\n",
    "    for group in sorted(tmp_df[\"group\"].unique()):\n",
    "        file_sorting_df = tmp_df[tmp_df[\"group\"] == group]\n",
    "        new_group_path = pathlib.Path(\n",
    "            preprocessed_data_path / experiment / group\n",
    "        ).resolve()\n",
    "        new_group_path.mkdir(parents=True, exist_ok=True)\n",
    "        for i, row in file_sorting_df.iterrows():\n",
    "            file_name = row[\"file\"]\n",
    "            old_file_path = row[\"file_path\"]\n",
    "            new_file_path = pathlib.Path(new_group_path / file_name).resolve()\n",
    "            shutil.copy(old_file_path, new_file_path)"
   ]
  },
  {
   "cell_type": "markdown",
   "metadata": {},
   "source": [
    "## Rename the terminal files to match the correct FOV\n",
    "We have an issue where the terminal timepoint files have "
   ]
  },
  {
   "cell_type": "code",
   "execution_count": null,
   "metadata": {},
   "outputs": [],
   "source": []
  }
 ],
 "metadata": {
  "kernelspec": {
   "display_name": "timelapse_env",
   "language": "python",
   "name": "python3"
  },
  "language_info": {
   "codemirror_mode": {
    "name": "ipython",
    "version": 3
   },
   "file_extension": ".py",
   "mimetype": "text/x-python",
   "name": "python",
   "nbconvert_exporter": "python",
   "pygments_lexer": "ipython3",
   "version": "3.11.10"
  }
 },
 "nbformat": 4,
 "nbformat_minor": 2
}
