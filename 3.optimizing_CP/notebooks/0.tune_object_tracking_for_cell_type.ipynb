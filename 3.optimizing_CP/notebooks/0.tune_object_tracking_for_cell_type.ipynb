{
 "cells": [
  {
   "cell_type": "markdown",
   "metadata": {},
   "source": [
    "The goals of this notebook is to run optuna to find the best hyperparameters for object tracking in CellProfiler. \n",
    "I will do this by keeping segmentation the same and only changing the tracking parameters.\n",
    "I will calculate a loss of the number of cells in a well over time compared to the ground truth of the number of cells in a well over time. "
   ]
  },
  {
   "cell_type": "markdown",
   "metadata": {},
   "source": [
    "This optimizes the tracking parameters to get the best tracking results for multiple tracking algorithms.\n",
    "The two I will be optimizing are LAP and overlap of objects in the next frame.\n",
    "Denoted as LAP and Overlap in the tracking parameters."
   ]
  },
  {
   "cell_type": "markdown",
   "metadata": {},
   "source": [
    "# import libraries"
   ]
  },
  {
   "cell_type": "code",
   "execution_count": 1,
   "metadata": {},
   "outputs": [
    {
     "name": "stderr",
     "output_type": "stream",
     "text": [
      "/home/lippincm/miniforge3/envs/cellprofiler_timelapse_env/lib/python3.8/site-packages/tqdm/auto.py:21: TqdmWarning: IProgress not found. Please update jupyter and ipywidgets. See https://ipywidgets.readthedocs.io/en/stable/user_install.html\n",
      "  from .autonotebook import tqdm as notebook_tqdm\n"
     ]
    }
   ],
   "source": [
    "import argparse\n",
    "import pathlib\n",
    "import pprint\n",
    "import sys\n",
    "\n",
    "import numpy as np\n",
    "import optuna\n",
    "import pandas as pd\n",
    "import torch\n",
    "\n",
    "sys.path.append(\"../CellProfiler_optuna_utils/\")\n",
    "from optuna_profiling_utils import (\n",
    "    adjust_cpipe_file_LAP,\n",
    "    adjust_cpipe_file_overlap,\n",
    "    loss_function_from_CP_features,\n",
    "    loss_function_MSE,\n",
    "    remove_trial_intermediate_files,\n",
    "    retrieve_cell_count,\n",
    "    run_CytoTable,\n",
    "    run_pyctominer_annotation,\n",
    ")\n",
    "\n",
    "sys.path.append(\"../../utils/\")\n",
    "import cp_parallel\n",
    "from cytotable import convert, presets\n",
    "from pycytominer import annotate\n",
    "from pycytominer.cyto_utils import output\n",
    "\n",
    "sys.path.append(\"../../utils\")\n",
    "import sc_extraction_utils as sc_utils\n",
    "from parsl.config import Config\n",
    "from parsl.executors import HighThroughputExecutor"
   ]
  },
  {
   "cell_type": "code",
   "execution_count": 2,
   "metadata": {},
   "outputs": [],
   "source": [
    "# set up an argument parser\n",
    "parser = argparse.ArgumentParser(description=\"Run CellProfiler pipelines with Optuna.\")\n",
    "parser.add_argument(\n",
    "    \"--tracking_type\",\n",
    "    \"-t\",\n",
    "    type=str,\n",
    "    default=\"overlap\",\n",
    "    help=\"The type of tracking to use. Options are 'overlap' or 'LAP'.\",\n",
    ")\n",
    "\n",
    "parser.add_argument(\n",
    "    \"--n_trials\",\n",
    "    \"-n\",\n",
    "    type=int,\n",
    "    default=10,\n",
    "    help=\"The number of trials to run.\",\n",
    ")\n",
    "\n",
    "# get the arguments\n",
    "args = parser.parse_args()\n",
    "\n",
    "# set the tracking type\n",
    "tracking_type = args.tracking_type\n",
    "n_trials = args.n_trials"
   ]
  },
  {
   "cell_type": "code",
   "execution_count": 3,
   "metadata": {},
   "outputs": [
    {
     "name": "stdout",
     "output_type": "stream",
     "text": [
      "../analysis_output/optimized_pipes\n",
      "../analysis_output/study_dir\n",
      "../analysis_output/optimized_pipes/trial_0\n",
      "../analysis_output/optimized_pipes/trial_0/Track_Objects.sqlite\n",
      "../analysis_output/optimized_pipes/trial_0/Track_Objects_sc.parquet\n",
      "../analysis_output/optimized_pipes/trial_0/Track_Objects.parquet\n",
      "../analysis_output/study_dir/cellprofiler_optimization_overlap.db\n"
     ]
    }
   ],
   "source": [
    "# clear out old trials and studies\n",
    "remove_trial_intermediate_files(\n",
    "    output_dir=pathlib.Path(\"../analysis_output/\"),\n",
    ")"
   ]
  },
  {
   "cell_type": "code",
   "execution_count": 4,
   "metadata": {},
   "outputs": [],
   "source": [
    "# set main output dir for all plates\n",
    "output_dir = pathlib.Path(\"../analysis_output\")\n",
    "output_dir.mkdir(exist_ok=True, parents=True)\n",
    "\n",
    "# directory where images are located within folders\n",
    "images_dir = pathlib.Path(\n",
    "    \"../../2.cellprofiler_ic_processing/illum_directory_test_small\"\n",
    ").resolve(strict=True)\n",
    "\n",
    "# directory where the pipeline is located\n",
    "plugins_dir = pathlib.Path(\n",
    "    \"/home/lippincm/Documents/CellProfiler-plugins/active_plugins\"\n",
    ").resolve(strict=True)"
   ]
  },
  {
   "cell_type": "code",
   "execution_count": 5,
   "metadata": {},
   "outputs": [
    {
     "name": "stdout",
     "output_type": "stream",
     "text": [
      "{   '20231017ChromaLive_6hr_4ch_MaxIP': {   'path_to_images': PosixPath('/home/lippincm/Documents/live_cell_timelapse_apoptosis/2.cellprofiler_ic_processing/illum_directory_test_small/20231017ChromaLive_6hr_4ch_MaxIP'),\n",
      "                                            'path_to_output': PosixPath('/home/lippincm/Documents/live_cell_timelapse_apoptosis/3.optimizing_CP/analysis_output/trial1'),\n",
      "                                            'path_to_pipeline': PosixPath('/home/lippincm/Documents/live_cell_timelapse_apoptosis/3.optimizing_CP/pipelines/cell_tracking_optimization.cppipe')}}\n"
     ]
    }
   ],
   "source": [
    "dict_of_inputs_for_cellprofiler = {\n",
    "    \"20231017ChromaLive_6hr_4ch_MaxIP\": {\n",
    "        \"path_to_images\": pathlib.Path(\n",
    "            f\"{images_dir}/20231017ChromaLive_6hr_4ch_MaxIP/\"\n",
    "        ).resolve(),\n",
    "        \"path_to_output\": pathlib.Path(\"../analysis_output/trial1/\").resolve(),\n",
    "        \"path_to_pipeline\": pathlib.Path(\n",
    "            \"../pipelines/cell_tracking_optimization.cppipe\"\n",
    "        ).resolve(),\n",
    "    },\n",
    "}\n",
    "\n",
    "# view the dictionary to assess that all info is added correctly\n",
    "pprint.pprint(dict_of_inputs_for_cellprofiler, indent=4)"
   ]
  },
  {
   "cell_type": "markdown",
   "metadata": {},
   "source": [
    "### CytoTable paths and set up"
   ]
  },
  {
   "cell_type": "code",
   "execution_count": 6,
   "metadata": {},
   "outputs": [],
   "source": [
    "# run CytoTable analysis for merged data\n",
    "# type of file output from CytoTable (currently only parquet)\n",
    "\n",
    "# dictionary of inputs for CytoTable to pass to the function\n",
    "dict_of_inputs_for_cytotable = {\n",
    "    \"run_20231004ChromaLive_6hr_4ch_MaxIP\": {\n",
    "        \"source_path\": pathlib.Path(\n",
    "            \"../analysis_output/trial1/Track_Objects.sqlite\"\n",
    "        ).resolve(),\n",
    "        \"dest_path\": pathlib.Path(\n",
    "            \"../analysis_output/trial1/Track_Objects.parquet\"\n",
    "        ).resolve(),\n",
    "        \"preset\": \"\"\"\n",
    "            SELECT\n",
    "                *\n",
    "            FROM\n",
    "                read_parquet('per_image.parquet') as per_image\n",
    "            INNER JOIN read_parquet('per_nuclei.parquet') AS per_nuclei ON\n",
    "                per_nuclei.Metadata_ImageNumber = per_image.Metadata_ImageNumber\n",
    "            \"\"\",\n",
    "    },\n",
    "}"
   ]
  },
  {
   "cell_type": "markdown",
   "metadata": {},
   "source": [
    "### PyCytominer paths and set up"
   ]
  },
  {
   "cell_type": "code",
   "execution_count": 7,
   "metadata": {},
   "outputs": [],
   "source": [
    "# load in platemap file as a pandas dataframe\n",
    "platemap_path = pathlib.Path(\"../../data/\").resolve()\n",
    "\n",
    "# dictionary with each run for the cell type\n",
    "dict_of_inputs_for_pycytominer = {\n",
    "    \"run_20231017ChromaLive_6hr_4ch_MaxIP\": {\n",
    "        \"source_path\": pathlib.Path(\n",
    "            \"../analysis_output/trial1/Track_Objects.parquet\"\n",
    "        ).resolve(),\n",
    "        \"output_file_path\": pathlib.Path(\n",
    "            \"../analysis_output/trial1/Track_Objects_sc.parquet\"\n",
    "        ).resolve(),\n",
    "        \"platemap_path\": pathlib.Path(f\"{platemap_path}/platemap_6hr_4ch.csv\").resolve(\n",
    "            strict=True\n",
    "        ),\n",
    "    }\n",
    "}"
   ]
  },
  {
   "cell_type": "markdown",
   "metadata": {},
   "source": [
    "### Optuna set up and search space"
   ]
  },
  {
   "cell_type": "code",
   "execution_count": 8,
   "metadata": {},
   "outputs": [],
   "source": [
    "# create an otuna parameter search space\n",
    "# define the search space in a dictionary format\n",
    "# defined as [min, max] for each parameter\n",
    "search_space_parameters_LAP = {\n",
    "    \"std_search_radius\": [1, 100],\n",
    "    \"search_radius_min\": [1, 10],\n",
    "    \"search_radius_max\": [15, 100],\n",
    "    \"gap_closing_cost\": [10, 100],\n",
    "    \"split_alternative_cost\": [10, 100],\n",
    "    \"merge_alternative_cost\": [10, 100],\n",
    "    \"Maximum_gap_displacement\": [1, 15],\n",
    "    \"Maximum_split_score\": [10, 100],\n",
    "    \"Maximum_merge_score\": [10, 100],\n",
    "    \"Maximum_temporal_gap\": [1, 5],\n",
    "    \"Mitosis_alternative_cost\": [10, 150],\n",
    "    \"Maximum_mitosis_distance\": [10, 150],\n",
    "}\n",
    "\n",
    "search_space_parameters_overlap = {\n",
    "    \"Maximum pixel distance to consider matches\": [1, 101],\n",
    "}\n",
    "\n",
    "\n",
    "# set the path to the pipeline file\n",
    "cpipe_template_file_LAP = pathlib.Path(\n",
    "    \"../pipelines/cell_tracking_optimization_LAP.cppipe\"\n",
    ").resolve(strict=True)\n",
    "cpipe_template_file_overlap = pathlib.Path(\n",
    "    \"../pipelines/cell_tracking_optimization_overlap.cppipe\"\n",
    ").resolve(strict=True)"
   ]
  },
  {
   "cell_type": "code",
   "execution_count": 9,
   "metadata": {},
   "outputs": [],
   "source": [
    "# parameters for the optimization\n",
    "\n",
    "\n",
    "def objective(\n",
    "    trial: optuna.Trial,\n",
    "    search_space_parameters_LAP: dict,\n",
    "    search_space_parameters_overlap: dict,\n",
    "    dict_of_inputs_for_cellprofiler: dict,\n",
    "    dict_of_inputs_for_cytotable: dict,\n",
    "    dict_of_inputs_for_pycytominer: dict,\n",
    "    cpipe_template_file_LAP: pathlib.Path,\n",
    "    cpipe_template_file_overlap: pathlib.Path,\n",
    "    plugins_dir: pathlib.Path,\n",
    "    tracking_type: str = \"LAP\",\n",
    "):\n",
    "\n",
    "    assert tracking_type in [\"LAP\", \"overlap\"], \"Invalid tracking type\"\n",
    "    if tracking_type == \"LAP\":\n",
    "        dictionary_of_selected_parameters = {\n",
    "            \"std_search_radius\": trial.suggest_int(\n",
    "                \"std_search_radius\",\n",
    "                search_space_parameters_LAP[\"std_search_radius\"][0],\n",
    "                search_space_parameters_LAP[\"std_search_radius\"][1],\n",
    "            ),\n",
    "            \"search_radius_min\": trial.suggest_int(\n",
    "                \"search_radius_min\",\n",
    "                search_space_parameters_LAP[\"search_radius_min\"][0],\n",
    "                search_space_parameters_LAP[\"search_radius_min\"][1],\n",
    "            ),\n",
    "            \"search_radius_max\": trial.suggest_int(\n",
    "                \"search_radius_max\",\n",
    "                search_space_parameters_LAP[\"search_radius_max\"][0],\n",
    "                search_space_parameters_LAP[\"search_radius_max\"][1],\n",
    "            ),\n",
    "            \"gap_closing_cost\": trial.suggest_int(\n",
    "                \"gap_closing_cost\",\n",
    "                search_space_parameters_LAP[\"gap_closing_cost\"][0],\n",
    "                search_space_parameters_LAP[\"gap_closing_cost\"][1],\n",
    "            ),\n",
    "            \"split_alternative_cost\": trial.suggest_int(\n",
    "                \"split_alternative_cost\",\n",
    "                search_space_parameters_LAP[\"split_alternative_cost\"][0],\n",
    "                search_space_parameters_LAP[\"split_alternative_cost\"][1],\n",
    "            ),\n",
    "            \"merge_alternative_cost\": trial.suggest_int(\n",
    "                \"merge_alternative_cost\",\n",
    "                search_space_parameters_LAP[\"merge_alternative_cost\"][0],\n",
    "                search_space_parameters_LAP[\"merge_alternative_cost\"][1],\n",
    "            ),\n",
    "            \"Maximum_gap_displacement\": trial.suggest_int(\n",
    "                \"Maximum_gap_displacement\",\n",
    "                search_space_parameters_LAP[\"Maximum_gap_displacement\"][0],\n",
    "                search_space_parameters_LAP[\"Maximum_gap_displacement\"][1],\n",
    "            ),\n",
    "            \"Maximum_split_score\": trial.suggest_int(\n",
    "                \"Maximum_split_score\",\n",
    "                search_space_parameters_LAP[\"Maximum_split_score\"][0],\n",
    "                search_space_parameters_LAP[\"Maximum_split_score\"][1],\n",
    "            ),\n",
    "            \"Maximum_merge_score\": trial.suggest_int(\n",
    "                \"Maximum_merge_score\",\n",
    "                search_space_parameters_LAP[\"Maximum_merge_score\"][0],\n",
    "                search_space_parameters_LAP[\"Maximum_merge_score\"][1],\n",
    "            ),\n",
    "            \"Maximum_temporal_gap\": trial.suggest_int(\n",
    "                \"Maximum_temporal_gap\",\n",
    "                search_space_parameters_LAP[\"Maximum_temporal_gap\"][0],\n",
    "                search_space_parameters_LAP[\"Maximum_temporal_gap\"][1],\n",
    "            ),\n",
    "            \"Mitosis_alternative_cost\": trial.suggest_int(\n",
    "                \"Mitosis_alternative_cost\",\n",
    "                search_space_parameters_LAP[\"Mitosis_alternative_cost\"][0],\n",
    "                search_space_parameters_LAP[\"Mitosis_alternative_cost\"][1],\n",
    "            ),\n",
    "            \"Maximum_mitosis_distance\": trial.suggest_int(\n",
    "                \"Maximum_mitosis_distance\",\n",
    "                search_space_parameters_LAP[\"Maximum_mitosis_distance\"][0],\n",
    "                search_space_parameters_LAP[\"Maximum_mitosis_distance\"][1],\n",
    "            ),\n",
    "        }\n",
    "        # run the pipeline adjustment function\n",
    "        adjusted_cpipe_file = adjust_cpipe_file_LAP(\n",
    "            trial_number=trial.number,\n",
    "            cpipe_file_path=cpipe_template_file_LAP,\n",
    "            parameters_dict=dictionary_of_selected_parameters,\n",
    "        )\n",
    "    elif tracking_type == \"overlap\":\n",
    "        dictionary_of_selected_parameters = {\n",
    "            \"Maximum pixel distance to consider matches\": trial.suggest_int(\n",
    "                \"Maximum pixel distance to consider matches\",\n",
    "                search_space_parameters_overlap[\n",
    "                    \"Maximum pixel distance to consider matches\"\n",
    "                ][0],\n",
    "                search_space_parameters_overlap[\n",
    "                    \"Maximum pixel distance to consider matches\"\n",
    "                ][1],\n",
    "            ),\n",
    "        }\n",
    "        # run the pipeline adjustment function\n",
    "        adjusted_cpipe_file = adjust_cpipe_file_overlap(\n",
    "            trial_number=trial.number,\n",
    "            cpipe_file_path=cpipe_template_file_overlap,\n",
    "            parameters_dict=dictionary_of_selected_parameters,\n",
    "        )\n",
    "        max_pixels = dictionary_of_selected_parameters[\n",
    "            \"Maximum pixel distance to consider matches\"\n",
    "        ]\n",
    "\n",
    "    # update the cellprofiler dictionary with the new pipeline\n",
    "    dict_of_inputs_for_cellprofiler[\"20231017ChromaLive_6hr_4ch_MaxIP\"][\n",
    "        \"path_to_pipeline\"\n",
    "    ] = adjusted_cpipe_file\n",
    "    run_name = f\"trial_{trial.number}\"\n",
    "\n",
    "    # set the output directory for the trial\n",
    "    output_dir = pathlib.Path(\n",
    "        f\"../analysis_output/optimized_pipes/{run_name}/\"\n",
    "    ).resolve()\n",
    "    output_dir.mkdir(exist_ok=True, parents=True)\n",
    "\n",
    "    # redefine the input and output directories for each step for each trial\n",
    "    # for cellprofiler, cytotable, and pycytominer\n",
    "    # cellprofiler\n",
    "    dict_of_inputs_for_cellprofiler[\"20231017ChromaLive_6hr_4ch_MaxIP\"][\n",
    "        \"path_to_output\"\n",
    "    ] = pathlib.Path(f\"{output_dir}/\").resolve()\n",
    "\n",
    "    # cytotable\n",
    "    dict_of_inputs_for_cytotable[\"run_20231004ChromaLive_6hr_4ch_MaxIP\"][\n",
    "        \"source_path\"\n",
    "    ] = pathlib.Path(f\"{output_dir}/Track_Objects.sqlite\").resolve()\n",
    "    dict_of_inputs_for_cytotable[\"run_20231004ChromaLive_6hr_4ch_MaxIP\"][\n",
    "        \"dest_path\"\n",
    "    ] = pathlib.Path(f\"{output_dir}/Track_Objects.parquet\").resolve()\n",
    "\n",
    "    # pycytominer\n",
    "    dict_of_inputs_for_pycytominer[\"run_20231017ChromaLive_6hr_4ch_MaxIP\"][\n",
    "        \"source_path\"\n",
    "    ] = pathlib.Path(f\"{output_dir}/Track_Objects.parquet\").resolve()\n",
    "    dict_of_inputs_for_pycytominer[\"run_20231017ChromaLive_6hr_4ch_MaxIP\"][\n",
    "        \"output_file_path\"\n",
    "    ] = pathlib.Path(f\"{output_dir}/Track_Objects_sc.parquet\").resolve()\n",
    "\n",
    "    # run cellprofiler pipeline\n",
    "    cp_parallel.run_cellprofiler_parallel(\n",
    "        plate_info_dictionary=dict_of_inputs_for_cellprofiler,\n",
    "        run_name=run_name,\n",
    "        plugins_dir=plugins_dir,\n",
    "    )\n",
    "\n",
    "    # run CytoTable analysis for merged data\n",
    "    run_CytoTable(cytotable_dict=dict_of_inputs_for_cytotable)\n",
    "\n",
    "    # run the annotation function\n",
    "    output_file_path = run_pyctominer_annotation(\n",
    "        pycytominer_dict=dict_of_inputs_for_pycytominer,\n",
    "    )\n",
    "\n",
    "    if tracking_type == \"overlap\":\n",
    "        _columns_to_read = [\n",
    "            f\"Metadata_Nuclei_TrackObjects_Label_{max_pixels}\",\n",
    "            \"Metadata_number_of_singlecells\",\n",
    "            \"Metadata_Well\",\n",
    "            \"Metadata_FOV\",\n",
    "            \"Metadata_Time\",\n",
    "        ]\n",
    "        _columns_to_unique_count = [f\"Metadata_Nuclei_TrackObjects_Label_{max_pixels}\"]\n",
    "        _actual_column_to_sum = f\"Metadata_Nuclei_TrackObjects_Label_{max_pixels}\"\n",
    "\n",
    "    elif tracking_type == \"LAP\":\n",
    "        _columns_to_read = [\n",
    "            \"Metadata_Nuclei_TrackObjects_Label\",\n",
    "            \"Metadata_number_of_singlecells\",\n",
    "            \"Metadata_Well\",\n",
    "            \"Metadata_FOV\",\n",
    "            \"Metadata_Time\",\n",
    "        ]\n",
    "        _columns_to_unique_count = [\"Metadata_Nuclei_TrackObjects_Label\"]\n",
    "        _actual_column_to_sum = \"Metadata_Nuclei_TrackObjects_Label\"\n",
    "\n",
    "    # retrieve the cell counts\n",
    "    actual_cell_counts, target_cell_counts = retrieve_cell_count(\n",
    "        _path_df=output_file_path,\n",
    "        _read_specific_columns=True,\n",
    "        _columns_to_read=_columns_to_read,\n",
    "        _groupby_columns=[\n",
    "            \"Metadata_Well\",\n",
    "            \"Metadata_Time\",\n",
    "        ],\n",
    "        _columns_to_unique_count=_columns_to_unique_count,\n",
    "        _actual_column_to_sum=_actual_column_to_sum,\n",
    "    )\n",
    "\n",
    "    # calculate the loss function\n",
    "    # loss = loss_function_MSE(actual_cell_counts, target_cell_counts)\n",
    "    loss = loss_function_from_CP_features(\n",
    "        profile_path=output_file_path,\n",
    "        loss_method=\"harmonic_mean\",\n",
    "        feature_s_to_use=[\n",
    "            f\"Metadata_Image_TrackObjects_LostObjectCount_Nuclei_{max_pixels}\",\n",
    "            f\"Metadata_Image_TrackObjects_MergedObjectCount_Nuclei_{max_pixels}\",\n",
    "            f\"Metadata_Image_TrackObjects_NewObjectCount_Nuclei_{max_pixels}\",\n",
    "            f\"Metadata_Image_TrackObjects_SplitObjectCount_Nuclei_{max_pixels}\",\n",
    "        ],\n",
    "    )\n",
    "    print(f\"Trial number: {trial.number}, Loss: {loss}\")\n",
    "    if trial.should_prune():\n",
    "        raise optuna.exceptions.TrialPruned()\n",
    "    return loss"
   ]
  },
  {
   "cell_type": "markdown",
   "metadata": {},
   "source": [
    "### Run optuna"
   ]
  },
  {
   "cell_type": "code",
   "execution_count": 10,
   "metadata": {},
   "outputs": [],
   "source": [
    "# wrap the objective function with multiple arguments in a lambda function\n",
    "# this needs to be done to pass the additional arguments to the objective function\n",
    "objective_wrapper = lambda trial: objective(\n",
    "    trial=trial,\n",
    "    search_space_parameters_LAP=search_space_parameters_LAP,\n",
    "    search_space_parameters_overlap=search_space_parameters_overlap,\n",
    "    dict_of_inputs_for_cellprofiler=dict_of_inputs_for_cellprofiler,\n",
    "    dict_of_inputs_for_cytotable=dict_of_inputs_for_cytotable,\n",
    "    dict_of_inputs_for_pycytominer=dict_of_inputs_for_pycytominer,\n",
    "    cpipe_template_file_LAP=cpipe_template_file_LAP,\n",
    "    cpipe_template_file_overlap=cpipe_template_file_overlap,\n",
    "    plugins_dir=plugins_dir,\n",
    "    tracking_type=tracking_type,\n",
    ")"
   ]
  },
  {
   "cell_type": "markdown",
   "metadata": {},
   "source": [
    "#### The rest of this notebook is not run and is run via a script on the command line.\n",
    "I will run with a couple of trials first though."
   ]
  },
  {
   "cell_type": "code",
   "execution_count": 11,
   "metadata": {},
   "outputs": [
    {
     "name": "stderr",
     "output_type": "stream",
     "text": [
      "[I 2024-07-11 16:49:14,334] A new study created in RDB with name: cellprofiler_optimization_overlap\n"
     ]
    },
    {
     "name": "stdout",
     "output_type": "stream",
     "text": [
      "Number of processes: 1\n",
      "All processes have been completed!\n",
      "trial_0 0\n",
      "All results have been converted to log files!\n"
     ]
    },
    {
     "name": "stderr",
     "output_type": "stream",
     "text": [
      "[I 2024-07-11 16:50:15,560] Trial 0 finished with value: 6.967283403937411 and parameters: {'Maximum pixel distance to consider matches': 56}. Best is trial 0 with value: 6.967283403937411.\n"
     ]
    },
    {
     "name": "stdout",
     "output_type": "stream",
     "text": [
      "Trial number: 0, Loss: 6.967283403937411\n",
      "Number of processes: 1\n",
      "All processes have been completed!\n",
      "trial_1 0\n",
      "All results have been converted to log files!\n"
     ]
    },
    {
     "name": "stderr",
     "output_type": "stream",
     "text": [
      "[I 2024-07-11 16:51:06,620] Trial 1 finished with value: 6.967283403937411 and parameters: {'Maximum pixel distance to consider matches': 73}. Best is trial 0 with value: 6.967283403937411.\n"
     ]
    },
    {
     "name": "stdout",
     "output_type": "stream",
     "text": [
      "Trial number: 1, Loss: 6.967283403937411\n"
     ]
    }
   ],
   "source": [
    "# make study directory\n",
    "study_dir = pathlib.Path(\"../analysis_output/study_dir\").resolve()\n",
    "study_dir.mkdir(exist_ok=True, parents=True)\n",
    "# create a study\n",
    "if tracking_type == \"overlap\":\n",
    "    study = optuna.create_study(\n",
    "        study_name=\"cellprofiler_optimization_overlap\",\n",
    "        storage=\"sqlite:///../analysis_output/study_dir/cellprofiler_optimization_overlap.db\",\n",
    "        load_if_exists=True,\n",
    "        direction=\"minimize\",\n",
    "        sampler=optuna.samplers.RandomSampler(seed=0),\n",
    "    )\n",
    "    # define study.optimize with the objective function\n",
    "    study.optimize(objective_wrapper, n_trials=n_trials)\n",
    "\n",
    "elif tracking_type == \"LAP\":\n",
    "    study = optuna.create_study(\n",
    "        study_name=\"cellprofiler_optimization\",\n",
    "        storage=\"sqlite:///../analysis_output/study_dir/cellprofiler_optimization.db\",\n",
    "        load_if_exists=True,\n",
    "        direction=\"minimize\",\n",
    "        sampler=optuna.samplers.RandomSampler(seed=0),\n",
    "    )\n",
    "    # define study.optimize with the objective function\n",
    "    study.optimize(objective_wrapper, n_trials=n_trials)"
   ]
  },
  {
   "cell_type": "code",
   "execution_count": 12,
   "metadata": {},
   "outputs": [
    {
     "name": "stdout",
     "output_type": "stream",
     "text": [
      "Best trial: 0\n",
      "Best loss: 6.967283403937411\n",
      "Best parameters: {'Maximum pixel distance to consider matches': 56}\n"
     ]
    }
   ],
   "source": [
    "# get the best parameters\n",
    "best_params = study.best_params\n",
    "best_trial = study.best_trial.number\n",
    "print(f\"Best trial: {best_trial}\")\n",
    "print(f\"Best loss: {study.best_value}\")\n",
    "print(f\"Best parameters: {best_params}\")"
   ]
  },
  {
   "cell_type": "code",
   "execution_count": 13,
   "metadata": {},
   "outputs": [
    {
     "data": {
      "text/plain": [
       "PosixPath('/home/lippincm/Documents/live_cell_timelapse_apoptosis/3.optimizing_CP/pipelines/cell_tracking_optimization_overlap_best_trial.cppipe')"
      ]
     },
     "execution_count": 13,
     "metadata": {},
     "output_type": "execute_result"
    }
   ],
   "source": [
    "if tracking_type == \"LAP\":\n",
    "    # move the best trial cpipe file to the main pipeline directory\n",
    "    current_path = pathlib.Path(\n",
    "        f\"../pipelines/generated_pipelines/cell_tracking_optimization_LAP_trial_{study.best_trial.number}.cppipe\"\n",
    "    ).resolve(strict=True)\n",
    "    new_path = pathlib.Path(\n",
    "        \"../pipelines/cell_tracking_optimization_LAP_best_trial.cppipe\"\n",
    "    ).resolve()\n",
    "elif tracking_type == \"overlap\":\n",
    "    # move the best trial cpipe file to the main pipeline directory\n",
    "    current_path = pathlib.Path(\n",
    "        f\"../pipelines/generated_pipelines/cell_tracking_optimization_overlap_trial_{study.best_trial.number}.cppipe\"\n",
    "    ).resolve(strict=True)\n",
    "    new_path = pathlib.Path(\n",
    "        \"../pipelines/cell_tracking_optimization_overlap_best_trial.cppipe\"\n",
    "    ).resolve()\n",
    "current_path.rename(new_path)"
   ]
  },
  {
   "cell_type": "code",
   "execution_count": 14,
   "metadata": {},
   "outputs": [
    {
     "name": "stdout",
     "output_type": "stream",
     "text": [
      "/home/lippincm/Documents/live_cell_timelapse_apoptosis/3.optimizing_CP/analysis_output/optimized_pipes/trial_0\n",
      "/home/lippincm/Documents/live_cell_timelapse_apoptosis/3.optimizing_CP/analysis_output/optimized_pipes/trial_1\n",
      "/home/lippincm/Documents/live_cell_timelapse_apoptosis/3.optimizing_CP/analysis_output/optimized_pipes/trial_0/Track_Objects.sqlite\n",
      "/home/lippincm/Documents/live_cell_timelapse_apoptosis/3.optimizing_CP/analysis_output/optimized_pipes/trial_0/Track_Objects_sc.parquet\n",
      "/home/lippincm/Documents/live_cell_timelapse_apoptosis/3.optimizing_CP/analysis_output/optimized_pipes/trial_0/Track_Objects.parquet\n",
      "/home/lippincm/Documents/live_cell_timelapse_apoptosis/3.optimizing_CP/analysis_output/optimized_pipes/trial_1/Track_Objects.sqlite\n",
      "/home/lippincm/Documents/live_cell_timelapse_apoptosis/3.optimizing_CP/analysis_output/optimized_pipes/trial_1/Track_Objects_sc.parquet\n",
      "/home/lippincm/Documents/live_cell_timelapse_apoptosis/3.optimizing_CP/analysis_output/optimized_pipes/trial_1/Track_Objects.parquet\n"
     ]
    }
   ],
   "source": [
    "# remove trial files\n",
    "remove_trial_intermediate_files(\n",
    "    output_dir=pathlib.Path(\"../analysis_output/optimized_pipes\").resolve(),\n",
    ")\n",
    "\n",
    "# remove cpipe files\n",
    "remove_trial_intermediate_files(\n",
    "    output_dir=pathlib.Path(\"../pipelines/generated_pipelines\").resolve(),\n",
    ")"
   ]
  }
 ],
 "metadata": {
  "kernelspec": {
   "display_name": "timelapse_env",
   "language": "python",
   "name": "python3"
  },
  "language_info": {
   "codemirror_mode": {
    "name": "ipython",
    "version": 3
   },
   "file_extension": ".py",
   "mimetype": "text/x-python",
   "name": "python",
   "nbconvert_exporter": "python",
   "pygments_lexer": "ipython3",
   "version": "3.8.19"
  }
 },
 "nbformat": 4,
 "nbformat_minor": 2
}
