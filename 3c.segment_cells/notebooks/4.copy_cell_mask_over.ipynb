{
 "cells": [
  {
   "cell_type": "code",
   "execution_count": 1,
   "metadata": {},
   "outputs": [],
   "source": [
    "import argparse\n",
    "import pathlib\n",
    "import shutil\n",
    "\n",
    "# check if in a jupyter notebook\n",
    "try:\n",
    "    cfg = get_ipython().config\n",
    "    in_notebook = True\n",
    "except NameError:\n",
    "    in_notebook = False"
   ]
  },
  {
   "cell_type": "code",
   "execution_count": 2,
   "metadata": {},
   "outputs": [],
   "source": [
    "if not in_notebook:\n",
    "    # set up arg parser\n",
    "    parser = argparse.ArgumentParser(description=\"Segment the nuclei of a tiff image\")\n",
    "    parser.add_argument(\n",
    "        \"--final_timepoint_dir\",\n",
    "        type=str,\n",
    "        help=\"Path to the input directory containing the tiff images\",\n",
    "    )\n",
    "    parser.add_argument(\n",
    "        \"--terminal_timepoint_dir\",\n",
    "        type=str,\n",
    "        help=\"Path to the input directory containing the tiff images\",\n",
    "    )\n",
    "    args = parser.parse_args()\n",
    "    final_timepoint_dir = pathlib.Path(args.final_timepoint_dir).resolve(strict=True)\n",
    "    terminal_timepoint_dir = pathlib.Path(args.terminal_timepoint_dir).resolve(\n",
    "        strict=True\n",
    "    )\n",
    "\n",
    "\n",
    "else:\n",
    "    final_timepoint_dir = pathlib.Path(\n",
    "        \"../../2.cellprofiler_ic_processing/illum_directory/test_data/timelapse/20231017ChromaLive_6hr_4ch_MaxIP_C-02_F0001\"\n",
    "    ).resolve(strict=True)\n",
    "    terminal_timepoint_dir = pathlib.Path(\n",
    "        \"../../2.cellprofiler_ic_processing/illum_directory/test_data/endpoint/20231017ChromaLive_endpoint_w_AnnexinV_2ch_MaxIP_C-02_F0001\"\n",
    "    ).resolve(strict=True)\n",
    "\n",
    "well_fov = final_timepoint_dir.name\n",
    "well_fov = well_fov.split(\"_\")[4] + \"_\" + well_fov.split(\"_\")[5]"
   ]
  },
  {
   "cell_type": "code",
   "execution_count": 3,
   "metadata": {},
   "outputs": [
    {
     "name": "stdout",
     "output_type": "stream",
     "text": [
      "Copying \n",
      "/home/lippincm/4TB_A/live_cell_timelapse_apoptosis/2.cellprofiler_ic_processing/illum_directory/test_data/timelapse/20231017ChromaLive_6hr_4ch_MaxIP_C-02_F0001/C-02_F0001_T0013_Z0001_cell_mask.tiff to \n",
      "/home/lippincm/4TB_A/live_cell_timelapse_apoptosis/2.cellprofiler_ic_processing/illum_directory/test_data/endpoint/20231017ChromaLive_endpoint_w_AnnexinV_2ch_MaxIP_C-02_F0001/C-02_F0001_T0014_Z0001_cell_mask.tiff\n"
     ]
    },
    {
     "data": {
      "text/plain": [
       "PosixPath('/home/lippincm/4TB_A/live_cell_timelapse_apoptosis/2.cellprofiler_ic_processing/illum_directory/test_data/endpoint/20231017ChromaLive_endpoint_w_AnnexinV_2ch_MaxIP_C-02_F0001/C-02_F0001_T0014_Z0001_cell_mask.tiff')"
      ]
     },
     "execution_count": 3,
     "metadata": {},
     "output_type": "execute_result"
    }
   ],
   "source": [
    "final_timepoint_cell_mask_path = (\n",
    "    final_timepoint_dir / f\"{well_fov}_T0013_Z0001_cell_mask.tiff\"\n",
    ")\n",
    "copied_cell_mask_path = (\n",
    "    terminal_timepoint_dir / f\"{well_fov}_T0014_Z0001_cell_mask.tiff\"\n",
    ")\n",
    "\n",
    "print(f\"Copying \\n{final_timepoint_cell_mask_path} to \\n{copied_cell_mask_path}\")\n",
    "# copy the cell mask to the terminal timepoint directory\n",
    "shutil.copy(final_timepoint_cell_mask_path, copied_cell_mask_path)"
   ]
  }
 ],
 "metadata": {
  "kernelspec": {
   "display_name": "cellprofiler_timelapse_env",
   "language": "python",
   "name": "python3"
  },
  "language_info": {
   "codemirror_mode": {
    "name": "ipython",
    "version": 3
   },
   "file_extension": ".py",
   "mimetype": "text/x-python",
   "name": "python",
   "nbconvert_exporter": "python",
   "pygments_lexer": "ipython3",
   "version": "3.8.20"
  }
 },
 "nbformat": 4,
 "nbformat_minor": 2
}
