{
 "cells": [
  {
   "cell_type": "markdown",
   "id": "f9ea7d3c",
   "metadata": {
    "papermill": {
     "duration": 0.002433,
     "end_time": "2024-12-24T21:55:05.257111",
     "exception": false,
     "start_time": "2024-12-24T21:55:05.254678",
     "status": "completed"
    },
    "tags": []
   },
   "source": [
    "This notebook focuses on trying to find a way to segment cells within organoids properly.\n",
    "The end goals is to segment cell and extract morphology features from cellprofiler.\n",
    "These masks must be imported into cellprofiler to extract features."
   ]
  },
  {
   "cell_type": "code",
   "execution_count": 1,
   "id": "650c9514",
   "metadata": {
    "execution": {
     "iopub.execute_input": "2024-12-24T21:55:05.261609Z",
     "iopub.status.busy": "2024-12-24T21:55:05.261349Z",
     "iopub.status.idle": "2024-12-24T21:55:08.245306Z",
     "shell.execute_reply": "2024-12-24T21:55:08.244944Z"
    },
    "papermill": {
     "duration": 2.986983,
     "end_time": "2024-12-24T21:55:08.246045",
     "exception": false,
     "start_time": "2024-12-24T21:55:05.259062",
     "status": "completed"
    },
    "tags": []
   },
   "outputs": [
    {
     "name": "stdout",
     "output_type": "stream",
     "text": [
      "\n",
      "\n",
      "Welcome to CellposeSAM, cellpose v\n",
      "cellpose version: \t4.0.3 \n",
      "platform:       \tlinux \n",
      "python version: \t3.10.17 \n",
      "torch version:  \t2.7.0+cu126! The neural network component of\n",
      "CPSAM is much larger than in previous versions and CPU excution is slow. \n",
      "We encourage users to use GPU/MPS if available. \n",
      "\n",
      "\n",
      "2025-05-16 12:48:43,103 [INFO] WRITING LOG OUTPUT TO /home/lippincm/.cellpose/run.log\n",
      "2025-05-16 12:48:43,103 [INFO] \n",
      "cellpose version: \t4.0.3 \n",
      "platform:       \tlinux \n",
      "python version: \t3.10.17 \n",
      "torch version:  \t2.7.0+cu126\n",
      "True\n",
      "GPU activated: True\n"
     ]
    }
   ],
   "source": [
    "import argparse\n",
    "import pathlib\n",
    "\n",
    "import cellpose\n",
    "import matplotlib.pyplot as plt\n",
    "\n",
    "# Import dependencies\n",
    "import numpy as np\n",
    "import skimage\n",
    "import tifffile\n",
    "import torch\n",
    "from cellpose import core\n",
    "from cellpose import io as cellpose_io\n",
    "from cellpose import models\n",
    "\n",
    "cellpose_io.logger_setup()\n",
    "# set the gpu via OS environment variable\n",
    "import os\n",
    "\n",
    "from csbdeep.utils import normalize\n",
    "from PIL import Image\n",
    "from stardist.plot import render_label\n",
    "\n",
    "os.environ[\"CUDA_VISIBLE_DEVICES\"] = \"0\"\n",
    "os.environ[\"KMP_DUPLICATE_LIB_OK\"] = \"TRUE\"\n",
    "\n",
    "# check if in a jupyter notebook\n",
    "try:\n",
    "    cfg = get_ipython().config\n",
    "    in_notebook = True\n",
    "except NameError:\n",
    "    in_notebook = False\n",
    "\n",
    "print(in_notebook)\n",
    "# check if we have a GPU\n",
    "use_gpu = torch.cuda.is_available()\n",
    "print(\"GPU activated:\", use_gpu)"
   ]
  },
  {
   "cell_type": "code",
   "execution_count": 2,
   "id": "c3210af2",
   "metadata": {
    "execution": {
     "iopub.execute_input": "2024-12-24T21:55:08.251968Z",
     "iopub.status.busy": "2024-12-24T21:55:08.251641Z",
     "iopub.status.idle": "2024-12-24T21:55:08.254839Z",
     "shell.execute_reply": "2024-12-24T21:55:08.254560Z"
    },
    "papermill": {
     "duration": 0.006684,
     "end_time": "2024-12-24T21:55:08.255398",
     "exception": false,
     "start_time": "2024-12-24T21:55:08.248714",
     "status": "completed"
    },
    "tags": []
   },
   "outputs": [],
   "source": [
    "if not in_notebook:\n",
    "    # set up arg parser\n",
    "    parser = argparse.ArgumentParser(description=\"Segment the nuclei of a tiff image\")\n",
    "\n",
    "    parser.add_argument(\n",
    "        \"--input_dir\",\n",
    "        type=str,\n",
    "        help=\"Path to the input directory containing the tiff images\",\n",
    "    )\n",
    "\n",
    "    parser.add_argument(\n",
    "        \"--clip_limit\",\n",
    "        type=float,\n",
    "        help=\"Clip limit for the adaptive histogram equalization\",\n",
    "    )\n",
    "    parser.add_argument(\n",
    "        \"--diameter\",\n",
    "        type=bool,\n",
    "        help=\"diameter of the nuclei to segment\",\n",
    "    )\n",
    "\n",
    "    args = parser.parse_args()\n",
    "    clip_limit = args.clip_limit\n",
    "    input_dir = pathlib.Path(args.input_dir).resolve(strict=True)\n",
    "    diameter = args.diameter\n",
    "\n",
    "else:\n",
    "    input_dir = pathlib.Path(\n",
    "        \"../../2.cellprofiler_ic_processing/illum_directory/test_data/timelapse/20231017ChromaLive_6hr_4ch_MaxIP_C-02_F0001\"\n",
    "    ).resolve(strict=True)\n",
    "    # input_dir = pathlib.Path(\n",
    "    #     \"../../2.cellprofiler_ic_processing/illum_directory/test_data/endpoint/20231017ChromaLive_endpoint_w_AnnexinV_2ch_MaxIP_E-11_F0001\"\n",
    "    # ).resolve(strict=True)\n",
    "    clip_limit = 0.6\n",
    "    diameter = 100"
   ]
  },
  {
   "cell_type": "code",
   "execution_count": 3,
   "id": "73888e78",
   "metadata": {},
   "outputs": [
    {
     "name": "stdout",
     "output_type": "stream",
     "text": [
      "Starting level of GPU RAM available (MB):  1661.875\n"
     ]
    }
   ],
   "source": [
    "# set up memory profiler for GPU\n",
    "device = torch.device(\"cuda:0\")\n",
    "free_before, total_before = torch.cuda.mem_get_info(device)\n",
    "starting_level_GPU_RAM = (total_before - free_before) / 1024**2\n",
    "print(\"Starting level of GPU RAM available (MB): \", starting_level_GPU_RAM)"
   ]
  },
  {
   "cell_type": "markdown",
   "id": "5f30f887",
   "metadata": {
    "papermill": {
     "duration": 0.002462,
     "end_time": "2024-12-24T21:55:08.260049",
     "exception": false,
     "start_time": "2024-12-24T21:55:08.257587",
     "status": "completed"
    },
    "tags": []
   },
   "source": [
    "## Set up images, paths and functions"
   ]
  },
  {
   "cell_type": "code",
   "execution_count": 4,
   "id": "13eea109",
   "metadata": {
    "execution": {
     "iopub.execute_input": "2024-12-24T21:55:08.265518Z",
     "iopub.status.busy": "2024-12-24T21:55:08.265378Z",
     "iopub.status.idle": "2024-12-24T21:55:08.267646Z",
     "shell.execute_reply": "2024-12-24T21:55:08.267377Z"
    },
    "papermill": {
     "duration": 0.005712,
     "end_time": "2024-12-24T21:55:08.268201",
     "exception": false,
     "start_time": "2024-12-24T21:55:08.262489",
     "status": "completed"
    },
    "tags": []
   },
   "outputs": [
    {
     "name": "stdout",
     "output_type": "stream",
     "text": [
      "78\n"
     ]
    }
   ],
   "source": [
    "image_extensions = {\".tif\", \".tiff\"}\n",
    "files = sorted(input_dir.glob(\"*\"))\n",
    "files = [str(x) for x in files if x.suffix in image_extensions]\n",
    "print(len(files))"
   ]
  },
  {
   "cell_type": "code",
   "execution_count": 11,
   "id": "adcd16b6",
   "metadata": {},
   "outputs": [],
   "source": [
    "image_dict = {\n",
    "    \"nuclei_file_paths\": [],\n",
    "    \"nuclei\": [],\n",
    "    \"cytoplasm1\": [],\n",
    "    \"cytoplasm2\": [],\n",
    "    \"cytoplasm3\": [],\n",
    "}"
   ]
  },
  {
   "cell_type": "code",
   "execution_count": 12,
   "id": "1c01a59c",
   "metadata": {},
   "outputs": [],
   "source": [
    "for file in files:\n",
    "    if \"C01\" in file.split(\"/\")[-1]:\n",
    "        image_dict[\"nuclei_file_paths\"].append(file)\n",
    "        image_dict[\"nuclei\"].append(tifffile.imread(file).astype(np.float32))\n",
    "    elif \"C02\" in file.split(\"/\")[-1]:\n",
    "        image_dict[\"cytoplasm1\"].append(tifffile.imread(file).astype(np.float32))\n",
    "    elif \"C03\" in file.split(\"/\")[-1]:\n",
    "        image_dict[\"cytoplasm2\"].append(tifffile.imread(file).astype(np.float32))\n",
    "    elif \"C04\" in file.split(\"/\")[-1]:\n",
    "        image_dict[\"cytoplasm3\"].append(tifffile.imread(file).astype(np.float32))\n",
    "\n",
    "    cytoplasm_image_list = [\n",
    "        np.max(\n",
    "            np.array(\n",
    "                [\n",
    "                    cytoplasm1,\n",
    "                    cytoplasm2,\n",
    "                    cytoplasm3,\n",
    "                ]\n",
    "            ),\n",
    "            axis=0,\n",
    "        )\n",
    "        for cytoplasm1, cytoplasm2, cytoplasm3 in zip(\n",
    "            image_dict[\"cytoplasm1\"],\n",
    "            image_dict[\"cytoplasm2\"],\n",
    "            image_dict[\"cytoplasm3\"],\n",
    "        )\n",
    "    ]\n",
    "cyto = np.array(cytoplasm_image_list).astype(np.int16)\n",
    "\n",
    "cyto = skimage.exposure.equalize_adapthist(cyto, clip_limit=clip_limit)"
   ]
  },
  {
   "cell_type": "markdown",
   "id": "8c41f152",
   "metadata": {
    "papermill": {
     "duration": 0.00613,
     "end_time": "2024-12-24T21:55:20.162034",
     "exception": false,
     "start_time": "2024-12-24T21:55:20.155904",
     "status": "completed"
    },
    "tags": []
   },
   "source": [
    "## Cellpose"
   ]
  },
  {
   "cell_type": "markdown",
   "id": "4b4ccfab",
   "metadata": {},
   "source": [
    "Weird errors occur when running this converted notebook in the command line.\n",
    "This cell helps the python interpreter figure out where it is...somehow."
   ]
  },
  {
   "cell_type": "code",
   "execution_count": 13,
   "id": "bd8a4467",
   "metadata": {},
   "outputs": [
    {
     "name": "stdout",
     "output_type": "stream",
     "text": [
      "2025-05-16 12:49:56,048 [INFO] ** TORCH CUDA version installed and working. **\n",
      "2025-05-16 12:49:56,049 [INFO] >>>> using GPU (CUDA)\n",
      "device: cuda:0\n",
      "gpu: True\n",
      "2025-05-16 12:49:57,601 [INFO] >>>> loading model /home/lippincm/.cellpose/models/cpsam\n",
      "2025-05-16 12:49:57,874 [WARNING] channels deprecated in v4.0.1+. If data contain more than 3 channels, only the first 3 channels will be used\n"
     ]
    }
   ],
   "source": [
    "test = cyto[0]\n",
    "diameter = 50\n",
    "\n",
    "model = models.CellposeModel(gpu=True)\n",
    "\n",
    "channels = [[1, 0]]\n",
    "\n",
    "# # get masks\n",
    "# for _ in range(1):\n",
    "masks, flows, styles = model.eval(test, channels=channels, diameter=diameter)"
   ]
  },
  {
   "cell_type": "code",
   "execution_count": 14,
   "id": "c1b7a53f",
   "metadata": {},
   "outputs": [
    {
     "name": "stdout",
     "output_type": "stream",
     "text": [
      "2025-05-16 12:50:01,378 [INFO] ** TORCH CUDA version installed and working. **\n",
      "GPU activated:  True\n",
      "2025-05-16 12:50:01,379 [WARNING] model_type argument is not used in v4.0.1+. Ignoring this argument...\n",
      "2025-05-16 12:50:01,380 [INFO] ** TORCH CUDA version installed and working. **\n",
      "2025-05-16 12:50:01,380 [INFO] >>>> using GPU (CUDA)\n",
      "device: cuda:0\n",
      "gpu: True\n",
      "2025-05-16 12:50:02,846 [INFO] >>>> loading model /home/lippincm/.cellpose/models/cpsam\n",
      "2025-05-16 12:50:04,249 [WARNING] channels deprecated in v4.0.1+. If data contain more than 3 channels, only the first 3 channels will be used\n",
      "2025-05-16 12:50:06,633 [WARNING] channels deprecated in v4.0.1+. If data contain more than 3 channels, only the first 3 channels will be used\n",
      "2025-05-16 12:50:09,014 [WARNING] channels deprecated in v4.0.1+. If data contain more than 3 channels, only the first 3 channels will be used\n",
      "2025-05-16 12:50:11,395 [WARNING] channels deprecated in v4.0.1+. If data contain more than 3 channels, only the first 3 channels will be used\n",
      "2025-05-16 12:50:13,768 [WARNING] channels deprecated in v4.0.1+. If data contain more than 3 channels, only the first 3 channels will be used\n",
      "2025-05-16 12:50:16,131 [WARNING] channels deprecated in v4.0.1+. If data contain more than 3 channels, only the first 3 channels will be used\n",
      "2025-05-16 12:50:18,535 [WARNING] channels deprecated in v4.0.1+. If data contain more than 3 channels, only the first 3 channels will be used\n",
      "2025-05-16 12:50:20,987 [WARNING] channels deprecated in v4.0.1+. If data contain more than 3 channels, only the first 3 channels will be used\n",
      "2025-05-16 12:50:23,485 [WARNING] channels deprecated in v4.0.1+. If data contain more than 3 channels, only the first 3 channels will be used\n",
      "2025-05-16 12:50:25,983 [WARNING] channels deprecated in v4.0.1+. If data contain more than 3 channels, only the first 3 channels will be used\n",
      "2025-05-16 12:50:28,450 [WARNING] channels deprecated in v4.0.1+. If data contain more than 3 channels, only the first 3 channels will be used\n",
      "2025-05-16 12:50:30,830 [WARNING] channels deprecated in v4.0.1+. If data contain more than 3 channels, only the first 3 channels will be used\n",
      "2025-05-16 12:50:33,255 [WARNING] channels deprecated in v4.0.1+. If data contain more than 3 channels, only the first 3 channels will be used\n",
      "(13, 1900, 1900)\n",
      "(13,)\n"
     ]
    }
   ],
   "source": [
    "# model_type='cyto' or 'nuclei' or 'cyto2' or 'cyto3'\n",
    "model_name = \"nuclei\"\n",
    "use_GPU = core.use_gpu()\n",
    "print(\"GPU activated: \", use_GPU)\n",
    "model = models.CellposeModel(model_type=model_name, gpu=use_GPU)\n",
    "\n",
    "channels = [[1, 0]]\n",
    "\n",
    "masks_all_dict = {\"masks\": [], \"imgs\": []}\n",
    "\n",
    "\n",
    "def get_masks(image, model, channels, diameter):\n",
    "    masks, flows, styles, _ = model.eval(\n",
    "        normalize(image), channels=channels, diameter=diameter\n",
    "    )\n",
    "    return masks\n",
    "\n",
    "\n",
    "# get masks for all the images\n",
    "# save to a dict for later use\n",
    "for img in range(cyto.shape[0]):\n",
    "    cyto[img, :, :] = normalize(cyto[img, :, :])\n",
    "\n",
    "results = [\n",
    "    (\n",
    "        img,\n",
    "        cyto[img, :, :].shape,\n",
    "        model.eval(cyto[img, :, :], channels=channels, diameter=diameter),\n",
    "    )\n",
    "    for img in range(cyto.shape[0])\n",
    "]\n",
    "\n",
    "# Print the results\n",
    "for img, shape, (masks, flows, styles) in results:\n",
    "    masks_all_dict[\"masks\"].append(masks)\n",
    "    masks_all_dict[\"imgs\"].append(img)\n",
    "\n",
    "\n",
    "masks_all = masks_all_dict[\"masks\"]\n",
    "imgs = masks_all_dict[\"imgs\"]\n",
    "masks_all = np.array(masks_all)\n",
    "imgs = np.array(imgs)\n",
    "print(masks_all.shape)\n",
    "print(imgs.shape)\n",
    "\n",
    "for frame_index, frame in enumerate(image_dict[\"nuclei_file_paths\"]):\n",
    "    tifffile.imwrite(\n",
    "        pathlib.Path(\n",
    "            input_dir / f\"{str(frame).split('/')[-1].split('_C01')[0]}_nuclei_mask.tiff\"\n",
    "        ),\n",
    "        masks_all[frame_index, :, :],\n",
    "    )"
   ]
  },
  {
   "cell_type": "code",
   "execution_count": null,
   "id": "0ca89093",
   "metadata": {},
   "outputs": [],
   "source": [
    "if in_notebook:\n",
    "    for z in range(len(masks_all)):\n",
    "        plt.figure(figsize=(20, 10))\n",
    "        plt.title(f\"z: {z}\")\n",
    "        plt.axis(\"off\")\n",
    "        plt.subplot(1, 2, 1)\n",
    "        plt.imshow(cyto[z], cmap=\"gray\")\n",
    "        plt.title(\"Nuclei\")\n",
    "        plt.axis(\"off\")\n",
    "\n",
    "        plt.subplot(122)\n",
    "        plt.imshow(render_label(masks_all[z]))\n",
    "        plt.title(\"Nuclei masks\")\n",
    "        plt.axis(\"off\")\n",
    "        plt.show()"
   ]
  },
  {
   "cell_type": "code",
   "execution_count": null,
   "id": "cc39bde8",
   "metadata": {},
   "outputs": [],
   "source": [
    "# set up memory profiler for GPU\n",
    "device = torch.device(\"cuda:0\")\n",
    "free_after, total_after = torch.cuda.mem_get_info(device)\n",
    "amount_used = ((total_after - free_after)) / 1024**2\n",
    "print(f\"Used: {amount_used} MB or {amount_used / 1024} GB of GPU RAM\")"
   ]
  }
 ],
 "metadata": {
  "kernelspec": {
   "display_name": "timelapse_segmentation_env",
   "language": "python",
   "name": "python3"
  },
  "language_info": {
   "codemirror_mode": {
    "name": "ipython",
    "version": 3
   },
   "file_extension": ".py",
   "mimetype": "text/x-python",
   "name": "python",
   "nbconvert_exporter": "python",
   "pygments_lexer": "ipython3",
   "version": "3.10.17"
  },
  "papermill": {
   "default_parameters": {},
   "duration": 56.050777,
   "end_time": "2024-12-24T21:56:00.651478",
   "environment_variables": {},
   "exception": null,
   "input_path": "1.segment_cells_organoids.ipynb",
   "output_path": "1.segment_cells_organoids.ipynb",
   "parameters": {},
   "start_time": "2024-12-24T21:55:04.600701",
   "version": "2.6.0"
  }
 },
 "nbformat": 4,
 "nbformat_minor": 5
}
