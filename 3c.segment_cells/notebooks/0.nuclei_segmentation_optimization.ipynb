{
 "cells": [
  {
   "cell_type": "markdown",
   "id": "f9ea7d3c",
   "metadata": {
    "papermill": {
     "duration": 0.002433,
     "end_time": "2024-12-24T21:55:05.257111",
     "exception": false,
     "start_time": "2024-12-24T21:55:05.254678",
     "status": "completed"
    },
    "tags": []
   },
   "source": [
    "This notebook focuses on trying to find a way to segment cells within organoids properly.\n",
    "The end goals is to segment cell and extract morphology features from cellprofiler.\n",
    "These masks must be imported into cellprofiler to extract features."
   ]
  },
  {
   "cell_type": "code",
   "execution_count": 1,
   "id": "650c9514",
   "metadata": {
    "execution": {
     "iopub.execute_input": "2024-12-24T21:55:05.261609Z",
     "iopub.status.busy": "2024-12-24T21:55:05.261349Z",
     "iopub.status.idle": "2024-12-24T21:55:08.245306Z",
     "shell.execute_reply": "2024-12-24T21:55:08.244944Z"
    },
    "papermill": {
     "duration": 2.986983,
     "end_time": "2024-12-24T21:55:08.246045",
     "exception": false,
     "start_time": "2024-12-24T21:55:05.259062",
     "status": "completed"
    },
    "tags": []
   },
   "outputs": [
    {
     "name": "stdout",
     "output_type": "stream",
     "text": [
      "True\n"
     ]
    }
   ],
   "source": [
    "import argparse\n",
    "import pathlib\n",
    "\n",
    "import matplotlib.pyplot as plt\n",
    "\n",
    "# Import dependencies\n",
    "import numpy as np\n",
    "import pandas as pd\n",
    "import skimage\n",
    "import tifffile\n",
    "import torch\n",
    "import tqdm\n",
    "from cellpose import models\n",
    "from csbdeep.utils import normalize\n",
    "from PIL import Image\n",
    "from stardist.plot import render_label\n",
    "\n",
    "# check if in a jupyter notebook\n",
    "try:\n",
    "    cfg = get_ipython().config\n",
    "    in_notebook = True\n",
    "except NameError:\n",
    "    in_notebook = False\n",
    "\n",
    "print(in_notebook)"
   ]
  },
  {
   "cell_type": "code",
   "execution_count": 2,
   "id": "c3210af2",
   "metadata": {
    "execution": {
     "iopub.execute_input": "2024-12-24T21:55:08.251968Z",
     "iopub.status.busy": "2024-12-24T21:55:08.251641Z",
     "iopub.status.idle": "2024-12-24T21:55:08.254839Z",
     "shell.execute_reply": "2024-12-24T21:55:08.254560Z"
    },
    "papermill": {
     "duration": 0.006684,
     "end_time": "2024-12-24T21:55:08.255398",
     "exception": false,
     "start_time": "2024-12-24T21:55:08.248714",
     "status": "completed"
    },
    "tags": []
   },
   "outputs": [
    {
     "name": "stdout",
     "output_type": "stream",
     "text": [
      "[PosixPath('/home/lippincm/Documents/live_cell_timelapse_apoptosis/2.cellprofiler_ic_processing/illum_directory_test/20231017ChromaLive_endpoint_w_AnnexinV_2ch_MaxIP_C-04_F0001'), PosixPath('/home/lippincm/Documents/live_cell_timelapse_apoptosis/2.cellprofiler_ic_processing/illum_directory_test/20231017ChromaLive_endpoint_w_AnnexinV_2ch_MaxIP_C-03_F0001'), PosixPath('/home/lippincm/Documents/live_cell_timelapse_apoptosis/2.cellprofiler_ic_processing/illum_directory_test/20231017ChromaLive_6hr_4ch_MaxIP_C-04_F0001'), PosixPath('/home/lippincm/Documents/live_cell_timelapse_apoptosis/2.cellprofiler_ic_processing/illum_directory_test/20231017ChromaLive_6hr_4ch_MaxIP_C-05_F0001'), PosixPath('/home/lippincm/Documents/live_cell_timelapse_apoptosis/2.cellprofiler_ic_processing/illum_directory_test/20231017ChromaLive_endpoint_w_AnnexinV_2ch_MaxIP_C-02_F0001'), PosixPath('/home/lippincm/Documents/live_cell_timelapse_apoptosis/2.cellprofiler_ic_processing/illum_directory_test/20231017ChromaLive_6hr_4ch_MaxIP_C-02_F0001'), PosixPath('/home/lippincm/Documents/live_cell_timelapse_apoptosis/2.cellprofiler_ic_processing/illum_directory_test/20231017ChromaLive_6hr_4ch_MaxIP_C-03_F0001'), PosixPath('/home/lippincm/Documents/live_cell_timelapse_apoptosis/2.cellprofiler_ic_processing/illum_directory_test/20231017ChromaLive_endpoint_w_AnnexinV_2ch_MaxIP_C-05_F0001')]\n"
     ]
    }
   ],
   "source": [
    "if not in_notebook:\n",
    "    # set up arg parser\n",
    "    parser = argparse.ArgumentParser(description=\"Segment the nuclei of a tiff image\")\n",
    "\n",
    "    parser.add_argument(\n",
    "        \"--input_dir\",\n",
    "        type=str,\n",
    "        help=\"Path to the input directory containing the tiff images\",\n",
    "    )\n",
    "\n",
    "    parser.add_argument(\n",
    "        \"--clip_limit\",\n",
    "        type=float,\n",
    "        help=\"Clip limit for the adaptive histogram equalization\",\n",
    "    )\n",
    "\n",
    "    args = parser.parse_args()\n",
    "    clip_limit = args.clip_limit\n",
    "    input_dir = pathlib.Path(args.input_dir).resolve(strict=True)\n",
    "\n",
    "else:\n",
    "    input_dir = pathlib.Path(\n",
    "        \"../../2.cellprofiler_ic_processing/illum_directory_test/\"\n",
    "    ).resolve(strict=True)\n",
    "    clip_limit = 0.6\n",
    "\n",
    "list_of_input_dirs = list(input_dir.glob(\"*\"))\n",
    "list_of_input_dirs = [x for x in list_of_input_dirs if x.is_dir()]\n",
    "print(list_of_input_dirs)\n",
    "\n",
    "figures_dir = pathlib.Path(\"../figures\").resolve()\n",
    "figures_dir.mkdir(exist_ok=True, parents=True)"
   ]
  },
  {
   "cell_type": "code",
   "execution_count": 3,
   "id": "73888e78",
   "metadata": {},
   "outputs": [
    {
     "name": "stdout",
     "output_type": "stream",
     "text": [
      "Starting level of GPU RAM available (MB):  1675.125\n"
     ]
    }
   ],
   "source": [
    "# set up memory profiler for GPU\n",
    "device = torch.device(\"cuda:0\")\n",
    "free_before, total_before = torch.cuda.mem_get_info(device)\n",
    "starting_level_GPU_RAM = (total_before - free_before) / 1024**2\n",
    "print(\"Starting level of GPU RAM available (MB): \", starting_level_GPU_RAM)"
   ]
  },
  {
   "cell_type": "markdown",
   "id": "5f30f887",
   "metadata": {
    "papermill": {
     "duration": 0.002462,
     "end_time": "2024-12-24T21:55:08.260049",
     "exception": false,
     "start_time": "2024-12-24T21:55:08.257587",
     "status": "completed"
    },
    "tags": []
   },
   "source": [
    "## Set up images, paths and functions"
   ]
  },
  {
   "cell_type": "code",
   "execution_count": null,
   "id": "13eea109",
   "metadata": {
    "execution": {
     "iopub.execute_input": "2024-12-24T21:55:08.265518Z",
     "iopub.status.busy": "2024-12-24T21:55:08.265378Z",
     "iopub.status.idle": "2024-12-24T21:55:08.267646Z",
     "shell.execute_reply": "2024-12-24T21:55:08.267377Z"
    },
    "papermill": {
     "duration": 0.005712,
     "end_time": "2024-12-24T21:55:08.268201",
     "exception": false,
     "start_time": "2024-12-24T21:55:08.262489",
     "status": "completed"
    },
    "tags": []
   },
   "outputs": [],
   "source": []
  },
  {
   "cell_type": "code",
   "execution_count": null,
   "id": "b8c5f1ed",
   "metadata": {},
   "outputs": [],
   "source": []
  },
  {
   "cell_type": "code",
   "execution_count": 4,
   "id": "4b34dbf7",
   "metadata": {},
   "outputs": [
    {
     "name": "stderr",
     "output_type": "stream",
     "text": [
      "  0%|          | 0/8 [00:00<?, ?it/s]"
     ]
    },
    {
     "name": "stdout",
     "output_type": "stream",
     "text": [
      "/home/lippincm/Documents/live_cell_timelapse_apoptosis/2.cellprofiler_ic_processing/illum_directory_test/20231017ChromaLive_6hr_4ch_MaxIP_C-04_F0001\n",
      "54\n",
      "13\n",
      "(13, 1900, 1900)\n"
     ]
    },
    {
     "name": "stderr",
     "output_type": "stream",
     "text": [
      "resnet_torch.py (271): You are using `torch.load` with `weights_only=False` (the current default value), which uses the default pickle module implicitly. It is possible to construct malicious pickle data which will execute arbitrary code during unpickling (See https://github.com/pytorch/pytorch/blob/main/SECURITY.md#untrusted-models for more details). In a future release, the default value for `weights_only` will be flipped to `True`. This limits the functions that could be executed during unpickling. Arbitrary objects will no longer be allowed to be loaded via this mode unless they are explicitly allowlisted by the user via `torch.serialization.add_safe_globals`. We recommend you start setting `weights_only=True` for any use case where you don't have full control of the loaded file. Please open an issue on GitHub for any issues related to this experimental feature.\n"
     ]
    },
    {
     "name": "stdout",
     "output_type": "stream",
     "text": [
      "3\n"
     ]
    },
    {
     "name": "stderr",
     "output_type": "stream",
     "text": [
      " 38%|███▊      | 3/8 [00:37<01:02, 12.50s/it]"
     ]
    },
    {
     "name": "stdout",
     "output_type": "stream",
     "text": [
      "/home/lippincm/Documents/live_cell_timelapse_apoptosis/2.cellprofiler_ic_processing/illum_directory_test/20231017ChromaLive_6hr_4ch_MaxIP_C-05_F0001\n",
      "54\n",
      "13\n",
      "(13, 1900, 1900)\n"
     ]
    },
    {
     "name": "stderr",
     "output_type": "stream",
     "text": [
      "resnet_torch.py (271): You are using `torch.load` with `weights_only=False` (the current default value), which uses the default pickle module implicitly. It is possible to construct malicious pickle data which will execute arbitrary code during unpickling (See https://github.com/pytorch/pytorch/blob/main/SECURITY.md#untrusted-models for more details). In a future release, the default value for `weights_only` will be flipped to `True`. This limits the functions that could be executed during unpickling. Arbitrary objects will no longer be allowed to be loaded via this mode unless they are explicitly allowlisted by the user via `torch.serialization.add_safe_globals`. We recommend you start setting `weights_only=True` for any use case where you don't have full control of the loaded file. Please open an issue on GitHub for any issues related to this experimental feature.\n"
     ]
    },
    {
     "name": "stdout",
     "output_type": "stream",
     "text": [
      "3\n"
     ]
    },
    {
     "name": "stderr",
     "output_type": "stream",
     "text": [
      " 50%|█████     | 4/8 [01:12<01:19, 19.91s/it]"
     ]
    },
    {
     "name": "stdout",
     "output_type": "stream",
     "text": [
      "/home/lippincm/Documents/live_cell_timelapse_apoptosis/2.cellprofiler_ic_processing/illum_directory_test/20231017ChromaLive_6hr_4ch_MaxIP_C-02_F0001\n",
      "54\n",
      "13\n",
      "(13, 1900, 1900)\n",
      "3\n"
     ]
    },
    {
     "name": "stderr",
     "output_type": "stream",
     "text": [
      " 75%|███████▌  | 6/8 [01:48<00:37, 18.91s/it]"
     ]
    },
    {
     "name": "stdout",
     "output_type": "stream",
     "text": [
      "/home/lippincm/Documents/live_cell_timelapse_apoptosis/2.cellprofiler_ic_processing/illum_directory_test/20231017ChromaLive_6hr_4ch_MaxIP_C-03_F0001\n",
      "54\n",
      "13\n",
      "(13, 1900, 1900)\n",
      "3\n"
     ]
    },
    {
     "name": "stderr",
     "output_type": "stream",
     "text": [
      "100%|██████████| 8/8 [02:23<00:00, 17.98s/it]\n"
     ]
    }
   ],
   "source": [
    "unique_masks_dict = {\n",
    "    \"diameter\": [],\n",
    "    \"unique_masks\": [],\n",
    "    \"image_dir\": [],\n",
    "}\n",
    "for input_dir in tqdm.tqdm(list_of_input_dirs):\n",
    "    if \"2ch\" not in str(input_dir):\n",
    "        print(input_dir)\n",
    "        image_extensions = {\".tif\", \".tiff\"}\n",
    "        files = sorted(input_dir.glob(\"*\"))\n",
    "        print(len(files))\n",
    "        files = [str(x) for x in files if x.suffix in image_extensions]\n",
    "        image_dict = {\n",
    "            \"nuclei_file_paths\": [],\n",
    "            \"nuclei\": [],\n",
    "        }\n",
    "\n",
    "        # split files by channel\n",
    "        for file in files:\n",
    "            if \"C01\" in file.split(\"/\")[-1]:\n",
    "                image_dict[\"nuclei_file_paths\"].append(file)\n",
    "                image_dict[\"nuclei\"].append(tifffile.imread(file).astype(np.float32))\n",
    "        nuclei_image_list = [np.array(nuclei) for nuclei in image_dict[\"nuclei\"]]\n",
    "        print(len(nuclei_image_list))\n",
    "        nuclei = np.array(nuclei_image_list).astype(np.int16)\n",
    "\n",
    "        nuclei = skimage.exposure.equalize_adapthist(nuclei, clip_limit=clip_limit)\n",
    "\n",
    "        print(nuclei.shape)\n",
    "        original_nuclei_image = nuclei.copy()\n",
    "        # model_type='cyto' or 'nuclei' or 'cyto2' or 'cyto3'\n",
    "        model_name = \"nuclei\"\n",
    "        model = models.Cellpose(model_type=model_name, gpu=True)\n",
    "\n",
    "        channels = [[1, 0]]\n",
    "\n",
    "        # get masks for all the images\n",
    "        # save to a dict for later use\n",
    "        img = nuclei[1, :, :]\n",
    "        img = normalize(img)\n",
    "        masks_all_dict = {\"masks\": [], \"imgs\": [], \"diameter\": []}\n",
    "        for diameter in range(5, 150, 5):\n",
    "            masks, flows, styles, diams = model.eval(\n",
    "                img, channels=channels, diameter=diameter\n",
    "            )\n",
    "            masks_all_dict[\"masks\"].append(masks)\n",
    "            masks_all_dict[\"imgs\"].append(img)\n",
    "            masks_all_dict[\"diameter\"].append(diameter)\n",
    "        print(len(masks_all_dict))\n",
    "        masks_all = masks_all_dict[\"masks\"]\n",
    "        imgs = masks_all_dict[\"imgs\"]\n",
    "        diameters = masks_all_dict[\"diameter\"]\n",
    "\n",
    "        masks_all = np.array(masks_all)\n",
    "        imgs = np.array(imgs)\n",
    "\n",
    "        # get the number of unique masks for each diameter\n",
    "\n",
    "        for diameter in range(len(diameters)):\n",
    "            unique_masks = np.unique(masks_all[diameter])\n",
    "            unique_masks_dict[\"diameter\"].append(diameters[diameter])\n",
    "            unique_masks_dict[\"unique_masks\"].append(len(unique_masks))\n",
    "            unique_masks_dict[\"image_dir\"].append(input_dir.name)\n",
    "\n",
    "        # get the diameter that is for the max\n",
    "        best_diameter = unique_masks_dict[\"diameter\"][\n",
    "            np.argmax(unique_masks_dict[\"unique_masks\"])\n",
    "        ]"
   ]
  },
  {
   "cell_type": "code",
   "execution_count": 5,
   "id": "81fe6132",
   "metadata": {
    "execution": {
     "iopub.execute_input": "2024-12-24T21:55:08.273247Z",
     "iopub.status.busy": "2024-12-24T21:55:08.273113Z",
     "iopub.status.idle": "2024-12-24T21:55:16.649436Z",
     "shell.execute_reply": "2024-12-24T21:55:16.649004Z"
    },
    "papermill": {
     "duration": 8.380184,
     "end_time": "2024-12-24T21:55:16.650351",
     "exception": false,
     "start_time": "2024-12-24T21:55:08.270167",
     "status": "completed"
    },
    "tags": []
   },
   "outputs": [
    {
     "data": {
      "text/html": [
       "<div>\n",
       "<style scoped>\n",
       "    .dataframe tbody tr th:only-of-type {\n",
       "        vertical-align: middle;\n",
       "    }\n",
       "\n",
       "    .dataframe tbody tr th {\n",
       "        vertical-align: top;\n",
       "    }\n",
       "\n",
       "    .dataframe thead th {\n",
       "        text-align: right;\n",
       "    }\n",
       "</style>\n",
       "<table border=\"1\" class=\"dataframe\">\n",
       "  <thead>\n",
       "    <tr style=\"text-align: right;\">\n",
       "      <th></th>\n",
       "      <th>diameter</th>\n",
       "      <th>unique_masks</th>\n",
       "      <th>image_dir</th>\n",
       "    </tr>\n",
       "  </thead>\n",
       "  <tbody>\n",
       "    <tr>\n",
       "      <th>0</th>\n",
       "      <td>5</td>\n",
       "      <td>818</td>\n",
       "      <td>20231017ChromaLive_6hr_4ch_MaxIP_C-04_F0001</td>\n",
       "    </tr>\n",
       "    <tr>\n",
       "      <th>1</th>\n",
       "      <td>10</td>\n",
       "      <td>600</td>\n",
       "      <td>20231017ChromaLive_6hr_4ch_MaxIP_C-04_F0001</td>\n",
       "    </tr>\n",
       "    <tr>\n",
       "      <th>2</th>\n",
       "      <td>15</td>\n",
       "      <td>183</td>\n",
       "      <td>20231017ChromaLive_6hr_4ch_MaxIP_C-04_F0001</td>\n",
       "    </tr>\n",
       "    <tr>\n",
       "      <th>3</th>\n",
       "      <td>20</td>\n",
       "      <td>149</td>\n",
       "      <td>20231017ChromaLive_6hr_4ch_MaxIP_C-04_F0001</td>\n",
       "    </tr>\n",
       "    <tr>\n",
       "      <th>4</th>\n",
       "      <td>25</td>\n",
       "      <td>185</td>\n",
       "      <td>20231017ChromaLive_6hr_4ch_MaxIP_C-04_F0001</td>\n",
       "    </tr>\n",
       "  </tbody>\n",
       "</table>\n",
       "</div>"
      ],
      "text/plain": [
       "   diameter  unique_masks                                    image_dir\n",
       "0         5           818  20231017ChromaLive_6hr_4ch_MaxIP_C-04_F0001\n",
       "1        10           600  20231017ChromaLive_6hr_4ch_MaxIP_C-04_F0001\n",
       "2        15           183  20231017ChromaLive_6hr_4ch_MaxIP_C-04_F0001\n",
       "3        20           149  20231017ChromaLive_6hr_4ch_MaxIP_C-04_F0001\n",
       "4        25           185  20231017ChromaLive_6hr_4ch_MaxIP_C-04_F0001"
      ]
     },
     "execution_count": 5,
     "metadata": {},
     "output_type": "execute_result"
    }
   ],
   "source": [
    "all_masks_df = pd.DataFrame(unique_masks_dict)\n",
    "all_masks_df.head()"
   ]
  },
  {
   "cell_type": "code",
   "execution_count": 9,
   "id": "92fc131a",
   "metadata": {},
   "outputs": [
    {
     "data": {
      "text/plain": [
       "<Axes: xlabel='diameter', ylabel='unique_masks'>"
      ]
     },
     "execution_count": 9,
     "metadata": {},
     "output_type": "execute_result"
    },
    {
     "data": {
      "image/png": "[encoded data removed]",
      "text/plain": [
       "<Figure size 1000x1000 with 1 Axes>"
      ]
     },
     "metadata": {},
     "output_type": "display_data"
    }
   ],
   "source": [
    "import seaborn as sns\n",
    "\n",
    "# plot the nuumber of masks for each diameter\n",
    "plt.figure(figsize=(10, 10))\n",
    "# plt.lineplot(data=all_masks_df, x=\"diameter\", y=\"unique_masks\", hue=\"image_dir\")\n",
    "sns.lineplot(data=all_masks_df, x=\"diameter\", y=\"unique_masks\", hue=\"image_dir\")"
   ]
  },
  {
   "cell_type": "markdown",
   "id": "8c41f152",
   "metadata": {
    "papermill": {
     "duration": 0.00613,
     "end_time": "2024-12-24T21:55:20.162034",
     "exception": false,
     "start_time": "2024-12-24T21:55:20.155904",
     "status": "completed"
    },
    "tags": []
   },
   "source": [
    "## Cellpose"
   ]
  },
  {
   "cell_type": "code",
   "execution_count": null,
   "id": "1cd8cfac",
   "metadata": {},
   "outputs": [],
   "source": [
    "print(\"Best diameter: \", best_diameter)\n",
    "print(\"Number of unique masks: \", np.max(unique_masks_dict[\"unique_masks\"]))\n",
    "\n",
    "plt.plot(unique_masks_dict[\"diameter\"], unique_masks_dict[\"unique_masks\"])\n",
    "# plot a vertical line\n",
    "plt.axvline(x=best_diameter, color=\"red\", linestyle=\"--\")\n",
    "plt.xlabel(\"Diameter\")\n",
    "plt.ylabel(\"Number of unique masks\")\n",
    "plt.title(\"Number of unique masks vs Diameter\")\n",
    "if in_notebook:\n",
    "    plt.show()\n",
    "plt.savefig(\"../figures/unique_nuclei_masks_vs_diameter.png\")"
   ]
  },
  {
   "cell_type": "code",
   "execution_count": null,
   "id": "c1b7a53f",
   "metadata": {},
   "outputs": [],
   "source": [
    "# if not optimize_segmentation:\n",
    "#     # model_type='cyto' or 'nuclei' or 'cyto2' or 'cyto3'\n",
    "#     model_name = \"nuclei\"\n",
    "#     model = models.Cellpose(model_type=model_name, gpu=True)\n",
    "\n",
    "#     channels = [[1, 0]]\n",
    "\n",
    "#     masks_all_dict = {\"masks\": [], \"imgs\": []}\n",
    "\n",
    "#     # get masks for all the images\n",
    "#     # save to a dict for later use\n",
    "#     for img in nuclei:\n",
    "#         img = normalize(img)\n",
    "#         masks, flows, styles, diams = model.eval(img, channels=channels, diameter=50)\n",
    "\n",
    "#         masks_all_dict[\"masks\"].append(masks)\n",
    "#         masks_all_dict[\"imgs\"].append(img)\n",
    "#     print(len(masks_all_dict))\n",
    "#     masks_all = masks_all_dict[\"masks\"]\n",
    "#     imgs = masks_all_dict[\"imgs\"]\n",
    "\n",
    "#     masks_all = np.array(masks_all)\n",
    "#     imgs = np.array(imgs)\n",
    "\n",
    "#     for frame_index, frame in enumerate(image_dict[\"nuclei_file_paths\"]):\n",
    "#         tifffile.imwrite(\n",
    "#             f\"{input_dir}/{str(frame).split('/')[-1].split('_C4')[0]}_nuclei_mask.tiff\",\n",
    "#             masks_all[frame_index, :, :],\n",
    "#         )\n",
    "#     if in_notebook:\n",
    "#         for z in range(len(masks_all)):\n",
    "#             plt.figure(figsize=(20, 10))\n",
    "#             plt.title(f\"z: {z}\")\n",
    "#             plt.axis(\"off\")\n",
    "#             plt.subplot(1, 2, 1)\n",
    "#             plt.imshow(nuclei[z], cmap=\"gray\")\n",
    "#             plt.title(\"Nuclei\")\n",
    "#             plt.axis(\"off\")\n",
    "\n",
    "#             plt.subplot(122)\n",
    "#             plt.imshow(render_label(masks_all[z]))\n",
    "#             plt.title(\"Cell masks\")\n",
    "#             plt.axis(\"off\")\n",
    "#             plt.show()"
   ]
  },
  {
   "cell_type": "code",
   "execution_count": null,
   "id": "cc39bde8",
   "metadata": {},
   "outputs": [],
   "source": [
    "# # set up memory profiler for GPU\n",
    "# device = torch.device(\"cuda:0\")\n",
    "# free_after, total_after = torch.cuda.mem_get_info(device)\n",
    "# amount_used = ((total_after - free_after)) / 1024**2\n",
    "# print(f\"Used: {amount_used} MB or {amount_used / 1024} GB of GPU RAM\")"
   ]
  }
 ],
 "metadata": {
  "kernelspec": {
   "display_name": "timelapse_segmentation_env",
   "language": "python",
   "name": "python3"
  },
  "language_info": {
   "codemirror_mode": {
    "name": "ipython",
    "version": 3
   },
   "file_extension": ".py",
   "mimetype": "text/x-python",
   "name": "python",
   "nbconvert_exporter": "python",
   "pygments_lexer": "ipython3",
   "version": "3.10.16"
  },
  "papermill": {
   "default_parameters": {},
   "duration": 56.050777,
   "end_time": "2024-12-24T21:56:00.651478",
   "environment_variables": {},
   "exception": null,
   "input_path": "1.segment_cells_organoids.ipynb",
   "output_path": "1.segment_cells_organoids.ipynb",
   "parameters": {},
   "start_time": "2024-12-24T21:55:04.600701",
   "version": "2.6.0"
  }
 },
 "nbformat": 4,
 "nbformat_minor": 5
}
