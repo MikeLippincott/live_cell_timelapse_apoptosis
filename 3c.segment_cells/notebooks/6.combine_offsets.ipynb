{
 "cells": [
  {
   "cell_type": "code",
   "execution_count": 1,
   "metadata": {},
   "outputs": [],
   "source": [
    "import pathlib\n",
    "\n",
    "import pandas as pd"
   ]
  },
  {
   "cell_type": "code",
   "execution_count": 2,
   "metadata": {},
   "outputs": [],
   "source": [
    "offset_results_path = pathlib.Path(\"../results\")\n",
    "# get a list of all the offset results\n",
    "offset_results = list(offset_results_path.glob(\"*.parquet\"))\n",
    "offset_results.sort()\n",
    "offset_df = pd.DataFrame(\n",
    "    pd.concat([pd.read_parquet(offset_result) for offset_result in offset_results])\n",
    ")\n",
    "offset_df.to_parquet(\n",
    "    offset_results_path / \"all_offset_results.parquet\",\n",
    "    index=False,\n",
    ")"
   ]
  }
 ],
 "metadata": {
  "kernelspec": {
   "display_name": "timelapse_segmentation_env",
   "language": "python",
   "name": "python3"
  },
  "language_info": {
   "codemirror_mode": {
    "name": "ipython",
    "version": 3
   },
   "file_extension": ".py",
   "mimetype": "text/x-python",
   "name": "python",
   "nbconvert_exporter": "python",
   "pygments_lexer": "ipython3",
   "version": "3.10.17"
  }
 },
 "nbformat": 4,
 "nbformat_minor": 2
}
