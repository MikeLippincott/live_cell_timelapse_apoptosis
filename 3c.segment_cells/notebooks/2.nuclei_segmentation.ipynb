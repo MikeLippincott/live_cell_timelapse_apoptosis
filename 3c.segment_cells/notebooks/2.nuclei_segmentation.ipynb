{
 "cells": [
  {
   "cell_type": "markdown",
   "id": "4f6cb87e",
   "metadata": {
    "tags": [
     "papermill-error-cell-tag"
    ]
   },
   "source": [
    "<span style=\"color:red; font-family:Helvetica Neue, Helvetica, Arial, sans-serif; font-size:2em;\">An Exception was encountered at '<a href=\"#papermill-error-cell\">In [6]</a>'.</span>"
   ]
  },
  {
   "cell_type": "code",
   "execution_count": 1,
   "id": "11a56bfe",
   "metadata": {
    "execution": {
     "iopub.execute_input": "2025-07-08T00:02:54.244978Z",
     "iopub.status.busy": "2025-07-08T00:02:54.244663Z",
     "iopub.status.idle": "2025-07-08T00:02:54.248910Z",
     "shell.execute_reply": "2025-07-08T00:02:54.248559Z"
    },
    "papermill": {
     "duration": 0.007464,
     "end_time": "2025-07-08T00:02:54.249433",
     "exception": false,
     "start_time": "2025-07-08T00:02:54.241969",
     "status": "completed"
    },
    "tags": [
     "injected-parameters"
    ]
   },
   "outputs": [],
   "source": [
    "# Parameters\n",
    "input_dir = \"../../2.cellprofiler_ic_processing/illum_directory/endpoint/20231017ChromaLive_endpoint_w_AnnexinV_2ch_MaxIP_E-11_F0004\"\n",
    "diameter = 70\n",
    "clip_limit = 0.3"
   ]
  },
  {
   "cell_type": "markdown",
   "id": "f9ea7d3c",
   "metadata": {
    "papermill": {
     "duration": 0.001167,
     "end_time": "2025-07-08T00:02:54.251973",
     "exception": false,
     "start_time": "2025-07-08T00:02:54.250806",
     "status": "completed"
    },
    "tags": []
   },
   "source": [
    "This notebook focuses on trying to find a way to segment cells within organoids properly.\n",
    "The end goals is to segment cell and extract morphology features from cellprofiler.\n",
    "These masks must be imported into cellprofiler to extract features."
   ]
  },
  {
   "cell_type": "code",
   "execution_count": 2,
   "id": "650c9514",
   "metadata": {
    "execution": {
     "iopub.execute_input": "2025-07-08T00:02:54.254912Z",
     "iopub.status.busy": "2025-07-08T00:02:54.254679Z",
     "iopub.status.idle": "2025-07-08T00:02:56.592273Z",
     "shell.execute_reply": "2025-07-08T00:02:56.591874Z"
    },
    "papermill": {
     "duration": 2.339841,
     "end_time": "2025-07-08T00:02:56.592984",
     "exception": false,
     "start_time": "2025-07-08T00:02:54.253143",
     "status": "completed"
    },
    "tags": []
   },
   "outputs": [
    {
     "name": "stdout",
     "output_type": "stream",
     "text": [
      "\n",
      "\n",
      "Welcome to CellposeSAM, cellpose v\n",
      "cellpose version: \t4.0.3 \n",
      "platform:       \tlinux \n",
      "python version: \t3.10.17 \n",
      "torch version:  \t2.7.0+cu126! The neural network component of\n",
      "CPSAM is much larger than in previous versions and CPU excution is slow. \n",
      "We encourage users to use GPU/MPS if available. \n",
      "\n",
      "\n"
     ]
    },
    {
     "name": "stdout",
     "output_type": "stream",
     "text": [
      "True\n",
      "GPU activated: True\n"
     ]
    }
   ],
   "source": [
    "import argparse\n",
    "\n",
    "# set the gpu via OS environment variable\n",
    "import os\n",
    "import pathlib\n",
    "\n",
    "import cellpose\n",
    "import matplotlib.pyplot as plt\n",
    "\n",
    "# Import dependencies\n",
    "import numpy as np\n",
    "import skimage\n",
    "import tifffile\n",
    "import torch\n",
    "from cellpose import core, models\n",
    "from csbdeep.utils import normalize\n",
    "from PIL import Image\n",
    "from stardist.plot import render_label\n",
    "\n",
    "os.environ[\"CUDA_VISIBLE_DEVICES\"] = \"0\"\n",
    "os.environ[\"KMP_DUPLICATE_LIB_OK\"] = \"TRUE\"\n",
    "\n",
    "# check if in a jupyter notebook\n",
    "try:\n",
    "    cfg = get_ipython().config\n",
    "    in_notebook = True\n",
    "except NameError:\n",
    "    in_notebook = False\n",
    "\n",
    "print(in_notebook)\n",
    "# check if we have a GPU\n",
    "use_gpu = torch.cuda.is_available()\n",
    "print(\"GPU activated:\", use_gpu)"
   ]
  },
  {
   "cell_type": "code",
   "execution_count": 3,
   "id": "73888e78",
   "metadata": {
    "execution": {
     "iopub.execute_input": "2025-07-08T00:02:56.597549Z",
     "iopub.status.busy": "2025-07-08T00:02:56.597148Z",
     "iopub.status.idle": "2025-07-08T00:02:56.739088Z",
     "shell.execute_reply": "2025-07-08T00:02:56.738711Z"
    },
    "papermill": {
     "duration": 0.14475,
     "end_time": "2025-07-08T00:02:56.739743",
     "exception": false,
     "start_time": "2025-07-08T00:02:56.594993",
     "status": "completed"
    },
    "tags": []
   },
   "outputs": [
    {
     "name": "stdout",
     "output_type": "stream",
     "text": [
      "Starting level of GPU RAM available (MB):  9311.1875\n"
     ]
    }
   ],
   "source": [
    "# set up memory profiler for GPU\n",
    "device = torch.device(\"cuda:0\")\n",
    "free_before, total_before = torch.cuda.mem_get_info(device)\n",
    "starting_level_GPU_RAM = (total_before - free_before) / 1024**2\n",
    "print(\"Starting level of GPU RAM available (MB): \", starting_level_GPU_RAM)"
   ]
  },
  {
   "cell_type": "markdown",
   "id": "5f30f887",
   "metadata": {
    "papermill": {
     "duration": 0.001553,
     "end_time": "2025-07-08T00:02:56.743264",
     "exception": false,
     "start_time": "2025-07-08T00:02:56.741711",
     "status": "completed"
    },
    "tags": []
   },
   "source": [
    "## Set up images, paths and functions"
   ]
  },
  {
   "cell_type": "code",
   "execution_count": 4,
   "id": "13eea109",
   "metadata": {
    "execution": {
     "iopub.execute_input": "2025-07-08T00:02:56.747918Z",
     "iopub.status.busy": "2025-07-08T00:02:56.747639Z",
     "iopub.status.idle": "2025-07-08T00:02:56.750596Z",
     "shell.execute_reply": "2025-07-08T00:02:56.750286Z"
    },
    "papermill": {
     "duration": 0.006327,
     "end_time": "2025-07-08T00:02:56.751186",
     "exception": false,
     "start_time": "2025-07-08T00:02:56.744859",
     "status": "completed"
    },
    "tags": []
   },
   "outputs": [
    {
     "name": "stdout",
     "output_type": "stream",
     "text": [
      "8\n"
     ]
    }
   ],
   "source": [
    "image_extensions = {\".tif\", \".tiff\"}\n",
    "files = sorted(pathlib.Path(input_dir).glob(\"*\"))\n",
    "files = [str(x) for x in files if x.suffix in image_extensions]\n",
    "print(len(files))"
   ]
  },
  {
   "cell_type": "code",
   "execution_count": 5,
   "id": "adcd16b6",
   "metadata": {
    "execution": {
     "iopub.execute_input": "2025-07-08T00:02:56.755158Z",
     "iopub.status.busy": "2025-07-08T00:02:56.754885Z",
     "iopub.status.idle": "2025-07-08T00:02:56.756862Z",
     "shell.execute_reply": "2025-07-08T00:02:56.756562Z"
    },
    "papermill": {
     "duration": 0.0045,
     "end_time": "2025-07-08T00:02:56.757416",
     "exception": false,
     "start_time": "2025-07-08T00:02:56.752916",
     "status": "completed"
    },
    "tags": []
   },
   "outputs": [],
   "source": [
    "image_dict = {\n",
    "    \"nuclei_file_paths\": [],\n",
    "    \"nuclei\": [],\n",
    "}"
   ]
  },
  {
   "cell_type": "markdown",
   "id": "7fb5a75d",
   "metadata": {
    "tags": [
     "papermill-error-cell-tag"
    ]
   },
   "source": [
    "<span id=\"papermill-error-cell\" style=\"color:red; font-family:Helvetica Neue, Helvetica, Arial, sans-serif; font-size:2em;\">Execution using papermill encountered an exception here and stopped:</span>"
   ]
  },
  {
   "cell_type": "code",
   "execution_count": 6,
   "id": "1c01a59c",
   "metadata": {
    "execution": {
     "iopub.execute_input": "2025-07-08T00:02:56.761316Z",
     "iopub.status.busy": "2025-07-08T00:02:56.761090Z",
     "iopub.status.idle": "2025-07-08T00:02:56.897833Z",
     "shell.execute_reply": "2025-07-08T00:02:56.897402Z"
    },
    "papermill": {
     "duration": 0.139368,
     "end_time": "2025-07-08T00:02:56.898454",
     "exception": true,
     "start_time": "2025-07-08T00:02:56.759086",
     "status": "failed"
    },
    "tags": []
   },
   "outputs": [
    {
     "ename": "ValueError",
     "evalue": "setting an array element with a sequence. The requested array has an inhomogeneous shape after 3 dimensions. The detected shape was (2, 1900, 1900) + inhomogeneous part.",
     "output_type": "error",
     "traceback": [
      "\u001b[0;31m---------------------------------------------------------------------------\u001b[0m",
      "\u001b[0;31mValueError\u001b[0m                                Traceback (most recent call last)",
      "Cell \u001b[0;32mIn[6], line 8\u001b[0m\n\u001b[1;32m      5\u001b[0m         image_dict[\u001b[38;5;124m\"\u001b[39m\u001b[38;5;124mnuclei\u001b[39m\u001b[38;5;124m\"\u001b[39m]\u001b[38;5;241m.\u001b[39mappend(tifffile\u001b[38;5;241m.\u001b[39mimread(file)\u001b[38;5;241m.\u001b[39mastype(np\u001b[38;5;241m.\u001b[39mfloat32))\n\u001b[1;32m      6\u001b[0m nuclei_image_list \u001b[38;5;241m=\u001b[39m [np\u001b[38;5;241m.\u001b[39marray(nuclei) \u001b[38;5;28;01mfor\u001b[39;00m nuclei \u001b[38;5;129;01min\u001b[39;00m image_dict[\u001b[38;5;124m\"\u001b[39m\u001b[38;5;124mnuclei\u001b[39m\u001b[38;5;124m\"\u001b[39m]]\n\u001b[0;32m----> 8\u001b[0m nuclei \u001b[38;5;241m=\u001b[39m \u001b[43mnp\u001b[49m\u001b[38;5;241;43m.\u001b[39;49m\u001b[43marray\u001b[49m\u001b[43m(\u001b[49m\u001b[43mnuclei_image_list\u001b[49m\u001b[43m)\u001b[49m\u001b[38;5;241m.\u001b[39mastype(np\u001b[38;5;241m.\u001b[39mint16)\n\u001b[1;32m     10\u001b[0m nuclei \u001b[38;5;241m=\u001b[39m skimage\u001b[38;5;241m.\u001b[39mexposure\u001b[38;5;241m.\u001b[39mequalize_adapthist(nuclei, clip_limit\u001b[38;5;241m=\u001b[39mclip_limit)\n\u001b[1;32m     12\u001b[0m nuclei_image_list \u001b[38;5;241m=\u001b[39m [np\u001b[38;5;241m.\u001b[39marray(nuclei_image) \u001b[38;5;28;01mfor\u001b[39;00m nuclei_image \u001b[38;5;129;01min\u001b[39;00m nuclei]\n",
      "\u001b[0;31mValueError\u001b[0m: setting an array element with a sequence. The requested array has an inhomogeneous shape after 3 dimensions. The detected shape was (2, 1900, 1900) + inhomogeneous part."
     ]
    }
   ],
   "source": [
    "# split files by channel\n",
    "for file in files:\n",
    "    if \"C01\" in file.split(\"/\")[-1]:\n",
    "        image_dict[\"nuclei_file_paths\"].append(file)\n",
    "        image_dict[\"nuclei\"].append(tifffile.imread(file).astype(np.float32))\n",
    "nuclei_image_list = [np.array(nuclei) for nuclei in image_dict[\"nuclei\"]]\n",
    "\n",
    "nuclei = np.array(nuclei_image_list).astype(np.int16)\n",
    "\n",
    "nuclei = skimage.exposure.equalize_adapthist(nuclei, clip_limit=clip_limit)\n",
    "\n",
    "nuclei_image_list = [np.array(nuclei_image) for nuclei_image in nuclei]\n",
    "print(len(nuclei_image_list))"
   ]
  },
  {
   "cell_type": "markdown",
   "id": "8c41f152",
   "metadata": {
    "papermill": {
     "duration": null,
     "end_time": null,
     "exception": null,
     "start_time": null,
     "status": "pending"
    },
    "tags": []
   },
   "source": [
    "## Cellpose"
   ]
  },
  {
   "cell_type": "markdown",
   "id": "4b4ccfab",
   "metadata": {
    "papermill": {
     "duration": null,
     "end_time": null,
     "exception": null,
     "start_time": null,
     "status": "pending"
    },
    "tags": []
   },
   "source": [
    "Weird errors occur when running this converted notebook in the command line.\n",
    "This cell helps the python interpreter figure out where it is...somehow."
   ]
  },
  {
   "cell_type": "code",
   "execution_count": null,
   "id": "c1b7a53f",
   "metadata": {
    "execution": {
     "iopub.execute_input": "2025-07-06T17:59:07.852611Z",
     "iopub.status.busy": "2025-07-06T17:59:07.852299Z",
     "iopub.status.idle": "2025-07-06T17:59:36.647701Z",
     "shell.execute_reply": "2025-07-06T17:59:36.647318Z"
    },
    "papermill": {
     "duration": null,
     "end_time": null,
     "exception": null,
     "start_time": null,
     "status": "pending"
    },
    "tags": []
   },
   "outputs": [],
   "source": [
    "use_GPU = core.use_gpu()\n",
    "print(\"GPU activated: \", use_GPU)\n",
    "model = models.CellposeModel(gpu=use_GPU)\n",
    "\n",
    "\n",
    "masks_all_dict = {\"masks\": [], \"imgs\": []}\n",
    "\n",
    "\n",
    "# get masks for all the images\n",
    "# save to a dict for later use\n",
    "for img in range(nuclei.shape[0]):\n",
    "    nuclei[img, :, :] = normalize(nuclei[img, :, :])\n",
    "\n",
    "results = [\n",
    "    (\n",
    "        img,\n",
    "        nuclei[img, :, :].shape,\n",
    "        model.eval(\n",
    "            nuclei[img, :, :],\n",
    "        ),\n",
    "    )\n",
    "    for img in range(nuclei.shape[0])\n",
    "]\n",
    "\n",
    "# Print the results\n",
    "for img, shape, (masks, flows, styles) in results:\n",
    "    masks_all_dict[\"masks\"].append(masks)\n",
    "    masks_all_dict[\"imgs\"].append(img)\n",
    "\n",
    "\n",
    "masks_all = masks_all_dict[\"masks\"]\n",
    "imgs = masks_all_dict[\"imgs\"]\n",
    "masks_all = np.array(masks_all)\n",
    "imgs = np.array(imgs)\n",
    "print(masks_all.shape)\n",
    "print(imgs.shape)\n",
    "\n",
    "for frame_index, frame in enumerate(image_dict[\"nuclei_file_paths\"]):\n",
    "    tifffile.imwrite(\n",
    "        pathlib.Path(\n",
    "            f\"{input_dir}/{str(frame).split('/')[-1].split('_C01')[0]}_nuclei_mask.tiff\"\n",
    "        ),\n",
    "        masks_all[frame_index, :, :],\n",
    "    )"
   ]
  },
  {
   "cell_type": "code",
   "execution_count": null,
   "id": "0ca89093",
   "metadata": {
    "execution": {
     "iopub.execute_input": "2025-07-06T17:59:36.655025Z",
     "iopub.status.busy": "2025-07-06T17:59:36.654758Z",
     "iopub.status.idle": "2025-07-06T17:59:49.396061Z",
     "shell.execute_reply": "2025-07-06T17:59:49.395673Z"
    },
    "papermill": {
     "duration": null,
     "end_time": null,
     "exception": null,
     "start_time": null,
     "status": "pending"
    },
    "tags": []
   },
   "outputs": [],
   "source": [
    "if in_notebook:\n",
    "    for z in range(len(masks_all)):\n",
    "        plt.figure(figsize=(20, 10))\n",
    "        plt.title(f\"z: {z}\")\n",
    "        plt.axis(\"off\")\n",
    "        plt.subplot(1, 2, 1)\n",
    "        plt.imshow(nuclei[z], cmap=\"gray\")\n",
    "        plt.title(\"Nuclei\")\n",
    "        plt.axis(\"off\")\n",
    "\n",
    "        plt.subplot(122)\n",
    "        plt.imshow(render_label(masks_all[z]))\n",
    "        plt.title(\"Nuclei masks\")\n",
    "        plt.axis(\"off\")\n",
    "        plt.show()"
   ]
  },
  {
   "cell_type": "code",
   "execution_count": null,
   "id": "cc39bde8",
   "metadata": {
    "execution": {
     "iopub.execute_input": "2025-07-06T17:59:49.461575Z",
     "iopub.status.busy": "2025-07-06T17:59:49.461221Z",
     "iopub.status.idle": "2025-07-06T17:59:49.464287Z",
     "shell.execute_reply": "2025-07-06T17:59:49.463896Z"
    },
    "papermill": {
     "duration": null,
     "end_time": null,
     "exception": null,
     "start_time": null,
     "status": "pending"
    },
    "tags": []
   },
   "outputs": [],
   "source": [
    "# set up memory profiler for GPU\n",
    "device = torch.device(\"cuda:0\")\n",
    "free_after, total_after = torch.cuda.mem_get_info(device)\n",
    "amount_used = ((total_after - free_after)) / 1024**2\n",
    "print(f\"Used: {amount_used} MB or {amount_used / 1024} GB of GPU RAM\")"
   ]
  }
 ],
 "metadata": {
  "kernelspec": {
   "display_name": "timelapse_segmentation_env",
   "language": "python",
   "name": "python3"
  },
  "language_info": {
   "codemirror_mode": {
    "name": "ipython",
    "version": 3
   },
   "file_extension": ".py",
   "mimetype": "text/x-python",
   "name": "python",
   "nbconvert_exporter": "python",
   "pygments_lexer": "ipython3",
   "version": "3.10.17"
  },
  "papermill": {
   "default_parameters": {},
   "duration": 4.138782,
   "end_time": "2025-07-08T00:02:57.735814",
   "environment_variables": {},
   "exception": true,
   "input_path": "1.nuclei_segmentation.ipynb",
   "output_path": "2.nuclei_segmentation.ipynb",
   "parameters": {
    "clip_limit": 0.3,
    "diameter": 70,
    "input_dir": "../../2.cellprofiler_ic_processing/illum_directory/endpoint/20231017ChromaLive_endpoint_w_AnnexinV_2ch_MaxIP_E-11_F0004"
   },
   "start_time": "2025-07-08T00:02:53.597032",
   "version": "2.6.0"
  }
 },
 "nbformat": 4,
 "nbformat_minor": 5
}