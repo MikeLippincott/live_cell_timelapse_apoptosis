{
 "cells": [
  {
   "attachments": {},
   "cell_type": "markdown",
   "metadata": {},
   "source": [
    "# Normalize annotated single cells using negative control (DSMO 0.025% and DMSO 0.100%)"
   ]
  },
  {
   "attachments": {},
   "cell_type": "markdown",
   "metadata": {},
   "source": [
    "## Import libraries"
   ]
  },
  {
   "cell_type": "code",
   "execution_count": 1,
   "metadata": {},
   "outputs": [],
   "source": [
    "import pathlib\n",
    "import pprint\n",
    "\n",
    "import pandas as pd\n",
    "from pycytominer import normalize\n",
    "from pycytominer.cyto_utils import output"
   ]
  },
  {
   "attachments": {},
   "cell_type": "markdown",
   "metadata": {},
   "source": [
    "## Set paths and variables"
   ]
  },
  {
   "cell_type": "code",
   "execution_count": 2,
   "metadata": {},
   "outputs": [],
   "source": [
    "# directory where combined parquet file are located\n",
    "data_dir = pathlib.Path(\"../data/annotated_data\")\n",
    "\n",
    "# directory where the normalized parquet file is saved to\n",
    "output_dir = pathlib.Path(\"../data/normalized_data\")\n",
    "output_dir.mkdir(exist_ok=True)"
   ]
  },
  {
   "cell_type": "markdown",
   "metadata": {},
   "source": [
    "## Define dict of paths"
   ]
  },
  {
   "cell_type": "code",
   "execution_count": 3,
   "metadata": {},
   "outputs": [],
   "source": [
    "# dictionary with each run for the cell type\n",
    "dict_of_inputs = {\n",
    "    \"run_20230920ChromaLiveTL_24hr4ch_MaxIP\": {\n",
    "        \"annotated_file_path\": pathlib.Path(\n",
    "            f\"{data_dir}/run_20230920ChromaLiveTL_24hr4ch_MaxIP_sc.parquet\"\n",
    "        ).resolve(),\n",
    "        \"output_file_path\": pathlib.Path(\n",
    "            f\"{output_dir}/run_20230920ChromaLiveTL_24hr4ch_MaxIP_norm.parquet\"\n",
    "        ).resolve(),\n",
    "    },\n",
    "    \"run_20231017ChromaLive_6hr_4ch_MaxIP\": {\n",
    "        \"annotated_file_path\": pathlib.Path(\n",
    "            f\"{data_dir}/run_20231017ChromaLive_6hr_4ch_MaxIP_sc.parquet\"\n",
    "        ).resolve(),\n",
    "        \"output_file_path\": pathlib.Path(\n",
    "            f\"{output_dir}/run_20231017ChromaLive_6hr_4ch_MaxIP_norm_pan_time_norm.parquet\"\n",
    "        ).resolve(),\n",
    "    },\n",
    "    \"run_20231017ChromaLive_endpoint_w_AnnexinV_2ch_MaxIP\": {\n",
    "        \"annotated_file_path\": pathlib.Path(\n",
    "            f\"{data_dir}/run_20231017ChromaLive_endpoint_w_AnnexinV_2ch_MaxIP_sc.parquet\"\n",
    "        ).resolve(),\n",
    "        \"output_file_path\": pathlib.Path(\n",
    "            f\"{output_dir}/run_20231017ChromaLive_endpoint_w_AnnexinV_2ch_MaxIP_norm.parquet\"\n",
    "        ).resolve(),\n",
    "    },\n",
    "}"
   ]
  },
  {
   "attachments": {},
   "cell_type": "markdown",
   "metadata": {},
   "source": [
    "## Normalize with standardize method with negative control on annotated data"
   ]
  },
  {
   "cell_type": "markdown",
   "metadata": {},
   "source": [
    "The normalization needs to occur per time step. \n",
    "This code cell will split the data into time steps and normalize each time step separately.\n",
    "Then each normalized time step will be concatenated back together. "
   ]
  },
  {
   "cell_type": "code",
   "execution_count": 4,
   "metadata": {},
   "outputs": [
    {
     "name": "stdout",
     "output_type": "stream",
     "text": [
      "{'annotated_file_path': PosixPath('/home/lippincm/Documents/4TB/data/live_cell_timelapse_apoptosis/4.process_CP_features/data/annotated_data/run_20230920ChromaLiveTL_24hr4ch_MaxIP_sc.parquet'), 'output_file_path': PosixPath('/home/lippincm/Documents/4TB/data/live_cell_timelapse_apoptosis/4.process_CP_features/data/normalized_data/run_20230920ChromaLiveTL_24hr4ch_MaxIP_norm.parquet')}\n"
     ]
    },
    {
     "name": "stderr",
     "output_type": "stream",
     "text": [
      "/home/lippincm/miniconda3/envs/cellprofiler_timelapse_env/lib/python3.8/site-packages/sklearn/utils/extmath.py:847: RuntimeWarning: invalid value encountered in divide\n",
      "  updated_mean = (last_sum + new_sum) / updated_sample_count\n",
      "/home/lippincm/miniconda3/envs/cellprofiler_timelapse_env/lib/python3.8/site-packages/sklearn/utils/extmath.py:689: RuntimeWarning: Degrees of freedom <= 0 for slice.\n",
      "  result = op(x, *args, **kwargs)\n"
     ]
    },
    {
     "name": "stdout",
     "output_type": "stream",
     "text": [
      "Single cells have been normalized for PBMC cells and saved to run_20230920ChromaLiveTL_24hr4ch_MaxIP !\n",
      "(128058, 1939)\n",
      "{'annotated_file_path': PosixPath('/home/lippincm/Documents/4TB/data/live_cell_timelapse_apoptosis/4.process_CP_features/data/annotated_data/run_20231017ChromaLive_6hr_4ch_MaxIP_sc.parquet'), 'output_file_path': PosixPath('/home/lippincm/Documents/4TB/data/live_cell_timelapse_apoptosis/4.process_CP_features/data/normalized_data/run_20231017ChromaLive_6hr_4ch_MaxIP_norm_pan_time_norm.parquet')}\n"
     ]
    },
    {
     "name": "stderr",
     "output_type": "stream",
     "text": [
      "/home/lippincm/miniconda3/envs/cellprofiler_timelapse_env/lib/python3.8/site-packages/sklearn/utils/extmath.py:847: RuntimeWarning: invalid value encountered in divide\n",
      "  updated_mean = (last_sum + new_sum) / updated_sample_count\n",
      "/home/lippincm/miniconda3/envs/cellprofiler_timelapse_env/lib/python3.8/site-packages/sklearn/utils/extmath.py:689: RuntimeWarning: Degrees of freedom <= 0 for slice.\n",
      "  result = op(x, *args, **kwargs)\n"
     ]
    },
    {
     "name": "stdout",
     "output_type": "stream",
     "text": [
      "Single cells have been normalized for PBMC cells and saved to run_20231017ChromaLive_6hr_4ch_MaxIP !\n",
      "(244887, 1939)\n",
      "{'annotated_file_path': PosixPath('/home/lippincm/Documents/4TB/data/live_cell_timelapse_apoptosis/4.process_CP_features/data/annotated_data/run_20231017ChromaLive_endpoint_w_AnnexinV_2ch_MaxIP_sc.parquet'), 'output_file_path': PosixPath('/home/lippincm/Documents/4TB/data/live_cell_timelapse_apoptosis/4.process_CP_features/data/normalized_data/run_20231017ChromaLive_endpoint_w_AnnexinV_2ch_MaxIP_norm.parquet')}\n",
      "Single cells have been normalized for PBMC cells and saved to run_20231017ChromaLive_endpoint_w_AnnexinV_2ch_MaxIP !\n",
      "(229812, 1205)\n"
     ]
    }
   ],
   "source": [
    "for info, input_path in dict_of_inputs.items():\n",
    "    # read in the annotated file\n",
    "    print(input_path)\n",
    "    annotated_df = pd.read_parquet(input_path[\"annotated_file_path\"])\n",
    "\n",
    "    # Normalize the single cell data per time point\n",
    "\n",
    "    # make the time column an integer\n",
    "    annotated_df.Metadata_Time = annotated_df.Metadata_Time.astype(int)\n",
    "\n",
    "    # get the unique time points\n",
    "    time_points = annotated_df.Metadata_Time.unique()\n",
    "\n",
    "    output_dict_of_normalized_dfs = {}\n",
    "\n",
    "    normalized_df = normalize(\n",
    "        # df with annotated raw merged single cell features\n",
    "        profiles=annotated_df,\n",
    "        # specify samples used as normalization reference (negative control)\n",
    "        samples=f\"Metadata_compound == 'Staurosporine' and Metadata_dose == 0.0\",\n",
    "        # normalization method used\n",
    "        method=\"standardize\",\n",
    "    )\n",
    "\n",
    "    output(\n",
    "        normalized_df,\n",
    "        output_filename=input_path[\"output_file_path\"],\n",
    "        output_type=\"parquet\",\n",
    "    )\n",
    "    print(\n",
    "        f\"Single cells have been normalized for PBMC cells and saved to {pathlib.Path(info).name} !\"\n",
    "    )\n",
    "    # check to see if the features have been normalized\n",
    "    print(normalized_df.shape)\n",
    "    normalized_df.head()"
   ]
  }
 ],
 "metadata": {
  "kernelspec": {
   "display_name": "interstellar_data",
   "language": "python",
   "name": "python3"
  },
  "language_info": {
   "codemirror_mode": {
    "name": "ipython",
    "version": 3
   },
   "file_extension": ".py",
   "mimetype": "text/x-python",
   "name": "python",
   "nbconvert_exporter": "python",
   "pygments_lexer": "ipython3",
   "version": "3.8.19"
  },
  "orig_nbformat": 4
 },
 "nbformat": 4,
 "nbformat_minor": 2
}
