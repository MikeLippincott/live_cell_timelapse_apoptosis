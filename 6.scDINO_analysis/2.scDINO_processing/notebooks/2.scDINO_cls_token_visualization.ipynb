{
 "cells": [
  {
   "cell_type": "markdown",
   "id": "8cfdbb17",
   "metadata": {
    "tags": [
     "papermill-error-cell-tag"
    ]
   },
   "source": [
    "<span style=\"color:red; font-family:Helvetica Neue, Helvetica, Arial, sans-serif; font-size:2em;\">An Exception was encountered at '<a href=\"#papermill-error-cell\">In [2]</a>'.</span>"
   ]
  },
  {
   "cell_type": "code",
   "execution_count": 1,
   "id": "613aab0b",
   "metadata": {
    "execution": {
     "iopub.execute_input": "2025-05-22T18:35:41.114689Z",
     "iopub.status.busy": "2025-05-22T18:35:41.112847Z",
     "iopub.status.idle": "2025-05-22T18:35:41.499311Z",
     "shell.execute_reply": "2025-05-22T18:35:41.498448Z"
    },
    "papermill": {
     "duration": 0.406906,
     "end_time": "2025-05-22T18:35:41.500216",
     "exception": false,
     "start_time": "2025-05-22T18:35:41.093310",
     "status": "completed"
    },
    "tags": [],
    "vscode": {
     "languageId": "r"
    }
   },
   "outputs": [],
   "source": [
    "suppressPackageStartupMessages(suppressWarnings(library(ggplot2)))\n",
    "suppressPackageStartupMessages(suppressWarnings(library(dplyr)))\n",
    "suppressPackageStartupMessages(suppressWarnings(library(tidyr)))\n",
    "suppressPackageStartupMessages(suppressWarnings(library(shiny)))"
   ]
  },
  {
   "cell_type": "markdown",
   "id": "695c3e6b",
   "metadata": {
    "tags": [
     "papermill-error-cell-tag"
    ]
   },
   "source": [
    "<span id=\"papermill-error-cell\" style=\"color:red; font-family:Helvetica Neue, Helvetica, Arial, sans-serif; font-size:2em;\">Execution using papermill encountered an exception here and stopped:</span>"
   ]
  },
  {
   "cell_type": "code",
   "execution_count": 2,
   "id": "890dea3e",
   "metadata": {
    "execution": {
     "iopub.execute_input": "2025-05-22T18:35:41.521673Z",
     "iopub.status.busy": "2025-05-22T18:35:41.503960Z",
     "iopub.status.idle": "2025-05-22T18:35:41.531639Z",
     "shell.execute_reply": "2025-05-22T18:35:41.530845Z"
    },
    "papermill": {
     "duration": 0.030793,
     "end_time": "2025-05-22T18:35:41.532520",
     "exception": true,
     "start_time": "2025-05-22T18:35:41.501727",
     "status": "failed"
    },
    "tags": [],
    "vscode": {
     "languageId": "r"
    }
   },
   "outputs": [
    {
     "name": "stderr",
     "output_type": "stream",
     "text": [
      "Warning message in file(file, \"rt\"):\n",
      "“cannot open file '../../1.scDINO_run/outputdir/apoptosis_timelapse/CLS_features/CLS_features_annotated_umap.csv': No such file or directory”\n"
     ]
    },
    {
     "ename": "ERROR",
     "evalue": "Error in file(file, \"rt\"): cannot open the connection\n",
     "output_type": "error",
     "traceback": [
      "Error in file(file, \"rt\"): cannot open the connection\nTraceback:\n",
      "1. read.csv(umap_df_path)",
      "2. read.table(file = file, header = header, sep = sep, quote = quote, \n .     dec = dec, fill = fill, comment.char = comment.char, ...)",
      "3. file(file, \"rt\")"
     ]
    }
   ],
   "source": [
    "# set UMAP df path\n",
    "umap_df_path <- file.path(\"..\",\"..\",\"1.scDINO_run/outputdir/apoptosis_timelapse/CLS_features/CLS_features_annotated_umap.csv\")\n",
    "# load UMAP df\n",
    "umap_df <- read.csv(umap_df_path)\n",
    "options(repr.matrix.max.rows = 10, repr.matrix.max.cols = 5)\n",
    "\n",
    "head(umap_df)"
   ]
  },
  {
   "cell_type": "code",
   "execution_count": null,
   "id": "fb365d4c",
   "metadata": {
    "papermill": {
     "duration": null,
     "end_time": null,
     "exception": null,
     "start_time": null,
     "status": "pending"
    },
    "tags": [],
    "vscode": {
     "languageId": "r"
    }
   },
   "outputs": [],
   "source": [
    "unique(umap_df$Metadata_Time)\n",
    "umap_df$Metadata_Time <- factor(\n",
    "    umap_df$Metadata_Time,\n",
    "    levels=c(\n",
    "        0,1,2,3,4,5,6,7,8,9,10,11,12,13\n",
    ")\n",
    ")\n",
    "unique(umap_df$Metadata_Time)"
   ]
  },
  {
   "cell_type": "code",
   "execution_count": null,
   "id": "6e187661",
   "metadata": {
    "execution": {
     "iopub.execute_input": "2024-07-01T21:42:00.855176Z",
     "iopub.status.busy": "2024-07-01T21:42:00.854578Z",
     "iopub.status.idle": "2024-07-01T21:42:00.865058Z",
     "shell.execute_reply": "2024-07-01T21:42:00.864115Z"
    },
    "papermill": {
     "duration": null,
     "end_time": null,
     "exception": null,
     "start_time": null,
     "status": "pending"
    },
    "tags": [],
    "vscode": {
     "languageId": "r"
    }
   },
   "outputs": [],
   "source": [
    "# get all wells\n",
    "unique(umap_df$Metadata_Well)"
   ]
  },
  {
   "cell_type": "code",
   "execution_count": null,
   "id": "bfda8949",
   "metadata": {
    "execution": {
     "iopub.execute_input": "2024-07-01T21:42:00.869752Z",
     "iopub.status.busy": "2024-07-01T21:42:00.868806Z",
     "iopub.status.idle": "2024-07-01T21:42:00.948765Z",
     "shell.execute_reply": "2024-07-01T21:42:00.947854Z"
    },
    "papermill": {
     "duration": null,
     "end_time": null,
     "exception": null,
     "start_time": null,
     "status": "pending"
    },
    "tags": [],
    "vscode": {
     "languageId": "r"
    }
   },
   "outputs": [],
   "source": [
    "# remove the T from the time column\n",
    "umap_df$Metadata_Time <- gsub(\"T\",\"\",umap_df$Metadata_Time)\n",
    "# convert to numeric\n",
    "umap_df$Metadata_Time <- as.numeric(umap_df$Metadata_Time)\n"
   ]
  },
  {
   "cell_type": "code",
   "execution_count": null,
   "id": "92ec2096",
   "metadata": {
    "execution": {
     "iopub.execute_input": "2024-07-01T21:42:00.953930Z",
     "iopub.status.busy": "2024-07-01T21:42:00.953248Z",
     "iopub.status.idle": "2024-07-01T21:42:04.617233Z",
     "shell.execute_reply": "2024-07-01T21:42:04.615824Z"
    },
    "papermill": {
     "duration": null,
     "end_time": null,
     "exception": null,
     "start_time": null,
     "status": "pending"
    },
    "tags": [],
    "vscode": {
     "languageId": "r"
    }
   },
   "outputs": [],
   "source": [
    "# plot UMAP\n",
    "width <- 15\n",
    "height <- 10\n",
    "options(repr.plot.width = width, repr.plot.height = height)\n",
    "umap_plot <- (\n",
    "    ggplot(umap_df, aes(x = UMAP1, y = UMAP2, color = Metadata_Time))\n",
    "    + geom_point(size = 1)\n",
    "    + theme_minimal()\n",
    "    + theme(legend.position = \"right\")\n",
    ")\n",
    "umap_plot"
   ]
  }
 ],
 "metadata": {
  "kernelspec": {
   "display_name": "R",
   "language": "R",
   "name": "ir"
  },
  "language_info": {
   "codemirror_mode": "r",
   "file_extension": ".r",
   "mimetype": "text/x-r-source",
   "name": "R",
   "pygments_lexer": "r",
   "version": "4.2.2"
  },
  "papermill": {
   "default_parameters": {},
   "duration": 1.535346,
   "end_time": "2025-05-22T18:35:41.650370",
   "environment_variables": {},
   "exception": true,
   "input_path": "2.scDINO_cls_token_visualization.ipynb",
   "output_path": "2.scDINO_cls_token_visualization.ipynb",
   "parameters": {},
   "start_time": "2025-05-22T18:35:40.115024",
   "version": "2.6.0"
  }
 },
 "nbformat": 4,
 "nbformat_minor": 5
}