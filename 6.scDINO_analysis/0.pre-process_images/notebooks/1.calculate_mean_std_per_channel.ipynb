{
 "cells": [
  {
   "cell_type": "markdown",
   "metadata": {},
   "source": [
    "This notebook calculates the mean and std per channel. \n",
    "Having this information is useful to normalize the data for downstream scDINO representation learning."
   ]
  },
  {
   "cell_type": "code",
   "execution_count": 1,
   "metadata": {},
   "outputs": [],
   "source": [
    "import json\n",
    "import pathlib\n",
    "\n",
    "import numpy as np\n",
    "import pandas as pd\n",
    "import skimage.io\n",
    "import torch\n",
    "import tqdm\n",
    "from tifffile import imread\n",
    "from torchvision import datasets"
   ]
  },
  {
   "cell_type": "code",
   "execution_count": 2,
   "metadata": {},
   "outputs": [
    {
     "name": "stdout",
     "output_type": "stream",
     "text": [
      "Found 243970 files\n"
     ]
    }
   ],
   "source": [
    "# set the path to the data\n",
    "data_dir = pathlib.Path(\"../../../data/processed_images/crops/\").resolve(strict=True)\n",
    "\n",
    "# output path\n",
    "output_file_path = pathlib.Path(\n",
    "    \"../../../data/processed_images/mean_std_normalization/mean_std.txt\"\n",
    ").resolve()\n",
    "# make sure the output directory exists\n",
    "output_file_path.parent.mkdir(parents=True, exist_ok=True)\n",
    "\n",
    "# get a list of files recursively (.tiff files) specified in the data_dirs\n",
    "files = list(data_dir.glob(\"**/*.tiff\"))\n",
    "# get files\n",
    "image_list = [f for f in files if f.is_file()]\n",
    "print(f\"Found {len(files)} files\")"
   ]
  },
  {
   "cell_type": "code",
   "execution_count": 3,
   "metadata": {},
   "outputs": [],
   "source": [
    "class ReturnIndexDataset(datasets.ImageFolder):\n",
    "    def __getitem__(self, idx):\n",
    "        path, target = self.samples[idx]\n",
    "        image = imread(path)\n",
    "        image = image.astype(float)\n",
    "        tensor = torch.from_numpy(image).permute(2, 0, 1)\n",
    "        if torch.isnan(tensor).any():\n",
    "            print(\"nan in tensor: \", path)\n",
    "            return None\n",
    "        else:\n",
    "            return tensor, idx\n",
    "\n",
    "\n",
    "def collate_fn(batch):\n",
    "    batch = list(filter(lambda x: x is not None, batch))\n",
    "    return torch.utils.data.dataloader.default_collate(batch)"
   ]
  },
  {
   "cell_type": "code",
   "execution_count": 4,
   "metadata": {},
   "outputs": [],
   "source": [
    "dataset_total = ReturnIndexDataset(data_dir)\n",
    "shuffle_dataset = True\n",
    "random_seed = 0\n",
    "dataset_size = len(image_list)\n",
    "indices = list(range(dataset_size))\n",
    "if shuffle_dataset:\n",
    "    np.random.seed(random_seed)\n",
    "    np.random.shuffle(indices)\n",
    "\n",
    "\n",
    "sampler = torch.utils.data.SubsetRandomSampler(indices)\n",
    "\n",
    "image_data_loader = torch.utils.data.DataLoader(\n",
    "    dataset_total,\n",
    "    sampler=sampler,\n",
    "    batch_size=int(len(indices) / 10),\n",
    "    num_workers=0,\n",
    "    collate_fn=collate_fn,\n",
    "    drop_last=True,\n",
    ")"
   ]
  },
  {
   "cell_type": "code",
   "execution_count": 5,
   "metadata": {},
   "outputs": [],
   "source": [
    "def batch_mean_and_sd(loader):\n",
    "    cnt = 0\n",
    "    picture, _ = next(iter(image_data_loader))\n",
    "    b, c, h, w = picture.shape\n",
    "    fst_moment = torch.empty(c)\n",
    "    snd_moment = torch.empty(c)\n",
    "\n",
    "    for images, _ in loader:\n",
    "        b, c, h, w = images.shape\n",
    "        print(b, c, h, w)\n",
    "        nb_pixels = b * h * w\n",
    "        sum_ = torch.sum(images, dim=[0, 2, 3])\n",
    "        sum_of_square = torch.sum(images**2, dim=[0, 2, 3])\n",
    "        fst_moment = (cnt * fst_moment + sum_) / (cnt + nb_pixels)\n",
    "        snd_moment = (cnt * snd_moment + sum_of_square) / (cnt + nb_pixels)\n",
    "        cnt += nb_pixels\n",
    "\n",
    "    mean, std = fst_moment, torch.sqrt(snd_moment - fst_moment**2)\n",
    "    return mean, std"
   ]
  },
  {
   "cell_type": "code",
   "execution_count": 6,
   "metadata": {},
   "outputs": [
    {
     "name": "stdout",
     "output_type": "stream",
     "text": [
      "24397 4 100 100\n",
      "24397 4 100 100\n",
      "24397 4 100 100\n",
      "24397 4 100 100\n",
      "24397 4 100 100\n",
      "24397 4 100 100\n",
      "24397 4 100 100\n",
      "24397 4 100 100\n",
      "24397 4 100 100\n",
      "24397 4 100 100\n",
      "mean and std: \n",
      " tensor([ 34.4657, 103.9824,  62.0607,  98.1295], dtype=torch.float64) tensor([ 80.3427, 196.2538, 105.9826, 161.5472], dtype=torch.float64)\n"
     ]
    }
   ],
   "source": [
    "# run the function to get the per channel mean and std\n",
    "mean, std = batch_mean_and_sd(image_data_loader)\n",
    "print(\"mean and std: \\n\", mean, std)"
   ]
  },
  {
   "cell_type": "code",
   "execution_count": 7,
   "metadata": {},
   "outputs": [
    {
     "name": "stdout",
     "output_type": "stream",
     "text": [
      "mean and std: \n",
      " tensor([0.0005, 0.0016, 0.0009, 0.0015], dtype=torch.float64) tensor([0.0012, 0.0030, 0.0016, 0.0025], dtype=torch.float64)\n"
     ]
    }
   ],
   "source": [
    "# scale the mean and std to 0-1\n",
    "\n",
    "# get the image bit depth from skimage\n",
    "image = imread(image_list[0])\n",
    "image_max_bit = np.max(image)\n",
    "\n",
    "if image_max_bit <= 255:\n",
    "    mean = mean / 255\n",
    "    std = std / 255\n",
    "elif image_max_bit <= 65535:\n",
    "    mean = mean / 65535\n",
    "    std = std / 65535\n",
    "else:\n",
    "    raise ValueError(\"Image bit depth not supported\")\n",
    "\n",
    "# print the mean and std\n",
    "print(\"mean and std: \\n\", mean, std)\n",
    "\n",
    "with open(output_file_path, \"w\") as f:\n",
    "    json.dump({\"mean\": mean.tolist(), \"std\": std.tolist()}, f)"
   ]
  }
 ],
 "metadata": {
  "kernelspec": {
   "display_name": "scDINO_env",
   "language": "python",
   "name": "python3"
  },
  "language_info": {
   "codemirror_mode": {
    "name": "ipython",
    "version": 3
   },
   "file_extension": ".py",
   "mimetype": "text/x-python",
   "name": "python",
   "nbconvert_exporter": "python",
   "pygments_lexer": "ipython3",
   "version": "3.11.8"
  }
 },
 "nbformat": 4,
 "nbformat_minor": 2
}
