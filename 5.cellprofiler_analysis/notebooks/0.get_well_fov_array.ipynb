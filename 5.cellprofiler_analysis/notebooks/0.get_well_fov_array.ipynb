{
 "cells": [
  {
   "cell_type": "code",
   "execution_count": 1,
   "metadata": {},
   "outputs": [],
   "source": [
    "import pathlib\n",
    "\n",
    "import pandas as pd"
   ]
  },
  {
   "cell_type": "code",
   "execution_count": 2,
   "metadata": {},
   "outputs": [],
   "source": [
    "well_fov_dir = pathlib.Path(\n",
    "    \"../../2.cellprofiler_ic_processing/illum_directory/timelapse\"\n",
    ").resolve(strict=True)\n",
    "well_fov_dirs = list(well_fov_dir.glob(\"*\"))\n",
    "well_fov_dirs = [d for d in well_fov_dirs if d.is_dir()]\n",
    "well_fov_dirs = sorted(well_fov_dirs)\n",
    "well_fov_dirs = [x.name.split(\"_MaxIP_\")[1] for x in well_fov_dirs]"
   ]
  },
  {
   "cell_type": "code",
   "execution_count": 3,
   "metadata": {},
   "outputs": [],
   "source": [
    "# write the well_fov_dirs to a file for a bash script to read\n",
    "well_fov_dirs = pd.Series(well_fov_dirs)\n",
    "pathlib.Path(\"../well_fov_loading/\").mkdir(parents=True, exist_ok=True)\n",
    "well_fov_dirs.to_csv(\"../well_fov_loading/well_fov_dirs.csv\", index=False, header=False)"
   ]
  }
 ],
 "metadata": {
  "kernelspec": {
   "display_name": "cellprofiler_timelapse_env",
   "language": "python",
   "name": "python3"
  },
  "language_info": {
   "codemirror_mode": {
    "name": "ipython",
    "version": 3
   },
   "file_extension": ".py",
   "mimetype": "text/x-python",
   "name": "python",
   "nbconvert_exporter": "python",
   "pygments_lexer": "ipython3",
   "version": "3.8.20"
  }
 },
 "nbformat": 4,
 "nbformat_minor": 2
}
