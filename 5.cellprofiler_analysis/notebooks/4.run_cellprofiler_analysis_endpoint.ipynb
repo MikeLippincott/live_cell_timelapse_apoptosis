{
 "cells": [
  {
   "attachments": {},
   "cell_type": "markdown",
   "metadata": {},
   "source": [
    "# Perform segmentation and feature extraction for each plate using CellProfiler Parallel"
   ]
  },
  {
   "attachments": {},
   "cell_type": "markdown",
   "metadata": {},
   "source": [
    "## Import libraries"
   ]
  },
  {
   "cell_type": "code",
   "execution_count": 1,
   "metadata": {},
   "outputs": [],
   "source": [
    "import argparse\n",
    "import pathlib\n",
    "import pprint\n",
    "import sys\n",
    "import time\n",
    "\n",
    "sys.path.append(\"../../utils/\")\n",
    "import cp_utils\n",
    "\n",
    "# check if in a jupyter notebook\n",
    "try:\n",
    "    cfg = get_ipython().config\n",
    "    in_notebook = True\n",
    "except NameError:\n",
    "    in_notebook = False"
   ]
  },
  {
   "attachments": {},
   "cell_type": "markdown",
   "metadata": {},
   "source": [
    "## Set paths and variables"
   ]
  },
  {
   "cell_type": "code",
   "execution_count": 2,
   "metadata": {},
   "outputs": [],
   "source": [
    "# directory where images are located within folders\n",
    "images_dir = pathlib.Path(\"../../2.cellprofiler_ic_processing/illum_directory\")\n",
    "experiment_prefix_endpoint = \"20231017ChromaLive_endpoint_w_AnnexinV_2ch_MaxIP_\""
   ]
  },
  {
   "cell_type": "code",
   "execution_count": 3,
   "metadata": {},
   "outputs": [],
   "source": [
    "if not in_notebook:\n",
    "    print(\"Running as script\")\n",
    "    # set up arg parser\n",
    "    parser = argparse.ArgumentParser(description=\"Illumination correction\")\n",
    "\n",
    "    parser.add_argument(\n",
    "        \"--well_fov\",\n",
    "        type=str,\n",
    "        help=\"Path to the input directory containing the tiff images\",\n",
    "    )\n",
    "    args = parser.parse_args()\n",
    "    well_fov = args.well_fov\n",
    "\n",
    "else:\n",
    "    well_fov = \"E-11_F0004\"\n",
    "\n",
    "\n",
    "endpoint_dir = pathlib.Path(\n",
    "    f\"{images_dir}/endpoint/{experiment_prefix_endpoint}{well_fov}/\"\n",
    ")\n",
    "\n",
    "path_to_pipelines = pathlib.Path(\"../pipelines/\").resolve(strict=True)\n",
    "\n",
    "# set main output dir for all plates\n",
    "output_dir = pathlib.Path(\"../analysis_output/\")\n",
    "output_dir.mkdir(exist_ok=True, parents=True)"
   ]
  },
  {
   "cell_type": "markdown",
   "metadata": {},
   "source": [
    "## Create dictionary with all info for each plate"
   ]
  },
  {
   "cell_type": "code",
   "execution_count": 4,
   "metadata": {},
   "outputs": [
    {
     "name": "stdout",
     "output_type": "stream",
     "text": [
      "{   'run_20231017ChromaLive_endpoint_w_AnnexinV_2ch_MaxIP': {   'path_to_images': PosixPath('/home/lippincm/4TB_A/live_cell_timelapse_apoptosis/2.cellprofiler_ic_processing/illum_directory/endpoint/20231017ChromaLive_endpoint_w_AnnexinV_2ch_MaxIP_E-11_F0004'),\n",
      "                                                                'path_to_output': PosixPath('/home/lippincm/4TB_A/live_cell_timelapse_apoptosis/5.cellprofiler_analysis/analysis_output/endpoint/E-11_F0004'),\n",
      "                                                                'path_to_pipeline': PosixPath('/home/lippincm/4TB_A/live_cell_timelapse_apoptosis/5.cellprofiler_analysis/pipelines/analysis_2ch.cppipe')},\n",
      "    'run_20231017ChromaLive_endpoint_w_AnnexinV_2ch_MaxIP_whole_image': {   'path_to_images': PosixPath('/home/lippincm/4TB_A/live_cell_timelapse_apoptosis/2.cellprofiler_ic_processing/illum_directory/endpoint/20231017ChromaLive_endpoint_w_AnnexinV_2ch_MaxIP_E-11_F0004'),\n",
      "                                                                            'path_to_output': PosixPath('/home/lippincm/4TB_A/live_cell_timelapse_apoptosis/5.cellprofiler_analysis/analysis_output/endpoint_whole_image/E-11_F0004'),\n",
      "                                                                            'path_to_pipeline': PosixPath('/home/lippincm/4TB_A/live_cell_timelapse_apoptosis/5.cellprofiler_analysis/pipelines/analysis_2ch_image.cppipe')}}\n"
     ]
    }
   ],
   "source": [
    "dict_of_inputs = {\n",
    "    # \"20231017ChromaLive_6hr_4ch_MaxIP\": {\n",
    "    #     \"path_to_images\": pathlib.Path(timelapse_dir).resolve(strict=True),\n",
    "    #     \"path_to_output\": pathlib.Path(f\"{output_dir}/timelapse/{well_fov}\").resolve(),\n",
    "    #     \"path_to_pipeline\": pathlib.Path(\n",
    "    #         f\"{path_to_pipelines}/analysis_4ch.cppipe\"\n",
    "    #     ).resolve(),\n",
    "    # },\n",
    "    \"run_20231017ChromaLive_endpoint_w_AnnexinV_2ch_MaxIP\": {\n",
    "        \"path_to_images\": pathlib.Path(endpoint_dir).resolve(),\n",
    "        \"path_to_output\": pathlib.Path(f\"{output_dir}/endpoint/{well_fov}\").resolve(),\n",
    "        \"path_to_pipeline\": pathlib.Path(\n",
    "            f\"{path_to_pipelines}/analysis_2ch.cppipe\"\n",
    "        ).resolve(),\n",
    "    },\n",
    "    \"run_20231017ChromaLive_endpoint_w_AnnexinV_2ch_MaxIP_whole_image\": {\n",
    "        \"path_to_images\": pathlib.Path(endpoint_dir).resolve(),\n",
    "        \"path_to_output\": pathlib.Path(\n",
    "            f\"{output_dir}/endpoint_whole_image/{well_fov}\"\n",
    "        ).resolve(),\n",
    "        \"path_to_pipeline\": pathlib.Path(\n",
    "            f\"{path_to_pipelines}/analysis_2ch_image.cppipe\"\n",
    "        ).resolve(),\n",
    "    },\n",
    "}\n",
    "\n",
    "# view the dictionary to assess that all info is added correctly\n",
    "pprint.pprint(dict_of_inputs, indent=4)"
   ]
  },
  {
   "attachments": {},
   "cell_type": "markdown",
   "metadata": {},
   "source": [
    "## Run analysis pipeline on each plate in parallel\n",
    "\n",
    "This cell is not finished to completion due to how long it would take. It is ran in the python file instead."
   ]
  },
  {
   "cell_type": "code",
   "execution_count": 5,
   "metadata": {},
   "outputs": [],
   "source": [
    "start = time.time()"
   ]
  },
  {
   "cell_type": "code",
   "execution_count": null,
   "metadata": {},
   "outputs": [
    {
     "ename": "CalledProcessError",
     "evalue": "Command '['cellprofiler', '-c', '-r', '-p', PosixPath('/home/lippincm/4TB_A/live_cell_timelapse_apoptosis/5.cellprofiler_analysis/pipelines/analysis_2ch.cppipe'), '-i', PosixPath('/home/lippincm/4TB_A/live_cell_timelapse_apoptosis/2.cellprofiler_ic_processing/illum_directory/endpoint/20231017ChromaLive_endpoint_w_AnnexinV_2ch_MaxIP_E-11_F0004'), '-o', PosixPath('/home/lippincm/4TB_A/live_cell_timelapse_apoptosis/5.cellprofiler_analysis/analysis_output/endpoint/E-11_F0004')]' returned non-zero exit status 1.",
     "output_type": "error",
     "traceback": [
      "\u001b[0;31m---------------------------------------------------------------------------\u001b[0m",
      "\u001b[0;31mCalledProcessError\u001b[0m                        Traceback (most recent call last)",
      "Cell \u001b[0;32mIn[6], line 2\u001b[0m\n\u001b[1;32m      1\u001b[0m \u001b[38;5;28;01mfor\u001b[39;00m run \u001b[38;5;129;01min\u001b[39;00m dict_of_inputs\u001b[38;5;241m.\u001b[39mkeys():\n\u001b[0;32m----> 2\u001b[0m     \u001b[43mcp_utils\u001b[49m\u001b[38;5;241;43m.\u001b[39;49m\u001b[43mrun_cellprofiler\u001b[49m\u001b[43m(\u001b[49m\n\u001b[1;32m      3\u001b[0m \u001b[43m        \u001b[49m\u001b[43mpath_to_pipeline\u001b[49m\u001b[38;5;241;43m=\u001b[39;49m\u001b[43mdict_of_inputs\u001b[49m\u001b[43m[\u001b[49m\u001b[43mrun\u001b[49m\u001b[43m]\u001b[49m\u001b[43m[\u001b[49m\u001b[38;5;124;43m\"\u001b[39;49m\u001b[38;5;124;43mpath_to_pipeline\u001b[39;49m\u001b[38;5;124;43m\"\u001b[39;49m\u001b[43m]\u001b[49m\u001b[43m,\u001b[49m\n\u001b[1;32m      4\u001b[0m \u001b[43m        \u001b[49m\u001b[43mpath_to_input\u001b[49m\u001b[38;5;241;43m=\u001b[39;49m\u001b[43mdict_of_inputs\u001b[49m\u001b[43m[\u001b[49m\u001b[43mrun\u001b[49m\u001b[43m]\u001b[49m\u001b[43m[\u001b[49m\u001b[38;5;124;43m\"\u001b[39;49m\u001b[38;5;124;43mpath_to_images\u001b[39;49m\u001b[38;5;124;43m\"\u001b[39;49m\u001b[43m]\u001b[49m\u001b[43m,\u001b[49m\n\u001b[1;32m      5\u001b[0m \u001b[43m        \u001b[49m\u001b[43mpath_to_output\u001b[49m\u001b[38;5;241;43m=\u001b[39;49m\u001b[43mdict_of_inputs\u001b[49m\u001b[43m[\u001b[49m\u001b[43mrun\u001b[49m\u001b[43m]\u001b[49m\u001b[43m[\u001b[49m\u001b[38;5;124;43m\"\u001b[39;49m\u001b[38;5;124;43mpath_to_output\u001b[39;49m\u001b[38;5;124;43m\"\u001b[39;49m\u001b[43m]\u001b[49m\u001b[43m,\u001b[49m\n\u001b[1;32m      6\u001b[0m \u001b[43m    \u001b[49m\u001b[43m)\u001b[49m\n",
      "File \u001b[0;32m~/4TB_A/live_cell_timelapse_apoptosis/5.cellprofiler_analysis/notebooks/../../utils/cp_utils.py:105\u001b[0m, in \u001b[0;36mrun_cellprofiler\u001b[0;34m(path_to_pipeline, path_to_input, path_to_output, sqlite_name, hardcode_sqlite_name, analysis_run, rename_sqlite_file_bool)\u001b[0m\n\u001b[1;32m     89\u001b[0m     \u001b[38;5;28;01mwith\u001b[39;00m \u001b[38;5;28mopen\u001b[39m(\n\u001b[1;32m     90\u001b[0m         pathlib\u001b[38;5;241m.\u001b[39mPath(\u001b[38;5;124m\"\u001b[39m\u001b[38;5;124mlogs/cellprofiler_output.log\u001b[39m\u001b[38;5;124m\"\u001b[39m),\n\u001b[1;32m     91\u001b[0m         \u001b[38;5;124m\"\u001b[39m\u001b[38;5;124mw\u001b[39m\u001b[38;5;124m\"\u001b[39m,\n\u001b[1;32m     92\u001b[0m     ) \u001b[38;5;28;01mas\u001b[39;00m cellprofiler_output_file:\n\u001b[1;32m     93\u001b[0m         \u001b[38;5;66;03m# run CellProfiler pipeline\u001b[39;00m\n\u001b[1;32m     94\u001b[0m         command \u001b[38;5;241m=\u001b[39m [\n\u001b[1;32m     95\u001b[0m             \u001b[38;5;124m\"\u001b[39m\u001b[38;5;124mcellprofiler\u001b[39m\u001b[38;5;124m\"\u001b[39m,\n\u001b[1;32m     96\u001b[0m             \u001b[38;5;124m\"\u001b[39m\u001b[38;5;124m-c\u001b[39m\u001b[38;5;124m\"\u001b[39m,\n\u001b[0;32m   (...)\u001b[0m\n\u001b[1;32m    103\u001b[0m             path_to_output,\n\u001b[1;32m    104\u001b[0m         ]\n\u001b[0;32m--> 105\u001b[0m         \u001b[43msubprocess\u001b[49m\u001b[38;5;241;43m.\u001b[39;49m\u001b[43mrun\u001b[49m\u001b[43m(\u001b[49m\n\u001b[1;32m    106\u001b[0m \u001b[43m            \u001b[49m\u001b[43mcommand\u001b[49m\u001b[43m,\u001b[49m\n\u001b[1;32m    107\u001b[0m \u001b[43m            \u001b[49m\u001b[43mstdout\u001b[49m\u001b[38;5;241;43m=\u001b[39;49m\u001b[43mcellprofiler_output_file\u001b[49m\u001b[43m,\u001b[49m\n\u001b[1;32m    108\u001b[0m \u001b[43m            \u001b[49m\u001b[43mstderr\u001b[49m\u001b[38;5;241;43m=\u001b[39;49m\u001b[43mcellprofiler_output_file\u001b[49m\u001b[43m,\u001b[49m\n\u001b[1;32m    109\u001b[0m \u001b[43m            \u001b[49m\u001b[43mcheck\u001b[49m\u001b[38;5;241;43m=\u001b[39;49m\u001b[38;5;28;43;01mTrue\u001b[39;49;00m\u001b[43m,\u001b[49m\n\u001b[1;32m    110\u001b[0m \u001b[43m        \u001b[49m\u001b[43m)\u001b[49m\n\u001b[1;32m    111\u001b[0m         \u001b[38;5;28mprint\u001b[39m(\n\u001b[1;32m    112\u001b[0m             \u001b[38;5;124m\"\u001b[39m\u001b[38;5;124mThe CellProfiler run has been completed with log. Please check log file for any errors.\u001b[39m\u001b[38;5;124m\"\u001b[39m\n\u001b[1;32m    113\u001b[0m         )\n\u001b[1;32m    115\u001b[0m \u001b[38;5;28;01mif\u001b[39;00m analysis_run:\n\u001b[1;32m    116\u001b[0m     \u001b[38;5;66;03m# runs through any files that are in the output path and checks to see if analysis pipeline was already run\u001b[39;00m\n",
      "File \u001b[0;32m~/miniforge3/envs/cellprofiler_timelapse_env/lib/python3.8/subprocess.py:516\u001b[0m, in \u001b[0;36mrun\u001b[0;34m(input, capture_output, timeout, check, *popenargs, **kwargs)\u001b[0m\n\u001b[1;32m    514\u001b[0m     retcode \u001b[38;5;241m=\u001b[39m process\u001b[38;5;241m.\u001b[39mpoll()\n\u001b[1;32m    515\u001b[0m     \u001b[38;5;28;01mif\u001b[39;00m check \u001b[38;5;129;01mand\u001b[39;00m retcode:\n\u001b[0;32m--> 516\u001b[0m         \u001b[38;5;28;01mraise\u001b[39;00m CalledProcessError(retcode, process\u001b[38;5;241m.\u001b[39margs,\n\u001b[1;32m    517\u001b[0m                                  output\u001b[38;5;241m=\u001b[39mstdout, stderr\u001b[38;5;241m=\u001b[39mstderr)\n\u001b[1;32m    518\u001b[0m \u001b[38;5;28;01mreturn\u001b[39;00m CompletedProcess(process\u001b[38;5;241m.\u001b[39margs, retcode, stdout, stderr)\n",
      "\u001b[0;31mCalledProcessError\u001b[0m: Command '['cellprofiler', '-c', '-r', '-p', PosixPath('/home/lippincm/4TB_A/live_cell_timelapse_apoptosis/5.cellprofiler_analysis/pipelines/analysis_2ch.cppipe'), '-i', PosixPath('/home/lippincm/4TB_A/live_cell_timelapse_apoptosis/2.cellprofiler_ic_processing/illum_directory/endpoint/20231017ChromaLive_endpoint_w_AnnexinV_2ch_MaxIP_E-11_F0004'), '-o', PosixPath('/home/lippincm/4TB_A/live_cell_timelapse_apoptosis/5.cellprofiler_analysis/analysis_output/endpoint/E-11_F0004')]' returned non-zero exit status 1."
     ]
    },
    {
     "ename": "",
     "evalue": "",
     "output_type": "error",
     "traceback": [
      "\u001b[1;31mThe Kernel crashed while executing code in the current cell or a previous cell. \n",
      "\u001b[1;31mPlease review the code in the cell(s) to identify a possible cause of the failure. \n",
      "\u001b[1;31mClick <a href='https://aka.ms/vscodeJupyterKernelCrash'>here</a> for more info. \n",
      "\u001b[1;31mView Jupyter <a href='command:jupyter.viewOutput'>log</a> for further details."
     ]
    }
   ],
   "source": [
    "for run in dict_of_inputs.keys():\n",
    "    cp_utils.run_cellprofiler(\n",
    "        path_to_pipeline=dict_of_inputs[run][\"path_to_pipeline\"],\n",
    "        path_to_input=dict_of_inputs[run][\"path_to_images\"],\n",
    "        path_to_output=dict_of_inputs[run][\"path_to_output\"],\n",
    "    )"
   ]
  },
  {
   "cell_type": "code",
   "execution_count": null,
   "metadata": {},
   "outputs": [
    {
     "name": "stdout",
     "output_type": "stream",
     "text": [
      "Total time taken: 00:00:54.53\n"
     ]
    }
   ],
   "source": [
    "end = time.time()\n",
    "# format the time taken into hours, minutes, seconds\n",
    "hours, rem = divmod(end - start, 3600)\n",
    "minutes, seconds = divmod(rem, 60)\n",
    "print(\n",
    "    \"Total time taken: {:0>2}:{:0>2}:{:05.2f}\".format(int(hours), int(minutes), seconds)\n",
    ")"
   ]
  }
 ],
 "metadata": {
  "kernelspec": {
   "display_name": "cellprofiler_timelapse_env",
   "language": "python",
   "name": "python3"
  },
  "language_info": {
   "codemirror_mode": {
    "name": "ipython",
    "version": 3
   },
   "file_extension": ".py",
   "mimetype": "text/x-python",
   "name": "python",
   "nbconvert_exporter": "python",
   "pygments_lexer": "ipython3",
   "version": "3.8.20"
  },
  "orig_nbformat": 4
 },
 "nbformat": 4,
 "nbformat_minor": 2
}
