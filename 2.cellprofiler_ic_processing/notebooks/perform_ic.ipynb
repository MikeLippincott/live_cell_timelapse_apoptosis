{
 "cells": [
  {
   "attachments": {},
   "cell_type": "markdown",
   "metadata": {},
   "source": [
    "# Create and edit LoadData csv and run CellProfiler `illum.cppipe` (IC) pipeline\n",
    "\n",
    "In this notebook, we run the CellProfiler IC pipeline to calculate the illumination (illum) correction functions for all images per channel (4)."
   ]
  },
  {
   "attachments": {},
   "cell_type": "markdown",
   "metadata": {},
   "source": [
    "## Import libraries"
   ]
  },
  {
   "cell_type": "code",
   "execution_count": null,
   "metadata": {},
   "outputs": [],
   "source": [
    "import pathlib\n",
    "import sys\n",
    "\n",
    "sys.path.append(\"../../utils\")\n",
    "import cp_utils as cp_utils\n",
    "import tqdm"
   ]
  },
  {
   "attachments": {},
   "cell_type": "markdown",
   "metadata": {},
   "source": [
    "## Set paths"
   ]
  },
  {
   "cell_type": "code",
   "execution_count": null,
   "metadata": {},
   "outputs": [],
   "source": [
    "# path to input directory\n",
    "path_to_input = pathlib.Path(\"../../data/20231004ChromaLive6hr_4ch_MaxIP\").resolve()\n",
    "# set paths for CellProfiler\n",
    "path_to_pipeline = pathlib.Path(\"../pipelines/illum.cppipe\").resolve()\n",
    "## path to folder for IC functions\n",
    "illum_directory = pathlib.Path(\"../illum_directory\").resolve()"
   ]
  },
  {
   "cell_type": "markdown",
   "metadata": {},
   "source": [
    "## Define the input paths"
   ]
  },
  {
   "cell_type": "code",
   "execution_count": null,
   "metadata": {},
   "outputs": [],
   "source": [
    "dict_of_inputs = {\n",
    "    \"run_20230920ChromaLiveTL_24hr4ch_MaxIP\": {\n",
    "        \"path_to_input\": pathlib.Path(\n",
    "            \"../../data/20230920ChromaLiveTL_24hr4ch_MaxIP\"\n",
    "        ).resolve(),\n",
    "        \"path_to_output\": pathlib.Path(\n",
    "            f\"{illum_directory}/20230920ChromaLiveTL_24hr4ch_MaxIP/\"\n",
    "        ).resolve(),\n",
    "    },\n",
    "    \"run_20231004ChromaLive6hr_4ch_MaxIP\": {\n",
    "        \"path_to_input\": pathlib.Path(\n",
    "            \"../../data/20231004ChromaLive6hr_4ch_MaxIP\"\n",
    "        ).resolve(),\n",
    "        \"path_to_output\": pathlib.Path(\n",
    "            f\"{illum_directory}/20231004ChromaLive6hr_4ch_MaxIP/\"\n",
    "        ).resolve(),\n",
    "    },\n",
    "    \"run_20231017ChromaLive_6hr_4ch_MaxIP\": {\n",
    "        \"path_to_input\": pathlib.Path(\n",
    "            \"../../data/20231017ChromaLive_6hr_4ch_MaxIP\"\n",
    "        ).resolve(),\n",
    "        \"path_to_output\": pathlib.Path(\n",
    "            f\"{illum_directory}/20231017ChromaLive_6hr_4ch_MaxIP/\"\n",
    "        ).resolve(),\n",
    "    },\n",
    "    \"run_20231017ChromaLive_endpoint_w_AnnexinV_2ch_MaxIP\": {\n",
    "        \"path_to_input\": pathlib.Path(\n",
    "            \"../../data/20231017ChromaLive_endpoint_w_AnnexinV_2ch_MaxIP\"\n",
    "        ).resolve(),\n",
    "        \"path_to_output\": pathlib.Path(\n",
    "            f\"{illum_directory}/20231017ChromaLive_endpoint_w_AnnexinV_2ch_MaxIP/\"\n",
    "        ).resolve(),\n",
    "    },\n",
    "}"
   ]
  },
  {
   "attachments": {},
   "cell_type": "markdown",
   "metadata": {},
   "source": [
    "## Run `illum.cppipe` pipeline and calculate + save IC functions"
   ]
  },
  {
   "cell_type": "code",
   "execution_count": null,
   "metadata": {},
   "outputs": [],
   "source": [
    "for run in tqdm.tqdm(dict_of_inputs):\n",
    "    path_to_input = dict_of_inputs[run][\"path_to_input\"]\n",
    "    path_to_output = dict_of_inputs[run][\"path_to_output\"]\n",
    "    # Run CellProfiler on the illum pipeline\n",
    "    cp_utils.run_cellprofiler(\n",
    "        path_to_pipeline=path_to_pipeline,\n",
    "        path_to_input=path_to_input,\n",
    "        path_to_output=path_to_output,\n",
    "    )"
   ]
  }
 ],
 "metadata": {
  "kernelspec": {
   "display_name": "pe2loaddata",
   "language": "python",
   "name": "python3"
  },
  "language_info": {
   "codemirror_mode": {
    "name": "ipython",
    "version": 3
   },
   "file_extension": ".py",
   "mimetype": "text/x-python",
   "name": "python",
   "nbconvert_exporter": "python",
   "pygments_lexer": "ipython3",
   "version": "3.8.0"
  },
  "orig_nbformat": 4,
  "vscode": {
   "interpreter": {
    "hash": "8e682b7bd16cdbc4be2393bc1b1eed6b87cf8a0c86d477c0593cdffdecdf8222"
   }
  }
 },
 "nbformat": 4,
 "nbformat_minor": 2
}
