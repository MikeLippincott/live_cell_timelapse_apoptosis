{
 "cells": [
  {
   "cell_type": "markdown",
   "metadata": {},
   "source": [
    "This notebook converts the terminal time point data into the correct sequence time point for the main dataset.\n",
    "This will allow for the relation of the nuclei tracked in time to the main dataset.\n",
    "This way, the terminal stain can be related to the main (13 time points) dataset."
   ]
  },
  {
   "cell_type": "markdown",
   "metadata": {},
   "source": [
    "There are four channels in the main dataset:\n",
    "Channel 1: DAPI\n",
    "Channel 2: CL488-1\n",
    "Channel 3: CL488-2\n",
    "Channel 4: CL561\n",
    "\n",
    "There are two channels in the terminal dataset:\n",
    "Channel 1: DAPI\n",
    "Channel 5: Annexin V\n",
    "\n",
    "Note that Channel 5 does not exists in the first 13 time points only the terminal timepoints. \n",
    "Similarly, the terminal time points do not have the CL488-1, CL488-2, and CL561 channels."
   ]
  },
  {
   "cell_type": "code",
   "execution_count": 1,
   "metadata": {},
   "outputs": [],
   "source": [
    "import pathlib\n",
    "import sys\n",
    "\n",
    "import numpy as np\n",
    "import pandas as pd"
   ]
  },
  {
   "cell_type": "code",
   "execution_count": 2,
   "metadata": {},
   "outputs": [],
   "source": [
    "run_test_data = True\n",
    "\n",
    "if not run_test_data:\n",
    "    illum_directory = pathlib.Path(\"../illum_directory\").resolve()\n",
    "\n",
    "else:\n",
    "    illum_directory = pathlib.Path(\"../illum_directory_test\").resolve()\n",
    "\n",
    "experiment = \"20231017ChromaLive_endpoint_w_AnnexinV_2ch_MaxIP\""
   ]
  },
  {
   "cell_type": "code",
   "execution_count": 3,
   "metadata": {},
   "outputs": [],
   "source": [
    "# get the list of dirs in the raw_data_path\n",
    "dirs = [x for x in illum_directory.iterdir() if x.is_dir()]\n",
    "# get the list of all dirs in the dir\n",
    "for dir in dirs:\n",
    "    if experiment in dir.name:\n",
    "        for image in dir.glob(\"*.tiff\"):\n",
    "            if \"T0001\" in image.name:\n",
    "                image.rename(image.with_name(image.name.replace(\"T0001\", \"T0014\")))"
   ]
  }
 ],
 "metadata": {
  "kernelspec": {
   "display_name": "cellprofiler_timelapse_env",
   "language": "python",
   "name": "python3"
  },
  "language_info": {
   "codemirror_mode": {
    "name": "ipython",
    "version": 3
   },
   "file_extension": ".py",
   "mimetype": "text/x-python",
   "name": "python",
   "nbconvert_exporter": "python",
   "pygments_lexer": "ipython3",
   "version": "3.8.20"
  }
 },
 "nbformat": 4,
 "nbformat_minor": 2
}
