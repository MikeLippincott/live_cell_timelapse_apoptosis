{
 "cells": [
  {
   "cell_type": "markdown",
   "metadata": {},
   "source": [
    "This notebook converts the terminal time point data into the correct sequence time point for the main dataset.\n",
    "This will allow for the relation of the nuclei tracked in time to the main dataset.\n",
    "This way, the terminal stain can be related to the main (13 time points) dataset."
   ]
  },
  {
   "cell_type": "markdown",
   "metadata": {},
   "source": [
    "There are four channels in the main dataset:\n",
    "Channel 1: DAPI\n",
    "Channel 2: CL488-1\n",
    "Channel 3: CL488-2\n",
    "Channel 4: CL561\n",
    "\n",
    "There are two channels in the terminal dataset:\n",
    "Channel 1: DAPI\n",
    "Channel 5: Annexin V\n",
    "\n",
    "Note that Channel 5 does not exists in the first 13 time points only the terminal timepoints. \n",
    "Similarly, the terminal time points do not have the CL488-1, CL488-2, and CL561 channels."
   ]
  },
  {
   "cell_type": "code",
   "execution_count": 1,
   "metadata": {},
   "outputs": [],
   "source": [
    "import pathlib\n",
    "import sys\n",
    "\n",
    "import numpy as np\n",
    "import pandas as pd"
   ]
  },
  {
   "cell_type": "code",
   "execution_count": 2,
   "metadata": {},
   "outputs": [
    {
     "name": "stdout",
     "output_type": "stream",
     "text": [
      "/home/lippincm/Documents/live_cell_timelapse_apoptosis/2.cellprofiler_ic_processing/illum_directory/20231017ChromaLive_endpoint_w_AnnexinV_2ch_MaxIP_test_small/C-02_F0001_T0001_Z0001_C01_illumcorrect.tiff\n",
      "/home/lippincm/Documents/live_cell_timelapse_apoptosis/2.cellprofiler_ic_processing/illum_directory/20231017ChromaLive_endpoint_w_AnnexinV_2ch_MaxIP_test_small/C-02_F0001_T0014_Z0001_C01_illumcorrect.tiff\n",
      "/home/lippincm/Documents/live_cell_timelapse_apoptosis/2.cellprofiler_ic_processing/illum_directory/20231017ChromaLive_endpoint_w_AnnexinV_2ch_MaxIP_test_small/C-02_F0001_T0001_Z0001_C05_illumcorrect.tiff\n",
      "/home/lippincm/Documents/live_cell_timelapse_apoptosis/2.cellprofiler_ic_processing/illum_directory/20231017ChromaLive_endpoint_w_AnnexinV_2ch_MaxIP_test_small/C-02_F0001_T0014_Z0001_C05_illumcorrect.tiff\n",
      "/home/lippincm/Documents/live_cell_timelapse_apoptosis/2.cellprofiler_ic_processing/illum_directory/20231017ChromaLive_endpoint_w_AnnexinV_2ch_MaxIP_test_small/C-02_F0002_T0001_Z0001_C01_illumcorrect.tiff\n",
      "/home/lippincm/Documents/live_cell_timelapse_apoptosis/2.cellprofiler_ic_processing/illum_directory/20231017ChromaLive_endpoint_w_AnnexinV_2ch_MaxIP_test_small/C-02_F0002_T0014_Z0001_C01_illumcorrect.tiff\n",
      "/home/lippincm/Documents/live_cell_timelapse_apoptosis/2.cellprofiler_ic_processing/illum_directory/20231017ChromaLive_endpoint_w_AnnexinV_2ch_MaxIP_test_small/C-02_F0002_T0001_Z0001_C05_illumcorrect.tiff\n",
      "/home/lippincm/Documents/live_cell_timelapse_apoptosis/2.cellprofiler_ic_processing/illum_directory/20231017ChromaLive_endpoint_w_AnnexinV_2ch_MaxIP_test_small/C-02_F0002_T0014_Z0001_C05_illumcorrect.tiff\n",
      "/home/lippincm/Documents/live_cell_timelapse_apoptosis/2.cellprofiler_ic_processing/illum_directory/20231017ChromaLive_endpoint_w_AnnexinV_2ch_MaxIP_test_small/C-02_F0003_T0001_Z0001_C01_illumcorrect.tiff\n",
      "/home/lippincm/Documents/live_cell_timelapse_apoptosis/2.cellprofiler_ic_processing/illum_directory/20231017ChromaLive_endpoint_w_AnnexinV_2ch_MaxIP_test_small/C-02_F0003_T0014_Z0001_C01_illumcorrect.tiff\n",
      "/home/lippincm/Documents/live_cell_timelapse_apoptosis/2.cellprofiler_ic_processing/illum_directory/20231017ChromaLive_endpoint_w_AnnexinV_2ch_MaxIP_test_small/C-02_F0003_T0001_Z0001_C05_illumcorrect.tiff\n",
      "/home/lippincm/Documents/live_cell_timelapse_apoptosis/2.cellprofiler_ic_processing/illum_directory/20231017ChromaLive_endpoint_w_AnnexinV_2ch_MaxIP_test_small/C-02_F0003_T0014_Z0001_C05_illumcorrect.tiff\n",
      "/home/lippincm/Documents/live_cell_timelapse_apoptosis/2.cellprofiler_ic_processing/illum_directory/20231017ChromaLive_endpoint_w_AnnexinV_2ch_MaxIP_test_small/C-02_F0004_T0001_Z0001_C01_illumcorrect.tiff\n",
      "/home/lippincm/Documents/live_cell_timelapse_apoptosis/2.cellprofiler_ic_processing/illum_directory/20231017ChromaLive_endpoint_w_AnnexinV_2ch_MaxIP_test_small/C-02_F0004_T0014_Z0001_C01_illumcorrect.tiff\n",
      "/home/lippincm/Documents/live_cell_timelapse_apoptosis/2.cellprofiler_ic_processing/illum_directory/20231017ChromaLive_endpoint_w_AnnexinV_2ch_MaxIP_test_small/C-02_F0004_T0001_Z0001_C05_illumcorrect.tiff\n",
      "/home/lippincm/Documents/live_cell_timelapse_apoptosis/2.cellprofiler_ic_processing/illum_directory/20231017ChromaLive_endpoint_w_AnnexinV_2ch_MaxIP_test_small/C-02_F0004_T0014_Z0001_C05_illumcorrect.tiff\n",
      "/home/lippincm/Documents/live_cell_timelapse_apoptosis/2.cellprofiler_ic_processing/illum_directory/20231017ChromaLive_endpoint_w_AnnexinV_2ch_MaxIP_test_small/E-11_F0001_T0001_Z0001_C01_illumcorrect.tiff\n",
      "/home/lippincm/Documents/live_cell_timelapse_apoptosis/2.cellprofiler_ic_processing/illum_directory/20231017ChromaLive_endpoint_w_AnnexinV_2ch_MaxIP_test_small/E-11_F0001_T0014_Z0001_C01_illumcorrect.tiff\n",
      "/home/lippincm/Documents/live_cell_timelapse_apoptosis/2.cellprofiler_ic_processing/illum_directory/20231017ChromaLive_endpoint_w_AnnexinV_2ch_MaxIP_test_small/E-11_F0001_T0001_Z0001_C05_illumcorrect.tiff\n",
      "/home/lippincm/Documents/live_cell_timelapse_apoptosis/2.cellprofiler_ic_processing/illum_directory/20231017ChromaLive_endpoint_w_AnnexinV_2ch_MaxIP_test_small/E-11_F0001_T0014_Z0001_C05_illumcorrect.tiff\n",
      "/home/lippincm/Documents/live_cell_timelapse_apoptosis/2.cellprofiler_ic_processing/illum_directory/20231017ChromaLive_endpoint_w_AnnexinV_2ch_MaxIP_test_small/E-11_F0002_T0001_Z0001_C01_illumcorrect.tiff\n",
      "/home/lippincm/Documents/live_cell_timelapse_apoptosis/2.cellprofiler_ic_processing/illum_directory/20231017ChromaLive_endpoint_w_AnnexinV_2ch_MaxIP_test_small/E-11_F0002_T0014_Z0001_C01_illumcorrect.tiff\n",
      "/home/lippincm/Documents/live_cell_timelapse_apoptosis/2.cellprofiler_ic_processing/illum_directory/20231017ChromaLive_endpoint_w_AnnexinV_2ch_MaxIP_test_small/E-11_F0002_T0001_Z0001_C05_illumcorrect.tiff\n",
      "/home/lippincm/Documents/live_cell_timelapse_apoptosis/2.cellprofiler_ic_processing/illum_directory/20231017ChromaLive_endpoint_w_AnnexinV_2ch_MaxIP_test_small/E-11_F0002_T0014_Z0001_C05_illumcorrect.tiff\n",
      "/home/lippincm/Documents/live_cell_timelapse_apoptosis/2.cellprofiler_ic_processing/illum_directory/20231017ChromaLive_endpoint_w_AnnexinV_2ch_MaxIP_test_small/E-11_F0003_T0001_Z0001_C01_illumcorrect.tiff\n",
      "/home/lippincm/Documents/live_cell_timelapse_apoptosis/2.cellprofiler_ic_processing/illum_directory/20231017ChromaLive_endpoint_w_AnnexinV_2ch_MaxIP_test_small/E-11_F0003_T0014_Z0001_C01_illumcorrect.tiff\n",
      "/home/lippincm/Documents/live_cell_timelapse_apoptosis/2.cellprofiler_ic_processing/illum_directory/20231017ChromaLive_endpoint_w_AnnexinV_2ch_MaxIP_test_small/E-11_F0003_T0001_Z0001_C05_illumcorrect.tiff\n",
      "/home/lippincm/Documents/live_cell_timelapse_apoptosis/2.cellprofiler_ic_processing/illum_directory/20231017ChromaLive_endpoint_w_AnnexinV_2ch_MaxIP_test_small/E-11_F0003_T0014_Z0001_C05_illumcorrect.tiff\n",
      "/home/lippincm/Documents/live_cell_timelapse_apoptosis/2.cellprofiler_ic_processing/illum_directory/20231017ChromaLive_endpoint_w_AnnexinV_2ch_MaxIP_test_small/E-11_F0004_T0001_Z0001_C01_illumcorrect.tiff\n",
      "/home/lippincm/Documents/live_cell_timelapse_apoptosis/2.cellprofiler_ic_processing/illum_directory/20231017ChromaLive_endpoint_w_AnnexinV_2ch_MaxIP_test_small/E-11_F0004_T0014_Z0001_C01_illumcorrect.tiff\n",
      "/home/lippincm/Documents/live_cell_timelapse_apoptosis/2.cellprofiler_ic_processing/illum_directory/20231017ChromaLive_endpoint_w_AnnexinV_2ch_MaxIP_test_small/E-11_F0004_T0001_Z0001_C05_illumcorrect.tiff\n",
      "/home/lippincm/Documents/live_cell_timelapse_apoptosis/2.cellprofiler_ic_processing/illum_directory/20231017ChromaLive_endpoint_w_AnnexinV_2ch_MaxIP_test_small/E-11_F0004_T0014_Z0001_C05_illumcorrect.tiff\n"
     ]
    }
   ],
   "source": [
    "# set the path to terminal data\n",
    "terminal_data_path = pathlib.Path(\n",
    "    \"../illum_directory/20231017ChromaLive_endpoint_w_AnnexinV_2ch_MaxIP/\"\n",
    ").resolve(strict=True)\n",
    "\n",
    "# number of timepoints in the main data\n",
    "num_timepoints = 13\n",
    "\n",
    "\n",
    "# get the list of files in the terminal data directory that are tiffs\n",
    "tiff_files = list(terminal_data_path.glob(\"*.tiff\"))\n",
    "tiff_files = sorted(tiff_files)\n",
    "# change the timepoint from \"T0001\" to \"T0014\" to match the main data format and position\n",
    "# rewrite the list of files to the terminal data directory\n",
    "for f in tiff_files:\n",
    "    print(f)\n",
    "    print(f.with_name(f.name.replace(\"T0001\", \"T0014\")))\n",
    "    f.rename(f.with_name(f.name.replace(\"T0001\", \"T0014\")))"
   ]
  }
 ],
 "metadata": {
  "kernelspec": {
   "display_name": "timelapse_env",
   "language": "python",
   "name": "python3"
  },
  "language_info": {
   "codemirror_mode": {
    "name": "ipython",
    "version": 3
   },
   "file_extension": ".py",
   "mimetype": "text/x-python",
   "name": "python",
   "nbconvert_exporter": "python",
   "pygments_lexer": "ipython3",
   "version": "3.11.9"
  }
 },
 "nbformat": 4,
 "nbformat_minor": 2
}
