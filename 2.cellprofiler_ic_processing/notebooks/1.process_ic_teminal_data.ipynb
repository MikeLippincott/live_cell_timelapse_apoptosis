{
 "cells": [
  {
   "cell_type": "markdown",
   "metadata": {},
   "source": [
    "This notebook converts the terminal time point data into the correct sequence time point for the main dataset.\n",
    "This will allow for the relation of the nuclei tracked in time to the main dataset.\n",
    "This way, the terminal stain can be related to the main (13 time points) dataset."
   ]
  },
  {
   "cell_type": "markdown",
   "metadata": {},
   "source": [
    "There are four channels in the main dataset:\n",
    "Channel 1: DAPI\n",
    "Channel 2: CL488-1\n",
    "Channel 3: CL488-2\n",
    "Channel 4: CL561\n",
    "\n",
    "There are two channels in the terminal dataset:\n",
    "Channel 1: DAPI\n",
    "Channel 5: Annexin V\n",
    "\n",
    "Note that Channel 5 does not exists in the first 13 time points only the terminal timepoints. \n",
    "Similarly, the terminal time points do not have the CL488-1, CL488-2, and CL561 channels."
   ]
  },
  {
   "cell_type": "code",
   "execution_count": 1,
   "metadata": {},
   "outputs": [],
   "source": [
    "import argparse\n",
    "import glob\n",
    "import pathlib\n",
    "import sys\n",
    "\n",
    "import numpy as np\n",
    "import pandas as pd"
   ]
  },
  {
   "cell_type": "code",
   "execution_count": 2,
   "metadata": {},
   "outputs": [],
   "source": [
    "illum_directory = pathlib.Path(\"../illum_directory\").resolve(strict=True)\n",
    "# get all directories in the illum_directory recursively\n",
    "illum_directories = glob.glob(str(illum_directory) + \"/**/\", recursive=True)\n",
    "# get all files in the illum_directories\n",
    "illum_files = [glob.glob(directory + \"/*\") for directory in illum_directories]\n",
    "# filter for files\n",
    "illum_files = [\n",
    "    file for sublist in illum_files for file in sublist if pathlib.Path(file).is_file()\n",
    "]"
   ]
  },
  {
   "cell_type": "code",
   "execution_count": 3,
   "metadata": {},
   "outputs": [
    {
     "name": "stdout",
     "output_type": "stream",
     "text": [
      "/home/lippincm/Documents/live_cell_timelapse_apoptosis/2.cellprofiler_ic_processing/illum_directory/test_data/endpoint/20231017ChromaLive_endpoint_w_AnnexinV_2ch_MaxIP_C-02_F0001/C-02_F0001_T0001_Z0001_C01_illumcorrect.tiff\n",
      "/home/lippincm/Documents/live_cell_timelapse_apoptosis/2.cellprofiler_ic_processing/illum_directory/test_data/endpoint/20231017ChromaLive_endpoint_w_AnnexinV_2ch_MaxIP_C-02_F0001/C-02_F0001_T0001_Z0001_C05_illumcorrect.tiff\n"
     ]
    }
   ],
   "source": [
    "for file in illum_files:\n",
    "    if \"Annexin\" in file:\n",
    "        if \"T0001\" in file:\n",
    "            file = pathlib.Path(file)\n",
    "            file.rename(file.with_name(file.name.replace(\"T0001\", \"T0014\")))\n",
    "            print(file)"
   ]
  }
 ],
 "metadata": {
  "kernelspec": {
   "display_name": "timelapse_env",
   "language": "python",
   "name": "python3"
  },
  "language_info": {
   "codemirror_mode": {
    "name": "ipython",
    "version": 3
   },
   "file_extension": ".py",
   "mimetype": "text/x-python",
   "name": "python",
   "nbconvert_exporter": "python",
   "pygments_lexer": "ipython3",
   "version": "3.11.10"
  }
 },
 "nbformat": 4,
 "nbformat_minor": 2
}
