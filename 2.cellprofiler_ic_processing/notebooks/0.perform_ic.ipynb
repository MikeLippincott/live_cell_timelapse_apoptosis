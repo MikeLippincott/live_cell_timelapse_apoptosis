{
 "cells": [
  {
   "attachments": {},
   "cell_type": "markdown",
   "metadata": {},
   "source": [
    "# Run CellProfiler `illum.cppipe` (IC) pipeline\n",
    "\n",
    "In this notebook, we run the CellProfiler IC pipeline to calculate the illumination (illum) correction functions for all images per channel (4), apply the functions, and save images into a new directory."
   ]
  },
  {
   "attachments": {},
   "cell_type": "markdown",
   "metadata": {},
   "source": [
    "## Import libraries"
   ]
  },
  {
   "cell_type": "code",
   "execution_count": null,
   "metadata": {},
   "outputs": [],
   "source": [
    "import argparse\n",
    "import pathlib\n",
    "import sys\n",
    "\n",
    "sys.path.append(\"../../utils\")\n",
    "import cp_parallel\n",
    "import cp_utils as cp_utils\n",
    "import tqdm\n",
    "\n",
    "# check if in a jupyter notebook\n",
    "try:\n",
    "    cfg = get_ipython().config\n",
    "    in_notebook = True\n",
    "except NameError:\n",
    "    in_notebook = False"
   ]
  },
  {
   "attachments": {},
   "cell_type": "markdown",
   "metadata": {},
   "source": [
    "## Set paths"
   ]
  },
  {
   "cell_type": "code",
   "execution_count": null,
   "metadata": {},
   "outputs": [],
   "source": [
    "if not in_notebook:\n",
    "    print(\"Running as script\")\n",
    "    # set up arg parser\n",
    "    parser = argparse.ArgumentParser(description=\"Segment the nuclei of a tiff image\")\n",
    "\n",
    "    parser.add_argument(\n",
    "        \"--test_data\",\n",
    "        type=bool,\n",
    "        default=False,\n",
    "        help=\"Use test data\",\n",
    "    )\n",
    "\n",
    "    args = parser.parse_args()\n",
    "    run_test_data = args.test_data\n",
    "else:\n",
    "    print(\"Running in a notebook\")\n",
    "    run_test_data = True\n",
    "\n",
    "\n",
    "if not run_test_data:\n",
    "    preprocessed_data_path = pathlib.Path(\"../../data/preprocessed_data/\").resolve()\n",
    "    illum_directory = pathlib.Path(\"../illum_directory\").resolve()\n",
    "\n",
    "else:\n",
    "    preprocessed_data_path = pathlib.Path(\"../../data/test_data/\").resolve()\n",
    "    illum_directory = pathlib.Path(\"../illum_directory_test\").resolve()\n",
    "\n",
    "\n",
    "illum_directory.mkdir(exist_ok=True, parents=True)"
   ]
  },
  {
   "cell_type": "markdown",
   "metadata": {},
   "source": [
    "## Define the input paths"
   ]
  },
  {
   "cell_type": "code",
   "execution_count": 3,
   "metadata": {},
   "outputs": [],
   "source": [
    "dict_of_inputs = {}"
   ]
  },
  {
   "cell_type": "code",
   "execution_count": 4,
   "metadata": {},
   "outputs": [],
   "source": [
    "# get the list of dirs in the raw_data_path\n",
    "dirs = [x for x in preprocessed_data_path.iterdir() if x.is_dir()]\n",
    "# get the list of all dirs in the dir\n",
    "for dir in dirs:\n",
    "    # get the list of all dirs in the dir\n",
    "    subdirs = [x for x in dir.iterdir() if x.is_dir()]\n",
    "    for subdir in subdirs:\n",
    "        run_name = f\"{dir.name}_{subdir.name}\"\n",
    "        if \"4ch\" in dir.name:\n",
    "            dict_of_inputs[run_name] = {\n",
    "                \"path_to_images\": pathlib.Path(subdir).resolve(strict=True),\n",
    "                \"path_to_output\": pathlib.Path(illum_directory / run_name).resolve(),\n",
    "                \"path_to_pipeline\": pathlib.Path(\n",
    "                    \"../pipelines/illum_4ch.cppipe\"\n",
    "                ).resolve(),\n",
    "            }\n",
    "        elif \"2ch\" in dir.name:\n",
    "            dict_of_inputs[run_name] = {\n",
    "                \"path_to_images\": pathlib.Path(subdir).resolve(strict=True),\n",
    "                \"path_to_output\": pathlib.Path(illum_directory / run_name).resolve(),\n",
    "                \"path_to_pipeline\": pathlib.Path(\n",
    "                    \"../pipelines/illum_2ch.cppipe\"\n",
    "                ).resolve(),\n",
    "            }\n",
    "        else:\n",
    "            ValueError(\"The directory name does not contain 2ch or 4ch\")"
   ]
  },
  {
   "attachments": {},
   "cell_type": "markdown",
   "metadata": {},
   "source": [
    "## Run `illum.cppipe` pipeline and calculate + save IC images\n",
    "This last cell does not get run as we run this pipeline in the command line."
   ]
  },
  {
   "cell_type": "code",
   "execution_count": 5,
   "metadata": {},
   "outputs": [
    {
     "name": "stdout",
     "output_type": "stream",
     "text": [
      "Number of processes: 8\n",
      "All processes have been completed!\n",
      "20231017ChromaLive_endpoint_w_AnnexinV_2ch_MaxIP_C-04_F0001 0\n",
      "20231017ChromaLive_endpoint_w_AnnexinV_2ch_MaxIP_C-03_F0001 0\n",
      "20231017ChromaLive_endpoint_w_AnnexinV_2ch_MaxIP_C-02_F0001 0\n",
      "20231017ChromaLive_endpoint_w_AnnexinV_2ch_MaxIP_C-05_F0001 0\n",
      "20231017ChromaLive_6hr_4ch_MaxIP_C-04_F0001 0\n",
      "20231017ChromaLive_6hr_4ch_MaxIP_C-03_F0001 0\n",
      "20231017ChromaLive_6hr_4ch_MaxIP_C-02_F0001 0\n",
      "20231017ChromaLive_6hr_4ch_MaxIP_C-05_F0001 0\n",
      "All results have been converted to log files!\n"
     ]
    }
   ],
   "source": [
    "cp_parallel.run_cellprofiler_parallel(\n",
    "    plate_info_dictionary=dict_of_inputs, run_name=run_name\n",
    ")"
   ]
  }
 ],
 "metadata": {
  "kernelspec": {
   "display_name": "cellprofiler_timelapse_env",
   "language": "python",
   "name": "python3"
  },
  "language_info": {
   "codemirror_mode": {
    "name": "ipython",
    "version": 3
   },
   "file_extension": ".py",
   "mimetype": "text/x-python",
   "name": "python",
   "nbconvert_exporter": "python",
   "pygments_lexer": "ipython3",
   "version": "3.8.20"
  },
  "orig_nbformat": 4
 },
 "nbformat": 4,
 "nbformat_minor": 2
}
