{
 "cells": [
  {
   "attachments": {},
   "cell_type": "markdown",
   "metadata": {},
   "source": [
    "# Run CellProfiler `illum.cppipe` (IC) pipeline\n",
    "\n",
    "In this notebook, we run the CellProfiler IC pipeline to calculate the illumination (illum) correction functions for all images per channel (4), apply the functions, and save images into a new directory."
   ]
  },
  {
   "attachments": {},
   "cell_type": "markdown",
   "metadata": {},
   "source": [
    "## Import libraries"
   ]
  },
  {
   "cell_type": "code",
   "execution_count": 1,
   "metadata": {},
   "outputs": [],
   "source": [
    "import argparse\n",
    "import pathlib\n",
    "import sys\n",
    "\n",
    "sys.path.append(\"../../utils\")\n",
    "from cp_utils import run_cellprofiler"
   ]
  },
  {
   "cell_type": "code",
   "execution_count": 7,
   "metadata": {},
   "outputs": [
    {
     "name": "stdout",
     "output_type": "stream",
     "text": [
      "Running in a notebook\n"
     ]
    }
   ],
   "source": [
    "# check if in a jupyter notebook\n",
    "try:\n",
    "    cfg = get_ipython().config\n",
    "    in_notebook = True\n",
    "except NameError:\n",
    "    in_notebook = False\n",
    "\n",
    "if not in_notebook:\n",
    "    print(\"Running as script\")\n",
    "    # set up arg parser\n",
    "    parser = argparse.ArgumentParser(description=\"Segment the nuclei of a tiff image\")\n",
    "\n",
    "    parser.add_argument(\n",
    "        \"--input_dir\",\n",
    "        type=str,\n",
    "        help=\"Directory containing the images to be segmented\",\n",
    "        required=True,\n",
    "    )\n",
    "    args = parser.parse_args()\n",
    "    input_dir = pathlib.Path(args.input_dir).resolve()\n",
    "else:\n",
    "    print(\"Running in a notebook\")\n",
    "    input_dir = pathlib.Path(\n",
    "        \"../../data/test_data/20231017ChromaLive_endpoint_w_AnnexinV_2ch_MaxIP/C-02_F0001\"\n",
    "    ).resolve()"
   ]
  },
  {
   "attachments": {},
   "cell_type": "markdown",
   "metadata": {},
   "source": [
    "## Set paths"
   ]
  },
  {
   "cell_type": "code",
   "execution_count": 12,
   "metadata": {},
   "outputs": [],
   "source": [
    "if \"test\" in str(input_dir):\n",
    "    illum_directory = pathlib.Path(\"../illum_directory/test_data/\").resolve()\n",
    "else:\n",
    "    illum_directory = pathlib.Path(\"../illum_directory/\").resolve()\n",
    "\n",
    "if \"Annexin\" in str(input_dir):\n",
    "    illum_directory = pathlib.Path(f\"{illum_directory}/endpoint\").resolve()\n",
    "    path_to_pipeline = pathlib.Path(\"../pipelines/illum_2ch.cppipe\").resolve()\n",
    "else:\n",
    "    illum_directory = pathlib.Path(f\"{illum_directory}/timelapse\").resolve()\n",
    "    path_to_pipeline = pathlib.Path(\"../pipelines/illum_4ch.cppipe\").resolve()\n",
    "\n",
    "illum_directory.mkdir(parents=True, exist_ok=True)"
   ]
  },
  {
   "cell_type": "code",
   "execution_count": 13,
   "metadata": {},
   "outputs": [
    {
     "name": "stdout",
     "output_type": "stream",
     "text": [
      "20231017ChromaLive_endpoint_w_AnnexinV_2ch_MaxIP_C-02_F0001\n"
     ]
    }
   ],
   "source": [
    "illum_name = str(input_dir).split(\"/\")[-2] + \"_\" + str(input_dir).split(\"/\")[-1]\n",
    "print(illum_name)"
   ]
  },
  {
   "cell_type": "markdown",
   "metadata": {},
   "source": [
    "## Define the input paths"
   ]
  },
  {
   "cell_type": "code",
   "execution_count": 14,
   "metadata": {},
   "outputs": [],
   "source": [
    "path_to_output = pathlib.Path(f\"{illum_directory}/{illum_name}\").resolve()"
   ]
  },
  {
   "attachments": {},
   "cell_type": "markdown",
   "metadata": {},
   "source": [
    "## Run `illum.cppipe` pipeline and calculate + save IC images\n",
    "This last cell does not get run as we run this pipeline in the command line."
   ]
  },
  {
   "cell_type": "code",
   "execution_count": 15,
   "metadata": {},
   "outputs": [
    {
     "name": "stdout",
     "output_type": "stream",
     "text": [
      "The CellProfiler run has been completed with log. Please check log file for any errors.\n"
     ]
    }
   ],
   "source": [
    "run_cellprofiler(\n",
    "    path_to_pipeline=path_to_pipeline,\n",
    "    path_to_input=input_dir,\n",
    "    path_to_output=path_to_output,\n",
    "    sqlite_name=illum_name,\n",
    "    rename_sqlite_file_bool=True,\n",
    ")"
   ]
  }
 ],
 "metadata": {
  "kernelspec": {
   "display_name": "cellprofiler_timelapse_env",
   "language": "python",
   "name": "python3"
  },
  "language_info": {
   "codemirror_mode": {
    "name": "ipython",
    "version": 3
   },
   "file_extension": ".py",
   "mimetype": "text/x-python",
   "name": "python",
   "nbconvert_exporter": "python",
   "pygments_lexer": "ipython3",
   "version": "3.8.20"
  },
  "orig_nbformat": 4
 },
 "nbformat": 4,
 "nbformat_minor": 2
}
