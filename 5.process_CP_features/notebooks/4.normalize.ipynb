{
 "cells": [
  {
   "attachments": {},
   "cell_type": "markdown",
   "metadata": {},
   "source": [
    "# Normalize annotated single cells using negative control"
   ]
  },
  {
   "attachments": {},
   "cell_type": "markdown",
   "metadata": {},
   "source": [
    "## Import libraries"
   ]
  },
  {
   "cell_type": "code",
   "execution_count": 1,
   "metadata": {},
   "outputs": [],
   "source": [
    "import pathlib\n",
    "import pprint\n",
    "\n",
    "import pandas as pd\n",
    "from pycytominer import normalize\n",
    "from pycytominer.cyto_utils import output"
   ]
  },
  {
   "attachments": {},
   "cell_type": "markdown",
   "metadata": {},
   "source": [
    "## Set paths and variables"
   ]
  },
  {
   "cell_type": "code",
   "execution_count": 2,
   "metadata": {},
   "outputs": [],
   "source": [
    "# set paths\n",
    "paths_dict = {\n",
    "    \"timelapse_profiles\": {\n",
    "        \"input_dir\": pathlib.Path(\n",
    "            \"../data/3.combined_data/profiles/combined_data.parquet\"\n",
    "        ),\n",
    "        \"outout_file_dir\": pathlib.Path(\n",
    "            \"../data/4.normalized_data/profiles/normalized_profile.parquet\"\n",
    "        ),\n",
    "    },\n",
    "    \"endpoint_data\": {\n",
    "        \"input_dir\": pathlib.Path(\n",
    "            \"../data/3.combined_data/endpoints/combined_data.parquet\"\n",
    "        ),\n",
    "        \"outout_file_dir\": pathlib.Path(\n",
    "            \"../data/4.normalized_data/endpoints/normalized_profile.parquet\"\n",
    "        ),\n",
    "    },\n",
    "}"
   ]
  },
  {
   "attachments": {},
   "cell_type": "markdown",
   "metadata": {},
   "source": [
    "## Normalize with standardize method with negative control on annotated data"
   ]
  },
  {
   "cell_type": "markdown",
   "metadata": {},
   "source": [
    "The normalization needs to occur per time step. \n",
    "This code cell will split the data into time steps and normalize each time step separately.\n",
    "Then each normalized time step will be concatenated back together. "
   ]
  },
  {
   "cell_type": "code",
   "execution_count": 3,
   "metadata": {},
   "outputs": [
    {
     "name": "stdout",
     "output_type": "stream",
     "text": [
      "(209311, 2332)\n",
      "(144324, 1206)\n"
     ]
    }
   ],
   "source": [
    "for data_set in paths_dict:\n",
    "    # read data\n",
    "    paths_dict[data_set][\"outout_file_dir\"].parent.mkdir(exist_ok=True, parents=True)\n",
    "    annotated_df = pd.read_parquet(paths_dict[data_set][\"input_dir\"])\n",
    "    # read in the annotated file\n",
    "    annotated_df.reset_index(drop=True, inplace=True)\n",
    "    Metadatas = annotated_df.columns[\n",
    "        annotated_df.columns.str.contains(\"Metadata\")\n",
    "    ].to_list()\n",
    "    features = annotated_df.columns[~annotated_df.columns.isin(Metadatas)].to_list()\n",
    "    # normalize annotated data\n",
    "    if data_set not in \"endpoint_data\":\n",
    "        normalized_df = normalize(\n",
    "            # df with annotated raw merged single cell features\n",
    "            profiles=annotated_df,\n",
    "            # specify samples used as normalization reference (negative control)\n",
    "            samples=\"Metadata_compound == 'Staurosporine' and Metadata_dose == 0.0 and Metadata_Time == 0.0\",\n",
    "            # normalization method used\n",
    "            method=\"standardize\",\n",
    "            features=features,\n",
    "            meta_features=Metadatas,\n",
    "        )\n",
    "    else:\n",
    "        normalized_df = normalize(\n",
    "            # df with annotated raw merged single cell features\n",
    "            profiles=annotated_df,\n",
    "            # specify samples used as normalization reference (negative control)\n",
    "            samples=\"Metadata_compound == 'Staurosporine' and Metadata_dose == 0.0\",\n",
    "            # normalization method used\n",
    "            method=\"standardize\",\n",
    "            features=features,\n",
    "            meta_features=Metadatas,\n",
    "        )\n",
    "\n",
    "    output(\n",
    "        normalized_df,\n",
    "        output_filename=paths_dict[data_set][\"outout_file_dir\"],\n",
    "        output_type=\"parquet\",\n",
    "    )\n",
    "    # check to see if the features have been normalized\n",
    "    print(normalized_df.shape)\n",
    "    normalized_df.head()"
   ]
  }
 ],
 "metadata": {
  "kernelspec": {
   "display_name": "cellprofiler_timelapse_env",
   "language": "python",
   "name": "python3"
  },
  "language_info": {
   "codemirror_mode": {
    "name": "ipython",
    "version": 3
   },
   "file_extension": ".py",
   "mimetype": "text/x-python",
   "name": "python",
   "nbconvert_exporter": "python",
   "pygments_lexer": "ipython3",
   "version": "3.8.20"
  },
  "orig_nbformat": 4
 },
 "nbformat": 4,
 "nbformat_minor": 2
}
