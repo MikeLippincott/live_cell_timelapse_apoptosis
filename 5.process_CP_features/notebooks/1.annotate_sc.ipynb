{
 "cells": [
  {
   "attachments": {},
   "cell_type": "markdown",
   "metadata": {},
   "source": [
    "# Annotate merged single cells with metadata from platemap file"
   ]
  },
  {
   "attachments": {},
   "cell_type": "markdown",
   "metadata": {},
   "source": [
    "## Import libraries"
   ]
  },
  {
   "cell_type": "code",
   "execution_count": 1,
   "metadata": {},
   "outputs": [
    {
     "name": "stderr",
     "output_type": "stream",
     "text": [
      "/home/lippincm/miniforge3/envs/cellprofiler_timelapse_env/lib/python3.8/site-packages/tqdm/auto.py:21: TqdmWarning: IProgress not found. Please update jupyter and ipywidgets. See https://ipywidgets.readthedocs.io/en/stable/user_install.html\n",
      "  from .autonotebook import tqdm as notebook_tqdm\n"
     ]
    }
   ],
   "source": [
    "import argparse\n",
    "import pathlib\n",
    "import sys\n",
    "\n",
    "import lancedb\n",
    "import matplotlib.pyplot as plt\n",
    "import numpy as np\n",
    "import pandas as pd\n",
    "import seaborn as sns\n",
    "from pycytominer import annotate\n",
    "from pycytominer.cyto_utils import output\n",
    "\n",
    "try:\n",
    "    cfg = get_ipython().config\n",
    "    in_notebook = True\n",
    "except NameError:\n",
    "    in_notebook = False"
   ]
  },
  {
   "attachments": {},
   "cell_type": "markdown",
   "metadata": {},
   "source": [
    "## Set paths and variables"
   ]
  },
  {
   "cell_type": "code",
   "execution_count": null,
   "metadata": {},
   "outputs": [
    {
     "name": "stdout",
     "output_type": "stream",
     "text": [
      "Running in a notebook\n"
     ]
    }
   ],
   "source": [
    "# load in platemap file as a pandas dataframe\n",
    "platemap_path = pathlib.Path(\"../../data/\").resolve()\n",
    "\n",
    "# directory where parquet files are located\n",
    "data_dir = pathlib.Path(\"../data/0.converted_data\").resolve()\n",
    "\n",
    "# directory where the annotated parquet files are saved to\n",
    "output_dir = pathlib.Path(\"../data/1.annotated_data\")\n",
    "output_dir.mkdir(exist_ok=True)\n",
    "\n",
    "if not in_notebook:\n",
    "    print(\"Running as script\")\n",
    "    # set up arg parser\n",
    "    parser = argparse.ArgumentParser(description=\"Single cell extraction\")\n",
    "\n",
    "    parser.add_argument(\n",
    "        \"--well_fov\",\n",
    "        type=str,\n",
    "        help=\"Path to the input directory containing the tiff images\",\n",
    "    )\n",
    "\n",
    "    args = parser.parse_args()\n",
    "    well_fov = args.well_fov\n",
    "else:\n",
    "    print(\"Running in a notebook\")\n",
    "    well_fov = \"C-02_F0001\""
   ]
  },
  {
   "cell_type": "code",
   "execution_count": null,
   "metadata": {},
   "outputs": [],
   "source": []
  },
  {
   "cell_type": "code",
   "execution_count": 3,
   "metadata": {},
   "outputs": [],
   "source": [
    "# dictionary with each run for the cell type\n",
    "dict_of_inputs = {\n",
    "    \"run_20231017ChromaLive_6hr_4ch_MaxIP\": {\n",
    "        \"source_path\": pathlib.Path(f\"{data_dir}/timelapse/{well_fov}.parquet\").resolve(\n",
    "            strict=True\n",
    "        ),\n",
    "        \"platemap_path\": pathlib.Path(f\"{platemap_path}/platemap_6hr_4ch.csv\").resolve(\n",
    "            strict=True\n",
    "        ),\n",
    "        \"output_file\": pathlib.Path(\n",
    "            f\"{output_dir}/timelapse/{well_fov}_sc.parquet\"\n",
    "        ).resolve(),\n",
    "    },\n",
    "    \"20231017ChromaLive_endpoint_w_AnnexinV_2ch_MaxIP\": {\n",
    "        \"source_path\": pathlib.Path(f\"{data_dir}/endpoint/{well_fov}.parquet\").resolve(\n",
    "            strict=True\n",
    "        ),\n",
    "        \"platemap_path\": pathlib.Path(\n",
    "            f\"{platemap_path}/platemap_AnnexinV_2ch.csv\"\n",
    "        ).resolve(strict=True),\n",
    "        \"output_file\": pathlib.Path(\n",
    "            f\"{output_dir}/endpoint/{well_fov}_sc.parquet\"\n",
    "        ).resolve(),\n",
    "    },\n",
    "}"
   ]
  },
  {
   "attachments": {},
   "cell_type": "markdown",
   "metadata": {},
   "source": [
    "## Annotate merged single cells"
   ]
  },
  {
   "cell_type": "code",
   "execution_count": 4,
   "metadata": {},
   "outputs": [
    {
     "name": "stdout",
     "output_type": "stream",
     "text": [
      "(2309, 2318)\n",
      "Adding annotations to merged single cells for run_20231017ChromaLive_6hr_4ch_MaxIP!\n",
      "(2309, 2322)\n",
      "Annotations have been added to run_20231017ChromaLive_6hr_4ch_MaxIP and saved to /home/lippincm/Documents/live_cell_timelapse_apoptosis/5.process_CP_features/data/1.annotated_data/timelapse/C-02_F0001_sc.parquet\n",
      "(2309, 2322)\n",
      "(155, 1202)\n",
      "Adding annotations to merged single cells for 20231017ChromaLive_endpoint_w_AnnexinV_2ch_MaxIP!\n",
      "(1860, 1206)\n",
      "Annotations have been added to 20231017ChromaLive_endpoint_w_AnnexinV_2ch_MaxIP and saved to /home/lippincm/Documents/live_cell_timelapse_apoptosis/5.process_CP_features/data/1.annotated_data/endpoint/C-02_F0001_sc.parquet\n",
      "(1860, 1206)\n"
     ]
    }
   ],
   "source": [
    "for data_run, info in dict_of_inputs.items():\n",
    "    # load in converted parquet file as df to use in annotate function\n",
    "    single_cell_df = pd.read_parquet(info[\"source_path\"])\n",
    "    print(single_cell_df.shape)\n",
    "    single_cell_df = single_cell_df.rename(\n",
    "        columns={\n",
    "            \"Image_Metadata_FOV\": \"Metadata_FOV\",\n",
    "            \"Image_Metadata_Time\": \"Metadata_Time\",\n",
    "        },\n",
    "    )\n",
    "    platemap_df = pd.read_csv(info[\"platemap_path\"])\n",
    "\n",
    "    print(f\"Adding annotations to merged single cells for {data_run}!\")\n",
    "\n",
    "    # add metadata from platemap file to extracted single cell features\n",
    "    annotated_df = annotate(\n",
    "        profiles=single_cell_df,\n",
    "        platemap=platemap_df,\n",
    "        join_on=[\"Metadata_well\", \"Image_Metadata_Well\"],\n",
    "    )\n",
    "    print(annotated_df.shape)\n",
    "\n",
    "    # move metadata well and single cell count to the front of the df (for easy visualization in python)\n",
    "    well_column = annotated_df.pop(\"Metadata_Well\")\n",
    "    singlecell_column = annotated_df.pop(\"Metadata_number_of_singlecells\")\n",
    "    # insert the column as the second index column in the dataframe\n",
    "    annotated_df.insert(1, \"Metadata_Well\", well_column)\n",
    "    annotated_df.insert(2, \"Metadata_number_of_singlecells\", singlecell_column)\n",
    "\n",
    "    # rename metadata columns to match the expected column names\n",
    "    columns_to_rename = {\n",
    "        \"Nuclei_Location_Center_Y\": \"Metadata_Nuclei_Location_Center_Y\",\n",
    "        \"Nuclei_Location_Center_X\": \"Metadata_Nuclei_Location_Center_X\",\n",
    "    }\n",
    "    # Image_FileName cols\n",
    "    for col in annotated_df.columns:\n",
    "        if \"Image_FileName\" in col:\n",
    "            columns_to_rename[col] = f\"Metadata_{col}\"\n",
    "        elif \"Image_PathName\" in col:\n",
    "            columns_to_rename[col] = f\"Metadata_{col}\"\n",
    "        elif \"TrackObjects\" in col:\n",
    "            columns_to_rename[col] = f\"Metadata_{col}\"\n",
    "    # rename metadata columns\n",
    "    annotated_df.rename(columns=columns_to_rename, inplace=True)\n",
    "\n",
    "    info[\"output_file\"].parent.mkdir(exist_ok=True, parents=True)\n",
    "\n",
    "    # save annotated df as parquet file\n",
    "    output(\n",
    "        df=annotated_df,\n",
    "        output_filename=info[\"output_file\"],\n",
    "        output_type=\"parquet\",\n",
    "    )\n",
    "    print(\n",
    "        f\"Annotations have been added to {data_run} and saved to {info['output_file']}\"\n",
    "    )\n",
    "    # check last annotated df to see if it has been annotated correctly\n",
    "    print(annotated_df.shape)\n",
    "    annotated_df.head()\n",
    "del annotated_df"
   ]
  }
 ],
 "metadata": {
  "kernelspec": {
   "display_name": "cellprofiler_timelapse_env",
   "language": "python",
   "name": "python3"
  },
  "language_info": {
   "codemirror_mode": {
    "name": "ipython",
    "version": 3
   },
   "file_extension": ".py",
   "mimetype": "text/x-python",
   "name": "python",
   "nbconvert_exporter": "python",
   "pygments_lexer": "ipython3",
   "version": "3.8.20"
  },
  "orig_nbformat": 4
 },
 "nbformat": 4,
 "nbformat_minor": 2
}
