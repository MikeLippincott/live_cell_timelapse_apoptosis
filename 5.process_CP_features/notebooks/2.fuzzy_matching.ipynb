{
 "cells": [
  {
   "attachments": {},
   "cell_type": "markdown",
   "metadata": {},
   "source": [
    "# Annotate merged single cells with metadata from platemap file"
   ]
  },
  {
   "attachments": {},
   "cell_type": "markdown",
   "metadata": {},
   "source": [
    "## Import libraries"
   ]
  },
  {
   "cell_type": "code",
   "execution_count": null,
   "metadata": {},
   "outputs": [],
   "source": [
    "import argparse\n",
    "import pathlib\n",
    "import sys\n",
    "\n",
    "import lancedb\n",
    "import matplotlib.pyplot as plt\n",
    "import numpy as np\n",
    "import pandas as pd\n",
    "import seaborn as sns\n",
    "import tqdm\n",
    "from pycytominer import annotate\n",
    "from pycytominer.cyto_utils import output\n",
    "\n",
    "try:\n",
    "    cfg = get_ipython().config\n",
    "    in_notebook = True\n",
    "except NameError:\n",
    "    in_notebook = False"
   ]
  },
  {
   "attachments": {},
   "cell_type": "markdown",
   "metadata": {},
   "source": [
    "## Set paths and variables"
   ]
  },
  {
   "cell_type": "code",
   "execution_count": null,
   "metadata": {},
   "outputs": [],
   "source": [
    "# load in platemap file as a pandas dataframe\n",
    "platemap_path = pathlib.Path(\"../../data/\").resolve()\n",
    "\n",
    "# directory where parquet files are located\n",
    "data_dir = pathlib.Path(\"../data/1.annotated_data\").resolve()\n",
    "\n",
    "# directory where the annotated parquet files are saved to\n",
    "profiles_output_dir = pathlib.Path(\n",
    "    \"../data/2.sc_tracks_annotated_data/profiles/\"\n",
    ").resolve()\n",
    "stats_output_dir = pathlib.Path(\"../data/2.sc_tracks_annotated_data/stats/\").resolve()\n",
    "\n",
    "profiles_output_dir.mkdir(exist_ok=True, parents=True)\n",
    "stats_output_dir.mkdir(exist_ok=True, parents=True)\n",
    "\n",
    "if not in_notebook:\n",
    "    print(\"Running as script\")\n",
    "    # set up arg parser\n",
    "    parser = argparse.ArgumentParser(description=\"Single cell extraction\")\n",
    "\n",
    "    parser.add_argument(\n",
    "        \"--well_fov\",\n",
    "        type=str,\n",
    "        help=\"Path to the input directory containing the tiff images\",\n",
    "    )\n",
    "\n",
    "    args = parser.parse_args()\n",
    "    well_fov = args.well_fov\n",
    "else:\n",
    "    print(\"Running in a notebook\")\n",
    "    well_fov = \"C-02_F0001\""
   ]
  },
  {
   "cell_type": "code",
   "execution_count": null,
   "metadata": {},
   "outputs": [],
   "source": [
    "tracks = pathlib.Path(\n",
    "    f\"../../4.cell_tracking/results/{well_fov}_tracks.parquet\"\n",
    ").resolve(strict=True)\n",
    "profiles = pathlib.Path(\n",
    "    f\"../data/1.annotated_data/timelapse/{well_fov}_sc.parquet\"\n",
    ").resolve(strict=True)\n",
    "\n",
    "tracks = pd.read_parquet(tracks)\n",
    "profiles = pd.read_parquet(\n",
    "    profiles,\n",
    "    # columns=[\"Metadata_Time\", \"Nuclei_AreaShape_Center_X\", \"Nuclei_AreaShape_Center_Y\",\"Metadata_compound\",\"Metadata_dose\"]\n",
    ")\n",
    "# prepend Metadata_ to the tracks columns\n",
    "tracks.columns = [\"Metadata_\" + str(col) for col in tracks.columns]\n",
    "tracks[\"Metadata_coordinates\"] = list(zip(tracks[\"Metadata_x\"], tracks[\"Metadata_y\"]))\n",
    "profiles[\"Metadata_coordinates\"] = list(\n",
    "    zip(profiles[\"Nuclei_AreaShape_Center_X\"], profiles[\"Nuclei_AreaShape_Center_Y\"])\n",
    ")\n",
    "\n",
    "profiles[\"Metadata_Time\"] = profiles[\"Metadata_Time\"].astype(float)\n",
    "profiles[\"Metadata_Time\"] = profiles[\"Metadata_Time\"] - 1"
   ]
  },
  {
   "cell_type": "code",
   "execution_count": null,
   "metadata": {},
   "outputs": [],
   "source": [
    "coordinate_column_left = \"Metadata_coordinates\"\n",
    "coordinate_column_right = \"Metadata_coordinates\"\n",
    "pixel_cutt_off = 5\n",
    "left_on = [\"Metadata_Time\"]\n",
    "right_on = [\"Metadata_t\"]\n",
    "merged_df_list = []  # list to store the merged dataframes\n",
    "total_CP_cells = 0  # total number of cells in the left dataframe\n",
    "total_annotated_cells = 0  # total number of cells that were annotated\n",
    "distances = []  # list to store the distances between the coordinates"
   ]
  },
  {
   "cell_type": "code",
   "execution_count": null,
   "metadata": {},
   "outputs": [],
   "source": [
    "for time in profiles[\"Metadata_Time\"].unique():\n",
    "    df_left = profiles.copy().loc[profiles[\"Metadata_Time\"] == time]\n",
    "    df_right = tracks.copy().loc[tracks[\"Metadata_t\"] == time]\n",
    "\n",
    "    total_CP_cells += df_left.shape[0]\n",
    "    # loop through the rows in the subset_annotated_df and find the closest coordinate set in the location metadata\n",
    "    for index1, row1 in df_left.iterrows():\n",
    "        dist = np.inf\n",
    "        for index2, row2 in df_right.iterrows():\n",
    "            coord1 = row1[coordinate_column_left]\n",
    "            coord2 = row2[coordinate_column_right]\n",
    "            try:\n",
    "                temp_dist = np.linalg.norm(np.array(coord1) - np.array(coord2))\n",
    "            except:\n",
    "                temp_dist = np.inf\n",
    "            if temp_dist <= dist:\n",
    "                dist = temp_dist\n",
    "                coord2_index = index2\n",
    "\n",
    "            # set cut off of 5,5 pixel in the euclidean distance\n",
    "            euclidean_cut_off = np.linalg.norm(\n",
    "                np.array([0, 0]) - np.array([pixel_cutt_off, pixel_cutt_off])\n",
    "            )\n",
    "\n",
    "        if dist < euclidean_cut_off:\n",
    "            temp_merged_df = pd.merge(\n",
    "                df_left.loc[[index1]],\n",
    "                df_right.loc[[coord2_index]],\n",
    "                how=\"inner\",\n",
    "                left_on=left_on,\n",
    "                right_on=right_on,\n",
    "            )\n",
    "            distances.append(dist)\n",
    "            total_annotated_cells += temp_merged_df.shape[0]\n",
    "            merged_df_list.append(temp_merged_df)\n",
    "if len(merged_df_list) == 0:\n",
    "    merged_df_list.append(pd.DataFrame())\n",
    "merged_df = pd.concat(merged_df_list)\n",
    "merged_df[\"Metadata_distance\"] = distances\n",
    "\n",
    "# replace Metadata string in column names with Metadata (Non Morphology Features)\n",
    "merged_df.columns = [\n",
    "    x.replace(\"Metadata_\", \"Metadata_\") if \"Metadata_\" in x else x\n",
    "    for x in merged_df.columns\n",
    "]\n",
    "\n",
    "print(f\"Annotated cells: {total_annotated_cells} out of {total_CP_cells}\")\n",
    "print(f\"Percentage of annotated cells: {total_annotated_cells/total_CP_cells*100}%\")\n",
    "print(merged_df.shape)\n",
    "merged_df.to_parquet(profiles_output_dir / f\"{well_fov}_annotated_tracks.parquet\")\n",
    "merged_df.head()"
   ]
  },
  {
   "cell_type": "code",
   "execution_count": null,
   "metadata": {},
   "outputs": [],
   "source": [
    "# get the number of tracks for each track length\n",
    "list_of_track_lengths = []\n",
    "for track in merged_df[\"Metadata_track_id\"].unique():\n",
    "    track_length = merged_df.loc[merged_df[\"Metadata_track_id\"] == track].shape[0]\n",
    "    list_of_track_lengths.append(track_length)\n",
    "list_of_track_lengths_df = pd.DataFrame(list_of_track_lengths, columns=[\"track_length\"])\n",
    "list_of_track_lengths_df = (\n",
    "    list_of_track_lengths_df.value_counts().to_frame().reset_index()\n",
    ")\n",
    "list_of_track_lengths_df[\"well_fov\"] = well_fov\n",
    "# save the list of track lengths to a parquet file\n",
    "list_of_track_lengths_df.to_parquet(\n",
    "    stats_output_dir / f\"{well_fov}_track_lengths.parquet\"\n",
    ")"
   ]
  },
  {
   "cell_type": "code",
   "execution_count": null,
   "metadata": {},
   "outputs": [],
   "source": [
    "well_fov_stats_df = pd.DataFrame(\n",
    "    {\n",
    "        \"well_fov\": [well_fov],\n",
    "        \"total_CP_cells\": [total_CP_cells],\n",
    "        \"total_annotated_cells\": [total_annotated_cells],\n",
    "        \"percentage_annotated_cells\": [total_annotated_cells / total_CP_cells * 100],\n",
    "    }\n",
    ")\n",
    "well_fov_stats_df\n",
    "# save the stats to a parquet file\n",
    "well_fov_stats_df.to_parquet(stats_output_dir / f\"{well_fov}_stats.parquet\")"
   ]
  }
 ],
 "metadata": {
  "kernelspec": {
   "display_name": "cellprofiler_timelapse_env",
   "language": "python",
   "name": "python3"
  },
  "language_info": {
   "codemirror_mode": {
    "name": "ipython",
    "version": 3
   },
   "file_extension": ".py",
   "mimetype": "text/x-python",
   "name": "python",
   "nbconvert_exporter": "python",
   "pygments_lexer": "ipython3",
   "version": "3.8.20"
  },
  "orig_nbformat": 4
 },
 "nbformat": 4,
 "nbformat_minor": 2
}
