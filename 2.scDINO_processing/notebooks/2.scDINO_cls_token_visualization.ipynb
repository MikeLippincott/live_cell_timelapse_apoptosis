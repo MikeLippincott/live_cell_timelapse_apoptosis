{
 "cells": [
  {
   "cell_type": "code",
   "execution_count": null,
   "metadata": {
    "vscode": {
     "languageId": "r"
    }
   },
   "outputs": [],
   "source": [
    "suppressPackageStartupMessages(suppressWarnings(library(ggplot2)))\n",
    "suppressPackageStartupMessages(suppressWarnings(library(dplyr)))\n",
    "suppressPackageStartupMessages(suppressWarnings(library(tidyr)))\n",
    "suppressPackageStartupMessages(suppressWarnings(library(shiny)))\n",
    "suppressPackageStartupMessages(suppressWarnings(library(rsconnect)))"
   ]
  },
  {
   "cell_type": "code",
   "execution_count": null,
   "metadata": {
    "vscode": {
     "languageId": "r"
    }
   },
   "outputs": [],
   "source": [
    "# set UMAP df path\n",
    "umap_df_path <- file.path(\"..\",\"..\",\"1.scDINO_run/outputdir/test_run/CLS_features/CLS_features_annotated_umap.csv\")\n",
    "# load UMAP df\n",
    "umap_df <- read.csv(umap_df_path)\n",
    "head(umap_df,2)"
   ]
  },
  {
   "cell_type": "code",
   "execution_count": null,
   "metadata": {
    "vscode": {
     "languageId": "r"
    }
   },
   "outputs": [],
   "source": [
    "# get all wells\n",
    "unique(umap_df$Metadata_Well)"
   ]
  },
  {
   "cell_type": "code",
   "execution_count": null,
   "metadata": {
    "vscode": {
     "languageId": "r"
    }
   },
   "outputs": [],
   "source": [
    "# select just one well\n",
    "# umap_df <- umap_df %>% filter(Metadata_Well == \"E-11\")\n",
    "# remove the T from the time column\n",
    "umap_df$Metadata_Time <- gsub(\"T\",\"\",umap_df$Metadata_Time)\n",
    "# convert to numeric\n",
    "umap_df$Metadata_Time <- as.numeric(umap_df$Metadata_Time)\n"
   ]
  },
  {
   "cell_type": "code",
   "execution_count": null,
   "metadata": {
    "vscode": {
     "languageId": "r"
    }
   },
   "outputs": [],
   "source": [
    "# plot UMAP\n",
    "width <- 15\n",
    "height <- 10\n",
    "options(repr.plot.width = width, repr.plot.height = height)\n",
    "umap_plot <- (\n",
    "    ggplot(umap_df, aes(x = UMAP1, y = UMAP2, color = Metadata_Time))\n",
    "    + geom_point(size = 1)\n",
    "    + theme_minimal()\n",
    "    + theme(legend.position = \"right\")\n",
    ")\n",
    "umap_plot"
   ]
  },
  {
   "cell_type": "markdown",
   "metadata": {},
   "source": [
    "## Deploy the shiny app to shinyapps.io"
   ]
  },
  {
   "cell_type": "markdown",
   "metadata": {},
   "source": [
    "Note I use system environment variables to store the rsconnect token and secret.\n",
    "This way you can't see them in the code and be sneaky and push to my account.\n",
    "This can be set up by running the following in the terminal:\n",
    "```bash\n",
    "export RSCONNECT_NAME=\"User\"\n",
    "export RSCONNECT_TOKEN=\"Token\"\n",
    "export RSCONNECT_SECRET=\"Secret\"\n",
    "source ~/.bashrc\n",
    "```\n",
    "Please replace the values with your own."
   ]
  },
  {
   "cell_type": "code",
   "execution_count": null,
   "metadata": {
    "vscode": {
     "languageId": "r"
    }
   },
   "outputs": [],
   "source": [
    "rsconnect::setAccountInfo(\n",
    "  name = Sys.getenv(\"RSCONNECT_NAME\"),\n",
    "  token = Sys.getenv(\"RSCONNECT_TOKEN\"),\n",
    "  secret = Sys.getenv(\"RSCONNECT_SECRET\")\n",
    ")"
   ]
  },
  {
   "cell_type": "code",
   "execution_count": null,
   "metadata": {
    "vscode": {
     "languageId": "r"
    }
   },
   "outputs": [],
   "source": [
    "rsconnect::deployApp(appDir = \"../temporal_shiny_app\", appName = \"temporal_shiny_app\")"
   ]
  }
 ],
 "metadata": {
  "kernelspec": {
   "display_name": "R",
   "language": "R",
   "name": "ir"
  },
  "language_info": {
   "codemirror_mode": "r",
   "file_extension": ".r",
   "mimetype": "text/x-r-source",
   "name": "R",
   "pygments_lexer": "r",
   "version": "4.2.2"
  }
 },
 "nbformat": 4,
 "nbformat_minor": 2
}
