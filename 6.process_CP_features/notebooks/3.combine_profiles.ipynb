{
 "cells": [
  {
   "attachments": {},
   "cell_type": "markdown",
   "metadata": {},
   "source": [
    "# Combine annotated tracked profiles into one parquet file"
   ]
  },
  {
   "attachments": {},
   "cell_type": "markdown",
   "metadata": {},
   "source": [
    "## Import libraries"
   ]
  },
  {
   "cell_type": "code",
   "execution_count": 1,
   "metadata": {},
   "outputs": [],
   "source": [
    "import pathlib\n",
    "import pprint\n",
    "\n",
    "import pandas as pd"
   ]
  },
  {
   "attachments": {},
   "cell_type": "markdown",
   "metadata": {},
   "source": [
    "## Set paths and variables"
   ]
  },
  {
   "cell_type": "code",
   "execution_count": 2,
   "metadata": {},
   "outputs": [],
   "source": [
    "# set paths\n",
    "paths_dict = {\n",
    "    \"timelapse_profiles\": {\n",
    "        \"input_dir\": pathlib.Path(\n",
    "            \"../data/2.sc_tracks_annotated_data/profiles/timelapse\"\n",
    "        ),\n",
    "        \"output_file_dir\": pathlib.Path(\n",
    "            \"../data/3.combined_data/profiles/combined_data.parquet\"\n",
    "        ),\n",
    "    },\n",
    "    \"endpoint_data\": {\n",
    "        \"input_dir\": pathlib.Path(\n",
    "            \"../data/2.sc_tracks_annotated_data/profiles/endpoint\"\n",
    "        ),\n",
    "        \"output_file_dir\": pathlib.Path(\n",
    "            \"../data/3.combined_data/endpoints/combined_data.parquet\"\n",
    "        ),\n",
    "    },\n",
    "}"
   ]
  },
  {
   "cell_type": "code",
   "execution_count": 3,
   "metadata": {},
   "outputs": [
    {
     "name": "stdout",
     "output_type": "stream",
     "text": [
      "Found 1 files in timelapse_profiles directory\n",
      "(1673, 2332)\n",
      "Found 1 files in endpoint_data directory\n",
      "(1320, 1216)\n"
     ]
    }
   ],
   "source": [
    "for data_set in paths_dict.keys():\n",
    "    files = list(paths_dict[data_set][\"input_dir\"].rglob(\"*.parquet\"))\n",
    "    print(f\"Found {len(files)} files in {data_set} directory\")\n",
    "    list_of_dfs = [pd.read_parquet(file) for file in files]\n",
    "    combined_df = pd.concat(list_of_dfs, ignore_index=True)\n",
    "    paths_dict[data_set][\"output_file_dir\"].parent.mkdir(parents=True, exist_ok=True)\n",
    "    combined_df.to_parquet(paths_dict[data_set][\"output_file_dir\"])\n",
    "    print(combined_df.shape)"
   ]
  }
 ],
 "metadata": {
  "kernelspec": {
   "display_name": "cellprofiler_timelapse_env",
   "language": "python",
   "name": "python3"
  },
  "language_info": {
   "codemirror_mode": {
    "name": "ipython",
    "version": 3
   },
   "file_extension": ".py",
   "mimetype": "text/x-python",
   "name": "python",
   "nbconvert_exporter": "python",
   "pygments_lexer": "ipython3",
   "version": "3.8.20"
  },
  "orig_nbformat": 4
 },
 "nbformat": 4,
 "nbformat_minor": 2
}
