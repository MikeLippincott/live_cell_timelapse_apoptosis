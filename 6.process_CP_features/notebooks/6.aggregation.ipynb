{
 "cells": [
  {
   "attachments": {},
   "cell_type": "markdown",
   "metadata": {},
   "source": [
    "# Aggregate feature selected profiles"
   ]
  },
  {
   "attachments": {},
   "cell_type": "markdown",
   "metadata": {},
   "source": [
    "## Import libraries"
   ]
  },
  {
   "cell_type": "code",
   "execution_count": 1,
   "metadata": {},
   "outputs": [],
   "source": [
    "import gc\n",
    "import pathlib\n",
    "import sys\n",
    "\n",
    "import numpy as np\n",
    "import pandas as pd\n",
    "from pycytominer import aggregate"
   ]
  },
  {
   "attachments": {},
   "cell_type": "markdown",
   "metadata": {},
   "source": [
    "## Set paths and variables"
   ]
  },
  {
   "cell_type": "code",
   "execution_count": 2,
   "metadata": {},
   "outputs": [],
   "source": [
    "# set paths\n",
    "paths_dict = {\n",
    "    \"timelapse_profiles\": {\n",
    "        \"input_dir\": pathlib.Path(\n",
    "            \"../data/5.feature_select/profiles/features_selected_profile.parquet\"\n",
    "        ).resolve(strict=True),\n",
    "        \"output_file_dir\": pathlib.Path(\n",
    "            \"../data/6.aggregated/profiles/aggregated_profile.parquet\"\n",
    "        ).resolve(),\n",
    "    },\n",
    "    \"endpoint_data\": {\n",
    "        \"input_dir\": pathlib.Path(\n",
    "            \"../data/5.feature_select/endpoints/features_selected_profile.parquet\"\n",
    "        ).resolve(strict=True),\n",
    "        \"output_file_dir\": pathlib.Path(\n",
    "            \"../data/6.aggregated/endpoints/aggregated_profile.parquet\"\n",
    "        ).resolve(),\n",
    "    },\n",
    "}"
   ]
  },
  {
   "attachments": {},
   "cell_type": "markdown",
   "metadata": {},
   "source": [
    "## Perform aggregation"
   ]
  },
  {
   "cell_type": "code",
   "execution_count": 3,
   "metadata": {},
   "outputs": [
    {
     "name": "stdout",
     "output_type": "stream",
     "text": [
      "(389, 873)\n",
      "(30, 524)\n"
     ]
    }
   ],
   "source": [
    "for data_set in paths_dict:\n",
    "    paths_dict[data_set][\"output_file_dir\"].parent.mkdir(exist_ok=True, parents=True)\n",
    "    # read in the annotated file\n",
    "    fs_df = pd.read_parquet(paths_dict[data_set][\"input_dir\"])\n",
    "    metadata_cols = fs_df.columns[fs_df.columns.str.contains(\"Metadata\")].to_list()\n",
    "    selected_metadata_cols = [\n",
    "        \"Metadata_Well\",\n",
    "        \"Metadata_plate\",\n",
    "        \"Metadata_compound\",\n",
    "        \"Metadata_dose\",\n",
    "        \"Metadata_control\",\n",
    "        \"Metadata_Time\",\n",
    "    ]\n",
    "    feature_cols = fs_df.columns[~fs_df.columns.str.contains(\"Metadata\")].to_list()\n",
    "    feature_cols = [\"Metadata_number_of_singlecells\"] + feature_cols\n",
    "    if data_set not in \"endpoint_data\":\n",
    "        aggregated_df = aggregate(\n",
    "            fs_df,\n",
    "            features=feature_cols,\n",
    "            strata=[\"Metadata_Well\", \"Metadata_Time\"],\n",
    "            operation=\"median\",\n",
    "        )\n",
    "        aggregated_df = pd.merge(\n",
    "            aggregated_df,\n",
    "            fs_df[selected_metadata_cols],\n",
    "            how=\"left\",\n",
    "            on=[\"Metadata_Well\", \"Metadata_Time\"],\n",
    "        )\n",
    "    else:\n",
    "        aggregated_df = aggregate(\n",
    "            fs_df,\n",
    "            features=feature_cols,\n",
    "            strata=[\"Metadata_Well\"],\n",
    "            operation=\"median\",\n",
    "        )\n",
    "        aggregated_df = pd.merge(\n",
    "            aggregated_df,\n",
    "            fs_df[selected_metadata_cols],\n",
    "            how=\"left\",\n",
    "            on=[\"Metadata_Well\"],\n",
    "        )\n",
    "\n",
    "    # rearrange the columns such that the metadata columns are first\n",
    "    for col in reversed(aggregated_df.columns):\n",
    "        if col.startswith(\"Metadata_\"):\n",
    "            tmp_pop = aggregated_df.pop(col)\n",
    "            aggregated_df.insert(0, col, tmp_pop)\n",
    "        if aggregated_df[col].apply(lambda x: isinstance(x, (list, np.ndarray))).any():\n",
    "            aggregated_df[col] = aggregated_df[col].apply(str)\n",
    "\n",
    "    aggregated_df.drop_duplicates(inplace=True, ignore_index=True)\n",
    "\n",
    "    print(aggregated_df.shape)\n",
    "    aggregated_df.to_parquet(paths_dict[data_set][\"output_file_dir\"])"
   ]
  }
 ],
 "metadata": {
  "kernelspec": {
   "display_name": "cellprofiler_timelapse_env",
   "language": "python",
   "name": "python3"
  },
  "language_info": {
   "codemirror_mode": {
    "name": "ipython",
    "version": 3
   },
   "file_extension": ".py",
   "mimetype": "text/x-python",
   "name": "python",
   "nbconvert_exporter": "python",
   "pygments_lexer": "ipython3",
   "version": "3.8.20"
  },
  "orig_nbformat": 4
 },
 "nbformat": 4,
 "nbformat_minor": 2
}
