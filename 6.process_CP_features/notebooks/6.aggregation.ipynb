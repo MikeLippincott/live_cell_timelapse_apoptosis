{
 "cells": [
  {
   "attachments": {},
   "cell_type": "markdown",
   "metadata": {},
   "source": [
    "# Aggregate feature selected profiles"
   ]
  },
  {
   "attachments": {},
   "cell_type": "markdown",
   "metadata": {},
   "source": [
    "## Import libraries"
   ]
  },
  {
   "cell_type": "code",
   "execution_count": 1,
   "metadata": {},
   "outputs": [],
   "source": [
    "import gc\n",
    "import pathlib\n",
    "import sys\n",
    "\n",
    "import pandas as pd\n",
    "from pycytominer import aggregate"
   ]
  },
  {
   "attachments": {},
   "cell_type": "markdown",
   "metadata": {},
   "source": [
    "## Set paths and variables"
   ]
  },
  {
   "cell_type": "code",
   "execution_count": 2,
   "metadata": {},
   "outputs": [],
   "source": [
    "# set paths\n",
    "paths_dict = {\n",
    "    \"timelapse_profiles\": {\n",
    "        \"input_dir\": pathlib.Path(\n",
    "            \"../data/5.feature_select/profiles/features_selected_profile.parquet\"\n",
    "        ).resolve(strict=True),\n",
    "        \"output_file_dir\": pathlib.Path(\n",
    "            \"../data/6.aggregated/profiles/aggregated_profile.parquet\"\n",
    "        ).resolve(),\n",
    "    },\n",
    "    \"endpoint_data\": {\n",
    "        \"input_dir\": pathlib.Path(\n",
    "            \"../data/5.feature_select/endpoints/features_selected_profile.parquet\"\n",
    "        ).resolve(strict=True),\n",
    "        \"output_file_dir\": pathlib.Path(\n",
    "            \"../data/6.aggregated/endpoints/aggregated_profile.parquet\"\n",
    "        ).resolve(),\n",
    "    },\n",
    "}"
   ]
  },
  {
   "attachments": {},
   "cell_type": "markdown",
   "metadata": {},
   "source": [
    "## Perform aggregation"
   ]
  },
  {
   "cell_type": "code",
   "execution_count": 3,
   "metadata": {},
   "outputs": [
    {
     "name": "stdout",
     "output_type": "stream",
     "text": [
      "(209311, 847)\n",
      "(144324, 366)\n"
     ]
    }
   ],
   "source": [
    "for data_set in paths_dict:\n",
    "    paths_dict[data_set][\"output_file_dir\"].parent.mkdir(exist_ok=True, parents=True)\n",
    "    # read in the annotated file\n",
    "    fs_df = pd.read_parquet(paths_dict[data_set][\"input_dir\"])\n",
    "    metadata_cols = fs_df.columns[fs_df.columns.str.contains(\"Metadata\")].to_list()\n",
    "    feature_cols = fs_df.columns[~fs_df.columns.str.contains(\"Metadata\")].to_list()\n",
    "    if data_set not in \"endpoint_data\":\n",
    "        aggregated_df = aggregate(\n",
    "            fs_df,\n",
    "            features=feature_cols,\n",
    "            strata=[\"Metadata_Well\", \"Metadata_Time\"],\n",
    "            operation=\"median\",\n",
    "        )\n",
    "        aggregated_df = pd.merge(\n",
    "            aggregated_df,\n",
    "            fs_df[metadata_cols],\n",
    "            how=\"left\",\n",
    "            on=[\"Metadata_Well\", \"Metadata_Time\"],\n",
    "        )\n",
    "    else:\n",
    "        aggregated_df = aggregate(\n",
    "            fs_df,\n",
    "            features=feature_cols,\n",
    "            strata=[\"Metadata_Well\"],\n",
    "            operation=\"median\",\n",
    "        )\n",
    "        aggregated_df = pd.merge(\n",
    "            aggregated_df,\n",
    "            fs_df[metadata_cols],\n",
    "            how=\"left\",\n",
    "            on=[\"Metadata_Well\"],\n",
    "        )\n",
    "\n",
    "    # rearrange the columns such that the metadata columns are first\n",
    "    for col in reversed(aggregated_df.columns):\n",
    "        if col.startswith(\"Metadata_\"):\n",
    "            tmp_pop = aggregated_df.pop(col)\n",
    "            aggregated_df.insert(0, col, tmp_pop)\n",
    "    print(aggregated_df.shape)\n",
    "    aggregated_df.to_parquet(paths_dict[data_set][\"output_file_dir\"])"
   ]
  }
 ],
 "metadata": {
  "kernelspec": {
   "display_name": "cellprofiler_timelapse_env",
   "language": "python",
   "name": "python3"
  },
  "language_info": {
   "codemirror_mode": {
    "name": "ipython",
    "version": 3
   },
   "file_extension": ".py",
   "mimetype": "text/x-python",
   "name": "python",
   "nbconvert_exporter": "python",
   "pygments_lexer": "ipython3",
   "version": "3.8.20"
  },
  "orig_nbformat": 4
 },
 "nbformat": 4,
 "nbformat_minor": 2
}
