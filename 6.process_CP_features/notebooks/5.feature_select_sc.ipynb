{
 "cells": [
  {
   "attachments": {},
   "cell_type": "markdown",
   "metadata": {},
   "source": [
    "# Perform feature selection on normalized data"
   ]
  },
  {
   "attachments": {},
   "cell_type": "markdown",
   "metadata": {},
   "source": [
    "## Import libraries"
   ]
  },
  {
   "cell_type": "code",
   "execution_count": 1,
   "metadata": {},
   "outputs": [],
   "source": [
    "import gc\n",
    "import pathlib\n",
    "import sys\n",
    "\n",
    "import pandas as pd\n",
    "from pycytominer import feature_select\n",
    "from pycytominer.cyto_utils import output"
   ]
  },
  {
   "attachments": {},
   "cell_type": "markdown",
   "metadata": {},
   "source": [
    "## Set paths and variables"
   ]
  },
  {
   "cell_type": "code",
   "execution_count": 2,
   "metadata": {},
   "outputs": [],
   "source": [
    "# set paths\n",
    "paths_dict = {\n",
    "    \"timelapse_profiles\": {\n",
    "        \"input_dir\": pathlib.Path(\n",
    "            \"../data/4.normalized_data/profiles/normalized_profile.parquet\"\n",
    "        ).resolve(strict=True),\n",
    "        \"output_file_dir\": pathlib.Path(\n",
    "            \"../data/5.feature_select/profiles/features_selected_profile.parquet\"\n",
    "        ).resolve(),\n",
    "    },\n",
    "    \"endpoint_data\": {\n",
    "        \"input_dir\": pathlib.Path(\n",
    "            \"../data/4.normalized_data/endpoints/normalized_profile.parquet\"\n",
    "        ).resolve(strict=True),\n",
    "        \"output_file_dir\": pathlib.Path(\n",
    "            \"../data/5.feature_select/endpoints/features_selected_profile.parquet\"\n",
    "        ).resolve(),\n",
    "    },\n",
    "}"
   ]
  },
  {
   "attachments": {},
   "cell_type": "markdown",
   "metadata": {},
   "source": [
    "## Perform feature selection"
   ]
  },
  {
   "cell_type": "code",
   "execution_count": 3,
   "metadata": {},
   "outputs": [],
   "source": [
    "# define operations to be performed on the data\n",
    "# list of operations for feature select function to use on input profile\n",
    "feature_select_ops = [\n",
    "    \"variance_threshold\",\n",
    "    \"blocklist\",\n",
    "    \"drop_na_columns\",\n",
    "    \"correlation_threshold\",\n",
    "]"
   ]
  },
  {
   "cell_type": "code",
   "execution_count": null,
   "metadata": {},
   "outputs": [
    {
     "name": "stdout",
     "output_type": "stream",
     "text": [
      "Feature selection complete, saving to parquet file!\n",
      "(158431, 901)\n",
      "Feature selection complete, saving to parquet file!\n",
      "(5522, 550)\n"
     ]
    }
   ],
   "source": [
    "for data_set in paths_dict:\n",
    "    paths_dict[data_set][\"output_file_dir\"].parent.mkdir(exist_ok=True, parents=True)\n",
    "    # read in the annotated file\n",
    "    normalized_df = pd.read_parquet(paths_dict[data_set][\"input_dir\"])\n",
    "    # perform feature selection with the operations specified\n",
    "    feature_select_df = feature_select(\n",
    "        normalized_df,\n",
    "        operation=feature_select_ops,\n",
    "    )\n",
    "    manual_block_list = [\n",
    "        x\n",
    "        for x in normalized_df.columns\n",
    "        if \"bounding\" in x.lower()\n",
    "        or \"location_center_y\" in x.lower()\n",
    "        or \"location_center_x\" in x.lower()\n",
    "    ]\n",
    "\n",
    "    # add \"Metadata_\" to the beginning of each column name in the list\n",
    "    feature_select_df.columns = [\n",
    "        \"Metadata_\" + column if column in manual_block_list else column\n",
    "        for column in feature_select_df.columns\n",
    "    ]\n",
    "    print(\"Feature selection complete, saving to parquet file!\")\n",
    "    # save features selected df as parquet file\n",
    "    output(\n",
    "        df=feature_select_df,\n",
    "        output_filename=paths_dict[data_set][\"output_file_dir\"],\n",
    "        output_type=\"parquet\",\n",
    "    )\n",
    "    # sort by Metadata_Well\n",
    "    feature_select_df = feature_select_df.sort_values(by=[\"Metadata_Well\"])\n",
    "    # check to see if the shape of the df has changed indicating feature selection occurred\n",
    "    print(feature_select_df.shape)\n",
    "    feature_select_df.head()"
   ]
  }
 ],
 "metadata": {
  "kernelspec": {
   "display_name": "cellprofiler_timelapse_env",
   "language": "python",
   "name": "python3"
  },
  "language_info": {
   "codemirror_mode": {
    "name": "ipython",
    "version": 3
   },
   "file_extension": ".py",
   "mimetype": "text/x-python",
   "name": "python",
   "nbconvert_exporter": "python",
   "pygments_lexer": "ipython3",
   "version": "3.8.20"
  },
  "orig_nbformat": 4
 },
 "nbformat": 4,
 "nbformat_minor": 2
}
