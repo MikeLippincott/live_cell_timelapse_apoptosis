{
 "cells": [
  {
   "attachments": {},
   "cell_type": "markdown",
   "metadata": {},
   "source": [
    "# Normalize annotated single cells using negative control (DSMO 0.025% and DMSO 0.100%)"
   ]
  },
  {
   "attachments": {},
   "cell_type": "markdown",
   "metadata": {},
   "source": [
    "## Import libraries"
   ]
  },
  {
   "cell_type": "code",
   "execution_count": null,
   "metadata": {},
   "outputs": [],
   "source": [
    "import pathlib\n",
    "\n",
    "import pandas as pd\n",
    "from pycytominer import normalize\n",
    "from pycytominer.cyto_utils import output"
   ]
  },
  {
   "attachments": {},
   "cell_type": "markdown",
   "metadata": {},
   "source": [
    "## Set paths and variables"
   ]
  },
  {
   "cell_type": "code",
   "execution_count": null,
   "metadata": {},
   "outputs": [],
   "source": [
    "# directory where combined parquet file are located\n",
    "data_dir = pathlib.Path(\"../data/annotated_data\")\n",
    "\n",
    "# directory where the normalized parquet file is saved to\n",
    "output_dir = pathlib.Path(\".,/data/normalized_data\")\n",
    "output_dir.mkdir(exist_ok=True)"
   ]
  },
  {
   "cell_type": "markdown",
   "metadata": {},
   "source": [
    "## Define dict of paths"
   ]
  },
  {
   "cell_type": "code",
   "execution_count": null,
   "metadata": {},
   "outputs": [],
   "source": [
    "# dictionary with each run for the cell type\n",
    "dict_of_inputs = {\n",
    "    \"run_20230920ChromaLiveTL_24hr4ch_MaxIP\": {\n",
    "        \"annotated_file_path\": pathlib.Path(\n",
    "            f\"{data_dir}/20230920ChromaLiveTL_24hr4ch_MaxIP/timelapse_4ch_analysis.sqlite\"\n",
    "        ).resolve(),\n",
    "        \"outoput_file_path\": pathlib.Path(\n",
    "            f\"{output_dir}/run_20230920ChromaLiveTL_24hr4ch_MaxIP_norm.parquet\"\n",
    "        ).resolve(),\n",
    "    },\n",
    "    \"run_20231017ChromaLive_6hr_4ch_MaxIP\": {\n",
    "        \"annotated_file_path\": pathlib.Path(\n",
    "            f\"{data_dir}/20231017ChromaLive_6hr_4ch_MaxIP/timelapse_4ch_analysis.sqlite\"\n",
    "        ).resolve(),\n",
    "        \"outoput_file_path\": pathlib.Path(\n",
    "            f\"{output_dir}/run_20231017ChromaLive_6hr_4ch_MaxIP_norm.parquet\"\n",
    "        ).resolve(),\n",
    "    },\n",
    "    \"run_20231017ChromaLive_endpoint_w_AnnexinV_2ch_MaxIP\": {\n",
    "        \"annotated_file_path\": pathlib.Path(\n",
    "            f\"{data_dir}/20231017ChromaLive_endpoint_w_AnnexinV_2ch_MaxIP/timelapse_2ch_analysis.sqlite\"\n",
    "        ).resolve(),\n",
    "        \"outoput_file_path\": pathlib.Path(\n",
    "            f\"{output_dir}/run_20231017ChromaLive_endpoint_w_AnnexinV_2ch_MaxIP_norm.parquet\"\n",
    "        ).resolve(),\n",
    "    },\n",
    "}"
   ]
  },
  {
   "attachments": {},
   "cell_type": "markdown",
   "metadata": {},
   "source": [
    "## Normalize with standardize method with negative control on annotated data"
   ]
  },
  {
   "cell_type": "code",
   "execution_count": null,
   "metadata": {},
   "outputs": [],
   "source": [
    "for info, input_path in dict_of_inputs.items():\n",
    "    # read in the annotated file\n",
    "    dict_of_inputs[info]\n",
    "    # combined_df =\n",
    "print(dict_of_inputs[info])\n",
    "\n",
    "# # normalize annotated data\n",
    "# normalized_df = normalize(\n",
    "#         # df with annotated raw merged single cell features\n",
    "#         profiles=combined_df,\n",
    "#         # specify samples used as normalization reference (negative control)\n",
    "#         samples=\"Metadata_inhibitor == 'DMSO' and Metadata_inhibitor_concentration == 0.025 and Metadata_inducer1 == 'DMSO'\",\n",
    "#         # normalization method used\n",
    "#         method=\"standardize\",\n",
    "# )"
   ]
  },
  {
   "cell_type": "code",
   "execution_count": 3,
   "metadata": {},
   "outputs": [],
   "source": [
    "# read in annotated single cell data\n",
    "combined_df = pd.read_parquet(combined_file_path)\n",
    "print(\"Normalizing annotated merged single cells!\")\n",
    "\n",
    "# normalize annotated data\n",
    "normalized_df = normalize(\n",
    "    # df with annotated raw merged single cell features\n",
    "    profiles=combined_df,\n",
    "    # specify samples used as normalization reference (negative control)\n",
    "    samples=\"Metadata_inhibitor == 'DMSO' and Metadata_inhibitor_concentration == 0.025 and Metadata_inducer1 == 'DMSO'\",\n",
    "    # normalization method used\n",
    "    method=\"standardize\",\n",
    ")\n",
    "\n",
    "# save df as parquet file\n",
    "output(\n",
    "    df=normalized_df,\n",
    "    output_filename=normalized_output_file,\n",
    "    output_type=\"parquet\",\n",
    ")\n",
    "print(\n",
    "    f\"Single cells have been normalized for PBMC cells and saved to {pathlib.Path(normalized_output_file).name} !\"\n",
    ")"
   ]
  },
  {
   "cell_type": "code",
   "execution_count": null,
   "metadata": {},
   "outputs": [],
   "source": [
    "# check to see if the features have been normalized\n",
    "print(normalized_df.shape)\n",
    "normalized_df.head()"
   ]
  }
 ],
 "metadata": {
  "kernelspec": {
   "display_name": "interstellar_data",
   "language": "python",
   "name": "python3"
  },
  "language_info": {
   "codemirror_mode": {
    "name": "ipython",
    "version": 3
   },
   "file_extension": ".py",
   "mimetype": "text/x-python",
   "name": "python",
   "nbconvert_exporter": "python",
   "pygments_lexer": "ipython3",
   "version": "3.8.15"
  },
  "orig_nbformat": 4
 },
 "nbformat": 4,
 "nbformat_minor": 2
}
