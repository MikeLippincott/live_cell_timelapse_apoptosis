{
 "cells": [
  {
   "attachments": {},
   "cell_type": "markdown",
   "metadata": {},
   "source": [
    "# Annotate merged single cells with metadata from platemap file"
   ]
  },
  {
   "attachments": {},
   "cell_type": "markdown",
   "metadata": {},
   "source": [
    "## Import libraries"
   ]
  },
  {
   "cell_type": "code",
   "execution_count": 1,
   "metadata": {},
   "outputs": [],
   "source": [
    "import pathlib\n",
    "import sys\n",
    "\n",
    "import pandas as pd\n",
    "from pycytominer import annotate\n",
    "from pycytominer.cyto_utils import output"
   ]
  },
  {
   "attachments": {},
   "cell_type": "markdown",
   "metadata": {},
   "source": [
    "## Set paths and variables"
   ]
  },
  {
   "cell_type": "code",
   "execution_count": 2,
   "metadata": {},
   "outputs": [],
   "source": [
    "# load in platemap file as a pandas dataframe\n",
    "platemap_path = pathlib.Path(\"../../data/\").resolve()\n",
    "\n",
    "# directory where parquet files are located\n",
    "data_dir = pathlib.Path(\"../data/converted_data\")\n",
    "\n",
    "# directory where the annotated parquet files are saved to\n",
    "output_dir = pathlib.Path(\"../data/annotated_data\")\n",
    "output_dir.mkdir(exist_ok=True)"
   ]
  },
  {
   "cell_type": "code",
   "execution_count": 3,
   "metadata": {},
   "outputs": [],
   "source": [
    "# dictionary with each run for the cell type\n",
    "dict_of_inputs = {\n",
    "    \"run_20230920ChromaLiveTL_24hr4ch_MaxIP\": {\n",
    "        \"source_path\": pathlib.Path(\n",
    "            f\"{data_dir}/20230920ChromaLiveTL_24hr4ch_MaxIP.parquet\"\n",
    "        ).resolve(strict=True),\n",
    "        \"platemap_path\": pathlib.Path(f\"{platemap_path}/platemap_24h.csv\").resolve(\n",
    "            strict=True\n",
    "        ),\n",
    "    },\n",
    "    \"run_20231017ChromaLive_6hr_4ch_MaxIP\": {\n",
    "        \"source_path\": pathlib.Path(\n",
    "            f\"{data_dir}/20231017ChromaLive_6hr_4ch_MaxIP.parquet\"\n",
    "        ).resolve(strict=True),\n",
    "        \"platemap_path\": pathlib.Path(f\"{platemap_path}/platemap_6hr_4ch.csv\").resolve(\n",
    "            strict=True\n",
    "        ),\n",
    "    },\n",
    "    \"run_20231017ChromaLive_endpoint_w_AnnexinV_2ch_MaxIP\": {\n",
    "        \"source_path\": pathlib.Path(\n",
    "            f\"{data_dir}/20231017ChromaLive_endpoint_w_AnnexinV_2ch_MaxIP.parquet\"\n",
    "        ).resolve(strict=True),\n",
    "        \"platemap_path\": pathlib.Path(\n",
    "            f\"{platemap_path}/platemap_AnnexinV_2ch.csv\"\n",
    "        ).resolve(strict=True),\n",
    "    },\n",
    "}"
   ]
  },
  {
   "attachments": {},
   "cell_type": "markdown",
   "metadata": {},
   "source": [
    "## Annotate merged single cells"
   ]
  },
  {
   "cell_type": "code",
   "execution_count": 4,
   "metadata": {},
   "outputs": [],
   "source": [
    "platemap_df = pd.read_csv(f\"{platemap_path}/platemap_24h.csv\")"
   ]
  },
  {
   "cell_type": "code",
   "execution_count": 5,
   "metadata": {},
   "outputs": [
    {
     "name": "stdout",
     "output_type": "stream",
     "text": [
      "Adding annotations to merged single cells for run_20230920ChromaLiveTL_24hr4ch_MaxIP!\n",
      "['Image_FileName_488_1', 'Image_FileName_488_2', 'Image_FileName_561', 'Image_FileName_DNA', 'Image_PathName_488_2', 'Image_PathName_561', 'Image_PathName_DNA', 'Cytoplasm_AreaShape_BoundingBoxArea', 'Cytoplasm_AreaShape_BoundingBoxMaximum_X', 'Cytoplasm_AreaShape_BoundingBoxMaximum_Y', 'Cytoplasm_AreaShape_BoundingBoxMinimum_X', 'Cytoplasm_AreaShape_BoundingBoxMinimum_Y', 'Cells_AreaShape_BoundingBoxArea', 'Cells_AreaShape_BoundingBoxMaximum_X', 'Cells_AreaShape_BoundingBoxMaximum_Y', 'Cells_AreaShape_BoundingBoxMinimum_X', 'Cells_AreaShape_BoundingBoxMinimum_Y', 'Nuclei_AreaShape_BoundingBoxArea', 'Nuclei_AreaShape_BoundingBoxMaximum_X', 'Nuclei_AreaShape_BoundingBoxMaximum_Y', 'Nuclei_AreaShape_BoundingBoxMinimum_X', 'Nuclei_AreaShape_BoundingBoxMinimum_Y', 'Nuclei_Location_Center_X', 'Nuclei_Location_Center_Y']\n",
      "Annotations have been added to run_20230920ChromaLiveTL_24hr4ch_MaxIP and saved!\n",
      "(91106, 2119)\n",
      "Adding annotations to merged single cells for run_20231017ChromaLive_6hr_4ch_MaxIP!\n",
      "['Image_FileName_488_1', 'Image_FileName_488_2', 'Image_FileName_561', 'Image_FileName_DNA', 'Image_PathName_488_2', 'Image_PathName_561', 'Image_PathName_DNA', 'Cytoplasm_AreaShape_BoundingBoxArea', 'Cytoplasm_AreaShape_BoundingBoxMaximum_X', 'Cytoplasm_AreaShape_BoundingBoxMaximum_Y', 'Cytoplasm_AreaShape_BoundingBoxMinimum_X', 'Cytoplasm_AreaShape_BoundingBoxMinimum_Y', 'Cells_AreaShape_BoundingBoxArea', 'Cells_AreaShape_BoundingBoxMaximum_X', 'Cells_AreaShape_BoundingBoxMaximum_Y', 'Cells_AreaShape_BoundingBoxMinimum_X', 'Cells_AreaShape_BoundingBoxMinimum_Y', 'Nuclei_AreaShape_BoundingBoxArea', 'Nuclei_AreaShape_BoundingBoxMaximum_X', 'Nuclei_AreaShape_BoundingBoxMaximum_Y', 'Nuclei_AreaShape_BoundingBoxMinimum_X', 'Nuclei_AreaShape_BoundingBoxMinimum_Y', 'Nuclei_Location_Center_X', 'Nuclei_Location_Center_Y']\n",
      "Annotations have been added to run_20231017ChromaLive_6hr_4ch_MaxIP and saved!\n",
      "(210217, 2119)\n",
      "Adding annotations to merged single cells for run_20231017ChromaLive_endpoint_w_AnnexinV_2ch_MaxIP!\n",
      "['Image_FileName_AnnexinV', 'Image_FileName_DNA', 'Image_PathName_AnnexinV', 'Image_PathName_DNA', 'Cytoplasm_AreaShape_BoundingBoxArea', 'Cytoplasm_AreaShape_BoundingBoxMaximum_X', 'Cytoplasm_AreaShape_BoundingBoxMaximum_Y', 'Cytoplasm_AreaShape_BoundingBoxMinimum_X', 'Cytoplasm_AreaShape_BoundingBoxMinimum_Y', 'Cells_AreaShape_BoundingBoxArea', 'Cells_AreaShape_BoundingBoxMaximum_X', 'Cells_AreaShape_BoundingBoxMaximum_Y', 'Cells_AreaShape_BoundingBoxMinimum_X', 'Cells_AreaShape_BoundingBoxMinimum_Y', 'Nuclei_AreaShape_BoundingBoxArea', 'Nuclei_AreaShape_BoundingBoxMaximum_X', 'Nuclei_AreaShape_BoundingBoxMaximum_Y', 'Nuclei_AreaShape_BoundingBoxMinimum_X', 'Nuclei_AreaShape_BoundingBoxMinimum_Y', 'Nuclei_Location_Center_X', 'Nuclei_Location_Center_Y']\n",
      "Annotations have been added to run_20231017ChromaLive_endpoint_w_AnnexinV_2ch_MaxIP and saved!\n",
      "(11976, 1205)\n"
     ]
    }
   ],
   "source": [
    "for data_run, info in dict_of_inputs.items():\n",
    "    # load in converted parquet file as df to use in annotate function\n",
    "    single_cell_df = pd.read_parquet(info[\"source_path\"])\n",
    "    platemap_df = pd.read_csv(info[\"platemap_path\"])\n",
    "    output_file = str(pathlib.Path(f\"{output_dir}/{data_run}_sc.parquet\"))\n",
    "    print(f\"Adding annotations to merged single cells for {data_run}!\")\n",
    "\n",
    "    # add metadata from platemap file to extracted single cell features\n",
    "    annotated_df = annotate(\n",
    "        profiles=single_cell_df,\n",
    "        platemap=platemap_df,\n",
    "        join_on=[\"Metadata_well\", \"Image_Metadata_Well\"],\n",
    "    )\n",
    "\n",
    "    # move metadata well and single cell count to the front of the df (for easy visualization in python)\n",
    "    well_column = annotated_df.pop(\"Metadata_Well\")\n",
    "    singlecell_column = annotated_df.pop(\"Metadata_number_of_singlecells\")\n",
    "    # insert the column as the second index column in the dataframe\n",
    "    annotated_df.insert(1, \"Metadata_Well\", well_column)\n",
    "    annotated_df.insert(2, \"Metadata_number_of_singlecells\", singlecell_column)\n",
    "\n",
    "    # find columns that have path in the name\n",
    "    file_cols = [col for col in single_cell_df.columns if \"FileName\" in col]\n",
    "    path_cols = [col for col in single_cell_df.columns if \"PathName\" in col]\n",
    "    # get the cols that contain BoundingBox\n",
    "    bounding_box_cols = [col for col in single_cell_df.columns if \"BoundingBox\" in col]\n",
    "    # location cols\n",
    "    location_cols = [\n",
    "        \"Nuclei_Location_Center_X\",\n",
    "        \"Nuclei_Location_Center_Y\",\n",
    "    ]\n",
    "    # add all lists of columns together\n",
    "    cols_to_add = file_cols + path_cols + bounding_box_cols + location_cols\n",
    "    print(cols_to_add)\n",
    "\n",
    "    for col in cols_to_add:\n",
    "        annotated_df[col] = single_cell_df[col]\n",
    "\n",
    "    # add \"Metadata_\" to the beginning of each column if it is in the cols_to_add list\n",
    "    for col in cols_to_add:\n",
    "        if col not in annotated_df.columns:\n",
    "            continue\n",
    "        if \"Metadata_\" in col:\n",
    "            continue\n",
    "        annotated_df.rename(columns={col: f\"Metadata_{col}\"}, inplace=True)\n",
    "\n",
    "    # save annotated df as parquet file\n",
    "    output(\n",
    "        df=annotated_df,\n",
    "        output_filename=output_file,\n",
    "        output_type=\"parquet\",\n",
    "    )\n",
    "    print(f\"Annotations have been added to {data_run} and saved!\")\n",
    "    # check last annotated df to see if it has been annotated correctly\n",
    "    print(annotated_df.shape)\n",
    "    annotated_df.head()"
   ]
  }
 ],
 "metadata": {
  "kernelspec": {
   "display_name": "interstellar_data",
   "language": "python",
   "name": "python3"
  },
  "language_info": {
   "codemirror_mode": {
    "name": "ipython",
    "version": 3
   },
   "file_extension": ".py",
   "mimetype": "text/x-python",
   "name": "python",
   "nbconvert_exporter": "python",
   "pygments_lexer": "ipython3",
   "version": "3.8.19"
  },
  "orig_nbformat": 4
 },
 "nbformat": 4,
 "nbformat_minor": 2
}
