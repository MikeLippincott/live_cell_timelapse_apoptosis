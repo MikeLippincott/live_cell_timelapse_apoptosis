{
 "cells": [
  {
   "attachments": {},
   "cell_type": "markdown",
   "metadata": {},
   "source": [
    "# Perform feature selection on normalized data"
   ]
  },
  {
   "attachments": {},
   "cell_type": "markdown",
   "metadata": {},
   "source": [
    "## Import libraries"
   ]
  },
  {
   "cell_type": "code",
   "execution_count": 1,
   "metadata": {},
   "outputs": [],
   "source": [
    "import gc\n",
    "import pathlib\n",
    "import sys\n",
    "\n",
    "import pandas as pd\n",
    "from pycytominer import feature_select\n",
    "from pycytominer.cyto_utils import output"
   ]
  },
  {
   "attachments": {},
   "cell_type": "markdown",
   "metadata": {},
   "source": [
    "## Set paths and variables"
   ]
  },
  {
   "cell_type": "code",
   "execution_count": 2,
   "metadata": {},
   "outputs": [],
   "source": [
    "# directory where normalized parquet file is located\n",
    "data_dir = pathlib.Path(\"../data/normalized_data\")\n",
    "\n",
    "# directory where the feature selected parquet file is saved to\n",
    "output_dir = pathlib.Path(\"../data/feature_selected_data\")\n",
    "output_dir.mkdir(exist_ok=True)"
   ]
  },
  {
   "cell_type": "markdown",
   "metadata": {},
   "source": [
    "## Define dict of paths"
   ]
  },
  {
   "cell_type": "code",
   "execution_count": 3,
   "metadata": {},
   "outputs": [],
   "source": [
    "# dictionary with each run for the cell type\n",
    "dict_of_inputs = {\n",
    "    \"run_20230920ChromaLiveTL_24hr4ch_MaxIP\": {\n",
    "        \"normalized_df_path\": pathlib.Path(\n",
    "            f\"{data_dir}/run_20230920ChromaLiveTL_24hr4ch_MaxIP_norm.parquet\"\n",
    "        ).resolve(),\n",
    "        \"outoput_file_path\": pathlib.Path(\n",
    "            f\"{output_dir}/run_20230920ChromaLiveTL_24hr4ch_MaxIP_norm_fs.parquet\"\n",
    "        ).resolve(),\n",
    "    },\n",
    "    \"run_20231017ChromaLive_6hr_4ch_MaxIP\": {\n",
    "        \"normalized_df_path\": pathlib.Path(\n",
    "            f\"{data_dir}/run_20231017ChromaLive_6hr_4ch_MaxIP_norm.parquet\"\n",
    "        ).resolve(),\n",
    "        \"outoput_file_path\": pathlib.Path(\n",
    "            f\"{output_dir}/run_20231017ChromaLive_6hr_4ch_MaxIP_norm_fs.parquet\"\n",
    "        ).resolve(),\n",
    "    },\n",
    "    \"run_20231017ChromaLive_endpoint_w_AnnexinV_2ch_MaxIP\": {\n",
    "        \"normalized_df_path\": pathlib.Path(\n",
    "            f\"{data_dir}/run_20231017ChromaLive_endpoint_w_AnnexinV_2ch_MaxIP_norm.parquet\"\n",
    "        ).resolve(),\n",
    "        \"outoput_file_path\": pathlib.Path(\n",
    "            f\"{output_dir}/run_20231017ChromaLive_endpoint_w_AnnexinV_2ch_MaxIP_norm_fs.parquet\"\n",
    "        ).resolve(),\n",
    "    },\n",
    "}"
   ]
  },
  {
   "attachments": {},
   "cell_type": "markdown",
   "metadata": {},
   "source": [
    "## Perform feature selection"
   ]
  },
  {
   "cell_type": "code",
   "execution_count": 4,
   "metadata": {},
   "outputs": [],
   "source": [
    "# define operations to be performed on the data\n",
    "# list of operations for feature select function to use on input profile\n",
    "feature_select_ops = [\n",
    "    \"variance_threshold\",\n",
    "    \"blocklist\",\n",
    "    \"drop_na_columns\",\n",
    "    \"correlation_threshold\",\n",
    "]"
   ]
  },
  {
   "cell_type": "code",
   "execution_count": 5,
   "metadata": {},
   "outputs": [
    {
     "name": "stdout",
     "output_type": "stream",
     "text": [
      "Performing feature selection on normalized annotated merged single cells!\n",
      "Feature selection complete, saving to parquet file!\n",
      "Features have been selected for PBMC cells and saved to run_20230920ChromaLiveTL_24hr4ch_MaxIP!\n",
      "(74694, 843)\n",
      "Feature selection complete, saving to parquet file!\n",
      "Features have been selected for PBMC cells and saved to run_20231017ChromaLive_6hr_4ch_MaxIP!\n",
      "(197389, 823)\n",
      "Feature selection complete, saving to parquet file!\n",
      "Features have been selected for PBMC cells and saved to run_20231017ChromaLive_endpoint_w_AnnexinV_2ch_MaxIP!\n",
      "(12879, 576)\n"
     ]
    }
   ],
   "source": [
    "# feature selection parameters\n",
    "print(f\"Performing feature selection on normalized annotated merged single cells!\")\n",
    "for info, input_path in dict_of_inputs.items():\n",
    "    # read in the annotated file\n",
    "    normalized_df = pd.read_parquet(input_path[\"normalized_df_path\"])\n",
    "    # perform feature selection with the operations specified\n",
    "    feature_select_df = feature_select(\n",
    "        normalized_df,\n",
    "        operation=feature_select_ops,\n",
    "    )\n",
    "    print(\"Feature selection complete, saving to parquet file!\")\n",
    "    # save features selected df as parquet file\n",
    "    output(\n",
    "        df=feature_select_df,\n",
    "        output_filename=input_path[\"outoput_file_path\"],\n",
    "        output_type=\"parquet\",\n",
    "    )\n",
    "    print(\n",
    "        f\"Features have been selected for PBMC cells and saved to {pathlib.Path(info).name}!\"\n",
    "    )\n",
    "    # check to see if the shape of the df has changed indicating feature selection occurred\n",
    "    print(feature_select_df.shape)\n",
    "    feature_select_df.head()"
   ]
  }
 ],
 "metadata": {
  "kernelspec": {
   "display_name": "interstellar_data",
   "language": "python",
   "name": "python3"
  },
  "language_info": {
   "codemirror_mode": {
    "name": "ipython",
    "version": 3
   },
   "file_extension": ".py",
   "mimetype": "text/x-python",
   "name": "python",
   "nbconvert_exporter": "python",
   "pygments_lexer": "ipython3",
   "version": "3.8.0"
  },
  "orig_nbformat": 4
 },
 "nbformat": 4,
 "nbformat_minor": 2
}
