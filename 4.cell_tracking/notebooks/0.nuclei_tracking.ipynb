{
 "cells": [
  {
   "cell_type": "code",
   "execution_count": 1,
   "metadata": {},
   "outputs": [
    {
     "name": "stdout",
     "output_type": "stream",
     "text": [
      "Running in notebook: True\n"
     ]
    },
    {
     "name": "stderr",
     "output_type": "stream",
     "text": [
      "2025-08-25 19:44:14.411138: E external/local_xla/xla/stream_executor/cuda/cuda_fft.cc:477] Unable to register cuFFT factory: Attempting to register factory for plugin cuFFT when one has already been registered\n",
      "WARNING: All log messages before absl::InitializeLog() is called are written to STDERR\n",
      "E0000 00:00:1756172654.451045 2019856 cuda_dnn.cc:8310] Unable to register cuDNN factory: Attempting to register factory for plugin cuDNN when one has already been registered\n",
      "E0000 00:00:1756172654.461777 2019856 cuda_blas.cc:1418] Unable to register cuBLAS factory: Attempting to register factory for plugin cuBLAS when one has already been registered\n",
      "2025-08-25 19:44:14.552377: I tensorflow/core/platform/cpu_feature_guard.cc:210] This TensorFlow binary is optimized to use available CPU instructions in performance-critical operations.\n",
      "To enable the following instructions: AVX2 FMA, in other operations, rebuild TensorFlow with the appropriate compiler flags.\n"
     ]
    },
    {
     "name": "stdout",
     "output_type": "stream",
     "text": [
      "GPU found\n"
     ]
    }
   ],
   "source": [
    "import argparse\n",
    "import os\n",
    "import pathlib\n",
    "import pprint\n",
    "import shutil\n",
    "\n",
    "import matplotlib.pyplot as plt\n",
    "import numpy as np\n",
    "import pandas as pd\n",
    "import seaborn as sns\n",
    "import tifffile\n",
    "from PIL import Image\n",
    "from ultrack import to_tracks_layer, track, tracks_to_zarr\n",
    "from ultrack.config import MainConfig\n",
    "from ultrack.tracks import close_tracks_gaps\n",
    "from ultrack.utils import estimate_parameters_from_labels, labels_to_contours\n",
    "\n",
    "# check if in a jupyter notebook\n",
    "\n",
    "try:\n",
    "    cfg = get_ipython().config\n",
    "    in_notebook = True\n",
    "except NameError:\n",
    "    in_notebook = False\n",
    "\n",
    "print(f\"Running in notebook: {in_notebook}\")\n",
    "\n",
    "os.environ[\"OMP_NUM_THREADS\"] = \"8\"\n",
    "os.environ[\"CUDA_VISIBLE_DEVICES\"] = \"0\"\n",
    "\n",
    "\n",
    "# check gpu\n",
    "import tensorflow as tf\n",
    "\n",
    "gpu_devices = tf.config.experimental.list_physical_devices(\"GPU\")\n",
    "if not gpu_devices:\n",
    "    print(\"No GPU found\")\n",
    "else:\n",
    "    print(\"GPU found\")\n",
    "\n",
    "\n",
    "# tensorflow clear gpu memory\n",
    "def clear_gpu_memory():\n",
    "    from numba import cuda\n",
    "\n",
    "    cuda.select_device(0)\n",
    "    cuda.close()\n",
    "\n",
    "\n",
    "clear_gpu_memory()\n",
    "import napari\n",
    "from napari.utils.notebook_display import nbscreenshot"
   ]
  },
  {
   "cell_type": "code",
   "execution_count": 2,
   "metadata": {},
   "outputs": [
    {
     "name": "stdout",
     "output_type": "stream",
     "text": [
      "Running in a notebook\n"
     ]
    }
   ],
   "source": [
    "if not in_notebook:\n",
    "    print(\"Running as script\")\n",
    "    # set up arg parser\n",
    "    parser = argparse.ArgumentParser(description=\"Segment the nuclei of a tiff image\")\n",
    "\n",
    "    parser.add_argument(\n",
    "        \"--well_fov\",\n",
    "        type=str,\n",
    "        help=\"Path to the input directory containing the tiff images\",\n",
    "    )\n",
    "\n",
    "    args = parser.parse_args()\n",
    "    well_fov = args.well_fov\n",
    "\n",
    "else:\n",
    "    print(\"Running in a notebook\")\n",
    "    well_fov = \"C-02_F0003\"  # example well_fov\n",
    "\n",
    "\n",
    "input_dir = pathlib.Path(\n",
    "    f\"../../2.cellprofiler_ic_processing/illum_directory/timelapse/20231017ChromaLive_6hr_4ch_MaxIP_{well_fov}\"\n",
    ").resolve(strict=True)\n",
    "terminal_mask_file_dir = pathlib.Path(\n",
    "    f\"../../2.cellprofiler_ic_processing/illum_directory/endpoint/20231017ChromaLive_endpoint_w_AnnexinV_2ch_MaxIP_{well_fov}/{well_fov}_T0014_Z0001_nuclei_mask_aligned.tiff\"\n",
    ").resolve(strict=True)\n",
    "terminal_nuclei_file_dir = pathlib.Path(\n",
    "    f\"../../2.cellprofiler_ic_processing/illum_directory/endpoint/20231017ChromaLive_endpoint_w_AnnexinV_2ch_MaxIP_{well_fov}/{well_fov}_T0014_Z0001_C01_illumcorrect_aligned.tiff\"\n",
    ").resolve(strict=True)\n",
    "\n",
    "temporary_output_dir = pathlib.Path(\"../tmp_output\").resolve()\n",
    "figures_output_dir = pathlib.Path(\"../figures\").resolve()\n",
    "results_output_dir = pathlib.Path(\"../results\").resolve()\n",
    "temporary_output_dir.mkdir(exist_ok=True)\n",
    "figures_output_dir.mkdir(exist_ok=True)\n",
    "results_output_dir.mkdir(exist_ok=True)"
   ]
  },
  {
   "cell_type": "code",
   "execution_count": 3,
   "metadata": {},
   "outputs": [
    {
     "name": "stdout",
     "output_type": "stream",
     "text": [
      "Input directory: /home/lippincm/4TB_A/live_cell_timelapse_apoptosis/2.cellprofiler_ic_processing/illum_directory/timelapse/20231017ChromaLive_6hr_4ch_MaxIP_C-02_F0003\n"
     ]
    }
   ],
   "source": [
    "print(f\"Input directory: {input_dir}\")"
   ]
  },
  {
   "cell_type": "code",
   "execution_count": 4,
   "metadata": {},
   "outputs": [
    {
     "name": "stdout",
     "output_type": "stream",
     "text": [
      "Found 13 tiff files in the input directory\n",
      "Found 13 nuclei files in the input directory\n"
     ]
    }
   ],
   "source": [
    "file_extensions = {\".tif\", \".tiff\"}\n",
    "# get all the tiff files\n",
    "tiff_files = list(input_dir.glob(\"*\"))\n",
    "tiff_files = [f for f in tiff_files if f.suffix in file_extensions]\n",
    "tiff_files = sorted(tiff_files)\n",
    "\n",
    "mask_files = [f for f in tiff_files if \"nuclei\" in f.name]\n",
    "nuclei_files = [f for f in tiff_files if \"C01\" in f.name]\n",
    "\n",
    "print(f\"Found {len(mask_files)} tiff files in the input directory\")\n",
    "print(f\"Found {len(nuclei_files)} nuclei files in the input directory\")"
   ]
  },
  {
   "cell_type": "code",
   "execution_count": 5,
   "metadata": {},
   "outputs": [],
   "source": [
    "# read in the masks and create labels\n",
    "masks = []\n",
    "for tiff_file in mask_files:\n",
    "    img = tifffile.imread(tiff_file)\n",
    "    masks.append(img)\n",
    "masks.append(tifffile.imread(terminal_mask_file_dir)[:, :, 0].astype(np.uint8))\n",
    "\n",
    "masks = np.array(masks)\n",
    "\n",
    "nuclei = []\n",
    "for tiff_file in nuclei_files:\n",
    "    img = tifffile.imread(tiff_file)\n",
    "    nuclei.append(img)\n",
    "nuclei.append(tifffile.imread(terminal_nuclei_file_dir)[:, :, 0].astype(np.uint8))\n",
    "nuclei = np.array(nuclei)"
   ]
  },
  {
   "cell_type": "code",
   "execution_count": 6,
   "metadata": {},
   "outputs": [],
   "source": [
    "image_dims = tifffile.imread(tiff_files[0]).shape\n",
    "timelapse_raw = np.zeros(\n",
    "    (len(tiff_files), image_dims[0], image_dims[1]), dtype=np.uint16\n",
    ")"
   ]
  },
  {
   "cell_type": "code",
   "execution_count": 7,
   "metadata": {},
   "outputs": [
    {
     "name": "stderr",
     "output_type": "stream",
     "text": [
      "Converting labels to contours:   0%|          | 0/1900 [00:00<?, ?it/s]"
     ]
    },
    {
     "name": "stderr",
     "output_type": "stream",
     "text": [
      "Converting labels to contours: 100%|██████████| 1900/1900 [00:01<00:00, 1832.78it/s]\n",
      "Converting labels to contours: 100%|██████████| 1900/1900 [00:01<00:00, 1804.10it/s]\n",
      "Converting labels to contours: 100%|██████████| 1900/1900 [00:01<00:00, 1790.43it/s]\n",
      "Converting labels to contours: 100%|██████████| 1900/1900 [00:01<00:00, 1838.59it/s]\n",
      "Converting labels to contours: 100%|██████████| 1900/1900 [00:01<00:00, 1831.82it/s]\n",
      "Converting labels to contours: 100%|██████████| 1900/1900 [00:01<00:00, 1862.67it/s]\n",
      "Converting labels to contours: 100%|██████████| 1900/1900 [00:01<00:00, 1821.75it/s]\n",
      "Converting labels to contours: 100%|██████████| 1900/1900 [00:01<00:00, 1816.43it/s]\n",
      "Converting labels to contours: 100%|██████████| 1900/1900 [00:01<00:00, 1806.79it/s]\n",
      "Converting labels to contours: 100%|██████████| 1900/1900 [00:01<00:00, 1772.91it/s]\n",
      "Converting labels to contours: 100%|██████████| 1900/1900 [00:01<00:00, 1802.90it/s]\n",
      "Converting labels to contours: 100%|██████████| 1900/1900 [00:01<00:00, 1785.95it/s]\n",
      "Converting labels to contours: 100%|██████████| 1900/1900 [00:01<00:00, 1796.60it/s]\n",
      "Converting labels to contours: 100%|██████████| 1900/1900 [00:01<00:00, 1804.16it/s]\n"
     ]
    },
    {
     "name": "stdout",
     "output_type": "stream",
     "text": [
      "(14, 1900, 1900) (14, 1900, 1900)\n"
     ]
    }
   ],
   "source": [
    "detections = np.zeros((len(masks), image_dims[0], image_dims[1]), dtype=np.uint16)\n",
    "edges = np.zeros((len(masks), image_dims[0], image_dims[1]), dtype=np.uint16)\n",
    "for frame_index, frame in enumerate(masks):\n",
    "    detections[frame_index, :, :], edges[frame_index, :, :] = labels_to_contours(frame)\n",
    "print(detections.shape, edges.shape)\n",
    "\n",
    "clear_gpu_memory()"
   ]
  },
  {
   "cell_type": "code",
   "execution_count": 8,
   "metadata": {},
   "outputs": [
    {
     "name": "stderr",
     "output_type": "stream",
     "text": [
      "Estimating params.: 100%|██████████| 14/14 [00:00<00:00, 51.31it/s]\n"
     ]
    },
    {
     "data": {
      "image/png": "[encoded data removed]",
      "text/plain": [
       "<Figure size 640x480 with 1 Axes>"
      ]
     },
     "metadata": {},
     "output_type": "display_data"
    }
   ],
   "source": [
    "params_df = estimate_parameters_from_labels(masks, is_timelapse=True)\n",
    "if in_notebook:\n",
    "    params_df[\"area\"].plot(kind=\"hist\", bins=100, title=\"Area histogram\")"
   ]
  },
  {
   "cell_type": "markdown",
   "metadata": {},
   "source": [
    "## Optimize the tracking using optuna and ultrack"
   ]
  },
  {
   "cell_type": "code",
   "execution_count": 9,
   "metadata": {},
   "outputs": [
    {
     "name": "stdout",
     "output_type": "stream",
     "text": [
      "{'data_config': {'address': None,\n",
      "                 'database': 'sqlite',\n",
      "                 'in_memory_db_id': 0,\n",
      "                 'n_workers': 1,\n",
      "                 'working_dir': '.'},\n",
      " 'linking_config': {'distance_weight': 0.0,\n",
      "                    'max_distance': 50,\n",
      "                    'max_neighbors': 5,\n",
      "                    'n_workers': 1,\n",
      "                    'z_score_threshold': 5.0},\n",
      " 'segmentation_config': {'anisotropy_penalization': 0.0,\n",
      "                         'max_area': 1000000,\n",
      "                         'max_noise': 0.0,\n",
      "                         'min_area': 100,\n",
      "                         'min_frontier': 0.0,\n",
      "                         'n_workers': 1,\n",
      "                         'random_seed': 'frame',\n",
      "                         'threshold': 0.5,\n",
      "                         'ws_hierarchy': 'area'},\n",
      " 'tracking_config': {'appear_weight': -0.001,\n",
      "                     'bias': -0.0,\n",
      "                     'disappear_weight': -0.2,\n",
      "                     'dismiss_weight_guess': None,\n",
      "                     'division_weight': -0.001,\n",
      "                     'image_border_size': None,\n",
      "                     'include_weight_guess': None,\n",
      "                     'link_function': 'power',\n",
      "                     'method': 0,\n",
      "                     'n_threads': -1,\n",
      "                     'overlap_size': 1,\n",
      "                     'power': 4,\n",
      "                     'solution_gap': 0.001,\n",
      "                     'solver_name': '',\n",
      "                     'time_limit': 36000,\n",
      "                     'window_size': None}}\n"
     ]
    }
   ],
   "source": [
    "config = MainConfig()\n",
    "config.linking_config.max_distance = 50\n",
    "config.tracking_config.disappear_weight = -0.2\n",
    "\n",
    "pprint.pprint(config.dict())"
   ]
  },
  {
   "cell_type": "code",
   "execution_count": 10,
   "metadata": {},
   "outputs": [
    {
     "name": "stderr",
     "output_type": "stream",
     "text": [
      "Adding nodes to database: 100%|██████████| 14/14 [00:13<00:00,  1.02it/s]\n",
      "Linking nodes.: 100%|██████████| 13/13 [00:00<00:00, 19.76it/s]\n"
     ]
    },
    {
     "name": "stdout",
     "output_type": "stream",
     "text": [
      "Set parameter Username\n",
      "Set parameter LicenseID to value 2602925\n",
      "Academic license - for non-commercial use only - expires 2025-12-23\n",
      "Using Gurobi solver\n",
      "Solving ILP batch 0\n",
      "Constructing ILP ...\n",
      "Set parameter TimeLimit to value 36000\n",
      "Solving ILP ...\n",
      "Set parameter NodeLimit to value 1073741824\n",
      "Set parameter SolutionLimit to value 1073741824\n",
      "Set parameter IntFeasTol to value 1e-06\n",
      "Set parameter FeasibilityTol to value 1e-06\n",
      "Set parameter OptimalityTol to value 1e-06\n",
      "Set parameter Method to value 3\n",
      "Set parameter Seed to value 0\n",
      "Set parameter PoolSolutions to value 10\n",
      "Set parameter MIPGap to value 0.001\n",
      "Set parameter MIPGapAbs to value 1e-10\n",
      "Gurobi Optimizer version 12.0.1 build v12.0.1rc0 (linux64 - \"Pop!_OS 22.04 LTS\")\n",
      "\n",
      "CPU model: AMD Ryzen 9 5900X 12-Core Processor, instruction set [SSE2|AVX|AVX2]\n",
      "Thread count: 12 physical cores, 24 logical processors, using up to 24 threads\n",
      "\n",
      "Non-default parameters:\n",
      "NodeLimit  1073741824\n",
      "SolutionLimit  1073741824\n",
      "TimeLimit  36000\n",
      "IntFeasTol  1e-06\n",
      "MIPGap  0.001\n",
      "Method  3\n",
      "\n",
      "Optimize a model with 7511 rows, 12227 columns and 22263 nonzeros\n",
      "Model fingerprint: 0x57c70b00\n",
      "Variable types: 0 continuous, 12227 integer (12227 binary)\n",
      "Coefficient statistics:\n",
      "  Matrix range     [1e+00, 1e+00]\n",
      "  Objective range  [2e-15, 9e-01]\n",
      "  Bounds range     [1e+00, 1e+00]\n",
      "  RHS range        [1e+00, 1e+00]\n",
      "Found heuristic solution: objective -0.0000000\n",
      "Presolve removed 7509 rows and 12223 columns\n",
      "Presolve time: 0.11s\n",
      "Presolved: 2 rows, 4 columns, 6 nonzeros\n",
      "Found heuristic solution: objective 343.3859229\n",
      "Variable types: 0 continuous, 4 integer (4 binary)\n",
      "\n",
      "Explored 0 nodes (0 simplex iterations) in 0.11 seconds (0.07 work units)\n",
      "Thread count was 24 (of 24 available processors)\n",
      "\n",
      "Solution count 2: 343.386 -0 \n",
      "\n",
      "Optimal solution found (tolerance 1.00e-03)\n",
      "Best objective 3.433859229029e+02, best bound 3.433859229029e+02, gap 0.0000%\n",
      "Saving solution ...\n",
      "Done!\n"
     ]
    }
   ],
   "source": [
    "track(\n",
    "    foreground=detections,\n",
    "    edges=edges,\n",
    "    config=config,\n",
    "    overwrite=True,\n",
    ")"
   ]
  },
  {
   "cell_type": "code",
   "execution_count": 11,
   "metadata": {},
   "outputs": [],
   "source": [
    "tracks_df, graph = to_tracks_layer(config)\n",
    "tracks_df = close_tracks_gaps(\n",
    "    tracks_df=tracks_df,\n",
    "    max_gap=2,\n",
    "    max_radius=50,\n",
    "    spatial_columns=[\"y\", \"x\"],\n",
    ")"
   ]
  },
  {
   "cell_type": "code",
   "execution_count": 12,
   "metadata": {},
   "outputs": [
    {
     "name": "stderr",
     "output_type": "stream",
     "text": [
      "Exporting segmentation masks: 100%|██████████| 14/14 [00:00<00:00, 121.69it/s]"
     ]
    },
    {
     "name": "stdout",
     "output_type": "stream",
     "text": [
      "192\n",
      "Found 192 unique tracks in the dataset.\n"
     ]
    },
    {
     "name": "stderr",
     "output_type": "stream",
     "text": [
      "\n"
     ]
    },
    {
     "data": {
      "text/html": [
       "<div>\n",
       "<style scoped>\n",
       "    .dataframe tbody tr th:only-of-type {\n",
       "        vertical-align: middle;\n",
       "    }\n",
       "\n",
       "    .dataframe tbody tr th {\n",
       "        vertical-align: top;\n",
       "    }\n",
       "\n",
       "    .dataframe thead th {\n",
       "        text-align: right;\n",
       "    }\n",
       "</style>\n",
       "<table border=\"1\" class=\"dataframe\">\n",
       "  <thead>\n",
       "    <tr style=\"text-align: right;\">\n",
       "      <th></th>\n",
       "      <th>track_id</th>\n",
       "      <th>t</th>\n",
       "      <th>y</th>\n",
       "      <th>x</th>\n",
       "      <th>id</th>\n",
       "      <th>parent_track_id</th>\n",
       "      <th>parent_id</th>\n",
       "    </tr>\n",
       "  </thead>\n",
       "  <tbody>\n",
       "    <tr>\n",
       "      <th>0</th>\n",
       "      <td>1</td>\n",
       "      <td>0.0</td>\n",
       "      <td>8.0</td>\n",
       "      <td>342.0</td>\n",
       "      <td>1000002.0</td>\n",
       "      <td>-1</td>\n",
       "      <td>-1.0</td>\n",
       "    </tr>\n",
       "    <tr>\n",
       "      <th>1</th>\n",
       "      <td>1</td>\n",
       "      <td>1.0</td>\n",
       "      <td>8.0</td>\n",
       "      <td>338.0</td>\n",
       "      <td>2000003.0</td>\n",
       "      <td>-1</td>\n",
       "      <td>1000002.0</td>\n",
       "    </tr>\n",
       "    <tr>\n",
       "      <th>2</th>\n",
       "      <td>1</td>\n",
       "      <td>2.0</td>\n",
       "      <td>4.0</td>\n",
       "      <td>301.0</td>\n",
       "      <td>3000002.0</td>\n",
       "      <td>-1</td>\n",
       "      <td>2000003.0</td>\n",
       "    </tr>\n",
       "    <tr>\n",
       "      <th>3</th>\n",
       "      <td>2</td>\n",
       "      <td>0.0</td>\n",
       "      <td>10.0</td>\n",
       "      <td>733.0</td>\n",
       "      <td>1000004.0</td>\n",
       "      <td>-1</td>\n",
       "      <td>-1.0</td>\n",
       "    </tr>\n",
       "    <tr>\n",
       "      <th>4</th>\n",
       "      <td>2</td>\n",
       "      <td>1.0</td>\n",
       "      <td>26.0</td>\n",
       "      <td>767.0</td>\n",
       "      <td>2000008.0</td>\n",
       "      <td>-1</td>\n",
       "      <td>1000004.0</td>\n",
       "    </tr>\n",
       "  </tbody>\n",
       "</table>\n",
       "</div>"
      ],
      "text/plain": [
       "   track_id    t     y      x         id  parent_track_id  parent_id\n",
       "0         1  0.0   8.0  342.0  1000002.0               -1       -1.0\n",
       "1         1  1.0   8.0  338.0  2000003.0               -1  1000002.0\n",
       "2         1  2.0   4.0  301.0  3000002.0               -1  2000003.0\n",
       "3         2  0.0  10.0  733.0  1000004.0               -1       -1.0\n",
       "4         2  1.0  26.0  767.0  2000008.0               -1  1000004.0"
      ]
     },
     "execution_count": 12,
     "metadata": {},
     "output_type": "execute_result"
    }
   ],
   "source": [
    "labels = tracks_to_zarr(config, tracks_df)\n",
    "# save the tracks as parquet\n",
    "tracks_df.to_parquet(\n",
    "    f\"{results_output_dir}/{str(input_dir).split('MaxIP_')[1]}_tracks.parquet\"\n",
    ")\n",
    "print(tracks_df[\"track_id\"].nunique())\n",
    "print(f\"Found {tracks_df['track_id'].nunique()} unique tracks in the dataset.\")\n",
    "tracks_df.head()"
   ]
  },
  {
   "cell_type": "code",
   "execution_count": 13,
   "metadata": {},
   "outputs": [],
   "source": [
    "tracks_df.reset_index(drop=True, inplace=True)\n",
    "tracks = np.zeros((len(tiff_files), image_dims[0], image_dims[1]), dtype=np.uint16)\n",
    "cum_tracks_df = tracks_df.copy()\n",
    "timepoints = tracks_df[\"t\"].unique()\n",
    "\n",
    "# zero out the track_df for plotting\n",
    "cum_tracks_df = cum_tracks_df.loc[cum_tracks_df[\"t\"] == -1]"
   ]
  },
  {
   "cell_type": "code",
   "execution_count": 14,
   "metadata": {},
   "outputs": [],
   "source": [
    "if in_notebook:\n",
    "    for frame_index, _ in enumerate(nuclei):\n",
    "        tmp_df = tracks_df.loc[tracks_df[\"t\"] == frame_index]\n",
    "        cum_tracks_df = pd.concat([cum_tracks_df, tmp_df])\n",
    "        plt.figure(figsize=(6, 3))\n",
    "        plt.subplot(1, 3, 1)\n",
    "        # rescale tbe intensity of the raw image\n",
    "        raw_image = timelapse_raw[frame_index, :, :]\n",
    "        raw_image = raw_image * 4096\n",
    "        plt.imshow(nuclei[frame_index, :, :], cmap=\"gray\")\n",
    "        plt.title(\"Raw\")\n",
    "        plt.axis(\"off\")\n",
    "\n",
    "        plt.subplot(1, 3, 2)\n",
    "        plt.imshow(detections[frame_index, :, :], cmap=\"gray\")\n",
    "        plt.title(\"Detections\")\n",
    "        plt.axis(\"off\")\n",
    "\n",
    "        plt.subplot(1, 3, 3)\n",
    "        sns.lineplot(data=cum_tracks_df, x=\"x\", y=\"y\", hue=\"track_id\", legend=False)\n",
    "        plt.imshow(detections[frame_index, :, :], cmap=\"gray\", alpha=0.5)\n",
    "        plt.title(f\"Frame {frame_index}\")\n",
    "        plt.axis(\"off\")\n",
    "\n",
    "        plt.tight_layout()\n",
    "        plt.savefig(f\"{temporary_output_dir}/tracks_{frame_index}.png\")\n",
    "        plt.close()"
   ]
  },
  {
   "cell_type": "code",
   "execution_count": 15,
   "metadata": {},
   "outputs": [],
   "source": [
    "# load each image\n",
    "files = [f for f in temporary_output_dir.glob(\"*.png\")]\n",
    "files = sorted(files, key=lambda x: int(x.stem.split(\"_\")[1]))\n",
    "frames = [Image.open(f) for f in files]\n",
    "fig_path = figures_output_dir / f\"{str(input_dir).split('MaxIP_')[1]}_tracks.gif\"\n",
    "# plot the line of each track in matplotlib over a gif\n",
    "# get the tracks\n",
    "# save the frames as a gif\n",
    "frames[0].save(fig_path, save_all=True, append_images=frames[1:], duration=100, loop=0)"
   ]
  },
  {
   "cell_type": "code",
   "execution_count": 16,
   "metadata": {},
   "outputs": [],
   "source": [
    "# clean up tracking files\n",
    "# remove temporary_output_dir\n",
    "shutil.rmtree(temporary_output_dir)\n",
    "\n",
    "track_db_path = pathlib.Path(\"data.db\").resolve()\n",
    "metadata_toml_path = pathlib.Path(\"metadata.toml\").resolve()\n",
    "if track_db_path.exists():\n",
    "    track_db_path.unlink()\n",
    "if metadata_toml_path.exists():\n",
    "    metadata_toml_path.unlink()"
   ]
  },
  {
   "cell_type": "code",
   "execution_count": 17,
   "metadata": {},
   "outputs": [],
   "source": [
    "clear_gpu_memory()"
   ]
  },
  {
   "cell_type": "code",
   "execution_count": null,
   "metadata": {},
   "outputs": [
    {
     "ename": "",
     "evalue": "",
     "output_type": "error",
     "traceback": [
      "\u001b[1;31mThe Kernel crashed while executing code in the current cell or a previous cell. \n",
      "\u001b[1;31mPlease review the code in the cell(s) to identify a possible cause of the failure. \n",
      "\u001b[1;31mClick <a href='https://aka.ms/vscodeJupyterKernelCrash'>here</a> for more info. \n",
      "\u001b[1;31mView Jupyter <a href='command:jupyter.viewOutput'>log</a> for further details."
     ]
    }
   ],
   "source": [
    "if in_notebook:\n",
    "    viewer = napari.Viewer()\n",
    "    viewer.window.resize(1200, 1200)\n",
    "\n",
    "    viewer.add_image(nuclei, name=\"Raw\", colormap=\"gray\")\n",
    "\n",
    "    viewer.add_tracks(tracks_df[[\"track_id\", \"t\", \"y\", \"x\"]].values, graph=graph)\n",
    "    viewer.add_labels(masks)\n",
    "\n",
    "    viewer.layers[\"masks\"].visible = False\n",
    "\n",
    "    nbscreenshot(viewer)\n",
    "    viewer.close()"
   ]
  }
 ],
 "metadata": {
  "kernelspec": {
   "display_name": "cell_tracking_env",
   "language": "python",
   "name": "python3"
  },
  "language_info": {
   "codemirror_mode": {
    "name": "ipython",
    "version": 3
   },
   "file_extension": ".py",
   "mimetype": "text/x-python",
   "name": "python",
   "nbconvert_exporter": "python",
   "pygments_lexer": "ipython3",
   "version": "3.10.16"
  }
 },
 "nbformat": 4,
 "nbformat_minor": 2
}
