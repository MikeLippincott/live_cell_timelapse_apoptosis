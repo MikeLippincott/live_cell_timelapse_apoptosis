{
 "cells": [
  {
   "cell_type": "code",
   "execution_count": 1,
   "metadata": {},
   "outputs": [
    {
     "name": "stdout",
     "output_type": "stream",
     "text": [
      "Running in notebook: True\n"
     ]
    },
    {
     "name": "stderr",
     "output_type": "stream",
     "text": [
      "2025-03-14 09:48:41.862607: E external/local_xla/xla/stream_executor/cuda/cuda_fft.cc:477] Unable to register cuFFT factory: Attempting to register factory for plugin cuFFT when one has already been registered\n",
      "WARNING: All log messages before absl::InitializeLog() is called are written to STDERR\n",
      "E0000 00:00:1741967321.874612 1910956 cuda_dnn.cc:8310] Unable to register cuDNN factory: Attempting to register factory for plugin cuDNN when one has already been registered\n",
      "E0000 00:00:1741967321.878121 1910956 cuda_blas.cc:1418] Unable to register cuBLAS factory: Attempting to register factory for plugin cuBLAS when one has already been registered\n",
      "2025-03-14 09:48:41.892581: I tensorflow/core/platform/cpu_feature_guard.cc:210] This TensorFlow binary is optimized to use available CPU instructions in performance-critical operations.\n",

      "To enable the following instructions: AVX2 FMA, in other operations, rebuild TensorFlow with the appropriate compiler flags.\n"
     ]
    },
    {
     "name": "stdout",
     "output_type": "stream",
     "text": [
      "GPU found\n"
     ]
    }
   ],
   "source": [
    "import argparse\n",
    "import os\n",
    "import pathlib\n",
    "import shutil\n",
    "\n",
    "import matplotlib.pyplot as plt\n",
    "import numpy as np\n",
    "import pandas as pd\n",
    "import seaborn as sns\n",
    "import tifffile\n",
    "from PIL import Image\n",
    "from rich.pretty import pprint\n",
    "from ultrack import to_tracks_layer, track, tracks_to_zarr\n",
    "from ultrack.config import MainConfig\n",
    "from ultrack.tracks import close_tracks_gaps\n",
    "from ultrack.utils import estimate_parameters_from_labels, labels_to_contours\n",
    "\n",
    "# check if in a jupyter notebook\n",
    "\n",
    "try:\n",
    "    cfg = get_ipython().config\n",
    "    in_notebook = True\n",
    "except NameError:\n",
    "    in_notebook = False\n",
    "\n",
    "print(f\"Running in notebook: {in_notebook}\")\n",
    "\n",
    "os.environ[\"OMP_NUM_THREADS\"] = \"8\"\n",
    "os.environ[\"CUDA_VISIBLE_DEVICES\"] = \"0\"\n",
    "\n",
    "\n",
    "# check gpu\n",
    "import tensorflow as tf\n",
    "\n",
    "gpu_devices = tf.config.experimental.list_physical_devices(\"GPU\")\n",
    "if not gpu_devices:\n",
    "    print(\"No GPU found\")\n",
    "else:\n",
    "    print(\"GPU found\")\n",
    "\n",
    "\n",
    "# tensorflow clear gpu memory\n",
    "def clear_gpu_memory():\n",
    "    from numba import cuda\n",
    "\n",
    "    cuda.select_device(0)\n",
    "    cuda.close()\n",
    "\n",
    "\n",
    "clear_gpu_memory()\n",
    "import napari\n",
    "from napari.utils.notebook_display import nbscreenshot"
   ]
  },
  {
   "cell_type": "code",
   "execution_count": 2,
   "metadata": {},
   "outputs": [
    {
     "name": "stdout",
     "output_type": "stream",
     "text": [
      "Running in a notebook\n"
     ]
    }
   ],
   "source": [
    "if not in_notebook:\n",
    "    print(\"Running as script\")\n",
    "    # set up arg parser\n",
    "    parser = argparse.ArgumentParser(description=\"Segment the nuclei of a tiff image\")\n",
    "\n",
    "    parser.add_argument(\n",
    "        \"--input_dir\",\n",
    "        type=str,\n",
    "        help=\"Path to the input directory containing the tiff images\",\n",
    "    )\n",
    "\n",
    "    args = parser.parse_args()\n",
    "    input_dir = pathlib.Path(args.input_dir).resolve(strict=True)\n",
    "\n",
    "else:\n",
    "    print(\"Running in a notebook\")\n",
    "    input_dir = pathlib.Path(\n",
    "        \"../../2.cellprofiler_ic_processing/illum_directory/test_data/timelapse/20231017ChromaLive_6hr_4ch_MaxIP_C-05_F0004\"\n",

    "    ).resolve(strict=True)\n",
    "\n",
    "temporary_output_dir = pathlib.Path(\"../tmp_output\").resolve()\n",
    "figures_output_dir = pathlib.Path(\"../figures\").resolve()\n",
    "results_output_dir = pathlib.Path(\"../results\").resolve()\n",
    "temporary_output_dir.mkdir(exist_ok=True)\n",
    "figures_output_dir.mkdir(exist_ok=True)\n",
    "results_output_dir.mkdir(exist_ok=True)"
   ]
  },
  {
   "cell_type": "code",
   "execution_count": 3,
   "metadata": {},
   "outputs": [
    {
     "name": "stdout",
     "output_type": "stream",
     "text": [
      "Input directory: /home/lippincm/Documents/live_cell_timelapse_apoptosis/2.cellprofiler_ic_processing/illum_directory/test_data/timelapse/20231017ChromaLive_6hr_4ch_MaxIP_C-05_F0004\n"

     ]
    }
   ],
   "source": [
    "print(f\"Input directory: {input_dir}\")"
   ]
  },
  {
   "cell_type": "code",
   "execution_count": 4,
   "metadata": {},
   "outputs": [
    {
     "name": "stdout",
     "output_type": "stream",
     "text": [
      "Found 13 tiff files in the input directory\n",
      "Found 13 nuclei files in the input directory\n"
     ]
    },
    {
     "data": {
      "text/plain": [
       "[PosixPath('/home/lippincm/Documents/live_cell_timelapse_apoptosis/2.cellprofiler_ic_processing/illum_directory/test_data/timelapse/20231017ChromaLive_6hr_4ch_MaxIP_C-05_F0004/C-05_F0004_T0001_Z0001_nuclei_mask.tiff'),\n",
       " PosixPath('/home/lippincm/Documents/live_cell_timelapse_apoptosis/2.cellprofiler_ic_processing/illum_directory/test_data/timelapse/20231017ChromaLive_6hr_4ch_MaxIP_C-05_F0004/C-05_F0004_T0002_Z0001_nuclei_mask.tiff'),\n",
       " PosixPath('/home/lippincm/Documents/live_cell_timelapse_apoptosis/2.cellprofiler_ic_processing/illum_directory/test_data/timelapse/20231017ChromaLive_6hr_4ch_MaxIP_C-05_F0004/C-05_F0004_T0003_Z0001_nuclei_mask.tiff'),\n",
       " PosixPath('/home/lippincm/Documents/live_cell_timelapse_apoptosis/2.cellprofiler_ic_processing/illum_directory/test_data/timelapse/20231017ChromaLive_6hr_4ch_MaxIP_C-05_F0004/C-05_F0004_T0004_Z0001_nuclei_mask.tiff'),\n",
       " PosixPath('/home/lippincm/Documents/live_cell_timelapse_apoptosis/2.cellprofiler_ic_processing/illum_directory/test_data/timelapse/20231017ChromaLive_6hr_4ch_MaxIP_C-05_F0004/C-05_F0004_T0005_Z0001_nuclei_mask.tiff'),\n",
       " PosixPath('/home/lippincm/Documents/live_cell_timelapse_apoptosis/2.cellprofiler_ic_processing/illum_directory/test_data/timelapse/20231017ChromaLive_6hr_4ch_MaxIP_C-05_F0004/C-05_F0004_T0006_Z0001_nuclei_mask.tiff'),\n",
       " PosixPath('/home/lippincm/Documents/live_cell_timelapse_apoptosis/2.cellprofiler_ic_processing/illum_directory/test_data/timelapse/20231017ChromaLive_6hr_4ch_MaxIP_C-05_F0004/C-05_F0004_T0007_Z0001_nuclei_mask.tiff'),\n",
       " PosixPath('/home/lippincm/Documents/live_cell_timelapse_apoptosis/2.cellprofiler_ic_processing/illum_directory/test_data/timelapse/20231017ChromaLive_6hr_4ch_MaxIP_C-05_F0004/C-05_F0004_T0008_Z0001_nuclei_mask.tiff'),\n",
       " PosixPath('/home/lippincm/Documents/live_cell_timelapse_apoptosis/2.cellprofiler_ic_processing/illum_directory/test_data/timelapse/20231017ChromaLive_6hr_4ch_MaxIP_C-05_F0004/C-05_F0004_T0009_Z0001_nuclei_mask.tiff'),\n",
       " PosixPath('/home/lippincm/Documents/live_cell_timelapse_apoptosis/2.cellprofiler_ic_processing/illum_directory/test_data/timelapse/20231017ChromaLive_6hr_4ch_MaxIP_C-05_F0004/C-05_F0004_T0010_Z0001_nuclei_mask.tiff'),\n",
       " PosixPath('/home/lippincm/Documents/live_cell_timelapse_apoptosis/2.cellprofiler_ic_processing/illum_directory/test_data/timelapse/20231017ChromaLive_6hr_4ch_MaxIP_C-05_F0004/C-05_F0004_T0011_Z0001_nuclei_mask.tiff'),\n",
       " PosixPath('/home/lippincm/Documents/live_cell_timelapse_apoptosis/2.cellprofiler_ic_processing/illum_directory/test_data/timelapse/20231017ChromaLive_6hr_4ch_MaxIP_C-05_F0004/C-05_F0004_T0012_Z0001_nuclei_mask.tiff'),\n",
       " PosixPath('/home/lippincm/Documents/live_cell_timelapse_apoptosis/2.cellprofiler_ic_processing/illum_directory/test_data/timelapse/20231017ChromaLive_6hr_4ch_MaxIP_C-05_F0004/C-05_F0004_T0013_Z0001_nuclei_mask.tiff')]"
      ]
     },
     "execution_count": 4,
     "metadata": {},
     "output_type": "execute_result"

    }
   ],
   "source": [
    "file_extensions = {\".tif\", \".tiff\"}\n",
    "# get all the tiff files\n",
    "tiff_files = list(input_dir.glob(\"*\"))\n",
    "tiff_files = [f for f in tiff_files if f.suffix in file_extensions]\n",
    "tiff_files = sorted(tiff_files)\n",
    "\n",
    "mask_files = [f for f in tiff_files if \"nuclei\" in f.name]\n",
    "nuclei_files = [f for f in tiff_files if \"C01\" in f.name]\n",
    "\n",
    "print(f\"Found {len(mask_files)} tiff files in the input directory\")\n",
    "print(f\"Found {len(nuclei_files)} nuclei files in the input directory\")\n",
    "mask_files"

   ]
  },
  {
   "cell_type": "code",
   "execution_count": 5,
   "metadata": {},
   "outputs": [],
   "source": [
    "# read in the masks and create labels\n",
    "masks = []\n",
    "for tiff_file in mask_files:\n",
    "    img = tifffile.imread(tiff_file)\n",
    "    masks.append(img)\n",
    "masks = np.array(masks)\n",
    "\n",
    "nuclei = []\n",
    "for tiff_file in nuclei_files:\n",
    "    img = tifffile.imread(tiff_file)\n",
    "    nuclei.append(img)\n",
    "nuclei = np.array(nuclei)"
   ]
  },
  {
   "cell_type": "code",
   "execution_count": 6,
   "metadata": {},
   "outputs": [],
   "source": [
    "image_dims = tifffile.imread(tiff_files[0]).shape\n",
    "timelapse_raw = np.zeros(\n",
    "    (len(tiff_files), image_dims[0], image_dims[1]), dtype=np.uint16\n",
    ")"

   ]
  },
  {
   "cell_type": "code",
   "execution_count": 7,
   "metadata": {},
   "outputs": [
    {
     "name": "stderr",
     "output_type": "stream",
     "text": [
      "Converting labels to contours: 100%|██████████| 1900/1900 [00:01<00:00, 1829.47it/s]\n",
      "Converting labels to contours: 100%|██████████| 1900/1900 [00:01<00:00, 1845.68it/s]\n",
      "Converting labels to contours: 100%|██████████| 1900/1900 [00:01<00:00, 1836.26it/s]\n",
      "Converting labels to contours: 100%|██████████| 1900/1900 [00:01<00:00, 1867.53it/s]\n",
      "Converting labels to contours: 100%|██████████| 1900/1900 [00:01<00:00, 1880.00it/s]\n",
      "Converting labels to contours: 100%|██████████| 1900/1900 [00:01<00:00, 1889.05it/s]\n",
      "Converting labels to contours: 100%|██████████| 1900/1900 [00:01<00:00, 1812.86it/s]\n",
      "Converting labels to contours: 100%|██████████| 1900/1900 [00:01<00:00, 1896.12it/s]\n",
      "Converting labels to contours: 100%|██████████| 1900/1900 [00:00<00:00, 1924.26it/s]\n",
      "Converting labels to contours: 100%|██████████| 1900/1900 [00:01<00:00, 1899.76it/s]\n",
      "Converting labels to contours: 100%|██████████| 1900/1900 [00:00<00:00, 1905.23it/s]\n",
      "Converting labels to contours: 100%|██████████| 1900/1900 [00:00<00:00, 1955.50it/s]\n",
      "Converting labels to contours: 100%|██████████| 1900/1900 [00:00<00:00, 1953.32it/s]\n"

     ]
    },
    {
     "name": "stdout",
     "output_type": "stream",
     "text": [
      "(13, 1900, 1900) (13, 1900, 1900)\n"
     ]
    }
   ],
   "source": [
    "detections = np.zeros((len(masks), image_dims[0], image_dims[1]), dtype=np.uint16)\n",
    "edges = np.zeros((len(masks), image_dims[0], image_dims[1]), dtype=np.uint16)\n",
    "for frame_index, frame in enumerate(masks):\n",
    "    detections[frame_index, :, :], edges[frame_index, :, :] = labels_to_contours(frame)\n",
    "print(detections.shape, edges.shape)\n",
    "# tifffile.imwrite(f\"{temporary_output_dir}/stardist_labels.tif\", stardist_labels)\n",
    "# tifffile.imwrite(f\"{temporary_output_dir}/timelapse_raw.tif\", timelapse_raw)\n",
    "# tifffile.imwrite(f\"{temporary_output_dir}/detections.tif\", detections)\n",
    "# tifffile.imwrite(f\"{temporary_output_dir}/edges.tif\", edges)\n",

    "\n",
    "clear_gpu_memory()"
   ]
  },
  {
   "cell_type": "code",
   "execution_count": 8,
   "metadata": {},
   "outputs": [
    {
     "name": "stderr",
     "output_type": "stream",
     "text": [
      "Estimating params.: 100%|██████████| 13/13 [00:00<00:00, 50.58it/s]\n"

     ]
    },
    {
     "data": {
      "image/png": "[encoded data removed]",

      "text/plain": [
       "<Figure size 640x480 with 1 Axes>"
      ]
     },
     "metadata": {},
     "output_type": "display_data"
    }
   ],
   "source": [
    "params_df = estimate_parameters_from_labels(masks, is_timelapse=True)\n",
    "if in_notebook:\n",
    "    params_df[\"area\"].plot(kind=\"hist\", bins=100, title=\"Area histogram\")"
   ]
  },
  {
   "cell_type": "markdown",
   "metadata": {},
   "source": [
    "## Optimize the tracking using optuna and ultrack"

   ]
  },
  {
   "cell_type": "code",

   "execution_count": 9,
   "metadata": {},
   "outputs": [
    {
     "data": {
      "text/html": [
       "<pre style=\"white-space:pre;overflow-x:auto;line-height:normal;font-family:Menlo,'DejaVu Sans Mono',consolas,'Courier New',monospace\"><span style=\"font-weight: bold\">{</span>\n",
       "<span style=\"color: #7fbf7f; text-decoration-color: #7fbf7f\">│   </span><span style=\"color: #008000; text-decoration-color: #008000\">'data_config'</span>: <span style=\"font-weight: bold\">{</span>\n",
       "<span style=\"color: #7fbf7f; text-decoration-color: #7fbf7f\">│   │   </span><span style=\"color: #008000; text-decoration-color: #008000\">'n_workers'</span>: <span style=\"color: #008080; text-decoration-color: #008080; font-weight: bold\">1</span>,\n",
       "<span style=\"color: #7fbf7f; text-decoration-color: #7fbf7f\">│   │   </span><span style=\"color: #008000; text-decoration-color: #008000\">'working_dir'</span>: <span style=\"color: #008000; text-decoration-color: #008000\">'.'</span>,\n",
       "<span style=\"color: #7fbf7f; text-decoration-color: #7fbf7f\">│   │   </span><span style=\"color: #008000; text-decoration-color: #008000\">'database'</span>: <span style=\"color: #008000; text-decoration-color: #008000\">'sqlite'</span>,\n",
       "<span style=\"color: #7fbf7f; text-decoration-color: #7fbf7f\">│   │   </span><span style=\"color: #008000; text-decoration-color: #008000\">'address'</span>: <span style=\"color: #800080; text-decoration-color: #800080; font-style: italic\">None</span>,\n",
       "<span style=\"color: #7fbf7f; text-decoration-color: #7fbf7f\">│   │   </span><span style=\"color: #008000; text-decoration-color: #008000\">'in_memory_db_id'</span>: <span style=\"color: #008080; text-decoration-color: #008080; font-weight: bold\">0</span>\n",
       "<span style=\"color: #7fbf7f; text-decoration-color: #7fbf7f\">│   </span><span style=\"font-weight: bold\">}</span>,\n",
       "<span style=\"color: #7fbf7f; text-decoration-color: #7fbf7f\">│   </span><span style=\"color: #008000; text-decoration-color: #008000\">'segmentation_config'</span>: <span style=\"font-weight: bold\">{</span>\n",
       "<span style=\"color: #7fbf7f; text-decoration-color: #7fbf7f\">│   │   </span><span style=\"color: #008000; text-decoration-color: #008000\">'min_area'</span>: <span style=\"color: #008080; text-decoration-color: #008080; font-weight: bold\">100</span>,\n",
       "<span style=\"color: #7fbf7f; text-decoration-color: #7fbf7f\">│   │   </span><span style=\"color: #008000; text-decoration-color: #008000\">'max_area'</span>: <span style=\"color: #008080; text-decoration-color: #008080; font-weight: bold\">1000000</span>,\n",
       "<span style=\"color: #7fbf7f; text-decoration-color: #7fbf7f\">│   │   </span><span style=\"color: #008000; text-decoration-color: #008000\">'n_workers'</span>: <span style=\"color: #008080; text-decoration-color: #008080; font-weight: bold\">1</span>,\n",
       "<span style=\"color: #7fbf7f; text-decoration-color: #7fbf7f\">│   │   </span><span style=\"color: #008000; text-decoration-color: #008000\">'min_frontier'</span>: <span style=\"color: #008080; text-decoration-color: #008080; font-weight: bold\">0.0</span>,\n",
       "<span style=\"color: #7fbf7f; text-decoration-color: #7fbf7f\">│   │   </span><span style=\"color: #008000; text-decoration-color: #008000\">'threshold'</span>: <span style=\"color: #008080; text-decoration-color: #008080; font-weight: bold\">0.5</span>,\n",
       "<span style=\"color: #7fbf7f; text-decoration-color: #7fbf7f\">│   │   </span><span style=\"color: #008000; text-decoration-color: #008000\">'max_noise'</span>: <span style=\"color: #008080; text-decoration-color: #008080; font-weight: bold\">0.0</span>,\n",
       "<span style=\"color: #7fbf7f; text-decoration-color: #7fbf7f\">│   │   </span><span style=\"color: #008000; text-decoration-color: #008000\">'random_seed'</span>: <span style=\"color: #008000; text-decoration-color: #008000\">'frame'</span>,\n",
       "<span style=\"color: #7fbf7f; text-decoration-color: #7fbf7f\">│   │   </span><span style=\"color: #008000; text-decoration-color: #008000\">'ws_hierarchy'</span>: <span style=\"color: #008000; text-decoration-color: #008000\">'area'</span>,\n",
       "<span style=\"color: #7fbf7f; text-decoration-color: #7fbf7f\">│   │   </span><span style=\"color: #008000; text-decoration-color: #008000\">'anisotropy_penalization'</span>: <span style=\"color: #008080; text-decoration-color: #008080; font-weight: bold\">0.0</span>\n",
       "<span style=\"color: #7fbf7f; text-decoration-color: #7fbf7f\">│   </span><span style=\"font-weight: bold\">}</span>,\n",
       "<span style=\"color: #7fbf7f; text-decoration-color: #7fbf7f\">│   </span><span style=\"color: #008000; text-decoration-color: #008000\">'linking_config'</span>: <span style=\"font-weight: bold\">{</span>\n",
       "<span style=\"color: #7fbf7f; text-decoration-color: #7fbf7f\">│   │   </span><span style=\"color: #008000; text-decoration-color: #008000\">'max_distance'</span>: <span style=\"color: #008080; text-decoration-color: #008080; font-weight: bold\">50</span>,\n",
       "<span style=\"color: #7fbf7f; text-decoration-color: #7fbf7f\">│   │   </span><span style=\"color: #008000; text-decoration-color: #008000\">'n_workers'</span>: <span style=\"color: #008080; text-decoration-color: #008080; font-weight: bold\">1</span>,\n",
       "<span style=\"color: #7fbf7f; text-decoration-color: #7fbf7f\">│   │   </span><span style=\"color: #008000; text-decoration-color: #008000\">'max_neighbors'</span>: <span style=\"color: #008080; text-decoration-color: #008080; font-weight: bold\">5</span>,\n",
       "<span style=\"color: #7fbf7f; text-decoration-color: #7fbf7f\">│   │   </span><span style=\"color: #008000; text-decoration-color: #008000\">'distance_weight'</span>: <span style=\"color: #008080; text-decoration-color: #008080; font-weight: bold\">0.0</span>,\n",
       "<span style=\"color: #7fbf7f; text-decoration-color: #7fbf7f\">│   │   </span><span style=\"color: #008000; text-decoration-color: #008000\">'z_score_threshold'</span>: <span style=\"color: #008080; text-decoration-color: #008080; font-weight: bold\">5.0</span>\n",
       "<span style=\"color: #7fbf7f; text-decoration-color: #7fbf7f\">│   </span><span style=\"font-weight: bold\">}</span>,\n",
       "<span style=\"color: #7fbf7f; text-decoration-color: #7fbf7f\">│   </span><span style=\"color: #008000; text-decoration-color: #008000\">'tracking_config'</span>: <span style=\"font-weight: bold\">{</span>\n",
       "<span style=\"color: #7fbf7f; text-decoration-color: #7fbf7f\">│   │   </span><span style=\"color: #008000; text-decoration-color: #008000\">'solver_name'</span>: <span style=\"color: #008000; text-decoration-color: #008000\">''</span>,\n",
       "<span style=\"color: #7fbf7f; text-decoration-color: #7fbf7f\">│   │   </span><span style=\"color: #008000; text-decoration-color: #008000\">'appear_weight'</span>: <span style=\"color: #008080; text-decoration-color: #008080; font-weight: bold\">-0.001</span>,\n",
       "<span style=\"color: #7fbf7f; text-decoration-color: #7fbf7f\">│   │   </span><span style=\"color: #008000; text-decoration-color: #008000\">'disappear_weight'</span>: <span style=\"color: #008080; text-decoration-color: #008080; font-weight: bold\">-0.2</span>,\n",
       "<span style=\"color: #7fbf7f; text-decoration-color: #7fbf7f\">│   │   </span><span style=\"color: #008000; text-decoration-color: #008000\">'division_weight'</span>: <span style=\"color: #008080; text-decoration-color: #008080; font-weight: bold\">-0.001</span>,\n",
       "<span style=\"color: #7fbf7f; text-decoration-color: #7fbf7f\">│   │   </span><span style=\"color: #008000; text-decoration-color: #008000\">'image_border_size'</span>: <span style=\"color: #800080; text-decoration-color: #800080; font-style: italic\">None</span>,\n",
       "<span style=\"color: #7fbf7f; text-decoration-color: #7fbf7f\">│   │   </span><span style=\"color: #008000; text-decoration-color: #008000\">'n_threads'</span>: <span style=\"color: #008080; text-decoration-color: #008080; font-weight: bold\">-1</span>,\n",
       "<span style=\"color: #7fbf7f; text-decoration-color: #7fbf7f\">│   │   </span><span style=\"color: #008000; text-decoration-color: #008000\">'window_size'</span>: <span style=\"color: #800080; text-decoration-color: #800080; font-style: italic\">None</span>,\n",
       "<span style=\"color: #7fbf7f; text-decoration-color: #7fbf7f\">│   │   </span><span style=\"color: #008000; text-decoration-color: #008000\">'overlap_size'</span>: <span style=\"color: #008080; text-decoration-color: #008080; font-weight: bold\">1</span>,\n",
       "<span style=\"color: #7fbf7f; text-decoration-color: #7fbf7f\">│   │   </span><span style=\"color: #008000; text-decoration-color: #008000\">'solution_gap'</span>: <span style=\"color: #008080; text-decoration-color: #008080; font-weight: bold\">0.001</span>,\n",
       "<span style=\"color: #7fbf7f; text-decoration-color: #7fbf7f\">│   │   </span><span style=\"color: #008000; text-decoration-color: #008000\">'time_limit'</span>: <span style=\"color: #008080; text-decoration-color: #008080; font-weight: bold\">36000</span>,\n",
       "<span style=\"color: #7fbf7f; text-decoration-color: #7fbf7f\">│   │   </span><span style=\"color: #008000; text-decoration-color: #008000\">'method'</span>: <span style=\"color: #008080; text-decoration-color: #008080; font-weight: bold\">0</span>,\n",
       "<span style=\"color: #7fbf7f; text-decoration-color: #7fbf7f\">│   │   </span><span style=\"color: #008000; text-decoration-color: #008000\">'link_function'</span>: <span style=\"color: #008000; text-decoration-color: #008000\">'power'</span>,\n",
       "<span style=\"color: #7fbf7f; text-decoration-color: #7fbf7f\">│   │   </span><span style=\"color: #008000; text-decoration-color: #008000\">'power'</span>: <span style=\"color: #008080; text-decoration-color: #008080; font-weight: bold\">4</span>,\n",
       "<span style=\"color: #7fbf7f; text-decoration-color: #7fbf7f\">│   │   </span><span style=\"color: #008000; text-decoration-color: #008000\">'bias'</span>: <span style=\"color: #008080; text-decoration-color: #008080; font-weight: bold\">-0.0</span>,\n",
       "<span style=\"color: #7fbf7f; text-decoration-color: #7fbf7f\">│   │   </span><span style=\"color: #008000; text-decoration-color: #008000\">'dismiss_weight_guess'</span>: <span style=\"color: #800080; text-decoration-color: #800080; font-style: italic\">None</span>,\n",
       "<span style=\"color: #7fbf7f; text-decoration-color: #7fbf7f\">│   │   </span><span style=\"color: #008000; text-decoration-color: #008000\">'include_weight_guess'</span>: <span style=\"color: #800080; text-decoration-color: #800080; font-style: italic\">None</span>\n",
       "<span style=\"color: #7fbf7f; text-decoration-color: #7fbf7f\">│   </span><span style=\"font-weight: bold\">}</span>\n",
       "<span style=\"font-weight: bold\">}</span>\n",
       "</pre>\n"
      ],
      "text/plain": [
       "\u001b[1m{\u001b[0m\n",
       "\u001b[2;32m│   \u001b[0m\u001b[32m'data_config'\u001b[0m: \u001b[1m{\u001b[0m\n",
       "\u001b[2;32m│   │   \u001b[0m\u001b[32m'n_workers'\u001b[0m: \u001b[1;36m1\u001b[0m,\n",
       "\u001b[2;32m│   │   \u001b[0m\u001b[32m'working_dir'\u001b[0m: \u001b[32m'.'\u001b[0m,\n",
       "\u001b[2;32m│   │   \u001b[0m\u001b[32m'database'\u001b[0m: \u001b[32m'sqlite'\u001b[0m,\n",
       "\u001b[2;32m│   │   \u001b[0m\u001b[32m'address'\u001b[0m: \u001b[3;35mNone\u001b[0m,\n",
       "\u001b[2;32m│   │   \u001b[0m\u001b[32m'in_memory_db_id'\u001b[0m: \u001b[1;36m0\u001b[0m\n",
       "\u001b[2;32m│   \u001b[0m\u001b[1m}\u001b[0m,\n",
       "\u001b[2;32m│   \u001b[0m\u001b[32m'segmentation_config'\u001b[0m: \u001b[1m{\u001b[0m\n",
       "\u001b[2;32m│   │   \u001b[0m\u001b[32m'min_area'\u001b[0m: \u001b[1;36m100\u001b[0m,\n",
       "\u001b[2;32m│   │   \u001b[0m\u001b[32m'max_area'\u001b[0m: \u001b[1;36m1000000\u001b[0m,\n",
       "\u001b[2;32m│   │   \u001b[0m\u001b[32m'n_workers'\u001b[0m: \u001b[1;36m1\u001b[0m,\n",
       "\u001b[2;32m│   │   \u001b[0m\u001b[32m'min_frontier'\u001b[0m: \u001b[1;36m0.0\u001b[0m,\n",
       "\u001b[2;32m│   │   \u001b[0m\u001b[32m'threshold'\u001b[0m: \u001b[1;36m0.5\u001b[0m,\n",
       "\u001b[2;32m│   │   \u001b[0m\u001b[32m'max_noise'\u001b[0m: \u001b[1;36m0.0\u001b[0m,\n",
       "\u001b[2;32m│   │   \u001b[0m\u001b[32m'random_seed'\u001b[0m: \u001b[32m'frame'\u001b[0m,\n",
       "\u001b[2;32m│   │   \u001b[0m\u001b[32m'ws_hierarchy'\u001b[0m: \u001b[32m'area'\u001b[0m,\n",
       "\u001b[2;32m│   │   \u001b[0m\u001b[32m'anisotropy_penalization'\u001b[0m: \u001b[1;36m0.0\u001b[0m\n",
       "\u001b[2;32m│   \u001b[0m\u001b[1m}\u001b[0m,\n",
       "\u001b[2;32m│   \u001b[0m\u001b[32m'linking_config'\u001b[0m: \u001b[1m{\u001b[0m\n",
       "\u001b[2;32m│   │   \u001b[0m\u001b[32m'max_distance'\u001b[0m: \u001b[1;36m50\u001b[0m,\n",
       "\u001b[2;32m│   │   \u001b[0m\u001b[32m'n_workers'\u001b[0m: \u001b[1;36m1\u001b[0m,\n",
       "\u001b[2;32m│   │   \u001b[0m\u001b[32m'max_neighbors'\u001b[0m: \u001b[1;36m5\u001b[0m,\n",
       "\u001b[2;32m│   │   \u001b[0m\u001b[32m'distance_weight'\u001b[0m: \u001b[1;36m0.0\u001b[0m,\n",
       "\u001b[2;32m│   │   \u001b[0m\u001b[32m'z_score_threshold'\u001b[0m: \u001b[1;36m5.0\u001b[0m\n",
       "\u001b[2;32m│   \u001b[0m\u001b[1m}\u001b[0m,\n",
       "\u001b[2;32m│   \u001b[0m\u001b[32m'tracking_config'\u001b[0m: \u001b[1m{\u001b[0m\n",
       "\u001b[2;32m│   │   \u001b[0m\u001b[32m'solver_name'\u001b[0m: \u001b[32m''\u001b[0m,\n",
       "\u001b[2;32m│   │   \u001b[0m\u001b[32m'appear_weight'\u001b[0m: \u001b[1;36m-0.001\u001b[0m,\n",
       "\u001b[2;32m│   │   \u001b[0m\u001b[32m'disappear_weight'\u001b[0m: \u001b[1;36m-0.2\u001b[0m,\n",
       "\u001b[2;32m│   │   \u001b[0m\u001b[32m'division_weight'\u001b[0m: \u001b[1;36m-0.001\u001b[0m,\n",
       "\u001b[2;32m│   │   \u001b[0m\u001b[32m'image_border_size'\u001b[0m: \u001b[3;35mNone\u001b[0m,\n",
       "\u001b[2;32m│   │   \u001b[0m\u001b[32m'n_threads'\u001b[0m: \u001b[1;36m-1\u001b[0m,\n",
       "\u001b[2;32m│   │   \u001b[0m\u001b[32m'window_size'\u001b[0m: \u001b[3;35mNone\u001b[0m,\n",
       "\u001b[2;32m│   │   \u001b[0m\u001b[32m'overlap_size'\u001b[0m: \u001b[1;36m1\u001b[0m,\n",
       "\u001b[2;32m│   │   \u001b[0m\u001b[32m'solution_gap'\u001b[0m: \u001b[1;36m0.001\u001b[0m,\n",
       "\u001b[2;32m│   │   \u001b[0m\u001b[32m'time_limit'\u001b[0m: \u001b[1;36m36000\u001b[0m,\n",
       "\u001b[2;32m│   │   \u001b[0m\u001b[32m'method'\u001b[0m: \u001b[1;36m0\u001b[0m,\n",
       "\u001b[2;32m│   │   \u001b[0m\u001b[32m'link_function'\u001b[0m: \u001b[32m'power'\u001b[0m,\n",
       "\u001b[2;32m│   │   \u001b[0m\u001b[32m'power'\u001b[0m: \u001b[1;36m4\u001b[0m,\n",
       "\u001b[2;32m│   │   \u001b[0m\u001b[32m'bias'\u001b[0m: \u001b[1;36m-0.0\u001b[0m,\n",
       "\u001b[2;32m│   │   \u001b[0m\u001b[32m'dismiss_weight_guess'\u001b[0m: \u001b[3;35mNone\u001b[0m,\n",
       "\u001b[2;32m│   │   \u001b[0m\u001b[32m'include_weight_guess'\u001b[0m: \u001b[3;35mNone\u001b[0m\n",
       "\u001b[2;32m│   \u001b[0m\u001b[1m}\u001b[0m\n",
       "\u001b[1m}\u001b[0m\n"
      ]
     },
     "metadata": {},
     "output_type": "display_data"
    }
   ],
   "source": [
    "config = MainConfig()\n",
    "config.linking_config.max_distance = 50\n",
    "config.tracking_config.disappear_weight = -0.2\n",
    "\n",
    "pprint(config.dict())"
   ]
  },
  {
   "cell_type": "code",
   "execution_count": 10,
   "metadata": {},
   "outputs": [
    {
     "name": "stderr",
     "output_type": "stream",
     "text": [
      "Adding nodes to database: 100%|██████████| 13/13 [00:12<00:00,  1.07it/s]\n",
      "Linking nodes.: 100%|██████████| 12/12 [00:00<00:00, 20.99it/s]\n"

     ]
    },
    {
     "name": "stdout",
     "output_type": "stream",
     "text": [
      "Set parameter Username\n",
      "Set parameter LicenseID to value 2602925\n",
      "Academic license - for non-commercial use only - expires 2025-12-23\n",
      "Using Gurobi solver\n",
      "Solving ILP batch 0\n",
      "Constructing ILP ...\n",
      "Set parameter TimeLimit to value 36000\n",
      "Solving ILP ...\n",
      "Set parameter NodeLimit to value 1073741824\n",
      "Set parameter SolutionLimit to value 1073741824\n",
      "Set parameter IntFeasTol to value 1e-06\n",
      "Set parameter FeasibilityTol to value 1e-06\n",
      "Set parameter OptimalityTol to value 1e-06\n",
      "Set parameter Method to value 3\n",
      "Set parameter Seed to value 0\n",
      "Set parameter PoolSolutions to value 10\n",
      "Set parameter MIPGap to value 0.001\n",
      "Set parameter MIPGapAbs to value 1e-10\n",
      "Gurobi Optimizer version 12.0.1 build v12.0.1rc0 (linux64 - \"Pop!_OS 22.04 LTS\")\n",
      "\n",
      "CPU model: AMD Ryzen 9 5900X 12-Core Processor, instruction set [SSE2|AVX|AVX2]\n",
      "Thread count: 12 physical cores, 24 logical processors, using up to 24 threads\n",
      "\n",
      "Non-default parameters:\n",
      "NodeLimit  1073741824\n",
      "SolutionLimit  1073741824\n",
      "TimeLimit  36000\n",
      "IntFeasTol  1e-06\n",
      "MIPGap  0.001\n",
      "Method  3\n",
      "\n",
      "Optimize a model with 7071 rows, 11491 columns and 20821 nonzeros\n",
      "Model fingerprint: 0xacf5ed3a\n",
      "Variable types: 0 continuous, 11491 integer (11491 binary)\n",
      "Coefficient statistics:\n",
      "  Matrix range     [1e+00, 1e+00]\n",
      "  Objective range  [3e-15, 8e-01]\n",
      "  Bounds range     [1e+00, 1e+00]\n",
      "  RHS range        [1e+00, 1e+00]\n",
      "Found heuristic solution: objective -0.0000000\n",
      "Presolve removed 7069 rows and 11487 columns\n",
      "Presolve time: 0.10s\n",
      "Presolved: 2 rows, 4 columns, 6 nonzeros\n",
      "Found heuristic solution: objective 182.3419900\n",

      "Variable types: 0 continuous, 4 integer (4 binary)\n",
      "\n",
      "Explored 0 nodes (0 simplex iterations) in 0.10 seconds (0.06 work units)\n",
      "Thread count was 24 (of 24 available processors)\n",
      "\n",
      "Solution count 2: 182.342 -0 \n",
      "\n",
      "Optimal solution found (tolerance 1.00e-03)\n",
      "Best objective 1.823419900494e+02, best bound 1.823429901393e+02, gap 0.0005%\n",

      "Saving solution ...\n",
      "Done!\n"
     ]
    }
   ],
   "source": [
    "track(\n",
    "    foreground=detections,\n",
    "    edges=edges,\n",
    "    config=config,\n",
    "    overwrite=True,\n",
    ")"
   ]
  },
  {
   "cell_type": "code",
   "execution_count": 11,
   "metadata": {},
   "outputs": [],
   "source": [
    "tracks_df, graph = to_tracks_layer(config)\n",
    "tracks_df = close_tracks_gaps(\n",
    "    tracks_df=tracks_df,\n",
    "    max_gap=2,\n",
    "    max_radius=50,\n",
    "    spatial_columns=[\"y\", \"x\"],\n",
    ")"
   ]
  },
  {
   "cell_type": "code",
   "execution_count": 12,
   "metadata": {},
   "outputs": [
    {
     "name": "stderr",
     "output_type": "stream",
     "text": [
      "Exporting segmentation masks: 100%|██████████| 13/13 [00:00<00:00, 139.16it/s]"

     ]
    },
    {
     "name": "stdout",
     "output_type": "stream",
     "text": [
      "205\n",
      "Found 205 unique tracks in the dataset.\n"
     ]
    },
    {
     "name": "stderr",
     "output_type": "stream",
     "text": [
      "\n"

     ]
    },
    {
     "data": {
      "text/html": [
       "<div>\n",
       "<style scoped>\n",
       "    .dataframe tbody tr th:only-of-type {\n",
       "        vertical-align: middle;\n",
       "    }\n",
       "\n",
       "    .dataframe tbody tr th {\n",
       "        vertical-align: top;\n",
       "    }\n",
       "\n",
       "    .dataframe thead th {\n",
       "        text-align: right;\n",
       "    }\n",
       "</style>\n",
       "<table border=\"1\" class=\"dataframe\">\n",
       "  <thead>\n",
       "    <tr style=\"text-align: right;\">\n",
       "      <th></th>\n",
       "      <th>track_id</th>\n",
       "      <th>t</th>\n",
       "      <th>y</th>\n",
       "      <th>x</th>\n",
       "      <th>id</th>\n",
       "      <th>parent_track_id</th>\n",
       "      <th>parent_id</th>\n",
       "    </tr>\n",
       "  </thead>\n",
       "  <tbody>\n",
       "    <tr>\n",
       "      <th>0</th>\n",
       "      <td>1</td>\n",
       "      <td>0.0</td>\n",
       "      <td>57.0</td>\n",
       "      <td>1065.0</td>\n",
       "      <td>1000008.0</td>\n",

       "      <td>-1</td>\n",
       "      <td>-1.0</td>\n",
       "    </tr>\n",
       "    <tr>\n",
       "      <th>1</th>\n",
       "      <td>1</td>\n",
       "      <td>1.0</td>\n",
       "      <td>63.0</td>\n",
       "      <td>1064.0</td>\n",
       "      <td>2000009.0</td>\n",
       "      <td>-1</td>\n",
       "      <td>1000008.0</td>\n",

       "    </tr>\n",
       "    <tr>\n",
       "      <th>2</th>\n",
       "      <td>1</td>\n",
       "      <td>2.0</td>\n",
       "      <td>41.0</td>\n",
       "      <td>1044.0</td>\n",
       "      <td>3000008.0</td>\n",
       "      <td>-1</td>\n",
       "      <td>2000009.0</td>\n",

       "    </tr>\n",
       "    <tr>\n",
       "      <th>3</th>\n",
       "      <td>1</td>\n",
       "      <td>3.0</td>\n",
       "      <td>41.0</td>\n",
       "      <td>1045.0</td>\n",
       "      <td>4000008.0</td>\n",
       "      <td>-1</td>\n",
       "      <td>3000008.0</td>\n",

       "    </tr>\n",
       "    <tr>\n",
       "      <th>4</th>\n",
       "      <td>1</td>\n",
       "      <td>4.0</td>\n",
       "      <td>43.0</td>\n",
       "      <td>1034.0</td>\n",
       "      <td>5000009.0</td>\n",
       "      <td>-1</td>\n",
       "      <td>4000008.0</td>\n",

       "    </tr>\n",
       "  </tbody>\n",
       "</table>\n",
       "</div>"
      ],
      "text/plain": [
       "   track_id    t     y       x         id  parent_track_id  parent_id\n",
       "0         1  0.0  57.0  1065.0  1000008.0               -1       -1.0\n",
       "1         1  1.0  63.0  1064.0  2000009.0               -1  1000008.0\n",
       "2         1  2.0  41.0  1044.0  3000008.0               -1  2000009.0\n",
       "3         1  3.0  41.0  1045.0  4000008.0               -1  3000008.0\n",
       "4         1  4.0  43.0  1034.0  5000009.0               -1  4000008.0"

      ]
     },
     "execution_count": 12,
     "metadata": {},
     "output_type": "execute_result"
    }
   ],
   "source": [
    "labels = tracks_to_zarr(config, tracks_df)\n",

    "tracks_df.to_parquet(\n",
    "    f\"{results_output_dir}/{str(input_dir).split('MaxIP_')[1]}_tracks.parquet\"\n",
    ")\n",
    "print(tracks_df[\"track_id\"].nunique())\n",
    "print(f\"Found {tracks_df['track_id'].nunique()} unique tracks in the dataset.\")\n",
    "tracks_df.head()"
   ]
  },
  {
   "cell_type": "code",
   "execution_count": 13,
   "metadata": {},
   "outputs": [],
   "source": [
    "# save the tracks as parquet\n",
    "tracks_df.reset_index(drop=True, inplace=True)\n",
    "tracks = np.zeros((len(tiff_files), image_dims[0], image_dims[1]), dtype=np.uint16)\n",

    "cum_tracks_df = tracks_df.copy()\n",
    "timepoints = tracks_df[\"t\"].unique()\n",
    "\n",
    "# zero out the track_df for plotting\n",
    "cum_tracks_df = cum_tracks_df.loc[cum_tracks_df[\"t\"] == -1]"
   ]
  },
  {
   "cell_type": "code",
   "execution_count": 14,
   "metadata": {},
   "outputs": [],
   "source": [
    "if in_notebook:\n",
    "    for frame_index, _ in enumerate(nuclei):\n",
    "        tmp_df = tracks_df.loc[tracks_df[\"t\"] == frame_index]\n",
    "        cum_tracks_df = pd.concat([cum_tracks_df, tmp_df])\n",
    "        plt.figure(figsize=(6, 3))\n",
    "        plt.subplot(1, 3, 1)\n",
    "        # rescale tbe intensity of the raw image\n",
    "        raw_image = timelapse_raw[frame_index, :, :]\n",
    "        raw_image = raw_image * 4096\n",
    "        plt.imshow(nuclei[frame_index, :, :], cmap=\"gray\")\n",
    "        plt.title(\"Raw\")\n",
    "        plt.axis(\"off\")\n",
    "\n",
    "        plt.subplot(1, 3, 2)\n",
    "        plt.imshow(detections[frame_index, :, :], cmap=\"gray\")\n",
    "        plt.title(\"Detections\")\n",
    "        plt.axis(\"off\")\n",
    "\n",
    "        plt.subplot(1, 3, 3)\n",
    "        sns.lineplot(data=cum_tracks_df, x=\"x\", y=\"y\", hue=\"track_id\", legend=False)\n",
    "        plt.imshow(detections[frame_index, :, :], cmap=\"gray\", alpha=0.5)\n",
    "        plt.title(f\"Frame {frame_index}\")\n",
    "        plt.axis(\"off\")\n",
    "\n",
    "        plt.tight_layout()\n",
    "        plt.savefig(f\"{temporary_output_dir}/tracks_{frame_index}.png\")\n",
    "        plt.close()"

   ]
  },
  {
   "cell_type": "code",
   "execution_count": 15,
   "metadata": {},
   "outputs": [],
   "source": [
    "# load each image\n",
    "files = [f for f in temporary_output_dir.glob(\"*.png\")]\n",
    "files = sorted(files, key=lambda x: int(x.stem.split(\"_\")[1]))\n",
    "frames = [Image.open(f) for f in files]\n",
    "fig_path = figures_output_dir / f\"{str(input_dir).split('MaxIP_')[1]}_tracks.gif\"\n",
    "# plot the line of each track in matplotlib over a gif\n",
    "# get the tracks\n",
    "# save the frames as a gif\n",
    "frames[0].save(fig_path, save_all=True, append_images=frames[1:], duration=100, loop=0)"
   ]
  },
  {
   "cell_type": "code",
   "execution_count": 16,
   "metadata": {},
   "outputs": [],
   "source": [
    "# clean up tracking files\n",
    "# remove temporary_output_dir\n",
    "shutil.rmtree(temporary_output_dir)\n",
    "\n",
    "track_db_path = pathlib.Path(\"data.db\").resolve()\n",
    "metadata_toml_path = pathlib.Path(\"metadata.toml\").resolve()\n",
    "if track_db_path.exists():\n",
    "    track_db_path.unlink()\n",
    "if metadata_toml_path.exists():\n",
    "    metadata_toml_path.unlink()"
   ]
  },
  {
   "cell_type": "code",
   "execution_count": 17,
   "metadata": {},
   "outputs": [],
   "source": [
    "clear_gpu_memory()"
   ]
  },
  {
   "cell_type": "code",
   "execution_count": 18,
   "metadata": {},
   "outputs": [
    {
     "ename": "",
     "evalue": "",
     "output_type": "error",
     "traceback": [
      "\u001b[1;31mThe Kernel crashed while executing code in the current cell or a previous cell. \n",
      "\u001b[1;31mPlease review the code in the cell(s) to identify a possible cause of the failure. \n",
      "\u001b[1;31mClick <a href='https://aka.ms/vscodeJupyterKernelCrash'>here</a> for more info. \n",
      "\u001b[1;31mView Jupyter <a href='command:jupyter.viewOutput'>log</a> for further details."
     ]
    }
   ],

   "source": [
    "if in_notebook:\n",
    "    viewer = napari.Viewer()\n",
    "    viewer.window.resize(1200, 1200)\n",
    "\n",
    "    viewer.add_image(nuclei, name=\"Raw\", colormap=\"gray\")\n",
    "\n",
    "    viewer.add_tracks(tracks_df[[\"track_id\", \"t\", \"y\", \"x\"]].values, graph=graph)\n",
    "    viewer.add_labels(masks)\n",
    "\n",
    "    viewer.layers[\"masks\"].visible = False\n",
    "\n",
    "    nbscreenshot(viewer)\n",
    "    # viewer.close()"

   ]
  }
 ],
 "metadata": {
  "kernelspec": {
   "display_name": "cell_tracking_env",
   "language": "python",
   "name": "python3"
  },
  "language_info": {
   "codemirror_mode": {
    "name": "ipython",
    "version": 3
   },
   "file_extension": ".py",
   "mimetype": "text/x-python",
   "name": "python",
   "nbconvert_exporter": "python",
   "pygments_lexer": "ipython3",
   "version": "3.10.16"
  }
 },
 "nbformat": 4,
 "nbformat_minor": 2
}
