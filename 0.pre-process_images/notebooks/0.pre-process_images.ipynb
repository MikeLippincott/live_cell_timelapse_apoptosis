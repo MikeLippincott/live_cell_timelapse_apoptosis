{
 "cells": [
  {
   "cell_type": "markdown",
   "metadata": {},
   "source": [
    "Note: This notebook converts single channel grayscale images to 5 channel images by adding blank channels. \n",
    "This is done to make the images compatible with the pre-trained models that expect 5 channel images. \n",
    "The code in this notebook will need to change to match a unique dataset, regretfully."
   ]
  },
  {
   "cell_type": "code",
   "execution_count": null,
   "metadata": {},
   "outputs": [],
   "source": [
    "import os\n",
    "import pathlib\n",
    "import shutil\n",
    "import sys\n",
    "\n",
    "import cv2\n",
    "\n",
    "# show the image\n",
    "import matplotlib.pyplot as plt\n",
    "import numpy as np\n",
    "import pandas as pd\n",
    "import tifffile as tiff"
   ]
  },
  {
   "cell_type": "markdown",
   "metadata": {},
   "source": [
    "## Import paths"
   ]
  },
  {
   "cell_type": "code",
   "execution_count": null,
   "metadata": {},
   "outputs": [],
   "source": [
    "# set the path to the data directory\n",
    "data_dir = pathlib.Path(\n",
    "    \"../../data/extracted_features/run_20231017ChromaLive_6hr_4ch_MaxIP_sc.parquet\"\n",
    ").resolve(strict=True)\n",
    "\n",
    "# read in the data\n",
    "data = pd.read_parquet(data_dir)"
   ]
  },
  {
   "cell_type": "code",
   "execution_count": null,
   "metadata": {},
   "outputs": [],
   "source": [
    "# rename Columns that contain Image to start with Metadata_\n",
    "data = data.rename(columns=lambda x: x if not \"Name\" in x else \"Metadata_\" + x)\n",
    "# rename Columns that contain BoundingBox to start with Metadata_\n",
    "data = data.rename(columns=lambda x: x if not \"BoundingBox\" in x else \"Metadata_\" + x)\n",
    "# rename Columns that contain Center_ to start with Metadata_\n",
    "data = data.rename(columns=lambda x: x if not \"Center_\" in x else \"Metadata_\" + x)\n",
    "# get columns that contain Metadata\n",
    "metadata_columns = [col for col in data.columns if \"Metadata\" in col]\n",
    "metadata_df = data[metadata_columns]\n",
    "# get columns that contain Features\n",
    "feature_df = data.drop(columns=metadata_columns)\n",
    "metadata_df.head()"
   ]
  },
  {
   "cell_type": "markdown",
   "metadata": {},
   "source": [
    "Metadata_Image_FileName_488_1\t\n",
    "Metadata_Image_FileName_488_2\t\n",
    "Metadata_Image_FileName_561\t\n",
    "Metadata_Image_FileName_DNA"
   ]
  },
  {
   "cell_type": "code",
   "execution_count": null,
   "metadata": {},
   "outputs": [],
   "source": [
    "# define the center x and y and path\n",
    "total_counter = 0\n",
    "ommited_counter = 0\n",
    "# list_of_indexes = [100,101,103,104,105,106,107,109,110,111,112,113,15000,15001,15002,15003, 15004, 15005, 15006, 15007, 15008, 15009, 15010, 15011]\n",
    "# define the psuedo radius\n",
    "radius = 50\n",
    "for i in range(len(metadata_df)):\n",
    "    total_counter += 1\n",
    "    tmp = metadata_df.iloc[i]\n",
    "    image_path = pathlib.Path(\n",
    "        \"../../../live_cell_timelapse_apoptosis/2.cellprofiler_ic_processing/illum_directory/20231017ChromaLive_6hr_4ch_MaxIP/\"\n",
    "    )\n",
    "    center_y = tmp[\"Metadata_Nuclei_Location_Center_Y\"].astype(int)\n",
    "    center_x = tmp[\"Metadata_Nuclei_Location_Center_X\"].astype(int)\n",
    "    # DNA\n",
    "    image_name_DNA = pathlib.Path(tmp[\"Metadata_Image_FileName_DNA\"])\n",
    "    image_path_DNA = pathlib.Path(image_path / image_name_DNA).resolve(strict=True)\n",
    "    # 488_1\n",
    "    image_name_488_1 = pathlib.Path(tmp[\"Metadata_Image_FileName_488_1\"])\n",
    "    image_path_488_1 = pathlib.Path(image_path / image_name_488_1).resolve(strict=True)\n",
    "    # 488_2\n",
    "    image_name_488_2 = pathlib.Path(tmp[\"Metadata_Image_FileName_488_2\"])\n",
    "    image_path_488_2 = pathlib.Path(image_path / image_name_488_2).resolve(strict=True)\n",
    "    # 561\n",
    "    image_name_561 = pathlib.Path(tmp[\"Metadata_Image_FileName_561\"])\n",
    "    image_path_561 = pathlib.Path(image_path / image_name_561).resolve(strict=True)\n",
    "    image_DNA = tiff.imread(image_path_DNA)\n",
    "    image_488_1 = tiff.imread(image_path_488_1)\n",
    "    image_488_2 = tiff.imread(image_path_488_2)\n",
    "    image_561 = tiff.imread(image_path_561)\n",
    "\n",
    "    image_DNA_crop = image_DNA[\n",
    "        center_y - radius : center_y + radius, center_x - radius : center_x + radius\n",
    "    ]\n",
    "    image_488_1_crop = image_488_1[\n",
    "        center_y - radius : center_y + radius, center_x - radius : center_x + radius\n",
    "    ]\n",
    "    image_488_2_crop = image_488_2[\n",
    "        center_y - radius : center_y + radius, center_x - radius : center_x + radius\n",
    "    ]\n",
    "    image_561_crop = image_561[\n",
    "        center_y - radius : center_y + radius, center_x - radius : center_x + radius\n",
    "    ]\n",
    "\n",
    "    # check if crop is an edge case\n",
    "    if image_DNA_crop.shape[0] < radius * 2 or image_DNA_crop.shape[1] < radius * 2:\n",
    "        print(\n",
    "            f\"Image {tmp['Metadata_Image_FileName_DNA']} is an edge case. Ommitting...\"\n",
    "        )\n",
    "        ommited_counter += 1\n",
    "        continue\n",
    "    # merge the channels to a single image\n",
    "    image_merge = np.stack(\n",
    "        [image_DNA_crop, image_488_1_crop, image_488_2_crop, image_561_crop], axis=-1\n",
    "    )\n",
    "    print(image_merge.shape)\n",
    "    print(image_merge.shape[-1])\n",
    "    if image_merge.shape[-1] < 5:\n",
    "        channels_to_add = 5 - image_merge.shape[-1]\n",
    "        for channel in range(channels_to_add):\n",
    "            # add a new channel of all zeros\n",
    "            new_channels = np.zeros((image_merge.shape[0], image_merge.shape[1], 1))\n",
    "            image_merge = np.concatenate((image_merge, new_channels), axis=-1)\n",
    "    print(image_merge.shape)\n",
    "    # save images to disk\n",
    "    image_save_path = pathlib.Path(\n",
    "        f\"../../data/processed_images/crops/{tmp['Metadata_Well']}\"\n",
    "    )\n",
    "    image_save_path.mkdir(parents=True, exist_ok=True)\n",
    "    file_name = tmp[\"Metadata_Image_FileName_DNA\"].replace(\n",
    "        \".tiff\", f'_{tmp[\"Metadata_Nuclei_Number_Object_Number\"]}_crop.tiff'\n",
    "    )\n",
    "    image_save_path = pathlib.Path(image_save_path / file_name)\n",
    "    tiff.imwrite(image_save_path, image_merge)\n",
    "    print(f\"Image saved to {image_save_path}\")"
   ]
  },
  {
   "cell_type": "code",
   "execution_count": null,
   "metadata": {},
   "outputs": [],
   "source": [
    "print(f\"Total cell images: {total_counter}\")\n",
    "print(f\"Ommited cell images: {ommited_counter}\")\n",
    "print(f\"Total saved cell images: {total_counter - ommited_counter}\")\n",
    "print(\n",
    "    f\"{round(((total_counter - ommited_counter)/total_counter*100),2)}% of the images were saved\"\n",
    ")"
   ]
  }
 ],
 "metadata": {
  "kernelspec": {
   "display_name": "scDINO_env",
   "language": "python",
   "name": "python3"
  },
  "language_info": {
   "codemirror_mode": {
    "name": "ipython",
    "version": 3
   },
   "file_extension": ".py",
   "mimetype": "text/x-python",
   "name": "python",
   "nbconvert_exporter": "python",
   "pygments_lexer": "ipython3",
   "version": "3.11.8"
  }
 },
 "nbformat": 4,
 "nbformat_minor": 2
}
