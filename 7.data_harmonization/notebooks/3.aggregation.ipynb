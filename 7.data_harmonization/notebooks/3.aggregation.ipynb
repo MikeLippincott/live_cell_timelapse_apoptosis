{
 "cells": [
  {
   "attachments": {},
   "cell_type": "markdown",
   "metadata": {},
   "source": [
    "# Aggregate feature selected profiles"
   ]
  },
  {
   "attachments": {},
   "cell_type": "markdown",
   "metadata": {},
   "source": [
    "## Import libraries"
   ]
  },
  {
   "cell_type": "code",
   "execution_count": 1,
   "metadata": {},
   "outputs": [],
   "source": [
    "import gc\n",
    "import pathlib\n",
    "import sys\n",
    "\n",
    "import pandas as pd\n",
    "from pycytominer import aggregate"
   ]
  },
  {
   "attachments": {},
   "cell_type": "markdown",
   "metadata": {},
   "source": [
    "## Set paths and variables"
   ]
  },
  {
   "cell_type": "code",
   "execution_count": 2,
   "metadata": {},
   "outputs": [],
   "source": [
    "# set paths\n",
    "input_profile_dir = pathlib.Path(\n",
    "    \"../data/CP_scDINO_features/combined_CP_scDINO_norm_fs.parquet\"\n",
    ").resolve(strict=True)\n",
    "output_profile_dir = pathlib.Path(\n",
    "    \"../data/CP_scDINO_features/combined_CP_scDINO_norm_fs_aggregated.parquet\"\n",
    ").resolve()\n",
    "fs_df = pd.read_parquet(input_profile_dir)"
   ]
  },
  {
   "attachments": {},
   "cell_type": "markdown",
   "metadata": {},
   "source": [
    "## Perform aggregation"
   ]
  },
  {
   "cell_type": "code",
   "execution_count": 3,
   "metadata": {},
   "outputs": [
    {
     "name": "stdout",
     "output_type": "stream",
     "text": [
      "(390, 2340)\n"
     ]
    }
   ],
   "source": [
    "metadata_cols = fs_df.columns[fs_df.columns.str.contains(\"Metadata\")]\n",
    "feature_cols = fs_df.columns[~fs_df.columns.str.contains(\"Metadata\")].to_list()\n",
    "\n",
    "aggregated_df = aggregate(\n",
    "    fs_df,\n",
    "    features=feature_cols,\n",
    "    strata=[\"Metadata_Well\", \"Metadata_Time\"],\n",
    "    operation=\"median\",\n",
    ")\n",
    "\n",
    "print(aggregated_df.shape)\n",
    "aggregated_df.to_parquet(output_profile_dir)"
   ]
  }
 ],
 "metadata": {
  "kernelspec": {
   "display_name": "cellprofiler_timelapse_env",
   "language": "python",
   "name": "python3"
  },
  "language_info": {
   "codemirror_mode": {
    "name": "ipython",
    "version": 3
   },
   "file_extension": ".py",
   "mimetype": "text/x-python",
   "name": "python",
   "nbconvert_exporter": "python",
   "pygments_lexer": "ipython3",
   "version": "3.8.20"
  },
  "orig_nbformat": 4
 },
 "nbformat": 4,
 "nbformat_minor": 2
}
