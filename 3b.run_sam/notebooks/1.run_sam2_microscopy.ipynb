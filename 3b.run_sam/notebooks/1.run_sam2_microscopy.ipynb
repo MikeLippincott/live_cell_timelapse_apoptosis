{
 "cells": [
  {
   "cell_type": "markdown",
   "metadata": {},
   "source": [
    "This notebook solves the cell tracking issue by using [SAM2](https://github.com/facebookresearch/segment-anything-2/tree/main) instead of the functionality within CellProfiler.\n",
    "Here I use the pretrained model to segment the nuclei in the video.\n",
    "The output is a mask for each object in each frame and the x,y coordinates centers of each object in each frame."
   ]
  },
  {
   "cell_type": "markdown",
   "metadata": {},
   "source": [
    "This is a notebook that needs perfect conditions to work. \n",
    "With a GeForce RTX 3090 TI, the 24GB of VRAM sometimes are not enough to process the videos.\n",
    "\n",
    "Hold your breath, pick a four-leaf clover, avoid black cats, cracks, and mirrors, and let's go!\n",
    "\n",
    "This notebook is converted to a script and ran from script to be compatible with HPC cluster."
   ]
  },
  {
   "cell_type": "markdown",
   "metadata": {},
   "source": [
    "# Table of Contents for this Notebook\n",
    "#### 1. Imports\n",
    "#### 2. Import data\n",
    "#### 3. get the masks and centers\n",
    "#### 4. Track multiple objects in the video\n",
    "#### 5. Track the objects through frames\n",
    "#### 6. Visualize the tracking and output the data"
   ]
  },
  {
   "cell_type": "markdown",
   "metadata": {},
   "source": [
    "## 1. Imports"
   ]
  },
  {
   "cell_type": "code",
   "execution_count": 1,
   "metadata": {},
   "outputs": [
    {
     "name": "stderr",
     "output_type": "stream",
     "text": [
      "2024-10-10 13:50:36.485942: E external/local_xla/xla/stream_executor/cuda/cuda_fft.cc:485] Unable to register cuFFT factory: Attempting to register factory for plugin cuFFT when one has already been registered\n",
      "2024-10-10 13:50:36.497270: E external/local_xla/xla/stream_executor/cuda/cuda_dnn.cc:8454] Unable to register cuDNN factory: Attempting to register factory for plugin cuDNN when one has already been registered\n",
      "2024-10-10 13:50:36.500910: E external/local_xla/xla/stream_executor/cuda/cuda_blas.cc:1452] Unable to register cuBLAS factory: Attempting to register factory for plugin cuBLAS when one has already been registered\n",
      "2024-10-10 13:50:36.510182: I tensorflow/core/platform/cpu_feature_guard.cc:210] This TensorFlow binary is optimized to use available CPU instructions in performance-critical operations.\n",
      "To enable the following instructions: AVX2 FMA, in other operations, rebuild TensorFlow with the appropriate compiler flags.\n",
      "2024-10-10 13:50:37.156142: W tensorflow/compiler/tf2tensorrt/utils/py_utils.cc:38] TF-TRT Warning: Could not find TensorRT\n"
     ]
    },
    {
     "name": "stdout",
     "output_type": "stream",
     "text": [
      "True\n",
      "0\n",
      "1\n",
      "NVIDIA GeForce RTX 3090 Ti\n"
     ]
    }
   ],
   "source": [
    "# top level imports\n",
    "import argparse\n",
    "import gc  # garbage collector\n",
    "import logging  # logging\n",
    "import pathlib  # path handling\n",
    "import shutil  # file handling\n",
    "import subprocess  # subprocess handling\n",
    "import sys  # system\n",
    "\n",
    "import lancedb  # lancedb database\n",
    "import matplotlib.pyplot as plt  # plotting\n",
    "import numpy as np  # numerical python\n",
    "import pandas as pd  # data handling\n",
    "import pyarrow as pa  # pyarrow for parquet\n",
    "import torch  # pytorch deep learning\n",
    "from csbdeep.utils import Path, normalize  # dependecy for stardist\n",
    "from PIL import Image  # image handling\n",
    "from sam2.build_sam import build_sam2, build_sam2_video_predictor  # sam2\n",
    "from sam2.sam2_image_predictor import SAM2ImagePredictor  # sam2 image predictor\n",
    "from skimage import io  # image handling\n",
    "from skimage.measure import label, regionprops  # coordinate handling\n",
    "from skimage.transform import resize  # image handling\n",
    "from stardist.models import StarDist2D  # stardist\n",
    "from stardist.plot import render_label  # stardist\n",
    "from torchvision import models  # pytorch models\n",
    "\n",
    "sys.path.append(\"../../utils/\")\n",
    "from SAM2_utils import (  # sam2 utils\n",
    "    delete_recorded_memory_history,\n",
    "    export_memory_snapshot,\n",
    "    generate_random_coords,\n",
    "    show_mask,\n",
    "    show_points,\n",
    "    start_record_memory_history,\n",
    "    stop_record_memory_history,\n",
    ")\n",
    "\n",
    "# check cuda devices\n",
    "print(torch.cuda.is_available())\n",
    "print(torch.cuda.current_device())\n",
    "print(torch.cuda.device_count())\n",
    "print(torch.cuda.get_device_name(0))"
   ]
  },
  {
   "cell_type": "code",
   "execution_count": 2,
   "metadata": {},
   "outputs": [],
   "source": [
    "# import the arguments\n",
    "parser = argparse.ArgumentParser(description=\"Process timelapse images.\")\n",
    "parser.add_argument(\n",
    "    \"--model_to_use\",\n",
    "    type=str,\n",
    "    default=\"all\",\n",
    "    help=\"Options: all, tiny, small, base, large\",\n",
    ")\n",
    "parser.add_argument(\"--downscale\", type=bool, default=False, help=\"Downsample images\")\n",
    "parser.add_argument(\n",
    "    \"--downscale_factor\", type=int, default=1, help=\"Downsample factor for images\"\n",
    ")\n",
    "\n",
    "# get the arguments\n",
    "args = parser.parse_args()\n",
    "\n",
    "model_to_use = args.model_to_use\n",
    "downscale = args.downscale\n",
    "downscale_factor = args.downscale_factor\n",
    "\n",
    "\n",
    "# model_to_use = \"tiny\"\n",
    "# downsample = True\n",
    "# downscale_factor = 15"
   ]
  },
  {
   "cell_type": "markdown",
   "metadata": {},
   "source": [
    "## 2. Import data"
   ]
  },
  {
   "cell_type": "markdown",
   "metadata": {},
   "source": [
    "### Download the model(s)"
   ]
  },
  {
   "cell_type": "code",
   "execution_count": 3,
   "metadata": {},
   "outputs": [],
   "source": [
    "models_dict = {\n",
    "    \"tiny\": {\n",
    "        \"model_path\": \"sam2_hiera_tiny.pt\",\n",
    "        \"model_link\": \"https://dl.fbaipublicfiles.com/segment_anything_2/072824/sam2_hiera_tiny.pt\",\n",
    "        \"model_cfg\": \"sam2_hiera_t.yaml\",\n",
    "    },\n",
    "    \"small\": {\n",
    "        \"model_path\": \"sam2_hiera_small.pt\",\n",
    "        \"model_link\": \"https://dl.fbaipublicfiles.com/segment_anything_2/072824/sam2_hiera_small.pt\",\n",
    "        \"model_cfg\": \"sam2_hiera_s.yaml\",\n",
    "    },\n",
    "    \"base\": {\n",
    "        \"model_path\": \"sam2_hiera_base_plus.pt\",\n",
    "        \"model_link\": \"https://dl.fbaipublicfiles.com/segment_anything_2/072824/sam2_hiera_base_plus.pt\",\n",
    "        \"model_cfg\": \"sam2_hiera_b+.yaml\",\n",
    "    },\n",
    "    \"large\": {\n",
    "        \"model_path\": \"sam2_hiera_large.pt\",\n",
    "        \"model_link\": \"https://dl.fbaipublicfiles.com/segment_anything_2/072824/sam2_hiera_large.pt\",\n",
    "        \"model_cfg\": \"sam2_hiera_l.yaml\",\n",
    "    },\n",
    "}"
   ]
  },
  {
   "cell_type": "code",
   "execution_count": 4,
   "metadata": {},
   "outputs": [
    {
     "name": "stdout",
     "output_type": "stream",
     "text": [
      "Model /home/lippincm/Documents/live_cell_timelapse_apoptosis/data/models/sam2_hiera_tiny.pt already exists. Skipping download.\n",
      "Model /home/lippincm/Documents/live_cell_timelapse_apoptosis/data/models/sam2_hiera_small.pt already exists. Skipping download.\n",
      "Model /home/lippincm/Documents/live_cell_timelapse_apoptosis/data/models/sam2_hiera_base_plus.pt already exists. Skipping download.\n",
      "Model /home/lippincm/Documents/live_cell_timelapse_apoptosis/data/models/sam2_hiera_large.pt already exists. Skipping download.\n"
     ]
    }
   ],
   "source": [
    "# Download the file using wget\n",
    "# this is the model checkpoint for the SAM2 model\n",
    "for model in models_dict.keys():\n",
    "    model_path = pathlib.Path(models_dict[model][\"model_path\"]).resolve()\n",
    "    new_model_path = pathlib.Path(\"../../data/models\").resolve() / model_path.name\n",
    "    # check if the model already exists\n",
    "    if not new_model_path.exists():\n",
    "        subprocess.run([\"wget\", models_dict[model][\"model_link\"]], check=True)\n",
    "        new_model_path.parent.mkdir(parents=True, exist_ok=True)\n",
    "        shutil.move(model_path, new_model_path)\n",
    "    else:\n",
    "        print(f\"Model {new_model_path} already exists. Skipping download.\")\n",
    "\n",
    "if model_to_use == \"tiny\":\n",
    "    sam2_checkpoint = pathlib.Path(\"../../data/models/sam2_hiera_tiny.pt\").resolve()\n",
    "    model_cfg = \"sam2_hiera_t.yaml\"\n",
    "elif model_to_use == \"small\":\n",
    "    sam2_checkpoint = pathlib.Path(\"../../data/models/sam2_hiera_small.pt\").resolve()\n",
    "    model_cfg = \"sam2_hiera_s.yaml\"\n",
    "elif model_to_use == \"base\":\n",
    "    sam2_checkpoint = pathlib.Path(\n",
    "        \"../../data/models/sam2_hiera_base_plus.pt\"\n",
    "    ).resolve()\n",
    "    model_cfg = \"sam2_hiera_b+.yaml\"\n",
    "elif model_to_use == \"large\":\n",
    "    sam2_checkpoint = pathlib.Path(\"../../data/models/sam2_hiera_large.pt\").resolve()\n",
    "    model_cfg = \"sam2_hiera_l.yaml\"\n",
    "else:\n",
    "    exception_message = (\n",
    "        f\"Model {model_to_use} not found. Please choose from: tiny, small, base, large\"\n",
    "    )"
   ]
  },
  {
   "cell_type": "code",
   "execution_count": 5,
   "metadata": {},
   "outputs": [],
   "source": [
    "predictor = build_sam2_video_predictor(model_cfg, sam2_checkpoint)\n",
    "\n",
    "# set the path to the videos\n",
    "sam2_processing_dir = pathlib.Path(\n",
    "    f\"../sam2_processing_dir/{model_to_use}_model_{downscale_factor}x_factor/\"\n",
    ").resolve()\n",
    "sam2_processing_dir.mkdir(parents=True, exist_ok=True)\n",
    "ordered_tiffs = pathlib.Path(sam2_processing_dir / \"tiffs/\").resolve()\n",
    "converted_to_video_dir = pathlib.Path(sam2_processing_dir / \"pngs/\").resolve()\n",
    "if converted_to_video_dir.exists():\n",
    "    shutil.rmtree(converted_to_video_dir)\n",
    "\n",
    "ordered_tiffs.mkdir(parents=True, exist_ok=True)\n",
    "converted_to_video_dir.mkdir(parents=True, exist_ok=True)"
   ]
  },
  {
   "cell_type": "code",
   "execution_count": 6,
   "metadata": {},
   "outputs": [],
   "source": [
    "tiff_dir = pathlib.Path(\n",
    "    \"../../2.cellprofiler_ic_processing/illum_directory/20231017ChromaLive_6hr_4ch_MaxIP/\"\n",
    ").resolve(strict=True)\n",
    "terminal_dir = pathlib.Path(\n",
    "    \"../../2.cellprofiler_ic_processing/illum_directory/20231017ChromaLive_endpoint_w_AnnexinV_2ch_MaxIP/\"\n",
    ").resolve(strict=True)"
   ]
  },
  {
   "cell_type": "code",
   "execution_count": 7,
   "metadata": {},
   "outputs": [],
   "source": [
    "# create the database object\n",
    "uri = pathlib.Path(\"../../data/objects_db\").resolve()\n",
    "db = lancedb.connect(uri)"
   ]
  },
  {
   "cell_type": "markdown",
   "metadata": {},
   "source": [
    "### Get data formatted correctly"
   ]
  },
  {
   "cell_type": "code",
   "execution_count": 8,
   "metadata": {},
   "outputs": [
    {
     "data": {
      "text/html": [
       "<div>\n",
       "<style scoped>\n",
       "    .dataframe tbody tr th:only-of-type {\n",
       "        vertical-align: middle;\n",
       "    }\n",
       "\n",
       "    .dataframe tbody tr th {\n",
       "        vertical-align: top;\n",
       "    }\n",
       "\n",
       "    .dataframe thead th {\n",
       "        text-align: right;\n",
       "    }\n",
       "</style>\n",
       "<table border=\"1\" class=\"dataframe\">\n",
       "  <thead>\n",
       "    <tr style=\"text-align: right;\">\n",
       "      <th></th>\n",
       "      <th>file_name</th>\n",
       "      <th>file_path</th>\n",
       "      <th>Well</th>\n",
       "      <th>FOV</th>\n",
       "      <th>Timepoint</th>\n",
       "      <th>Z-slice</th>\n",
       "      <th>Well_FOV</th>\n",
       "      <th>new_path</th>\n",
       "    </tr>\n",
       "  </thead>\n",
       "  <tbody>\n",
       "    <tr>\n",
       "      <th>0</th>\n",
       "      <td>E-06_F0003_T0005_Z0001_C01_illumcorrect</td>\n",
       "      <td>/home/lippincm/Documents/live_cell_timelapse_a...</td>\n",
       "      <td>E-06</td>\n",
       "      <td>F0003</td>\n",
       "      <td>T0005</td>\n",
       "      <td>Z0001</td>\n",
       "      <td>E-06_F0003</td>\n",
       "      <td>/home/lippincm/Documents/live_cell_timelapse_a...</td>\n",
       "    </tr>\n",
       "    <tr>\n",
       "      <th>1</th>\n",
       "      <td>C-02_F0002_T0006_Z0001_C01_illumcorrect</td>\n",
       "      <td>/home/lippincm/Documents/live_cell_timelapse_a...</td>\n",
       "      <td>C-02</td>\n",
       "      <td>F0002</td>\n",
       "      <td>T0006</td>\n",
       "      <td>Z0001</td>\n",
       "      <td>C-02_F0002</td>\n",
       "      <td>/home/lippincm/Documents/live_cell_timelapse_a...</td>\n",
       "    </tr>\n",
       "    <tr>\n",
       "      <th>2</th>\n",
       "      <td>C-07_F0002_T0004_Z0001_C01_illumcorrect</td>\n",
       "      <td>/home/lippincm/Documents/live_cell_timelapse_a...</td>\n",
       "      <td>C-07</td>\n",
       "      <td>F0002</td>\n",
       "      <td>T0004</td>\n",
       "      <td>Z0001</td>\n",
       "      <td>C-07_F0002</td>\n",
       "      <td>/home/lippincm/Documents/live_cell_timelapse_a...</td>\n",
       "    </tr>\n",
       "    <tr>\n",
       "      <th>3</th>\n",
       "      <td>D-11_F0003_T0009_Z0001_C01_illumcorrect</td>\n",
       "      <td>/home/lippincm/Documents/live_cell_timelapse_a...</td>\n",
       "      <td>D-11</td>\n",
       "      <td>F0003</td>\n",
       "      <td>T0009</td>\n",
       "      <td>Z0001</td>\n",
       "      <td>D-11_F0003</td>\n",
       "      <td>/home/lippincm/Documents/live_cell_timelapse_a...</td>\n",
       "    </tr>\n",
       "    <tr>\n",
       "      <th>4</th>\n",
       "      <td>E-09_F0003_T0002_Z0001_C01_illumcorrect</td>\n",
       "      <td>/home/lippincm/Documents/live_cell_timelapse_a...</td>\n",
       "      <td>E-09</td>\n",
       "      <td>F0003</td>\n",
       "      <td>T0002</td>\n",
       "      <td>Z0001</td>\n",
       "      <td>E-09_F0003</td>\n",
       "      <td>/home/lippincm/Documents/live_cell_timelapse_a...</td>\n",
       "    </tr>\n",
       "  </tbody>\n",
       "</table>\n",
       "</div>"
      ],
      "text/plain": [
       "                                 file_name  \\\n",
       "0  E-06_F0003_T0005_Z0001_C01_illumcorrect   \n",
       "1  C-02_F0002_T0006_Z0001_C01_illumcorrect   \n",
       "2  C-07_F0002_T0004_Z0001_C01_illumcorrect   \n",
       "3  D-11_F0003_T0009_Z0001_C01_illumcorrect   \n",
       "4  E-09_F0003_T0002_Z0001_C01_illumcorrect   \n",
       "\n",
       "                                           file_path  Well    FOV Timepoint  \\\n",
       "0  /home/lippincm/Documents/live_cell_timelapse_a...  E-06  F0003     T0005   \n",
       "1  /home/lippincm/Documents/live_cell_timelapse_a...  C-02  F0002     T0006   \n",
       "2  /home/lippincm/Documents/live_cell_timelapse_a...  C-07  F0002     T0004   \n",
       "3  /home/lippincm/Documents/live_cell_timelapse_a...  D-11  F0003     T0009   \n",
       "4  /home/lippincm/Documents/live_cell_timelapse_a...  E-09  F0003     T0002   \n",
       "\n",
       "  Z-slice    Well_FOV                                           new_path  \n",
       "0   Z0001  E-06_F0003  /home/lippincm/Documents/live_cell_timelapse_a...  \n",
       "1   Z0001  C-02_F0002  /home/lippincm/Documents/live_cell_timelapse_a...  \n",
       "2   Z0001  C-07_F0002  /home/lippincm/Documents/live_cell_timelapse_a...  \n",
       "3   Z0001  D-11_F0003  /home/lippincm/Documents/live_cell_timelapse_a...  \n",
       "4   Z0001  E-09_F0003  /home/lippincm/Documents/live_cell_timelapse_a...  "
      ]
     },
     "execution_count": 8,
     "metadata": {},
     "output_type": "execute_result"
    }
   ],
   "source": [
    "# get the list of tiff files in the directory\n",
    "tiff_files = list(tiff_dir.glob(\"*.tiff\"))\n",
    "tiff_files = tiff_files + list(terminal_dir.glob(\"*.tiff\"))\n",
    "tiff_file_names = [file.stem for file in tiff_files]\n",
    "# files to df\n",
    "tiff_df = pd.DataFrame({\"file_name\": tiff_file_names, \"file_path\": tiff_files})\n",
    "\n",
    "# split the file_path column by _ but keep the original column\n",
    "tiff_df[\"file_name\"] = tiff_df[\"file_name\"].astype(str)\n",
    "tiff_df[[\"Well\", \"FOV\", \"Timepoint\", \"Z-slice\", \"Channel\", \"illum\"]] = tiff_df[\n",
    "    \"file_name\"\n",
    "].str.split(\"_\", expand=True)\n",
    "tiff_df[\"Well_FOV\"] = tiff_df[\"Well\"] + \"_\" + tiff_df[\"FOV\"]\n",
    "# drop all channels except for the first one\n",
    "tiff_df = tiff_df[tiff_df[\"Channel\"] == \"C01\"]\n",
    "tiff_df = tiff_df.drop(columns=[\"Channel\", \"illum\"])\n",
    "tiff_df[\"new_path\"] = (\n",
    "    str(ordered_tiffs)\n",
    "    + \"/\"\n",
    "    + tiff_df[\"Well_FOV\"]\n",
    "    + \"/\"\n",
    "    + tiff_df[\"file_name\"]\n",
    "    + \".tiff\"\n",
    ")\n",
    "tiff_df.reset_index(drop=True, inplace=True)\n",
    "tiff_df.head()"
   ]
  },
  {
   "cell_type": "code",
   "execution_count": 9,
   "metadata": {},
   "outputs": [],
   "source": [
    "# copy the files to the new directory\n",
    "# from file path to new path\n",
    "for index, row in tiff_df.iterrows():\n",
    "    new_path = pathlib.Path(row[\"new_path\"])\n",
    "    new_path.parent.mkdir(parents=True, exist_ok=True)\n",
    "    shutil.copy(row[\"file_path\"], new_path)"
   ]
  },
  {
   "cell_type": "code",
   "execution_count": 10,
   "metadata": {},
   "outputs": [],
   "source": [
    "# get the list of directories in the ordered tiffs directory\n",
    "ordered_tiff_dirs = list(ordered_tiffs.glob(\"*\"))\n",
    "ordered_tiff_dir_names = [dir for dir in ordered_tiff_dirs]\n",
    "ordered_tiff_dir_names\n",
    "for dir in ordered_tiff_dir_names:\n",
    "    out_dir = converted_to_video_dir / dir.name\n",
    "    out_dir.mkdir(parents=True, exist_ok=True)\n",
    "    for tiff_file in dir.glob(\"*.tiff\"):\n",
    "        jpeg_file = pathlib.Path(f\"{out_dir}/{tiff_file.stem}.jpeg\")\n",
    "\n",
    "        if not jpeg_file.exists():\n",
    "            try:\n",
    "                with Image.open(tiff_file) as img:\n",
    "                    # Convert the image to 8-bit per channel\n",
    "                    img = img.convert(\"L\")\n",
    "                    img.save(jpeg_file)\n",
    "            except Exception as e:\n",
    "                print(f\"Failed to convert {tiff_file}: {e}\")"
   ]
  },
  {
   "cell_type": "code",
   "execution_count": 11,
   "metadata": {},
   "outputs": [],
   "source": [
    "# get list of dirs in the converted to video dir\n",
    "converted_dirs = list(converted_to_video_dir.glob(\"*\"))\n",
    "converted_dir_names = [dir for dir in converted_dirs]\n",
    "for dir in converted_dir_names:\n",
    "    dir = sorted(dir.glob(\"*.jpeg\"))\n",
    "    for i in enumerate(dir):\n",
    "        # rename the files to be in order\n",
    "        i[1].rename(f\"{dir[0].parent}/{str(i[0] + 1).zfill(3)}.jpeg\")"
   ]
  },
  {
   "cell_type": "markdown",
   "metadata": {},
   "source": [
    "### Donwsample each frame to fit the images on the GPU - overwrite the copies JPEGs"
   ]
  },
  {
   "cell_type": "code",
   "execution_count": 12,
   "metadata": {},
   "outputs": [],
   "source": [
    "# get files in the directory\n",
    "converted_dirs_list = list(converted_to_video_dir.rglob(\"*\"))\n",
    "converted_dirs_list = [f for f in converted_dirs_list if f.is_file()]\n",
    "# posix path to string\n",
    "files = [str(f) for f in converted_dirs_list]"
   ]
  },
  {
   "cell_type": "code",
   "execution_count": 13,
   "metadata": {},
   "outputs": [],
   "source": [
    "# need to downscale to fit the model and images on the GPU\n",
    "# note that this is an arbitrary number and can be changed\n",
    "# sort the files by name\n",
    "# downsample the image\n",
    "for f in files:\n",
    "    img = io.imread(f)\n",
    "    # downsample the image\n",
    "    downsampled_img = img[::downscale_factor, ::downscale_factor]\n",
    "    # save the downsampled image in place of the original image\n",
    "    io.imsave(f, downsampled_img)"
   ]
  },
  {
   "cell_type": "markdown",
   "metadata": {},
   "source": [
    "## 3. Get initial masks and centers via StarDist"
   ]
  },
  {
   "cell_type": "markdown",
   "metadata": {},
   "source": [
    "### Get the first frame of each video\n",
    "### Set up a dict that holds the images path, the first frame_mask, and the first frame_centers"
   ]
  },
  {
   "cell_type": "code",
   "execution_count": 14,
   "metadata": {},
   "outputs": [],
   "source": [
    "# where one image set here is a single well and fov over all timepoints\n",
    "image_set_dict = {\n",
    "    \"image_set_name\": [],  # e.g. well_fov\n",
    "    \"image_set_path\": [],  # path to the directory\n",
    "    \"image_set_first_frame\": [],  # path to the first frame\n",
    "    \"image_x_y_coords\": [],  # list of x,y coordinates\n",
    "    \"image_labels\": [],  # list of labels for the x,y coordinates\n",
    "}\n",
    "\n",
    "# get the list of directories in the ordered tiffs directory\n",
    "dirs = list(converted_to_video_dir.glob(\"*\"))\n",
    "dirs = [dir for dir in dirs if dir.is_dir()]\n",
    "for dir in dirs:\n",
    "    # get the files in the directory\n",
    "    files = sorted(dir.glob(\"*.jpeg\"))\n",
    "    image_set_dict[\"image_set_name\"].append(dir.name)\n",
    "    image_set_dict[\"image_set_path\"].append(str(dir))\n",
    "    image_set_dict[\"image_set_first_frame\"].append(files[0])"
   ]
  },
  {
   "cell_type": "markdown",
   "metadata": {},
   "source": [
    "### Plot the segementation\n",
    "Plot the following:\n",
    "- the original image\n",
    "- the segmentation\n",
    "- the x,y centers of the segmentation\n",
    "- the extracted masks"
   ]
  },
  {
   "cell_type": "code",
   "execution_count": 15,
   "metadata": {},
   "outputs": [
    {
     "name": "stdout",
     "output_type": "stream",
     "text": [
      "Found model '2D_versatile_fluo' for 'StarDist2D'.\n",
      "Loading network weights from 'weights_best.h5'.\n",
      "Loading thresholds from 'thresholds.json'.\n",
      "Using default values: prob_thresh=0.479071, nms_thresh=0.3.\n",
      "D-09_F0005: /home/lippincm/Documents/live_cell_timelapse_apoptosis/3b.run_sam/sam2_processing_dir/tiny_model_15x_factor/pngs/D-09_F0005/001.jpeg\n"
     ]
    },
    {
     "name": "stderr",
     "output_type": "stream",
     "text": [
      "WARNING: All log messages before absl::InitializeLog() is called are written to STDERR\n",
      "I0000 00:00:1728589904.923214 2428596 cuda_executor.cc:1015] successful NUMA node read from SysFS had negative value (-1), but there must be at least one NUMA node, so returning NUMA node zero. See more at https://github.com/torvalds/linux/blob/v6.0/Documentation/ABI/testing/sysfs-bus-pci#L344-L355\n",
      "2024-10-10 13:51:44.930470: W tensorflow/core/common_runtime/gpu/gpu_device.cc:2343] Cannot dlopen some GPU libraries. Please make sure the missing libraries mentioned above are installed properly if you would like to use GPU. Follow the guide at https://www.tensorflow.org/install/gpu for how to download and setup the required libraries for your platform.\n",
      "Skipping registering GPU devices...\n"
     ]
    },
    {
     "name": "stdout",
     "output_type": "stream",
     "text": [
      "E-06_F0001: /home/lippincm/Documents/live_cell_timelapse_apoptosis/3b.run_sam/sam2_processing_dir/tiny_model_15x_factor/pngs/E-06_F0001/001.jpeg\n",
      "C-04_F0003: /home/lippincm/Documents/live_cell_timelapse_apoptosis/3b.run_sam/sam2_processing_dir/tiny_model_15x_factor/pngs/C-04_F0003/001.jpeg\n",
      "D-04_F0003: /home/lippincm/Documents/live_cell_timelapse_apoptosis/3b.run_sam/sam2_processing_dir/tiny_model_15x_factor/pngs/D-04_F0003/001.jpeg\n",
      "D-06_F0002: /home/lippincm/Documents/live_cell_timelapse_apoptosis/3b.run_sam/sam2_processing_dir/tiny_model_15x_factor/pngs/D-06_F0002/001.jpeg\n",
      "D-08_F0002: /home/lippincm/Documents/live_cell_timelapse_apoptosis/3b.run_sam/sam2_processing_dir/tiny_model_15x_factor/pngs/D-08_F0002/001.jpeg\n",
      "D-04_F0006: /home/lippincm/Documents/live_cell_timelapse_apoptosis/3b.run_sam/sam2_processing_dir/tiny_model_15x_factor/pngs/D-04_F0006/001.jpeg\n",
      "D-05_F0004: /home/lippincm/Documents/live_cell_timelapse_apoptosis/3b.run_sam/sam2_processing_dir/tiny_model_15x_factor/pngs/D-05_F0004/001.jpeg\n",
      "E-05_F0001: /home/lippincm/Documents/live_cell_timelapse_apoptosis/3b.run_sam/sam2_processing_dir/tiny_model_15x_factor/pngs/E-05_F0001/001.jpeg\n",
      "D-03_F0004: /home/lippincm/Documents/live_cell_timelapse_apoptosis/3b.run_sam/sam2_processing_dir/tiny_model_15x_factor/pngs/D-03_F0004/001.jpeg\n",
      "D-11_F0001: /home/lippincm/Documents/live_cell_timelapse_apoptosis/3b.run_sam/sam2_processing_dir/tiny_model_15x_factor/pngs/D-11_F0001/001.jpeg\n",
      "E-07_F0005: /home/lippincm/Documents/live_cell_timelapse_apoptosis/3b.run_sam/sam2_processing_dir/tiny_model_15x_factor/pngs/E-07_F0005/001.jpeg\n",
      "E-07_F0004: /home/lippincm/Documents/live_cell_timelapse_apoptosis/3b.run_sam/sam2_processing_dir/tiny_model_15x_factor/pngs/E-07_F0004/001.jpeg\n",
      "E-04_F0001: /home/lippincm/Documents/live_cell_timelapse_apoptosis/3b.run_sam/sam2_processing_dir/tiny_model_15x_factor/pngs/E-04_F0001/001.jpeg\n",
      "E-10_F0005: /home/lippincm/Documents/live_cell_timelapse_apoptosis/3b.run_sam/sam2_processing_dir/tiny_model_15x_factor/pngs/E-10_F0005/001.jpeg\n",
      "D-06_F0006: /home/lippincm/Documents/live_cell_timelapse_apoptosis/3b.run_sam/sam2_processing_dir/tiny_model_15x_factor/pngs/D-06_F0006/001.jpeg\n",
      "C-04_F0001: /home/lippincm/Documents/live_cell_timelapse_apoptosis/3b.run_sam/sam2_processing_dir/tiny_model_15x_factor/pngs/C-04_F0001/001.jpeg\n",
      "E-02_F0003: /home/lippincm/Documents/live_cell_timelapse_apoptosis/3b.run_sam/sam2_processing_dir/tiny_model_15x_factor/pngs/E-02_F0003/001.jpeg\n",
      "E-08_F0003: /home/lippincm/Documents/live_cell_timelapse_apoptosis/3b.run_sam/sam2_processing_dir/tiny_model_15x_factor/pngs/E-08_F0003/001.jpeg\n",
      "E-10_F0003: /home/lippincm/Documents/live_cell_timelapse_apoptosis/3b.run_sam/sam2_processing_dir/tiny_model_15x_factor/pngs/E-10_F0003/001.jpeg\n",
      "C-08_F0006: /home/lippincm/Documents/live_cell_timelapse_apoptosis/3b.run_sam/sam2_processing_dir/tiny_model_15x_factor/pngs/C-08_F0006/001.jpeg\n",
      "E-09_F0003: /home/lippincm/Documents/live_cell_timelapse_apoptosis/3b.run_sam/sam2_processing_dir/tiny_model_15x_factor/pngs/E-09_F0003/001.jpeg\n",
      "E-03_F0006: /home/lippincm/Documents/live_cell_timelapse_apoptosis/3b.run_sam/sam2_processing_dir/tiny_model_15x_factor/pngs/E-03_F0006/001.jpeg\n",
      "E-08_F0004: /home/lippincm/Documents/live_cell_timelapse_apoptosis/3b.run_sam/sam2_processing_dir/tiny_model_15x_factor/pngs/E-08_F0004/001.jpeg\n",
      "C-10_F0006: /home/lippincm/Documents/live_cell_timelapse_apoptosis/3b.run_sam/sam2_processing_dir/tiny_model_15x_factor/pngs/C-10_F0006/001.jpeg\n",
      "D-08_F0006: /home/lippincm/Documents/live_cell_timelapse_apoptosis/3b.run_sam/sam2_processing_dir/tiny_model_15x_factor/pngs/D-08_F0006/001.jpeg\n",
      "C-06_F0002: /home/lippincm/Documents/live_cell_timelapse_apoptosis/3b.run_sam/sam2_processing_dir/tiny_model_15x_factor/pngs/C-06_F0002/001.jpeg\n",
      "C-03_F0001: /home/lippincm/Documents/live_cell_timelapse_apoptosis/3b.run_sam/sam2_processing_dir/tiny_model_15x_factor/pngs/C-03_F0001/001.jpeg\n",
      "C-05_F0002: /home/lippincm/Documents/live_cell_timelapse_apoptosis/3b.run_sam/sam2_processing_dir/tiny_model_15x_factor/pngs/C-05_F0002/001.jpeg\n",
      "E-04_F0006: /home/lippincm/Documents/live_cell_timelapse_apoptosis/3b.run_sam/sam2_processing_dir/tiny_model_15x_factor/pngs/E-04_F0006/001.jpeg\n",
      "C-05_F0003: /home/lippincm/Documents/live_cell_timelapse_apoptosis/3b.run_sam/sam2_processing_dir/tiny_model_15x_factor/pngs/C-05_F0003/001.jpeg\n",
      "E-07_F0002: /home/lippincm/Documents/live_cell_timelapse_apoptosis/3b.run_sam/sam2_processing_dir/tiny_model_15x_factor/pngs/E-07_F0002/001.jpeg\n",
      "D-11_F0004: /home/lippincm/Documents/live_cell_timelapse_apoptosis/3b.run_sam/sam2_processing_dir/tiny_model_15x_factor/pngs/D-11_F0004/001.jpeg\n",
      "D-05_F0005: /home/lippincm/Documents/live_cell_timelapse_apoptosis/3b.run_sam/sam2_processing_dir/tiny_model_15x_factor/pngs/D-05_F0005/001.jpeg\n",
      "D-11_F0002: /home/lippincm/Documents/live_cell_timelapse_apoptosis/3b.run_sam/sam2_processing_dir/tiny_model_15x_factor/pngs/D-11_F0002/001.jpeg\n",
      "C-10_F0004: /home/lippincm/Documents/live_cell_timelapse_apoptosis/3b.run_sam/sam2_processing_dir/tiny_model_15x_factor/pngs/C-10_F0004/001.jpeg\n",
      "D-09_F0001: /home/lippincm/Documents/live_cell_timelapse_apoptosis/3b.run_sam/sam2_processing_dir/tiny_model_15x_factor/pngs/D-09_F0001/001.jpeg\n",
      "D-02_F0002: /home/lippincm/Documents/live_cell_timelapse_apoptosis/3b.run_sam/sam2_processing_dir/tiny_model_15x_factor/pngs/D-02_F0002/001.jpeg\n",
      "C-07_F0004: /home/lippincm/Documents/live_cell_timelapse_apoptosis/3b.run_sam/sam2_processing_dir/tiny_model_15x_factor/pngs/C-07_F0004/001.jpeg\n",
      "E-10_F0006: /home/lippincm/Documents/live_cell_timelapse_apoptosis/3b.run_sam/sam2_processing_dir/tiny_model_15x_factor/pngs/E-10_F0006/001.jpeg\n",
      "C-09_F0004: /home/lippincm/Documents/live_cell_timelapse_apoptosis/3b.run_sam/sam2_processing_dir/tiny_model_15x_factor/pngs/C-09_F0004/001.jpeg\n",
      "E-08_F0005: /home/lippincm/Documents/live_cell_timelapse_apoptosis/3b.run_sam/sam2_processing_dir/tiny_model_15x_factor/pngs/E-08_F0005/001.jpeg\n",
      "D-11_F0006: /home/lippincm/Documents/live_cell_timelapse_apoptosis/3b.run_sam/sam2_processing_dir/tiny_model_15x_factor/pngs/D-11_F0006/001.jpeg\n",
      "C-11_F0005: /home/lippincm/Documents/live_cell_timelapse_apoptosis/3b.run_sam/sam2_processing_dir/tiny_model_15x_factor/pngs/C-11_F0005/001.jpeg\n",
      "E-05_F0003: /home/lippincm/Documents/live_cell_timelapse_apoptosis/3b.run_sam/sam2_processing_dir/tiny_model_15x_factor/pngs/E-05_F0003/001.jpeg\n",
      "C-04_F0005: /home/lippincm/Documents/live_cell_timelapse_apoptosis/3b.run_sam/sam2_processing_dir/tiny_model_15x_factor/pngs/C-04_F0005/001.jpeg\n",
      "D-07_F0004: /home/lippincm/Documents/live_cell_timelapse_apoptosis/3b.run_sam/sam2_processing_dir/tiny_model_15x_factor/pngs/D-07_F0004/001.jpeg\n",
      "E-09_F0002: /home/lippincm/Documents/live_cell_timelapse_apoptosis/3b.run_sam/sam2_processing_dir/tiny_model_15x_factor/pngs/E-09_F0002/001.jpeg\n",
      "D-09_F0006: /home/lippincm/Documents/live_cell_timelapse_apoptosis/3b.run_sam/sam2_processing_dir/tiny_model_15x_factor/pngs/D-09_F0006/001.jpeg\n",
      "C-09_F0001: /home/lippincm/Documents/live_cell_timelapse_apoptosis/3b.run_sam/sam2_processing_dir/tiny_model_15x_factor/pngs/C-09_F0001/001.jpeg\n",
      "D-08_F0005: /home/lippincm/Documents/live_cell_timelapse_apoptosis/3b.run_sam/sam2_processing_dir/tiny_model_15x_factor/pngs/D-08_F0005/001.jpeg\n",
      "E-05_F0004: /home/lippincm/Documents/live_cell_timelapse_apoptosis/3b.run_sam/sam2_processing_dir/tiny_model_15x_factor/pngs/E-05_F0004/001.jpeg\n",
      "C-03_F0005: /home/lippincm/Documents/live_cell_timelapse_apoptosis/3b.run_sam/sam2_processing_dir/tiny_model_15x_factor/pngs/C-03_F0005/001.jpeg\n",
      "C-08_F0005: /home/lippincm/Documents/live_cell_timelapse_apoptosis/3b.run_sam/sam2_processing_dir/tiny_model_15x_factor/pngs/C-08_F0005/001.jpeg\n",
      "C-03_F0003: /home/lippincm/Documents/live_cell_timelapse_apoptosis/3b.run_sam/sam2_processing_dir/tiny_model_15x_factor/pngs/C-03_F0003/001.jpeg\n",
      "E-05_F0006: /home/lippincm/Documents/live_cell_timelapse_apoptosis/3b.run_sam/sam2_processing_dir/tiny_model_15x_factor/pngs/E-05_F0006/001.jpeg\n",
      "E-11_F0001: /home/lippincm/Documents/live_cell_timelapse_apoptosis/3b.run_sam/sam2_processing_dir/tiny_model_15x_factor/pngs/E-11_F0001/001.jpeg\n",
      "E-04_F0005: /home/lippincm/Documents/live_cell_timelapse_apoptosis/3b.run_sam/sam2_processing_dir/tiny_model_15x_factor/pngs/E-04_F0005/001.jpeg\n",
      "C-09_F0003: /home/lippincm/Documents/live_cell_timelapse_apoptosis/3b.run_sam/sam2_processing_dir/tiny_model_15x_factor/pngs/C-09_F0003/001.jpeg\n",
      "E-04_F0002: /home/lippincm/Documents/live_cell_timelapse_apoptosis/3b.run_sam/sam2_processing_dir/tiny_model_15x_factor/pngs/E-04_F0002/001.jpeg\n",
      "D-05_F0002: /home/lippincm/Documents/live_cell_timelapse_apoptosis/3b.run_sam/sam2_processing_dir/tiny_model_15x_factor/pngs/D-05_F0002/001.jpeg\n",
      "D-10_F0003: /home/lippincm/Documents/live_cell_timelapse_apoptosis/3b.run_sam/sam2_processing_dir/tiny_model_15x_factor/pngs/D-10_F0003/001.jpeg\n",
      "D-06_F0004: /home/lippincm/Documents/live_cell_timelapse_apoptosis/3b.run_sam/sam2_processing_dir/tiny_model_15x_factor/pngs/D-06_F0004/001.jpeg\n",
      "C-09_F0006: /home/lippincm/Documents/live_cell_timelapse_apoptosis/3b.run_sam/sam2_processing_dir/tiny_model_15x_factor/pngs/C-09_F0006/001.jpeg\n",
      "D-07_F0003: /home/lippincm/Documents/live_cell_timelapse_apoptosis/3b.run_sam/sam2_processing_dir/tiny_model_15x_factor/pngs/D-07_F0003/001.jpeg\n",
      "C-06_F0005: /home/lippincm/Documents/live_cell_timelapse_apoptosis/3b.run_sam/sam2_processing_dir/tiny_model_15x_factor/pngs/C-06_F0005/001.jpeg\n",
      "D-09_F0003: /home/lippincm/Documents/live_cell_timelapse_apoptosis/3b.run_sam/sam2_processing_dir/tiny_model_15x_factor/pngs/D-09_F0003/001.jpeg\n",
      "C-05_F0004: /home/lippincm/Documents/live_cell_timelapse_apoptosis/3b.run_sam/sam2_processing_dir/tiny_model_15x_factor/pngs/C-05_F0004/001.jpeg\n",
      "C-02_F0002: /home/lippincm/Documents/live_cell_timelapse_apoptosis/3b.run_sam/sam2_processing_dir/tiny_model_15x_factor/pngs/C-02_F0002/001.jpeg\n",
      "D-06_F0003: /home/lippincm/Documents/live_cell_timelapse_apoptosis/3b.run_sam/sam2_processing_dir/tiny_model_15x_factor/pngs/D-06_F0003/001.jpeg\n",
      "D-05_F0006: /home/lippincm/Documents/live_cell_timelapse_apoptosis/3b.run_sam/sam2_processing_dir/tiny_model_15x_factor/pngs/D-05_F0006/001.jpeg\n",
      "C-11_F0004: /home/lippincm/Documents/live_cell_timelapse_apoptosis/3b.run_sam/sam2_processing_dir/tiny_model_15x_factor/pngs/C-11_F0004/001.jpeg\n",
      "D-05_F0001: /home/lippincm/Documents/live_cell_timelapse_apoptosis/3b.run_sam/sam2_processing_dir/tiny_model_15x_factor/pngs/D-05_F0001/001.jpeg\n",
      "D-02_F0005: /home/lippincm/Documents/live_cell_timelapse_apoptosis/3b.run_sam/sam2_processing_dir/tiny_model_15x_factor/pngs/D-02_F0005/001.jpeg\n",
      "D-06_F0001: /home/lippincm/Documents/live_cell_timelapse_apoptosis/3b.run_sam/sam2_processing_dir/tiny_model_15x_factor/pngs/D-06_F0001/001.jpeg\n",
      "E-09_F0004: /home/lippincm/Documents/live_cell_timelapse_apoptosis/3b.run_sam/sam2_processing_dir/tiny_model_15x_factor/pngs/E-09_F0004/001.jpeg\n",
      "E-09_F0005: /home/lippincm/Documents/live_cell_timelapse_apoptosis/3b.run_sam/sam2_processing_dir/tiny_model_15x_factor/pngs/E-09_F0005/001.jpeg\n",
      "D-03_F0002: /home/lippincm/Documents/live_cell_timelapse_apoptosis/3b.run_sam/sam2_processing_dir/tiny_model_15x_factor/pngs/D-03_F0002/001.jpeg\n",
      "C-07_F0003: /home/lippincm/Documents/live_cell_timelapse_apoptosis/3b.run_sam/sam2_processing_dir/tiny_model_15x_factor/pngs/C-07_F0003/001.jpeg\n",
      "D-10_F0001: /home/lippincm/Documents/live_cell_timelapse_apoptosis/3b.run_sam/sam2_processing_dir/tiny_model_15x_factor/pngs/D-10_F0001/001.jpeg\n",
      "E-06_F0003: /home/lippincm/Documents/live_cell_timelapse_apoptosis/3b.run_sam/sam2_processing_dir/tiny_model_15x_factor/pngs/E-06_F0003/001.jpeg\n",
      "D-08_F0001: /home/lippincm/Documents/live_cell_timelapse_apoptosis/3b.run_sam/sam2_processing_dir/tiny_model_15x_factor/pngs/D-08_F0001/001.jpeg\n",
      "E-11_F0006: /home/lippincm/Documents/live_cell_timelapse_apoptosis/3b.run_sam/sam2_processing_dir/tiny_model_15x_factor/pngs/E-11_F0006/001.jpeg\n",
      "E-06_F0002: /home/lippincm/Documents/live_cell_timelapse_apoptosis/3b.run_sam/sam2_processing_dir/tiny_model_15x_factor/pngs/E-06_F0002/001.jpeg\n",
      "E-08_F0002: /home/lippincm/Documents/live_cell_timelapse_apoptosis/3b.run_sam/sam2_processing_dir/tiny_model_15x_factor/pngs/E-08_F0002/001.jpeg\n",
      "C-07_F0002: /home/lippincm/Documents/live_cell_timelapse_apoptosis/3b.run_sam/sam2_processing_dir/tiny_model_15x_factor/pngs/C-07_F0002/001.jpeg\n",
      "C-02_F0005: /home/lippincm/Documents/live_cell_timelapse_apoptosis/3b.run_sam/sam2_processing_dir/tiny_model_15x_factor/pngs/C-02_F0005/001.jpeg\n",
      "C-04_F0006: /home/lippincm/Documents/live_cell_timelapse_apoptosis/3b.run_sam/sam2_processing_dir/tiny_model_15x_factor/pngs/C-04_F0006/001.jpeg\n",
      "C-02_F0001: /home/lippincm/Documents/live_cell_timelapse_apoptosis/3b.run_sam/sam2_processing_dir/tiny_model_15x_factor/pngs/C-02_F0001/001.jpeg\n",
      "D-10_F0005: /home/lippincm/Documents/live_cell_timelapse_apoptosis/3b.run_sam/sam2_processing_dir/tiny_model_15x_factor/pngs/D-10_F0005/001.jpeg\n",
      "C-11_F0001: /home/lippincm/Documents/live_cell_timelapse_apoptosis/3b.run_sam/sam2_processing_dir/tiny_model_15x_factor/pngs/C-11_F0001/001.jpeg\n",
      "D-07_F0001: /home/lippincm/Documents/live_cell_timelapse_apoptosis/3b.run_sam/sam2_processing_dir/tiny_model_15x_factor/pngs/D-07_F0001/001.jpeg\n",
      "D-06_F0005: /home/lippincm/Documents/live_cell_timelapse_apoptosis/3b.run_sam/sam2_processing_dir/tiny_model_15x_factor/pngs/D-06_F0005/001.jpeg\n",
      "C-10_F0003: /home/lippincm/Documents/live_cell_timelapse_apoptosis/3b.run_sam/sam2_processing_dir/tiny_model_15x_factor/pngs/C-10_F0003/001.jpeg\n",
      "E-02_F0004: /home/lippincm/Documents/live_cell_timelapse_apoptosis/3b.run_sam/sam2_processing_dir/tiny_model_15x_factor/pngs/E-02_F0004/001.jpeg\n",
      "E-10_F0004: /home/lippincm/Documents/live_cell_timelapse_apoptosis/3b.run_sam/sam2_processing_dir/tiny_model_15x_factor/pngs/E-10_F0004/001.jpeg\n",
      "D-04_F0004: /home/lippincm/Documents/live_cell_timelapse_apoptosis/3b.run_sam/sam2_processing_dir/tiny_model_15x_factor/pngs/D-04_F0004/001.jpeg\n",
      "D-09_F0004: /home/lippincm/Documents/live_cell_timelapse_apoptosis/3b.run_sam/sam2_processing_dir/tiny_model_15x_factor/pngs/D-09_F0004/001.jpeg\n",
      "E-03_F0003: /home/lippincm/Documents/live_cell_timelapse_apoptosis/3b.run_sam/sam2_processing_dir/tiny_model_15x_factor/pngs/E-03_F0003/001.jpeg\n",
      "E-03_F0001: /home/lippincm/Documents/live_cell_timelapse_apoptosis/3b.run_sam/sam2_processing_dir/tiny_model_15x_factor/pngs/E-03_F0001/001.jpeg\n",
      "C-06_F0001: /home/lippincm/Documents/live_cell_timelapse_apoptosis/3b.run_sam/sam2_processing_dir/tiny_model_15x_factor/pngs/C-06_F0001/001.jpeg\n",
      "E-09_F0001: /home/lippincm/Documents/live_cell_timelapse_apoptosis/3b.run_sam/sam2_processing_dir/tiny_model_15x_factor/pngs/E-09_F0001/001.jpeg\n",
      "E-03_F0005: /home/lippincm/Documents/live_cell_timelapse_apoptosis/3b.run_sam/sam2_processing_dir/tiny_model_15x_factor/pngs/E-03_F0005/001.jpeg\n",
      "D-07_F0002: /home/lippincm/Documents/live_cell_timelapse_apoptosis/3b.run_sam/sam2_processing_dir/tiny_model_15x_factor/pngs/D-07_F0002/001.jpeg\n",
      "D-04_F0002: /home/lippincm/Documents/live_cell_timelapse_apoptosis/3b.run_sam/sam2_processing_dir/tiny_model_15x_factor/pngs/D-04_F0002/001.jpeg\n",
      "E-05_F0002: /home/lippincm/Documents/live_cell_timelapse_apoptosis/3b.run_sam/sam2_processing_dir/tiny_model_15x_factor/pngs/E-05_F0002/001.jpeg\n",
      "D-10_F0006: /home/lippincm/Documents/live_cell_timelapse_apoptosis/3b.run_sam/sam2_processing_dir/tiny_model_15x_factor/pngs/D-10_F0006/001.jpeg\n",
      "C-08_F0003: /home/lippincm/Documents/live_cell_timelapse_apoptosis/3b.run_sam/sam2_processing_dir/tiny_model_15x_factor/pngs/C-08_F0003/001.jpeg\n",
      "E-02_F0001: /home/lippincm/Documents/live_cell_timelapse_apoptosis/3b.run_sam/sam2_processing_dir/tiny_model_15x_factor/pngs/E-02_F0001/001.jpeg\n",
      "D-07_F0006: /home/lippincm/Documents/live_cell_timelapse_apoptosis/3b.run_sam/sam2_processing_dir/tiny_model_15x_factor/pngs/D-07_F0006/001.jpeg\n",
      "E-11_F0003: /home/lippincm/Documents/live_cell_timelapse_apoptosis/3b.run_sam/sam2_processing_dir/tiny_model_15x_factor/pngs/E-11_F0003/001.jpeg\n",
      "D-03_F0006: /home/lippincm/Documents/live_cell_timelapse_apoptosis/3b.run_sam/sam2_processing_dir/tiny_model_15x_factor/pngs/D-03_F0006/001.jpeg\n",
      "E-06_F0005: /home/lippincm/Documents/live_cell_timelapse_apoptosis/3b.run_sam/sam2_processing_dir/tiny_model_15x_factor/pngs/E-06_F0005/001.jpeg\n",
      "C-07_F0005: /home/lippincm/Documents/live_cell_timelapse_apoptosis/3b.run_sam/sam2_processing_dir/tiny_model_15x_factor/pngs/C-07_F0005/001.jpeg\n",
      "D-05_F0003: /home/lippincm/Documents/live_cell_timelapse_apoptosis/3b.run_sam/sam2_processing_dir/tiny_model_15x_factor/pngs/D-05_F0003/001.jpeg\n",
      "E-09_F0006: /home/lippincm/Documents/live_cell_timelapse_apoptosis/3b.run_sam/sam2_processing_dir/tiny_model_15x_factor/pngs/E-09_F0006/001.jpeg\n",
      "C-05_F0006: /home/lippincm/Documents/live_cell_timelapse_apoptosis/3b.run_sam/sam2_processing_dir/tiny_model_15x_factor/pngs/C-05_F0006/001.jpeg\n",
      "E-08_F0001: /home/lippincm/Documents/live_cell_timelapse_apoptosis/3b.run_sam/sam2_processing_dir/tiny_model_15x_factor/pngs/E-08_F0001/001.jpeg\n",
      "C-03_F0006: /home/lippincm/Documents/live_cell_timelapse_apoptosis/3b.run_sam/sam2_processing_dir/tiny_model_15x_factor/pngs/C-03_F0006/001.jpeg\n",
      "D-09_F0002: /home/lippincm/Documents/live_cell_timelapse_apoptosis/3b.run_sam/sam2_processing_dir/tiny_model_15x_factor/pngs/D-09_F0002/001.jpeg\n",
      "E-07_F0003: /home/lippincm/Documents/live_cell_timelapse_apoptosis/3b.run_sam/sam2_processing_dir/tiny_model_15x_factor/pngs/E-07_F0003/001.jpeg\n",
      "C-03_F0002: /home/lippincm/Documents/live_cell_timelapse_apoptosis/3b.run_sam/sam2_processing_dir/tiny_model_15x_factor/pngs/C-03_F0002/001.jpeg\n",
      "E-02_F0006: /home/lippincm/Documents/live_cell_timelapse_apoptosis/3b.run_sam/sam2_processing_dir/tiny_model_15x_factor/pngs/E-02_F0006/001.jpeg\n",
      "C-04_F0002: /home/lippincm/Documents/live_cell_timelapse_apoptosis/3b.run_sam/sam2_processing_dir/tiny_model_15x_factor/pngs/C-04_F0002/001.jpeg\n",
      "C-09_F0005: /home/lippincm/Documents/live_cell_timelapse_apoptosis/3b.run_sam/sam2_processing_dir/tiny_model_15x_factor/pngs/C-09_F0005/001.jpeg\n",
      "C-08_F0002: /home/lippincm/Documents/live_cell_timelapse_apoptosis/3b.run_sam/sam2_processing_dir/tiny_model_15x_factor/pngs/C-08_F0002/001.jpeg\n",
      "C-06_F0006: /home/lippincm/Documents/live_cell_timelapse_apoptosis/3b.run_sam/sam2_processing_dir/tiny_model_15x_factor/pngs/C-06_F0006/001.jpeg\n",
      "E-05_F0005: /home/lippincm/Documents/live_cell_timelapse_apoptosis/3b.run_sam/sam2_processing_dir/tiny_model_15x_factor/pngs/E-05_F0005/001.jpeg\n",
      "C-06_F0003: /home/lippincm/Documents/live_cell_timelapse_apoptosis/3b.run_sam/sam2_processing_dir/tiny_model_15x_factor/pngs/C-06_F0003/001.jpeg\n",
      "E-07_F0006: /home/lippincm/Documents/live_cell_timelapse_apoptosis/3b.run_sam/sam2_processing_dir/tiny_model_15x_factor/pngs/E-07_F0006/001.jpeg\n",
      "C-02_F0003: /home/lippincm/Documents/live_cell_timelapse_apoptosis/3b.run_sam/sam2_processing_dir/tiny_model_15x_factor/pngs/C-02_F0003/001.jpeg\n",
      "C-07_F0001: /home/lippincm/Documents/live_cell_timelapse_apoptosis/3b.run_sam/sam2_processing_dir/tiny_model_15x_factor/pngs/C-07_F0001/001.jpeg\n",
      "C-05_F0001: /home/lippincm/Documents/live_cell_timelapse_apoptosis/3b.run_sam/sam2_processing_dir/tiny_model_15x_factor/pngs/C-05_F0001/001.jpeg\n",
      "E-06_F0004: /home/lippincm/Documents/live_cell_timelapse_apoptosis/3b.run_sam/sam2_processing_dir/tiny_model_15x_factor/pngs/E-06_F0004/001.jpeg\n",
      "C-09_F0002: /home/lippincm/Documents/live_cell_timelapse_apoptosis/3b.run_sam/sam2_processing_dir/tiny_model_15x_factor/pngs/C-09_F0002/001.jpeg\n",
      "E-04_F0003: /home/lippincm/Documents/live_cell_timelapse_apoptosis/3b.run_sam/sam2_processing_dir/tiny_model_15x_factor/pngs/E-04_F0003/001.jpeg\n",
      "D-11_F0005: /home/lippincm/Documents/live_cell_timelapse_apoptosis/3b.run_sam/sam2_processing_dir/tiny_model_15x_factor/pngs/D-11_F0005/001.jpeg\n",
      "C-02_F0004: /home/lippincm/Documents/live_cell_timelapse_apoptosis/3b.run_sam/sam2_processing_dir/tiny_model_15x_factor/pngs/C-02_F0004/001.jpeg\n",
      "D-10_F0004: /home/lippincm/Documents/live_cell_timelapse_apoptosis/3b.run_sam/sam2_processing_dir/tiny_model_15x_factor/pngs/D-10_F0004/001.jpeg\n",
      "E-06_F0006: /home/lippincm/Documents/live_cell_timelapse_apoptosis/3b.run_sam/sam2_processing_dir/tiny_model_15x_factor/pngs/E-06_F0006/001.jpeg\n",
      "C-08_F0001: /home/lippincm/Documents/live_cell_timelapse_apoptosis/3b.run_sam/sam2_processing_dir/tiny_model_15x_factor/pngs/C-08_F0001/001.jpeg\n",
      "C-10_F0002: /home/lippincm/Documents/live_cell_timelapse_apoptosis/3b.run_sam/sam2_processing_dir/tiny_model_15x_factor/pngs/C-10_F0002/001.jpeg\n",
      "E-10_F0002: /home/lippincm/Documents/live_cell_timelapse_apoptosis/3b.run_sam/sam2_processing_dir/tiny_model_15x_factor/pngs/E-10_F0002/001.jpeg\n",
      "D-02_F0001: /home/lippincm/Documents/live_cell_timelapse_apoptosis/3b.run_sam/sam2_processing_dir/tiny_model_15x_factor/pngs/D-02_F0001/001.jpeg\n",
      "D-03_F0001: /home/lippincm/Documents/live_cell_timelapse_apoptosis/3b.run_sam/sam2_processing_dir/tiny_model_15x_factor/pngs/D-03_F0001/001.jpeg\n",
      "E-02_F0005: /home/lippincm/Documents/live_cell_timelapse_apoptosis/3b.run_sam/sam2_processing_dir/tiny_model_15x_factor/pngs/E-02_F0005/001.jpeg\n",
      "E-11_F0005: /home/lippincm/Documents/live_cell_timelapse_apoptosis/3b.run_sam/sam2_processing_dir/tiny_model_15x_factor/pngs/E-11_F0005/001.jpeg\n",
      "C-05_F0005: /home/lippincm/Documents/live_cell_timelapse_apoptosis/3b.run_sam/sam2_processing_dir/tiny_model_15x_factor/pngs/C-05_F0005/001.jpeg\n",
      "E-11_F0004: /home/lippincm/Documents/live_cell_timelapse_apoptosis/3b.run_sam/sam2_processing_dir/tiny_model_15x_factor/pngs/E-11_F0004/001.jpeg\n",
      "C-11_F0006: /home/lippincm/Documents/live_cell_timelapse_apoptosis/3b.run_sam/sam2_processing_dir/tiny_model_15x_factor/pngs/C-11_F0006/001.jpeg\n",
      "E-10_F0001: /home/lippincm/Documents/live_cell_timelapse_apoptosis/3b.run_sam/sam2_processing_dir/tiny_model_15x_factor/pngs/E-10_F0001/001.jpeg\n",
      "C-07_F0006: /home/lippincm/Documents/live_cell_timelapse_apoptosis/3b.run_sam/sam2_processing_dir/tiny_model_15x_factor/pngs/C-07_F0006/001.jpeg\n",
      "D-11_F0003: /home/lippincm/Documents/live_cell_timelapse_apoptosis/3b.run_sam/sam2_processing_dir/tiny_model_15x_factor/pngs/D-11_F0003/001.jpeg\n",
      "E-02_F0002: /home/lippincm/Documents/live_cell_timelapse_apoptosis/3b.run_sam/sam2_processing_dir/tiny_model_15x_factor/pngs/E-02_F0002/001.jpeg\n",
      "C-10_F0005: /home/lippincm/Documents/live_cell_timelapse_apoptosis/3b.run_sam/sam2_processing_dir/tiny_model_15x_factor/pngs/C-10_F0005/001.jpeg\n",
      "D-10_F0002: /home/lippincm/Documents/live_cell_timelapse_apoptosis/3b.run_sam/sam2_processing_dir/tiny_model_15x_factor/pngs/D-10_F0002/001.jpeg\n",
      "C-08_F0004: /home/lippincm/Documents/live_cell_timelapse_apoptosis/3b.run_sam/sam2_processing_dir/tiny_model_15x_factor/pngs/C-08_F0004/001.jpeg\n",
      "C-03_F0004: /home/lippincm/Documents/live_cell_timelapse_apoptosis/3b.run_sam/sam2_processing_dir/tiny_model_15x_factor/pngs/C-03_F0004/001.jpeg\n",
      "D-02_F0006: /home/lippincm/Documents/live_cell_timelapse_apoptosis/3b.run_sam/sam2_processing_dir/tiny_model_15x_factor/pngs/D-02_F0006/001.jpeg\n",
      "D-07_F0005: /home/lippincm/Documents/live_cell_timelapse_apoptosis/3b.run_sam/sam2_processing_dir/tiny_model_15x_factor/pngs/D-07_F0005/001.jpeg\n",
      "C-04_F0004: /home/lippincm/Documents/live_cell_timelapse_apoptosis/3b.run_sam/sam2_processing_dir/tiny_model_15x_factor/pngs/C-04_F0004/001.jpeg\n",
      "D-02_F0003: /home/lippincm/Documents/live_cell_timelapse_apoptosis/3b.run_sam/sam2_processing_dir/tiny_model_15x_factor/pngs/D-02_F0003/001.jpeg\n",
      "E-03_F0004: /home/lippincm/Documents/live_cell_timelapse_apoptosis/3b.run_sam/sam2_processing_dir/tiny_model_15x_factor/pngs/E-03_F0004/001.jpeg\n",
      "C-06_F0004: /home/lippincm/Documents/live_cell_timelapse_apoptosis/3b.run_sam/sam2_processing_dir/tiny_model_15x_factor/pngs/C-06_F0004/001.jpeg\n",
      "E-08_F0006: /home/lippincm/Documents/live_cell_timelapse_apoptosis/3b.run_sam/sam2_processing_dir/tiny_model_15x_factor/pngs/E-08_F0006/001.jpeg\n",
      "D-04_F0005: /home/lippincm/Documents/live_cell_timelapse_apoptosis/3b.run_sam/sam2_processing_dir/tiny_model_15x_factor/pngs/D-04_F0005/001.jpeg\n",
      "C-11_F0002: /home/lippincm/Documents/live_cell_timelapse_apoptosis/3b.run_sam/sam2_processing_dir/tiny_model_15x_factor/pngs/C-11_F0002/001.jpeg\n",
      "E-03_F0002: /home/lippincm/Documents/live_cell_timelapse_apoptosis/3b.run_sam/sam2_processing_dir/tiny_model_15x_factor/pngs/E-03_F0002/001.jpeg\n",
      "D-03_F0005: /home/lippincm/Documents/live_cell_timelapse_apoptosis/3b.run_sam/sam2_processing_dir/tiny_model_15x_factor/pngs/D-03_F0005/001.jpeg\n",
      "E-11_F0002: /home/lippincm/Documents/live_cell_timelapse_apoptosis/3b.run_sam/sam2_processing_dir/tiny_model_15x_factor/pngs/E-11_F0002/001.jpeg\n",
      "D-04_F0001: /home/lippincm/Documents/live_cell_timelapse_apoptosis/3b.run_sam/sam2_processing_dir/tiny_model_15x_factor/pngs/D-04_F0001/001.jpeg\n",
      "C-11_F0003: /home/lippincm/Documents/live_cell_timelapse_apoptosis/3b.run_sam/sam2_processing_dir/tiny_model_15x_factor/pngs/C-11_F0003/001.jpeg\n",
      "D-08_F0004: /home/lippincm/Documents/live_cell_timelapse_apoptosis/3b.run_sam/sam2_processing_dir/tiny_model_15x_factor/pngs/D-08_F0004/001.jpeg\n",
      "D-03_F0003: /home/lippincm/Documents/live_cell_timelapse_apoptosis/3b.run_sam/sam2_processing_dir/tiny_model_15x_factor/pngs/D-03_F0003/001.jpeg\n",
      "D-08_F0003: /home/lippincm/Documents/live_cell_timelapse_apoptosis/3b.run_sam/sam2_processing_dir/tiny_model_15x_factor/pngs/D-08_F0003/001.jpeg\n",
      "E-07_F0001: /home/lippincm/Documents/live_cell_timelapse_apoptosis/3b.run_sam/sam2_processing_dir/tiny_model_15x_factor/pngs/E-07_F0001/001.jpeg\n",
      "C-02_F0006: /home/lippincm/Documents/live_cell_timelapse_apoptosis/3b.run_sam/sam2_processing_dir/tiny_model_15x_factor/pngs/C-02_F0006/001.jpeg\n",
      "E-04_F0004: /home/lippincm/Documents/live_cell_timelapse_apoptosis/3b.run_sam/sam2_processing_dir/tiny_model_15x_factor/pngs/E-04_F0004/001.jpeg\n",
      "C-10_F0001: /home/lippincm/Documents/live_cell_timelapse_apoptosis/3b.run_sam/sam2_processing_dir/tiny_model_15x_factor/pngs/C-10_F0001/001.jpeg\n",
      "D-02_F0004: /home/lippincm/Documents/live_cell_timelapse_apoptosis/3b.run_sam/sam2_processing_dir/tiny_model_15x_factor/pngs/D-02_F0004/001.jpeg\n"
     ]
    }
   ],
   "source": [
    "model = StarDist2D.from_pretrained(\"2D_versatile_fluo\")\n",
    "\n",
    "# choose to visualize the results or not\n",
    "# best for troubleshooting or exploring the model\n",
    "visualize = False\n",
    "\n",
    "# loop through each image set and predict the instances\n",
    "for i in range(len(image_set_dict[\"image_set_name\"])):\n",
    "    print(\n",
    "        f\"{image_set_dict['image_set_name'][i]}: {image_set_dict['image_set_first_frame'][i]}\"\n",
    "    )\n",
    "    img = io.imread(image_set_dict[\"image_set_first_frame\"][i])\n",
    "    labels, _ = model.predict_instances(normalize(img))\n",
    "    # convert the labels into position coordinates\n",
    "    regions = regionprops(label(labels))\n",
    "    coords = np.array([r.centroid for r in regions])\n",
    "    coords = coords[:, [1, 0]]\n",
    "\n",
    "    if visualize:\n",
    "        # plot the points and the masks and the image side by side by side\n",
    "        fig, ax = plt.subplots(1, 4, figsize=(30, 15))\n",
    "        ax[0].imshow(img, cmap=\"gray\")\n",
    "        ax[0].set_title(\"Image\")\n",
    "        ax[1].imshow(render_label(labels, img=img))\n",
    "        ax[1].set_title(\"Masks\")\n",
    "        ax[2].imshow(img, cmap=\"gray\")\n",
    "        ax[2].scatter(\n",
    "            coords[:, 1],\n",
    "            coords[:, 0],\n",
    "            color=\"red\",\n",
    "            marker=\"*\",\n",
    "            s=100,\n",
    "            edgecolor=\"white\",\n",
    "            linewidth=1.25,\n",
    "        )\n",
    "        ax[2].set_title(\"Points\")\n",
    "\n",
    "        ax[3].invert_yaxis()\n",
    "        # make the aspect ratio equal\n",
    "        ax[3].set_aspect(\"equal\")\n",
    "        show_points(coords, np.ones(len(coords)), ax[3])\n",
    "    labels = np.ones(coords.shape[0], dtype=np.int32)\n",
    "    image_set_dict[\"image_x_y_coords\"].append(coords)\n",
    "    image_set_dict[\"image_labels\"].append(labels)\n",
    "\n",
    "# remove star dist model from memory\n",
    "del model\n",
    "# remove all stardist gpu memory\n",
    "torch.cuda.empty_cache()"
   ]
  },
  {
   "cell_type": "markdown",
   "metadata": {},
   "source": [
    "## 4. Track multiple objects in the video"
   ]
  },
  {
   "cell_type": "markdown",
   "metadata": {},
   "source": [
    "### Begin GPU Profiling"
   ]
  },
  {
   "cell_type": "code",
   "execution_count": 16,
   "metadata": {},
   "outputs": [
    {
     "name": "stderr",
     "output_type": "stream",
     "text": [
      "INFO:__main__:Deleted memory snapshot file: /home/lippincm/Documents/live_cell_timelapse_apoptosis/3b.run_sam/memory_snapshots\n",
      "INFO:__main__:Starting snapshot record_memory_history\n"
     ]
    }
   ],
   "source": [
    "# Start recording memory snapshot history\n",
    "logging.basicConfig(\n",
    "    format=\"%(levelname)s:%(asctime)s %(message)s\",\n",
    "    level=logging.INFO,\n",
    "    datefmt=\"%Y-%m-%d %H:%M:%S\",\n",
    ")\n",
    "logger: logging.Logger = logging.getLogger(__name__)\n",
    "logger.setLevel(level=logging.INFO)\n",
    "\n",
    "TIME_FORMAT_STR: str = \"%b_%d_%H_%M_%S\"\n",
    "# delete any prior memory profiling data\n",
    "delete_recorded_memory_history(\n",
    "    logger=logger,\n",
    "    save_dir=pathlib.Path(\n",
    "        f\"../memory_snapshots/{model_to_use}_model_{downscale_factor}x_factor/\"\n",
    "    ).resolve(),\n",
    ")\n",
    "\n",
    "# Keep a max of 100,000 alloc/free events in the recorded history\n",
    "# leading up to the snapshot.\n",
    "MAX_NUM_OF_MEM_EVENTS_PER_SNAPSHOT: int = 10000000000\n",
    "start_record_memory_history(\n",
    "    logger=logger, max_entries=MAX_NUM_OF_MEM_EVENTS_PER_SNAPSHOT\n",
    ")"
   ]
  },
  {
   "cell_type": "code",
   "execution_count": 17,
   "metadata": {},
   "outputs": [
    {
     "data": {
      "text/plain": [
       "14792"
      ]
     },
     "execution_count": 17,
     "metadata": {},
     "output_type": "execute_result"
    }
   ],
   "source": [
    "# clear the memory\n",
    "torch.cuda.empty_cache()\n",
    "gc.collect()"
   ]
  },
  {
   "cell_type": "code",
   "execution_count": 18,
   "metadata": {},
   "outputs": [],
   "source": [
    "stored_video_segments = {}"
   ]
  },
  {
   "cell_type": "code",
   "execution_count": 19,
   "metadata": {},
   "outputs": [
    {
     "name": "stdout",
     "output_type": "stream",
     "text": [
      "D-09_F0005: /home/lippincm/Documents/live_cell_timelapse_apoptosis/3b.run_sam/sam2_processing_dir/tiny_model_15x_factor/pngs/D-09_F0005/001.jpeg\n",
      "127 127\n"
     ]
    },
    {
     "name": "stderr",
     "output_type": "stream",
     "text": [
      "frame loading (JPEG): 100%|██████████| 1/1 [00:00<00:00, 31.39it/s]\n",
      "propagate in video: 100%|██████████| 1/1 [00:00<00:00, 56.15it/s]\n"
     ]
    },
    {
     "name": "stdout",
     "output_type": "stream",
     "text": [
      "E-06_F0001: /home/lippincm/Documents/live_cell_timelapse_apoptosis/3b.run_sam/sam2_processing_dir/tiny_model_15x_factor/pngs/E-06_F0001/001.jpeg\n",
      "127 127\n"
     ]
    },
    {
     "name": "stderr",
     "output_type": "stream",
     "text": [
      "frame loading (JPEG): 100%|██████████| 14/14 [00:00<00:00, 76.52it/s]\n",
      "propagate in video: 100%|██████████| 14/14 [00:15<00:00,  1.09s/it]\n"
     ]
    },
    {
     "name": "stdout",
     "output_type": "stream",
     "text": [
      "C-04_F0003: /home/lippincm/Documents/live_cell_timelapse_apoptosis/3b.run_sam/sam2_processing_dir/tiny_model_15x_factor/pngs/C-04_F0003/001.jpeg\n",
      "127 127\n"
     ]
    },
    {
     "name": "stderr",
     "output_type": "stream",
     "text": [
      "frame loading (JPEG): 100%|██████████| 14/14 [00:00<00:00, 71.02it/s]\n",
      "propagate in video: 100%|██████████| 14/14 [00:34<00:00,  2.50s/it]\n"
     ]
    },
    {
     "name": "stdout",
     "output_type": "stream",
     "text": [
      "D-04_F0003: /home/lippincm/Documents/live_cell_timelapse_apoptosis/3b.run_sam/sam2_processing_dir/tiny_model_15x_factor/pngs/D-04_F0003/001.jpeg\n",
      "127 127\n"
     ]
    },
    {
     "name": "stderr",
     "output_type": "stream",
     "text": [
      "frame loading (JPEG): 100%|██████████| 14/14 [00:00<00:00, 72.40it/s]\n",
      "propagate in video: 100%|██████████| 14/14 [00:20<00:00,  1.44s/it]\n"
     ]
    },
    {
     "name": "stdout",
     "output_type": "stream",
     "text": [
      "D-06_F0002: /home/lippincm/Documents/live_cell_timelapse_apoptosis/3b.run_sam/sam2_processing_dir/tiny_model_15x_factor/pngs/D-06_F0002/001.jpeg\n",
      "127 127\n"
     ]
    },
    {
     "name": "stderr",
     "output_type": "stream",
     "text": [
      "frame loading (JPEG): 100%|██████████| 14/14 [00:00<00:00, 73.66it/s]\n",
      "propagate in video: 100%|██████████| 14/14 [00:29<00:00,  2.09s/it]\n"
     ]
    },
    {
     "name": "stdout",
     "output_type": "stream",
     "text": [
      "D-08_F0002: /home/lippincm/Documents/live_cell_timelapse_apoptosis/3b.run_sam/sam2_processing_dir/tiny_model_15x_factor/pngs/D-08_F0002/001.jpeg\n",
      "127 127\n"
     ]
    },
    {
     "name": "stderr",
     "output_type": "stream",
     "text": [
      "frame loading (JPEG): 100%|██████████| 14/14 [00:00<00:00, 81.99it/s]\n",
      "propagate in video: 100%|██████████| 14/14 [00:10<00:00,  1.32it/s]\n"
     ]
    },
    {
     "name": "stdout",
     "output_type": "stream",
     "text": [
      "D-04_F0006: /home/lippincm/Documents/live_cell_timelapse_apoptosis/3b.run_sam/sam2_processing_dir/tiny_model_15x_factor/pngs/D-04_F0006/001.jpeg\n",
      "127 127\n"
     ]
    },
    {
     "name": "stderr",
     "output_type": "stream",
     "text": [
      "frame loading (JPEG): 100%|██████████| 1/1 [00:00<00:00, 50.84it/s]\n",
      "propagate in video: 100%|██████████| 1/1 [00:00<00:00, 39.37it/s]\n"
     ]
    },
    {
     "name": "stdout",
     "output_type": "stream",
     "text": [
      "D-05_F0004: /home/lippincm/Documents/live_cell_timelapse_apoptosis/3b.run_sam/sam2_processing_dir/tiny_model_15x_factor/pngs/D-05_F0004/001.jpeg\n",
      "127 127\n"
     ]
    },
    {
     "name": "stderr",
     "output_type": "stream",
     "text": [
      "frame loading (JPEG): 100%|██████████| 14/14 [00:00<00:00, 79.66it/s]\n",
      "propagate in video: 100%|██████████| 14/14 [00:05<00:00,  2.35it/s]\n"
     ]
    },
    {
     "name": "stdout",
     "output_type": "stream",
     "text": [
      "E-05_F0001: /home/lippincm/Documents/live_cell_timelapse_apoptosis/3b.run_sam/sam2_processing_dir/tiny_model_15x_factor/pngs/E-05_F0001/001.jpeg\n",
      "127 127\n"
     ]
    },
    {
     "name": "stderr",
     "output_type": "stream",
     "text": [
      "frame loading (JPEG): 100%|██████████| 14/14 [00:00<00:00, 70.68it/s]\n",
      "propagate in video: 100%|██████████| 14/14 [00:25<00:00,  1.85s/it]\n"
     ]
    },
    {
     "name": "stdout",
     "output_type": "stream",
     "text": [
      "D-03_F0004: /home/lippincm/Documents/live_cell_timelapse_apoptosis/3b.run_sam/sam2_processing_dir/tiny_model_15x_factor/pngs/D-03_F0004/001.jpeg\n",
      "127 127\n"
     ]
    },
    {
     "name": "stderr",
     "output_type": "stream",
     "text": [
      "frame loading (JPEG): 100%|██████████| 14/14 [00:00<00:00, 70.56it/s]\n",
      "propagate in video: 100%|██████████| 14/14 [00:18<00:00,  1.31s/it]\n"
     ]
    },
    {
     "name": "stdout",
     "output_type": "stream",
     "text": [
      "D-11_F0001: /home/lippincm/Documents/live_cell_timelapse_apoptosis/3b.run_sam/sam2_processing_dir/tiny_model_15x_factor/pngs/D-11_F0001/001.jpeg\n",
      "127 127\n"
     ]
    },
    {
     "name": "stderr",
     "output_type": "stream",
     "text": [
      "frame loading (JPEG): 100%|██████████| 14/14 [00:00<00:00, 77.75it/s]\n",
      "propagate in video: 100%|██████████| 14/14 [00:13<00:00,  1.02it/s]\n"
     ]
    },
    {
     "name": "stdout",
     "output_type": "stream",
     "text": [
      "E-07_F0005: /home/lippincm/Documents/live_cell_timelapse_apoptosis/3b.run_sam/sam2_processing_dir/tiny_model_15x_factor/pngs/E-07_F0005/001.jpeg\n",
      "127 127\n"
     ]
    },
    {
     "name": "stderr",
     "output_type": "stream",
     "text": [
      "frame loading (JPEG): 100%|██████████| 1/1 [00:00<00:00, 60.86it/s]\n",
      "propagate in video: 100%|██████████| 1/1 [00:00<00:00, 29.68it/s]\n"
     ]
    },
    {
     "name": "stdout",
     "output_type": "stream",
     "text": [
      "E-07_F0004: /home/lippincm/Documents/live_cell_timelapse_apoptosis/3b.run_sam/sam2_processing_dir/tiny_model_15x_factor/pngs/E-07_F0004/001.jpeg\n",
      "127 127\n"
     ]
    },
    {
     "name": "stderr",
     "output_type": "stream",
     "text": [
      "frame loading (JPEG): 100%|██████████| 14/14 [00:00<00:00, 72.13it/s]\n",
      "propagate in video: 100%|██████████| 14/14 [00:10<00:00,  1.33it/s]\n"
     ]
    },
    {
     "name": "stdout",
     "output_type": "stream",
     "text": [
      "E-04_F0001: /home/lippincm/Documents/live_cell_timelapse_apoptosis/3b.run_sam/sam2_processing_dir/tiny_model_15x_factor/pngs/E-04_F0001/001.jpeg\n",
      "127 127\n"
     ]
    },
    {
     "name": "stderr",
     "output_type": "stream",
     "text": [
      "frame loading (JPEG): 100%|██████████| 14/14 [00:00<00:00, 78.42it/s]\n",
      "propagate in video: 100%|██████████| 14/14 [00:19<00:00,  1.36s/it]\n"
     ]
    },
    {
     "name": "stdout",
     "output_type": "stream",
     "text": [
      "E-10_F0005: /home/lippincm/Documents/live_cell_timelapse_apoptosis/3b.run_sam/sam2_processing_dir/tiny_model_15x_factor/pngs/E-10_F0005/001.jpeg\n",
      "127 127\n"
     ]
    },
    {
     "name": "stderr",
     "output_type": "stream",
     "text": [
      "frame loading (JPEG): 100%|██████████| 1/1 [00:00<00:00, 58.16it/s]\n",
      "propagate in video: 100%|██████████| 1/1 [00:00<00:00, 43.97it/s]\n"
     ]
    },
    {
     "name": "stdout",
     "output_type": "stream",
     "text": [
      "D-06_F0006: /home/lippincm/Documents/live_cell_timelapse_apoptosis/3b.run_sam/sam2_processing_dir/tiny_model_15x_factor/pngs/D-06_F0006/001.jpeg\n",
      "127 127\n"
     ]
    },
    {
     "name": "stderr",
     "output_type": "stream",
     "text": [
      "frame loading (JPEG): 100%|██████████| 1/1 [00:00<00:00, 66.34it/s]\n",
      "propagate in video: 100%|██████████| 1/1 [00:00<00:00, 39.60it/s]\n"
     ]
    },
    {
     "name": "stdout",
     "output_type": "stream",
     "text": [
      "C-04_F0001: /home/lippincm/Documents/live_cell_timelapse_apoptosis/3b.run_sam/sam2_processing_dir/tiny_model_15x_factor/pngs/C-04_F0001/001.jpeg\n",
      "127 127\n"
     ]
    },
    {
     "name": "stderr",
     "output_type": "stream",
     "text": [
      "frame loading (JPEG): 100%|██████████| 14/14 [00:00<00:00, 72.05it/s]\n",
      "propagate in video: 100%|██████████| 14/14 [00:27<00:00,  2.00s/it]\n"
     ]
    },
    {
     "name": "stdout",
     "output_type": "stream",
     "text": [
      "E-02_F0003: /home/lippincm/Documents/live_cell_timelapse_apoptosis/3b.run_sam/sam2_processing_dir/tiny_model_15x_factor/pngs/E-02_F0003/001.jpeg\n",
      "127 127\n"
     ]
    },
    {
     "name": "stderr",
     "output_type": "stream",
     "text": [
      "frame loading (JPEG): 100%|██████████| 14/14 [00:00<00:00, 81.03it/s]\n",
      "propagate in video: 100%|██████████| 14/14 [00:24<00:00,  1.72s/it]\n"
     ]
    },
    {
     "name": "stdout",
     "output_type": "stream",
     "text": [
      "E-08_F0003: /home/lippincm/Documents/live_cell_timelapse_apoptosis/3b.run_sam/sam2_processing_dir/tiny_model_15x_factor/pngs/E-08_F0003/001.jpeg\n",
      "127 127\n"
     ]
    },
    {
     "name": "stderr",
     "output_type": "stream",
     "text": [
      "frame loading (JPEG): 100%|██████████| 14/14 [00:00<00:00, 69.89it/s]\n",
      "propagate in video: 100%|██████████| 14/14 [00:23<00:00,  1.71s/it]\n"
     ]
    },
    {
     "name": "stdout",
     "output_type": "stream",
     "text": [
      "E-10_F0003: /home/lippincm/Documents/live_cell_timelapse_apoptosis/3b.run_sam/sam2_processing_dir/tiny_model_15x_factor/pngs/E-10_F0003/001.jpeg\n",
      "127 127\n"
     ]
    },
    {
     "name": "stderr",
     "output_type": "stream",
     "text": [
      "frame loading (JPEG): 100%|██████████| 14/14 [00:00<00:00, 73.48it/s]\n",
      "propagate in video: 100%|██████████| 14/14 [00:20<00:00,  1.50s/it]\n"
     ]
    },
    {
     "name": "stdout",
     "output_type": "stream",
     "text": [
      "C-08_F0006: /home/lippincm/Documents/live_cell_timelapse_apoptosis/3b.run_sam/sam2_processing_dir/tiny_model_15x_factor/pngs/C-08_F0006/001.jpeg\n",
      "127 127\n"
     ]
    },
    {
     "name": "stderr",
     "output_type": "stream",
     "text": [
      "frame loading (JPEG): 100%|██████████| 1/1 [00:00<00:00, 57.13it/s]\n",
      "propagate in video: 100%|██████████| 1/1 [00:00<00:00, 22.53it/s]\n"
     ]
    },
    {
     "name": "stdout",
     "output_type": "stream",
     "text": [
      "E-09_F0003: /home/lippincm/Documents/live_cell_timelapse_apoptosis/3b.run_sam/sam2_processing_dir/tiny_model_15x_factor/pngs/E-09_F0003/001.jpeg\n",
      "127 127\n"
     ]
    },
    {
     "name": "stderr",
     "output_type": "stream",
     "text": [
      "frame loading (JPEG): 100%|██████████| 14/14 [00:00<00:00, 78.30it/s]\n",
      "propagate in video: 100%|██████████| 14/14 [00:26<00:00,  1.92s/it]\n"
     ]
    },
    {
     "name": "stdout",
     "output_type": "stream",
     "text": [
      "E-03_F0006: /home/lippincm/Documents/live_cell_timelapse_apoptosis/3b.run_sam/sam2_processing_dir/tiny_model_15x_factor/pngs/E-03_F0006/001.jpeg\n",
      "127 127\n"
     ]
    },
    {
     "name": "stderr",
     "output_type": "stream",
     "text": [
      "frame loading (JPEG): 100%|██████████| 1/1 [00:00<00:00, 59.54it/s]\n",
      "propagate in video: 100%|██████████| 1/1 [00:00<00:00, 62.50it/s]\n"
     ]
    },
    {
     "name": "stdout",
     "output_type": "stream",
     "text": [
      "E-08_F0004: /home/lippincm/Documents/live_cell_timelapse_apoptosis/3b.run_sam/sam2_processing_dir/tiny_model_15x_factor/pngs/E-08_F0004/001.jpeg\n",
      "127 127\n"
     ]
    },
    {
     "name": "stderr",
     "output_type": "stream",
     "text": [
      "frame loading (JPEG): 100%|██████████| 14/14 [00:00<00:00, 81.97it/s]\n",
      "propagate in video: 100%|██████████| 14/14 [00:23<00:00,  1.65s/it]\n"
     ]
    },
    {
     "name": "stdout",
     "output_type": "stream",
     "text": [
      "C-10_F0006: /home/lippincm/Documents/live_cell_timelapse_apoptosis/3b.run_sam/sam2_processing_dir/tiny_model_15x_factor/pngs/C-10_F0006/001.jpeg\n",
      "127 127\n"
     ]
    },
    {
     "name": "stderr",
     "output_type": "stream",
     "text": [
      "frame loading (JPEG): 100%|██████████| 1/1 [00:00<00:00, 59.86it/s]\n",
      "propagate in video: 100%|██████████| 1/1 [00:00<00:00, 96.98it/s]\n"
     ]
    },
    {
     "name": "stdout",
     "output_type": "stream",
     "text": [
      "D-08_F0006: /home/lippincm/Documents/live_cell_timelapse_apoptosis/3b.run_sam/sam2_processing_dir/tiny_model_15x_factor/pngs/D-08_F0006/001.jpeg\n",
      "127 127\n"
     ]
    },
    {
     "name": "stderr",
     "output_type": "stream",
     "text": [
      "frame loading (JPEG): 100%|██████████| 1/1 [00:00<00:00, 75.65it/s]\n",
      "propagate in video: 100%|██████████| 1/1 [00:00<00:00, 21.19it/s]\n"
     ]
    },
    {
     "name": "stdout",
     "output_type": "stream",
     "text": [
      "C-06_F0002: /home/lippincm/Documents/live_cell_timelapse_apoptosis/3b.run_sam/sam2_processing_dir/tiny_model_15x_factor/pngs/C-06_F0002/001.jpeg\n",
      "127 127\n"
     ]
    },
    {
     "name": "stderr",
     "output_type": "stream",
     "text": [
      "frame loading (JPEG): 100%|██████████| 14/14 [00:00<00:00, 84.80it/s]\n",
      "propagate in video: 100%|██████████| 14/14 [00:25<00:00,  1.83s/it]\n"
     ]
    },
    {
     "name": "stdout",
     "output_type": "stream",
     "text": [
      "C-03_F0001: /home/lippincm/Documents/live_cell_timelapse_apoptosis/3b.run_sam/sam2_processing_dir/tiny_model_15x_factor/pngs/C-03_F0001/001.jpeg\n",
      "127 127\n"
     ]
    },
    {
     "name": "stderr",
     "output_type": "stream",
     "text": [
      "frame loading (JPEG): 100%|██████████| 14/14 [00:00<00:00, 76.02it/s]\n",
      "propagate in video: 100%|██████████| 14/14 [00:14<00:00,  1.05s/it]\n"
     ]
    },
    {
     "name": "stdout",
     "output_type": "stream",
     "text": [
      "C-05_F0002: /home/lippincm/Documents/live_cell_timelapse_apoptosis/3b.run_sam/sam2_processing_dir/tiny_model_15x_factor/pngs/C-05_F0002/001.jpeg\n",
      "127 127\n"
     ]
    },
    {
     "name": "stderr",
     "output_type": "stream",
     "text": [
      "frame loading (JPEG): 100%|██████████| 14/14 [00:00<00:00, 75.42it/s]\n",
      "propagate in video: 100%|██████████| 14/14 [00:12<00:00,  1.14it/s]\n"
     ]
    },
    {
     "name": "stdout",
     "output_type": "stream",
     "text": [
      "E-04_F0006: /home/lippincm/Documents/live_cell_timelapse_apoptosis/3b.run_sam/sam2_processing_dir/tiny_model_15x_factor/pngs/E-04_F0006/001.jpeg\n",
      "127 127\n"
     ]
    },
    {
     "name": "stderr",
     "output_type": "stream",
     "text": [
      "frame loading (JPEG): 100%|██████████| 1/1 [00:00<00:00, 64.28it/s]\n",
      "propagate in video: 100%|██████████| 1/1 [00:00<00:00, 12.87it/s]\n"
     ]
    },
    {
     "name": "stdout",
     "output_type": "stream",
     "text": [
      "C-05_F0003: /home/lippincm/Documents/live_cell_timelapse_apoptosis/3b.run_sam/sam2_processing_dir/tiny_model_15x_factor/pngs/C-05_F0003/001.jpeg\n",
      "127 127\n"
     ]
    },
    {
     "name": "stderr",
     "output_type": "stream",
     "text": [
      "frame loading (JPEG): 100%|██████████| 14/14 [00:00<00:00, 84.07it/s]\n",
      "propagate in video: 100%|██████████| 14/14 [00:28<00:00,  2.06s/it]\n"
     ]
    },
    {
     "name": "stdout",
     "output_type": "stream",
     "text": [
      "E-07_F0002: /home/lippincm/Documents/live_cell_timelapse_apoptosis/3b.run_sam/sam2_processing_dir/tiny_model_15x_factor/pngs/E-07_F0002/001.jpeg\n",
      "127 127\n"
     ]
    },
    {
     "name": "stderr",
     "output_type": "stream",
     "text": [
      "frame loading (JPEG): 100%|██████████| 14/14 [00:00<00:00, 81.18it/s]\n",
      "propagate in video: 100%|██████████| 14/14 [00:11<00:00,  1.22it/s]\n"
     ]
    },
    {
     "name": "stdout",
     "output_type": "stream",
     "text": [
      "D-11_F0004: /home/lippincm/Documents/live_cell_timelapse_apoptosis/3b.run_sam/sam2_processing_dir/tiny_model_15x_factor/pngs/D-11_F0004/001.jpeg\n",
      "127 127\n"
     ]
    },
    {
     "name": "stderr",
     "output_type": "stream",
     "text": [
      "frame loading (JPEG): 100%|██████████| 14/14 [00:00<00:00, 78.15it/s]\n",
      "propagate in video: 100%|██████████| 14/14 [00:16<00:00,  1.15s/it]\n"
     ]
    },
    {
     "name": "stdout",
     "output_type": "stream",
     "text": [
      "D-05_F0005: /home/lippincm/Documents/live_cell_timelapse_apoptosis/3b.run_sam/sam2_processing_dir/tiny_model_15x_factor/pngs/D-05_F0005/001.jpeg\n",
      "127 127\n"
     ]
    },
    {
     "name": "stderr",
     "output_type": "stream",
     "text": [
      "frame loading (JPEG): 100%|██████████| 1/1 [00:00<00:00, 55.07it/s]\n",
      "propagate in video: 100%|██████████| 1/1 [00:00<00:00, 78.70it/s]\n"
     ]
    },
    {
     "name": "stdout",
     "output_type": "stream",
     "text": [
      "D-11_F0002: /home/lippincm/Documents/live_cell_timelapse_apoptosis/3b.run_sam/sam2_processing_dir/tiny_model_15x_factor/pngs/D-11_F0002/001.jpeg\n",
      "127 127\n"
     ]
    },
    {
     "name": "stderr",
     "output_type": "stream",
     "text": [
      "frame loading (JPEG): 100%|██████████| 14/14 [00:00<00:00, 82.39it/s]\n",
      "propagate in video: 100%|██████████| 14/14 [00:14<00:00,  1.03s/it]\n"
     ]
    },
    {
     "name": "stdout",
     "output_type": "stream",
     "text": [
      "C-10_F0004: /home/lippincm/Documents/live_cell_timelapse_apoptosis/3b.run_sam/sam2_processing_dir/tiny_model_15x_factor/pngs/C-10_F0004/001.jpeg\n",
      "127 127\n"
     ]
    },
    {
     "name": "stderr",
     "output_type": "stream",
     "text": [
      "frame loading (JPEG): 100%|██████████| 14/14 [00:00<00:00, 75.77it/s]\n",
      "propagate in video: 100%|██████████| 14/14 [00:30<00:00,  2.20s/it]\n"
     ]
    },
    {
     "name": "stdout",
     "output_type": "stream",
     "text": [
      "D-09_F0001: /home/lippincm/Documents/live_cell_timelapse_apoptosis/3b.run_sam/sam2_processing_dir/tiny_model_15x_factor/pngs/D-09_F0001/001.jpeg\n",
      "127 127\n"
     ]
    },
    {
     "name": "stderr",
     "output_type": "stream",
     "text": [
      "frame loading (JPEG): 100%|██████████| 14/14 [00:00<00:00, 77.74it/s]\n",
      "propagate in video: 100%|██████████| 14/14 [00:12<00:00,  1.08it/s]\n"
     ]
    },
    {
     "name": "stdout",
     "output_type": "stream",
     "text": [
      "D-02_F0002: /home/lippincm/Documents/live_cell_timelapse_apoptosis/3b.run_sam/sam2_processing_dir/tiny_model_15x_factor/pngs/D-02_F0002/001.jpeg\n",
      "127 127\n"
     ]
    },
    {
     "name": "stderr",
     "output_type": "stream",
     "text": [
      "frame loading (JPEG): 100%|██████████| 14/14 [00:00<00:00, 74.17it/s]\n",
      "propagate in video: 100%|██████████| 14/14 [00:16<00:00,  1.21s/it]\n"
     ]
    },
    {
     "name": "stdout",
     "output_type": "stream",
     "text": [
      "C-07_F0004: /home/lippincm/Documents/live_cell_timelapse_apoptosis/3b.run_sam/sam2_processing_dir/tiny_model_15x_factor/pngs/C-07_F0004/001.jpeg\n",
      "127 127\n"
     ]
    },
    {
     "name": "stderr",
     "output_type": "stream",
     "text": [
      "frame loading (JPEG): 100%|██████████| 14/14 [00:00<00:00, 72.17it/s]\n",
      "propagate in video: 100%|██████████| 14/14 [00:07<00:00,  1.83it/s]\n"
     ]
    },
    {
     "name": "stdout",
     "output_type": "stream",
     "text": [
      "E-10_F0006: /home/lippincm/Documents/live_cell_timelapse_apoptosis/3b.run_sam/sam2_processing_dir/tiny_model_15x_factor/pngs/E-10_F0006/001.jpeg\n",
      "127 127\n"
     ]
    },
    {
     "name": "stderr",
     "output_type": "stream",
     "text": [
      "frame loading (JPEG): 100%|██████████| 1/1 [00:00<00:00, 52.70it/s]\n",
      "propagate in video: 100%|██████████| 1/1 [00:00<00:00, 80.58it/s]\n"
     ]
    },
    {
     "name": "stdout",
     "output_type": "stream",
     "text": [
      "C-09_F0004: /home/lippincm/Documents/live_cell_timelapse_apoptosis/3b.run_sam/sam2_processing_dir/tiny_model_15x_factor/pngs/C-09_F0004/001.jpeg\n",
      "127 127\n"
     ]
    },
    {
     "name": "stderr",
     "output_type": "stream",
     "text": [
      "frame loading (JPEG): 100%|██████████| 14/14 [00:00<00:00, 77.00it/s]\n",
      "propagate in video: 100%|██████████| 14/14 [00:07<00:00,  2.00it/s]\n"
     ]
    },
    {
     "name": "stdout",
     "output_type": "stream",
     "text": [
      "E-08_F0005: /home/lippincm/Documents/live_cell_timelapse_apoptosis/3b.run_sam/sam2_processing_dir/tiny_model_15x_factor/pngs/E-08_F0005/001.jpeg\n",
      "127 127\n"
     ]
    },
    {
     "name": "stderr",
     "output_type": "stream",
     "text": [
      "frame loading (JPEG): 100%|██████████| 1/1 [00:00<00:00, 51.83it/s]\n",
      "propagate in video: 100%|██████████| 1/1 [00:00<00:00, 16.90it/s]\n"
     ]
    },
    {
     "name": "stdout",
     "output_type": "stream",
     "text": [
      "D-11_F0006: /home/lippincm/Documents/live_cell_timelapse_apoptosis/3b.run_sam/sam2_processing_dir/tiny_model_15x_factor/pngs/D-11_F0006/001.jpeg\n",
      "127 127\n"
     ]
    },
    {
     "name": "stderr",
     "output_type": "stream",
     "text": [
      "frame loading (JPEG): 100%|██████████| 1/1 [00:00<00:00, 75.15it/s]\n",
      "propagate in video: 100%|██████████| 1/1 [00:00<00:00, 79.75it/s]\n"
     ]
    },
    {
     "name": "stdout",
     "output_type": "stream",
     "text": [
      "C-11_F0005: /home/lippincm/Documents/live_cell_timelapse_apoptosis/3b.run_sam/sam2_processing_dir/tiny_model_15x_factor/pngs/C-11_F0005/001.jpeg\n",
      "127 127\n"
     ]
    },
    {
     "name": "stderr",
     "output_type": "stream",
     "text": [
      "frame loading (JPEG): 100%|██████████| 1/1 [00:00<00:00, 78.30it/s]\n",
      "propagate in video: 100%|██████████| 1/1 [00:00<00:00, 469.11it/s]\n"
     ]
    },
    {
     "name": "stdout",
     "output_type": "stream",
     "text": [
      "E-05_F0003: /home/lippincm/Documents/live_cell_timelapse_apoptosis/3b.run_sam/sam2_processing_dir/tiny_model_15x_factor/pngs/E-05_F0003/001.jpeg\n",
      "127 127\n"
     ]
    },
    {
     "name": "stderr",
     "output_type": "stream",
     "text": [
      "frame loading (JPEG): 100%|██████████| 14/14 [00:00<00:00, 78.27it/s]\n",
      "propagate in video: 100%|██████████| 14/14 [00:22<00:00,  1.59s/it]\n"
     ]
    },
    {
     "name": "stdout",
     "output_type": "stream",
     "text": [
      "C-04_F0005: /home/lippincm/Documents/live_cell_timelapse_apoptosis/3b.run_sam/sam2_processing_dir/tiny_model_15x_factor/pngs/C-04_F0005/001.jpeg\n",
      "127 127\n"
     ]
    },
    {
     "name": "stderr",
     "output_type": "stream",
     "text": [
      "frame loading (JPEG): 100%|██████████| 1/1 [00:00<00:00, 59.11it/s]\n",
      "propagate in video: 100%|██████████| 1/1 [00:00<00:00, 21.68it/s]\n"
     ]
    },
    {
     "name": "stdout",
     "output_type": "stream",
     "text": [
      "D-07_F0004: /home/lippincm/Documents/live_cell_timelapse_apoptosis/3b.run_sam/sam2_processing_dir/tiny_model_15x_factor/pngs/D-07_F0004/001.jpeg\n",
      "127 127\n"
     ]
    },
    {
     "name": "stderr",
     "output_type": "stream",
     "text": [
      "frame loading (JPEG): 100%|██████████| 14/14 [00:00<00:00, 79.01it/s]\n",
      "propagate in video: 100%|██████████| 14/14 [00:25<00:00,  1.81s/it]\n"
     ]
    },
    {
     "name": "stdout",
     "output_type": "stream",
     "text": [
      "E-09_F0002: /home/lippincm/Documents/live_cell_timelapse_apoptosis/3b.run_sam/sam2_processing_dir/tiny_model_15x_factor/pngs/E-09_F0002/001.jpeg\n",
      "127 127\n"
     ]
    },
    {
     "name": "stderr",
     "output_type": "stream",
     "text": [
      "frame loading (JPEG): 100%|██████████| 14/14 [00:00<00:00, 73.66it/s]\n",
      "propagate in video: 100%|██████████| 14/14 [00:31<00:00,  2.25s/it]\n"
     ]
    },
    {
     "name": "stdout",
     "output_type": "stream",
     "text": [
      "D-09_F0006: /home/lippincm/Documents/live_cell_timelapse_apoptosis/3b.run_sam/sam2_processing_dir/tiny_model_15x_factor/pngs/D-09_F0006/001.jpeg\n",
      "127 127\n"
     ]
    },
    {
     "name": "stderr",
     "output_type": "stream",
     "text": [
      "frame loading (JPEG): 100%|██████████| 1/1 [00:00<00:00, 66.66it/s]\n",
      "propagate in video: 100%|██████████| 1/1 [00:00<00:00, 28.10it/s]\n"
     ]
    },
    {
     "name": "stdout",
     "output_type": "stream",
     "text": [
      "C-09_F0001: /home/lippincm/Documents/live_cell_timelapse_apoptosis/3b.run_sam/sam2_processing_dir/tiny_model_15x_factor/pngs/C-09_F0001/001.jpeg\n",
      "127 127\n"
     ]
    },
    {
     "name": "stderr",
     "output_type": "stream",
     "text": [
      "frame loading (JPEG): 100%|██████████| 14/14 [00:00<00:00, 75.79it/s]\n",
      "propagate in video: 100%|██████████| 14/14 [00:21<00:00,  1.52s/it]\n"
     ]
    },
    {
     "name": "stdout",
     "output_type": "stream",
     "text": [
      "D-08_F0005: /home/lippincm/Documents/live_cell_timelapse_apoptosis/3b.run_sam/sam2_processing_dir/tiny_model_15x_factor/pngs/D-08_F0005/001.jpeg\n",
      "127 127\n"
     ]
    },
    {
     "name": "stderr",
     "output_type": "stream",
     "text": [
      "frame loading (JPEG): 100%|██████████| 1/1 [00:00<00:00, 59.31it/s]\n",
      "propagate in video: 100%|██████████| 1/1 [00:00<00:00, 18.48it/s]\n"
     ]
    },
    {
     "name": "stdout",
     "output_type": "stream",
     "text": [
      "E-05_F0004: /home/lippincm/Documents/live_cell_timelapse_apoptosis/3b.run_sam/sam2_processing_dir/tiny_model_15x_factor/pngs/E-05_F0004/001.jpeg\n",
      "127 127\n"
     ]
    },
    {
     "name": "stderr",
     "output_type": "stream",
     "text": [
      "frame loading (JPEG): 100%|██████████| 14/14 [00:00<00:00, 73.30it/s]\n",
      "propagate in video: 100%|██████████| 14/14 [00:24<00:00,  1.76s/it]\n"
     ]
    },
    {
     "name": "stdout",
     "output_type": "stream",
     "text": [
      "C-03_F0005: /home/lippincm/Documents/live_cell_timelapse_apoptosis/3b.run_sam/sam2_processing_dir/tiny_model_15x_factor/pngs/C-03_F0005/001.jpeg\n",
      "127 127\n"
     ]
    },
    {
     "name": "stderr",
     "output_type": "stream",
     "text": [
      "frame loading (JPEG): 100%|██████████| 1/1 [00:00<00:00, 66.43it/s]\n",
      "propagate in video: 100%|██████████| 1/1 [00:00<00:00, 23.15it/s]\n"
     ]
    },
    {
     "name": "stdout",
     "output_type": "stream",
     "text": [
      "C-08_F0005: /home/lippincm/Documents/live_cell_timelapse_apoptosis/3b.run_sam/sam2_processing_dir/tiny_model_15x_factor/pngs/C-08_F0005/001.jpeg\n",
      "127 127\n"
     ]
    },
    {
     "name": "stderr",
     "output_type": "stream",
     "text": [
      "frame loading (JPEG): 100%|██████████| 1/1 [00:00<00:00, 69.30it/s]\n",
      "propagate in video: 100%|██████████| 1/1 [00:00<00:00, 25.31it/s]\n"
     ]
    },
    {
     "name": "stdout",
     "output_type": "stream",
     "text": [
      "C-03_F0003: /home/lippincm/Documents/live_cell_timelapse_apoptosis/3b.run_sam/sam2_processing_dir/tiny_model_15x_factor/pngs/C-03_F0003/001.jpeg\n",
      "127 127\n"
     ]
    },
    {
     "name": "stderr",
     "output_type": "stream",
     "text": [
      "frame loading (JPEG): 100%|██████████| 14/14 [00:00<00:00, 80.56it/s]\n",
      "propagate in video: 100%|██████████| 14/14 [00:21<00:00,  1.55s/it]\n"
     ]
    },
    {
     "name": "stdout",
     "output_type": "stream",
     "text": [
      "E-05_F0006: /home/lippincm/Documents/live_cell_timelapse_apoptosis/3b.run_sam/sam2_processing_dir/tiny_model_15x_factor/pngs/E-05_F0006/001.jpeg\n",
      "127 127\n"
     ]
    },
    {
     "name": "stderr",
     "output_type": "stream",
     "text": [
      "frame loading (JPEG): 100%|██████████| 1/1 [00:00<00:00, 58.91it/s]\n",
      "propagate in video: 100%|██████████| 1/1 [00:00<00:00, 82.61it/s]\n"
     ]
    },
    {
     "name": "stdout",
     "output_type": "stream",
     "text": [
      "E-11_F0001: /home/lippincm/Documents/live_cell_timelapse_apoptosis/3b.run_sam/sam2_processing_dir/tiny_model_15x_factor/pngs/E-11_F0001/001.jpeg\n",
      "127 127\n"
     ]
    },
    {
     "name": "stderr",
     "output_type": "stream",
     "text": [
      "frame loading (JPEG): 100%|██████████| 14/14 [00:00<00:00, 72.88it/s]\n",
      "propagate in video: 100%|██████████| 14/14 [00:27<00:00,  1.99s/it]\n"
     ]
    },
    {
     "name": "stdout",
     "output_type": "stream",
     "text": [
      "E-04_F0005: /home/lippincm/Documents/live_cell_timelapse_apoptosis/3b.run_sam/sam2_processing_dir/tiny_model_15x_factor/pngs/E-04_F0005/001.jpeg\n",
      "127 127\n"
     ]
    },
    {
     "name": "stderr",
     "output_type": "stream",
     "text": [
      "frame loading (JPEG): 100%|██████████| 1/1 [00:00<00:00, 68.80it/s]\n",
      "propagate in video: 100%|██████████| 1/1 [00:00<00:00, 20.99it/s]\n"
     ]
    },
    {
     "name": "stdout",
     "output_type": "stream",
     "text": [
      "C-09_F0003: /home/lippincm/Documents/live_cell_timelapse_apoptosis/3b.run_sam/sam2_processing_dir/tiny_model_15x_factor/pngs/C-09_F0003/001.jpeg\n",
      "127 127\n"
     ]
    },
    {
     "name": "stderr",
     "output_type": "stream",
     "text": [
      "frame loading (JPEG): 100%|██████████| 14/14 [00:00<00:00, 77.96it/s]\n",
      "propagate in video: 100%|██████████| 14/14 [00:16<00:00,  1.18s/it]\n"
     ]
    },
    {
     "name": "stdout",
     "output_type": "stream",
     "text": [
      "E-04_F0002: /home/lippincm/Documents/live_cell_timelapse_apoptosis/3b.run_sam/sam2_processing_dir/tiny_model_15x_factor/pngs/E-04_F0002/001.jpeg\n",
      "127 127\n"
     ]
    },
    {
     "name": "stderr",
     "output_type": "stream",
     "text": [
      "frame loading (JPEG): 100%|██████████| 14/14 [00:00<00:00, 75.12it/s]\n",
      "propagate in video: 100%|██████████| 14/14 [00:01<00:00,  9.93it/s]\n"
     ]
    },
    {
     "name": "stdout",
     "output_type": "stream",
     "text": [
      "D-05_F0002: /home/lippincm/Documents/live_cell_timelapse_apoptosis/3b.run_sam/sam2_processing_dir/tiny_model_15x_factor/pngs/D-05_F0002/001.jpeg\n",
      "127 127\n"
     ]
    },
    {
     "name": "stderr",
     "output_type": "stream",
     "text": [
      "frame loading (JPEG): 100%|██████████| 14/14 [00:00<00:00, 74.54it/s]\n",
      "propagate in video: 100%|██████████| 14/14 [00:20<00:00,  1.46s/it]\n"
     ]
    },
    {
     "name": "stdout",
     "output_type": "stream",
     "text": [
      "D-10_F0003: /home/lippincm/Documents/live_cell_timelapse_apoptosis/3b.run_sam/sam2_processing_dir/tiny_model_15x_factor/pngs/D-10_F0003/001.jpeg\n",
      "127 127\n"
     ]
    },
    {
     "name": "stderr",
     "output_type": "stream",
     "text": [
      "frame loading (JPEG): 100%|██████████| 14/14 [00:00<00:00, 73.37it/s]\n",
      "propagate in video: 100%|██████████| 14/14 [00:06<00:00,  2.01it/s]\n"
     ]
    },
    {
     "name": "stdout",
     "output_type": "stream",
     "text": [
      "D-06_F0004: /home/lippincm/Documents/live_cell_timelapse_apoptosis/3b.run_sam/sam2_processing_dir/tiny_model_15x_factor/pngs/D-06_F0004/001.jpeg\n",
      "127 127\n"
     ]
    },
    {
     "name": "stderr",
     "output_type": "stream",
     "text": [
      "frame loading (JPEG): 100%|██████████| 14/14 [00:00<00:00, 70.97it/s]\n",
      "propagate in video: 100%|██████████| 14/14 [00:27<00:00,  1.98s/it]\n"
     ]
    },
    {
     "name": "stdout",
     "output_type": "stream",
     "text": [
      "C-09_F0006: /home/lippincm/Documents/live_cell_timelapse_apoptosis/3b.run_sam/sam2_processing_dir/tiny_model_15x_factor/pngs/C-09_F0006/001.jpeg\n",
      "127 127\n"
     ]
    },
    {
     "name": "stderr",
     "output_type": "stream",
     "text": [
      "frame loading (JPEG): 100%|██████████| 1/1 [00:00<00:00, 67.71it/s]\n",
      "propagate in video: 100%|██████████| 1/1 [00:00<00:00, 53.15it/s]\n"
     ]
    },
    {
     "name": "stdout",
     "output_type": "stream",
     "text": [
      "D-07_F0003: /home/lippincm/Documents/live_cell_timelapse_apoptosis/3b.run_sam/sam2_processing_dir/tiny_model_15x_factor/pngs/D-07_F0003/001.jpeg\n",
      "127 127\n"
     ]
    },
    {
     "name": "stderr",
     "output_type": "stream",
     "text": [
      "frame loading (JPEG): 100%|██████████| 14/14 [00:00<00:00, 73.89it/s]\n",
      "propagate in video: 100%|██████████| 14/14 [00:23<00:00,  1.69s/it]\n"
     ]
    },
    {
     "name": "stdout",
     "output_type": "stream",
     "text": [
      "C-06_F0005: /home/lippincm/Documents/live_cell_timelapse_apoptosis/3b.run_sam/sam2_processing_dir/tiny_model_15x_factor/pngs/C-06_F0005/001.jpeg\n",
      "127 127\n"
     ]
    },
    {
     "name": "stderr",
     "output_type": "stream",
     "text": [
      "frame loading (JPEG): 100%|██████████| 1/1 [00:00<00:00, 58.23it/s]\n",
      "propagate in video: 100%|██████████| 1/1 [00:00<00:00, 14.02it/s]\n"
     ]
    },
    {
     "name": "stdout",
     "output_type": "stream",
     "text": [
      "D-09_F0003: /home/lippincm/Documents/live_cell_timelapse_apoptosis/3b.run_sam/sam2_processing_dir/tiny_model_15x_factor/pngs/D-09_F0003/001.jpeg\n",
      "127 127\n"
     ]
    },
    {
     "name": "stderr",
     "output_type": "stream",
     "text": [
      "frame loading (JPEG): 100%|██████████| 14/14 [00:00<00:00, 75.24it/s]\n",
      "propagate in video: 100%|██████████| 14/14 [00:02<00:00,  4.67it/s]\n"
     ]
    },
    {
     "name": "stdout",
     "output_type": "stream",
     "text": [
      "C-05_F0004: /home/lippincm/Documents/live_cell_timelapse_apoptosis/3b.run_sam/sam2_processing_dir/tiny_model_15x_factor/pngs/C-05_F0004/001.jpeg\n",
      "127 127\n"
     ]
    },
    {
     "name": "stderr",
     "output_type": "stream",
     "text": [
      "frame loading (JPEG): 100%|██████████| 14/14 [00:00<00:00, 73.04it/s]\n",
      "propagate in video: 100%|██████████| 14/14 [00:18<00:00,  1.32s/it]\n"
     ]
    },
    {
     "name": "stdout",
     "output_type": "stream",
     "text": [
      "C-02_F0002: /home/lippincm/Documents/live_cell_timelapse_apoptosis/3b.run_sam/sam2_processing_dir/tiny_model_15x_factor/pngs/C-02_F0002/001.jpeg\n",
      "127 127\n"
     ]
    },
    {
     "name": "stderr",
     "output_type": "stream",
     "text": [
      "frame loading (JPEG): 100%|██████████| 14/14 [00:00<00:00, 73.02it/s]\n",
      "propagate in video: 100%|██████████| 14/14 [00:25<00:00,  1.80s/it]\n"
     ]
    },
    {
     "name": "stdout",
     "output_type": "stream",
     "text": [
      "D-06_F0003: /home/lippincm/Documents/live_cell_timelapse_apoptosis/3b.run_sam/sam2_processing_dir/tiny_model_15x_factor/pngs/D-06_F0003/001.jpeg\n",
      "127 127\n"
     ]
    },
    {
     "name": "stderr",
     "output_type": "stream",
     "text": [
      "frame loading (JPEG): 100%|██████████| 14/14 [00:00<00:00, 72.63it/s]\n",
      "propagate in video: 100%|██████████| 14/14 [00:06<00:00,  2.31it/s]\n"
     ]
    },
    {
     "name": "stdout",
     "output_type": "stream",
     "text": [
      "D-05_F0006: /home/lippincm/Documents/live_cell_timelapse_apoptosis/3b.run_sam/sam2_processing_dir/tiny_model_15x_factor/pngs/D-05_F0006/001.jpeg\n",
      "127 127\n"
     ]
    },
    {
     "name": "stderr",
     "output_type": "stream",
     "text": [
      "frame loading (JPEG): 100%|██████████| 1/1 [00:00<00:00, 50.87it/s]\n",
      "propagate in video: 100%|██████████| 1/1 [00:00<00:00, 2302.03it/s]\n"
     ]
    },
    {
     "name": "stdout",
     "output_type": "stream",
     "text": [
      "C-11_F0004: /home/lippincm/Documents/live_cell_timelapse_apoptosis/3b.run_sam/sam2_processing_dir/tiny_model_15x_factor/pngs/C-11_F0004/001.jpeg\n",
      "127 127\n"
     ]
    },
    {
     "name": "stderr",
     "output_type": "stream",
     "text": [
      "frame loading (JPEG): 100%|██████████| 14/14 [00:00<00:00, 77.23it/s]\n",
      "propagate in video: 100%|██████████| 14/14 [00:27<00:00,  1.98s/it]\n"
     ]
    },
    {
     "name": "stdout",
     "output_type": "stream",
     "text": [
      "D-05_F0001: /home/lippincm/Documents/live_cell_timelapse_apoptosis/3b.run_sam/sam2_processing_dir/tiny_model_15x_factor/pngs/D-05_F0001/001.jpeg\n",
      "127 127\n"
     ]
    },
    {
     "name": "stderr",
     "output_type": "stream",
     "text": [
      "frame loading (JPEG): 100%|██████████| 14/14 [00:00<00:00, 78.95it/s]\n",
      "propagate in video: 100%|██████████| 14/14 [00:23<00:00,  1.71s/it]\n"
     ]
    },
    {
     "name": "stdout",
     "output_type": "stream",
     "text": [
      "D-02_F0005: /home/lippincm/Documents/live_cell_timelapse_apoptosis/3b.run_sam/sam2_processing_dir/tiny_model_15x_factor/pngs/D-02_F0005/001.jpeg\n",
      "127 127\n"
     ]
    },
    {
     "name": "stderr",
     "output_type": "stream",
     "text": [
      "frame loading (JPEG): 100%|██████████| 1/1 [00:00<00:00, 61.09it/s]\n",
      "propagate in video: 100%|██████████| 1/1 [00:00<00:00, 11.64it/s]\n"
     ]
    },
    {
     "name": "stdout",
     "output_type": "stream",
     "text": [
      "D-06_F0001: /home/lippincm/Documents/live_cell_timelapse_apoptosis/3b.run_sam/sam2_processing_dir/tiny_model_15x_factor/pngs/D-06_F0001/001.jpeg\n",
      "127 127\n"
     ]
    },
    {
     "name": "stderr",
     "output_type": "stream",
     "text": [
      "frame loading (JPEG): 100%|██████████| 14/14 [00:00<00:00, 77.74it/s]\n",
      "propagate in video: 100%|██████████| 14/14 [00:05<00:00,  2.36it/s]\n"
     ]
    },
    {
     "name": "stdout",
     "output_type": "stream",
     "text": [
      "E-09_F0004: /home/lippincm/Documents/live_cell_timelapse_apoptosis/3b.run_sam/sam2_processing_dir/tiny_model_15x_factor/pngs/E-09_F0004/001.jpeg\n",
      "127 127\n"
     ]
    },
    {
     "name": "stderr",
     "output_type": "stream",
     "text": [
      "frame loading (JPEG): 100%|██████████| 14/14 [00:00<00:00, 73.64it/s]\n",
      "propagate in video: 100%|██████████| 14/14 [00:16<00:00,  1.20s/it]\n"
     ]
    },
    {
     "name": "stdout",
     "output_type": "stream",
     "text": [
      "E-09_F0005: /home/lippincm/Documents/live_cell_timelapse_apoptosis/3b.run_sam/sam2_processing_dir/tiny_model_15x_factor/pngs/E-09_F0005/001.jpeg\n",
      "127 127\n"
     ]
    },
    {
     "name": "stderr",
     "output_type": "stream",
     "text": [
      "frame loading (JPEG): 100%|██████████| 1/1 [00:00<00:00, 56.53it/s]\n",
      "propagate in video: 100%|██████████| 1/1 [00:00<00:00, 59.00it/s]\n"
     ]
    },
    {
     "name": "stdout",
     "output_type": "stream",
     "text": [
      "D-03_F0002: /home/lippincm/Documents/live_cell_timelapse_apoptosis/3b.run_sam/sam2_processing_dir/tiny_model_15x_factor/pngs/D-03_F0002/001.jpeg\n",
      "127 127\n"
     ]
    },
    {
     "name": "stderr",
     "output_type": "stream",
     "text": [
      "frame loading (JPEG): 100%|██████████| 14/14 [00:00<00:00, 78.03it/s]\n",
      "propagate in video: 100%|██████████| 14/14 [00:15<00:00,  1.14s/it]\n"
     ]
    },
    {
     "name": "stdout",
     "output_type": "stream",
     "text": [
      "C-07_F0003: /home/lippincm/Documents/live_cell_timelapse_apoptosis/3b.run_sam/sam2_processing_dir/tiny_model_15x_factor/pngs/C-07_F0003/001.jpeg\n",
      "127 127\n"
     ]
    },
    {
     "name": "stderr",
     "output_type": "stream",
     "text": [
      "frame loading (JPEG): 100%|██████████| 14/14 [00:00<00:00, 73.14it/s]\n",
      "propagate in video: 100%|██████████| 14/14 [00:23<00:00,  1.71s/it]\n"
     ]
    },
    {
     "name": "stdout",
     "output_type": "stream",
     "text": [
      "D-10_F0001: /home/lippincm/Documents/live_cell_timelapse_apoptosis/3b.run_sam/sam2_processing_dir/tiny_model_15x_factor/pngs/D-10_F0001/001.jpeg\n",
      "127 127\n"
     ]
    },
    {
     "name": "stderr",
     "output_type": "stream",
     "text": [
      "frame loading (JPEG): 100%|██████████| 14/14 [00:00<00:00, 71.98it/s]\n",
      "propagate in video: 100%|██████████| 14/14 [00:27<00:00,  1.97s/it]\n"
     ]
    },
    {
     "name": "stdout",
     "output_type": "stream",
     "text": [
      "E-06_F0003: /home/lippincm/Documents/live_cell_timelapse_apoptosis/3b.run_sam/sam2_processing_dir/tiny_model_15x_factor/pngs/E-06_F0003/001.jpeg\n",
      "127 127\n"
     ]
    },
    {
     "name": "stderr",
     "output_type": "stream",
     "text": [
      "frame loading (JPEG): 100%|██████████| 14/14 [00:00<00:00, 77.36it/s]\n",
      "propagate in video: 100%|██████████| 14/14 [00:25<00:00,  1.81s/it]\n"
     ]
    },
    {
     "name": "stdout",
     "output_type": "stream",
     "text": [
      "D-08_F0001: /home/lippincm/Documents/live_cell_timelapse_apoptosis/3b.run_sam/sam2_processing_dir/tiny_model_15x_factor/pngs/D-08_F0001/001.jpeg\n",
      "127 127\n"
     ]
    },
    {
     "name": "stderr",
     "output_type": "stream",
     "text": [
      "frame loading (JPEG): 100%|██████████| 14/14 [00:00<00:00, 81.31it/s]\n",
      "propagate in video: 100%|██████████| 14/14 [00:05<00:00,  2.59it/s]\n"
     ]
    },
    {
     "name": "stdout",
     "output_type": "stream",
     "text": [
      "E-11_F0006: /home/lippincm/Documents/live_cell_timelapse_apoptosis/3b.run_sam/sam2_processing_dir/tiny_model_15x_factor/pngs/E-11_F0006/001.jpeg\n",
      "127 127\n"
     ]
    },
    {
     "name": "stderr",
     "output_type": "stream",
     "text": [
      "frame loading (JPEG): 100%|██████████| 1/1 [00:00<00:00, 55.46it/s]\n",
      "propagate in video: 100%|██████████| 1/1 [00:00<00:00, 1996.34it/s]\n"
     ]
    },
    {
     "name": "stdout",
     "output_type": "stream",
     "text": [
      "E-06_F0002: /home/lippincm/Documents/live_cell_timelapse_apoptosis/3b.run_sam/sam2_processing_dir/tiny_model_15x_factor/pngs/E-06_F0002/001.jpeg\n",
      "127 127\n"
     ]
    },
    {
     "name": "stderr",
     "output_type": "stream",
     "text": [
      "frame loading (JPEG): 100%|██████████| 14/14 [00:00<00:00, 77.33it/s]\n",
      "propagate in video: 100%|██████████| 14/14 [00:28<00:00,  2.05s/it]\n"
     ]
    },
    {
     "name": "stdout",
     "output_type": "stream",
     "text": [
      "E-08_F0002: /home/lippincm/Documents/live_cell_timelapse_apoptosis/3b.run_sam/sam2_processing_dir/tiny_model_15x_factor/pngs/E-08_F0002/001.jpeg\n",
      "127 127\n"
     ]
    },
    {
     "name": "stderr",
     "output_type": "stream",
     "text": [
      "frame loading (JPEG): 100%|██████████| 14/14 [00:00<00:00, 78.64it/s]\n",
      "propagate in video: 100%|██████████| 14/14 [00:18<00:00,  1.32s/it]\n"
     ]
    },
    {
     "name": "stdout",
     "output_type": "stream",
     "text": [
      "C-07_F0002: /home/lippincm/Documents/live_cell_timelapse_apoptosis/3b.run_sam/sam2_processing_dir/tiny_model_15x_factor/pngs/C-07_F0002/001.jpeg\n",
      "127 127\n"
     ]
    },
    {
     "name": "stderr",
     "output_type": "stream",
     "text": [
      "frame loading (JPEG): 100%|██████████| 14/14 [00:00<00:00, 73.34it/s]\n",
      "propagate in video: 100%|██████████| 14/14 [00:17<00:00,  1.26s/it]\n"
     ]
    },
    {
     "name": "stdout",
     "output_type": "stream",
     "text": [
      "C-02_F0005: /home/lippincm/Documents/live_cell_timelapse_apoptosis/3b.run_sam/sam2_processing_dir/tiny_model_15x_factor/pngs/C-02_F0005/001.jpeg\n",
      "127 127\n"
     ]
    },
    {
     "name": "stderr",
     "output_type": "stream",
     "text": [
      "frame loading (JPEG): 100%|██████████| 1/1 [00:00<00:00, 59.23it/s]\n",
      "propagate in video: 100%|██████████| 1/1 [00:00<00:00, 15.29it/s]\n"
     ]
    },
    {
     "name": "stdout",
     "output_type": "stream",
     "text": [
      "C-04_F0006: /home/lippincm/Documents/live_cell_timelapse_apoptosis/3b.run_sam/sam2_processing_dir/tiny_model_15x_factor/pngs/C-04_F0006/001.jpeg\n",
      "127 127\n"
     ]
    },
    {
     "name": "stderr",
     "output_type": "stream",
     "text": [
      "frame loading (JPEG): 100%|██████████| 1/1 [00:00<00:00, 68.67it/s]\n",
      "propagate in video: 100%|██████████| 1/1 [00:00<00:00, 31.35it/s]\n"
     ]
    },
    {
     "name": "stdout",
     "output_type": "stream",
     "text": [
      "C-02_F0001: /home/lippincm/Documents/live_cell_timelapse_apoptosis/3b.run_sam/sam2_processing_dir/tiny_model_15x_factor/pngs/C-02_F0001/001.jpeg\n",
      "127 127\n"
     ]
    },
    {
     "name": "stderr",
     "output_type": "stream",
     "text": [
      "frame loading (JPEG): 100%|██████████| 14/14 [00:00<00:00, 78.48it/s]\n",
      "propagate in video: 100%|██████████| 14/14 [00:35<00:00,  2.50s/it]\n"
     ]
    },
    {
     "name": "stdout",
     "output_type": "stream",
     "text": [
      "D-10_F0005: /home/lippincm/Documents/live_cell_timelapse_apoptosis/3b.run_sam/sam2_processing_dir/tiny_model_15x_factor/pngs/D-10_F0005/001.jpeg\n",
      "127 127\n"
     ]
    },
    {
     "name": "stderr",
     "output_type": "stream",
     "text": [
      "frame loading (JPEG): 100%|██████████| 1/1 [00:00<00:00, 65.85it/s]\n",
      "propagate in video: 100%|██████████| 1/1 [00:00<00:00, 53.40it/s]\n"
     ]
    },
    {
     "name": "stdout",
     "output_type": "stream",
     "text": [
      "C-11_F0001: /home/lippincm/Documents/live_cell_timelapse_apoptosis/3b.run_sam/sam2_processing_dir/tiny_model_15x_factor/pngs/C-11_F0001/001.jpeg\n",
      "127 127\n"
     ]
    },
    {
     "name": "stderr",
     "output_type": "stream",
     "text": [
      "frame loading (JPEG): 100%|██████████| 14/14 [00:00<00:00, 74.76it/s]\n",
      "propagate in video: 100%|██████████| 14/14 [00:25<00:00,  1.81s/it]\n"
     ]
    },
    {
     "name": "stdout",
     "output_type": "stream",
     "text": [
      "D-07_F0001: /home/lippincm/Documents/live_cell_timelapse_apoptosis/3b.run_sam/sam2_processing_dir/tiny_model_15x_factor/pngs/D-07_F0001/001.jpeg\n",
      "127 127\n"
     ]
    },
    {
     "name": "stderr",
     "output_type": "stream",
     "text": [
      "frame loading (JPEG): 100%|██████████| 14/14 [00:00<00:00, 77.53it/s]\n",
      "propagate in video: 100%|██████████| 14/14 [00:25<00:00,  1.81s/it]\n"
     ]
    },
    {
     "name": "stdout",
     "output_type": "stream",
     "text": [
      "D-06_F0005: /home/lippincm/Documents/live_cell_timelapse_apoptosis/3b.run_sam/sam2_processing_dir/tiny_model_15x_factor/pngs/D-06_F0005/001.jpeg\n",
      "127 127\n"
     ]
    },
    {
     "name": "stderr",
     "output_type": "stream",
     "text": [
      "frame loading (JPEG): 100%|██████████| 1/1 [00:00<00:00, 63.04it/s]\n",
      "propagate in video: 100%|██████████| 1/1 [00:00<00:00, 21.46it/s]\n"
     ]
    },
    {
     "name": "stdout",
     "output_type": "stream",
     "text": [
      "C-10_F0003: /home/lippincm/Documents/live_cell_timelapse_apoptosis/3b.run_sam/sam2_processing_dir/tiny_model_15x_factor/pngs/C-10_F0003/001.jpeg\n",
      "127 127\n"
     ]
    },
    {
     "name": "stderr",
     "output_type": "stream",
     "text": [
      "frame loading (JPEG): 100%|██████████| 14/14 [00:00<00:00, 75.54it/s]\n",
      "propagate in video: 100%|██████████| 14/14 [00:31<00:00,  2.25s/it]\n"
     ]
    },
    {
     "name": "stdout",
     "output_type": "stream",
     "text": [
      "E-02_F0004: /home/lippincm/Documents/live_cell_timelapse_apoptosis/3b.run_sam/sam2_processing_dir/tiny_model_15x_factor/pngs/E-02_F0004/001.jpeg\n",
      "127 127\n"
     ]
    },
    {
     "name": "stderr",
     "output_type": "stream",
     "text": [
      "frame loading (JPEG): 100%|██████████| 14/14 [00:00<00:00, 81.01it/s]\n",
      "propagate in video: 100%|██████████| 14/14 [00:26<00:00,  1.92s/it]\n"
     ]
    },
    {
     "name": "stdout",
     "output_type": "stream",
     "text": [
      "E-10_F0004: /home/lippincm/Documents/live_cell_timelapse_apoptosis/3b.run_sam/sam2_processing_dir/tiny_model_15x_factor/pngs/E-10_F0004/001.jpeg\n",
      "127 127\n"
     ]
    },
    {
     "name": "stderr",
     "output_type": "stream",
     "text": [
      "frame loading (JPEG): 100%|██████████| 14/14 [00:00<00:00, 72.37it/s]\n",
      "propagate in video: 100%|██████████| 14/14 [00:25<00:00,  1.83s/it]\n"
     ]
    },
    {
     "name": "stdout",
     "output_type": "stream",
     "text": [
      "D-04_F0004: /home/lippincm/Documents/live_cell_timelapse_apoptosis/3b.run_sam/sam2_processing_dir/tiny_model_15x_factor/pngs/D-04_F0004/001.jpeg\n",
      "127 127\n"
     ]
    },
    {
     "name": "stderr",
     "output_type": "stream",
     "text": [
      "frame loading (JPEG): 100%|██████████| 14/14 [00:00<00:00, 75.14it/s]\n",
      "propagate in video: 100%|██████████| 14/14 [00:22<00:00,  1.59s/it]\n"
     ]
    },
    {
     "name": "stdout",
     "output_type": "stream",
     "text": [
      "D-09_F0004: /home/lippincm/Documents/live_cell_timelapse_apoptosis/3b.run_sam/sam2_processing_dir/tiny_model_15x_factor/pngs/D-09_F0004/001.jpeg\n",
      "127 127\n"
     ]
    },
    {
     "name": "stderr",
     "output_type": "stream",
     "text": [
      "frame loading (JPEG): 100%|██████████| 14/14 [00:00<00:00, 74.59it/s]\n",
      "propagate in video: 100%|██████████| 14/14 [00:30<00:00,  2.18s/it]\n"
     ]
    },
    {
     "name": "stdout",
     "output_type": "stream",
     "text": [
      "E-03_F0003: /home/lippincm/Documents/live_cell_timelapse_apoptosis/3b.run_sam/sam2_processing_dir/tiny_model_15x_factor/pngs/E-03_F0003/001.jpeg\n",
      "127 127\n"
     ]
    },
    {
     "name": "stderr",
     "output_type": "stream",
     "text": [
      "frame loading (JPEG): 100%|██████████| 14/14 [00:00<00:00, 73.91it/s]\n",
      "propagate in video: 100%|██████████| 14/14 [00:21<00:00,  1.53s/it]\n"
     ]
    },
    {
     "name": "stdout",
     "output_type": "stream",
     "text": [
      "E-03_F0001: /home/lippincm/Documents/live_cell_timelapse_apoptosis/3b.run_sam/sam2_processing_dir/tiny_model_15x_factor/pngs/E-03_F0001/001.jpeg\n",
      "127 127\n"
     ]
    },
    {
     "name": "stderr",
     "output_type": "stream",
     "text": [
      "frame loading (JPEG): 100%|██████████| 14/14 [00:00<00:00, 72.02it/s]\n",
      "propagate in video: 100%|██████████| 14/14 [00:20<00:00,  1.46s/it]\n"
     ]
    },
    {
     "name": "stdout",
     "output_type": "stream",
     "text": [
      "C-06_F0001: /home/lippincm/Documents/live_cell_timelapse_apoptosis/3b.run_sam/sam2_processing_dir/tiny_model_15x_factor/pngs/C-06_F0001/001.jpeg\n",
      "127 127\n"
     ]
    },
    {
     "name": "stderr",
     "output_type": "stream",
     "text": [
      "frame loading (JPEG): 100%|██████████| 14/14 [00:00<00:00, 72.19it/s]\n",
      "propagate in video: 100%|██████████| 14/14 [00:28<00:00,  2.04s/it]\n"
     ]
    },
    {
     "name": "stdout",
     "output_type": "stream",
     "text": [
      "E-09_F0001: /home/lippincm/Documents/live_cell_timelapse_apoptosis/3b.run_sam/sam2_processing_dir/tiny_model_15x_factor/pngs/E-09_F0001/001.jpeg\n",
      "127 127\n"
     ]
    },
    {
     "name": "stderr",
     "output_type": "stream",
     "text": [
      "frame loading (JPEG): 100%|██████████| 14/14 [00:00<00:00, 77.97it/s]\n",
      "propagate in video: 100%|██████████| 14/14 [00:23<00:00,  1.69s/it]\n"
     ]
    },
    {
     "name": "stdout",
     "output_type": "stream",
     "text": [
      "E-03_F0005: /home/lippincm/Documents/live_cell_timelapse_apoptosis/3b.run_sam/sam2_processing_dir/tiny_model_15x_factor/pngs/E-03_F0005/001.jpeg\n",
      "127 127\n"
     ]
    },
    {
     "name": "stderr",
     "output_type": "stream",
     "text": [
      "frame loading (JPEG): 100%|██████████| 1/1 [00:00<00:00, 58.68it/s]\n",
      "propagate in video: 100%|██████████| 1/1 [00:00<00:00, 26.69it/s]\n"
     ]
    },
    {
     "name": "stdout",
     "output_type": "stream",
     "text": [
      "D-07_F0002: /home/lippincm/Documents/live_cell_timelapse_apoptosis/3b.run_sam/sam2_processing_dir/tiny_model_15x_factor/pngs/D-07_F0002/001.jpeg\n",
      "127 127\n"
     ]
    },
    {
     "name": "stderr",
     "output_type": "stream",
     "text": [
      "frame loading (JPEG): 100%|██████████| 14/14 [00:00<00:00, 72.35it/s]\n",
      "propagate in video: 100%|██████████| 14/14 [00:19<00:00,  1.43s/it]\n"
     ]
    },
    {
     "name": "stdout",
     "output_type": "stream",
     "text": [
      "D-04_F0002: /home/lippincm/Documents/live_cell_timelapse_apoptosis/3b.run_sam/sam2_processing_dir/tiny_model_15x_factor/pngs/D-04_F0002/001.jpeg\n",
      "127 127\n"
     ]
    },
    {
     "name": "stderr",
     "output_type": "stream",
     "text": [
      "frame loading (JPEG): 100%|██████████| 14/14 [00:00<00:00, 75.36it/s]\n",
      "propagate in video: 100%|██████████| 14/14 [00:12<00:00,  1.15it/s]\n"
     ]
    },
    {
     "name": "stdout",
     "output_type": "stream",
     "text": [
      "E-05_F0002: /home/lippincm/Documents/live_cell_timelapse_apoptosis/3b.run_sam/sam2_processing_dir/tiny_model_15x_factor/pngs/E-05_F0002/001.jpeg\n",
      "127 127\n"
     ]
    },
    {
     "name": "stderr",
     "output_type": "stream",
     "text": [
      "frame loading (JPEG): 100%|██████████| 14/14 [00:00<00:00, 69.71it/s]\n",
      "propagate in video: 100%|██████████| 14/14 [00:26<00:00,  1.89s/it]\n"
     ]
    },
    {
     "name": "stdout",
     "output_type": "stream",
     "text": [
      "D-10_F0006: /home/lippincm/Documents/live_cell_timelapse_apoptosis/3b.run_sam/sam2_processing_dir/tiny_model_15x_factor/pngs/D-10_F0006/001.jpeg\n",
      "127 127\n"
     ]
    },
    {
     "name": "stderr",
     "output_type": "stream",
     "text": [
      "frame loading (JPEG): 100%|██████████| 1/1 [00:00<00:00, 64.06it/s]\n",
      "propagate in video: 100%|██████████| 1/1 [00:00<00:00, 64.49it/s]\n"
     ]
    },
    {
     "name": "stdout",
     "output_type": "stream",
     "text": [
      "C-08_F0003: /home/lippincm/Documents/live_cell_timelapse_apoptosis/3b.run_sam/sam2_processing_dir/tiny_model_15x_factor/pngs/C-08_F0003/001.jpeg\n",
      "127 127\n"
     ]
    },
    {
     "name": "stderr",
     "output_type": "stream",
     "text": [
      "frame loading (JPEG): 100%|██████████| 14/14 [00:00<00:00, 71.89it/s]\n",
      "propagate in video: 100%|██████████| 14/14 [00:29<00:00,  2.13s/it]\n"
     ]
    },
    {
     "name": "stdout",
     "output_type": "stream",
     "text": [
      "E-02_F0001: /home/lippincm/Documents/live_cell_timelapse_apoptosis/3b.run_sam/sam2_processing_dir/tiny_model_15x_factor/pngs/E-02_F0001/001.jpeg\n",
      "127 127\n"
     ]
    },
    {
     "name": "stderr",
     "output_type": "stream",
     "text": [
      "frame loading (JPEG): 100%|██████████| 14/14 [00:00<00:00, 78.39it/s]\n",
      "propagate in video: 100%|██████████| 14/14 [00:25<00:00,  1.82s/it]\n"
     ]
    },
    {
     "name": "stdout",
     "output_type": "stream",
     "text": [
      "D-07_F0006: /home/lippincm/Documents/live_cell_timelapse_apoptosis/3b.run_sam/sam2_processing_dir/tiny_model_15x_factor/pngs/D-07_F0006/001.jpeg\n",
      "127 127\n"
     ]
    },
    {
     "name": "stderr",
     "output_type": "stream",
     "text": [
      "frame loading (JPEG): 100%|██████████| 1/1 [00:00<00:00, 66.83it/s]\n",
      "propagate in video: 100%|██████████| 1/1 [00:00<00:00, 27.44it/s]\n"
     ]
    },
    {
     "name": "stdout",
     "output_type": "stream",
     "text": [
      "E-11_F0003: /home/lippincm/Documents/live_cell_timelapse_apoptosis/3b.run_sam/sam2_processing_dir/tiny_model_15x_factor/pngs/E-11_F0003/001.jpeg\n",
      "127 127\n"
     ]
    },
    {
     "name": "stderr",
     "output_type": "stream",
     "text": [
      "frame loading (JPEG): 100%|██████████| 14/14 [00:00<00:00, 83.11it/s]\n",
      "propagate in video: 100%|██████████| 14/14 [00:26<00:00,  1.88s/it]\n"
     ]
    },
    {
     "name": "stdout",
     "output_type": "stream",
     "text": [
      "D-03_F0006: /home/lippincm/Documents/live_cell_timelapse_apoptosis/3b.run_sam/sam2_processing_dir/tiny_model_15x_factor/pngs/D-03_F0006/001.jpeg\n",
      "127 127\n"
     ]
    },
    {
     "name": "stderr",
     "output_type": "stream",
     "text": [
      "frame loading (JPEG): 100%|██████████| 1/1 [00:00<00:00, 66.25it/s]\n",
      "propagate in video: 100%|██████████| 1/1 [00:00<00:00, 22.69it/s]\n"
     ]
    },
    {
     "name": "stdout",
     "output_type": "stream",
     "text": [
      "E-06_F0005: /home/lippincm/Documents/live_cell_timelapse_apoptosis/3b.run_sam/sam2_processing_dir/tiny_model_15x_factor/pngs/E-06_F0005/001.jpeg\n",
      "127 127\n"
     ]
    },
    {
     "name": "stderr",
     "output_type": "stream",
     "text": [
      "frame loading (JPEG): 100%|██████████| 1/1 [00:00<00:00, 68.60it/s]\n",
      "propagate in video: 100%|██████████| 1/1 [00:00<00:00, 72.50it/s]\n"
     ]
    },
    {
     "name": "stdout",
     "output_type": "stream",
     "text": [
      "C-07_F0005: /home/lippincm/Documents/live_cell_timelapse_apoptosis/3b.run_sam/sam2_processing_dir/tiny_model_15x_factor/pngs/C-07_F0005/001.jpeg\n",
      "127 127\n"
     ]
    },
    {
     "name": "stderr",
     "output_type": "stream",
     "text": [
      "frame loading (JPEG): 100%|██████████| 1/1 [00:00<00:00, 70.21it/s]\n",
      "propagate in video: 100%|██████████| 1/1 [00:00<00:00, 21.71it/s]\n"
     ]
    },
    {
     "name": "stdout",
     "output_type": "stream",
     "text": [
      "D-05_F0003: /home/lippincm/Documents/live_cell_timelapse_apoptosis/3b.run_sam/sam2_processing_dir/tiny_model_15x_factor/pngs/D-05_F0003/001.jpeg\n",
      "127 127\n"
     ]
    },
    {
     "name": "stderr",
     "output_type": "stream",
     "text": [
      "frame loading (JPEG): 100%|██████████| 14/14 [00:00<00:00, 79.77it/s]\n",
      "propagate in video: 100%|██████████| 14/14 [00:21<00:00,  1.56s/it]\n"
     ]
    },
    {
     "name": "stdout",
     "output_type": "stream",
     "text": [
      "E-09_F0006: /home/lippincm/Documents/live_cell_timelapse_apoptosis/3b.run_sam/sam2_processing_dir/tiny_model_15x_factor/pngs/E-09_F0006/001.jpeg\n",
      "127 127\n"
     ]
    },
    {
     "name": "stderr",
     "output_type": "stream",
     "text": [
      "frame loading (JPEG): 100%|██████████| 1/1 [00:00<00:00, 61.81it/s]\n",
      "propagate in video: 100%|██████████| 1/1 [00:00<00:00, 35.67it/s]\n"
     ]
    },
    {
     "name": "stdout",
     "output_type": "stream",
     "text": [
      "C-05_F0006: /home/lippincm/Documents/live_cell_timelapse_apoptosis/3b.run_sam/sam2_processing_dir/tiny_model_15x_factor/pngs/C-05_F0006/001.jpeg\n",
      "127 127\n"
     ]
    },
    {
     "name": "stderr",
     "output_type": "stream",
     "text": [
      "frame loading (JPEG): 100%|██████████| 1/1 [00:00<00:00, 54.92it/s]\n",
      "propagate in video: 100%|██████████| 1/1 [00:00<00:00, 147.90it/s]\n"
     ]
    },
    {
     "name": "stdout",
     "output_type": "stream",
     "text": [
      "E-08_F0001: /home/lippincm/Documents/live_cell_timelapse_apoptosis/3b.run_sam/sam2_processing_dir/tiny_model_15x_factor/pngs/E-08_F0001/001.jpeg\n",
      "127 127\n"
     ]
    },
    {
     "name": "stderr",
     "output_type": "stream",
     "text": [
      "frame loading (JPEG): 100%|██████████| 14/14 [00:00<00:00, 76.37it/s]\n",
      "propagate in video: 100%|██████████| 14/14 [00:26<00:00,  1.91s/it]\n"
     ]
    },
    {
     "name": "stdout",
     "output_type": "stream",
     "text": [
      "C-03_F0006: /home/lippincm/Documents/live_cell_timelapse_apoptosis/3b.run_sam/sam2_processing_dir/tiny_model_15x_factor/pngs/C-03_F0006/001.jpeg\n",
      "127 127\n"
     ]
    },
    {
     "name": "stderr",
     "output_type": "stream",
     "text": [
      "frame loading (JPEG): 100%|██████████| 1/1 [00:00<00:00, 66.79it/s]\n",
      "propagate in video: 100%|██████████| 1/1 [00:00<00:00, 48.78it/s]\n"
     ]
    },
    {
     "name": "stdout",
     "output_type": "stream",
     "text": [
      "D-09_F0002: /home/lippincm/Documents/live_cell_timelapse_apoptosis/3b.run_sam/sam2_processing_dir/tiny_model_15x_factor/pngs/D-09_F0002/001.jpeg\n",
      "127 127\n"
     ]
    },
    {
     "name": "stderr",
     "output_type": "stream",
     "text": [
      "frame loading (JPEG): 100%|██████████| 14/14 [00:00<00:00, 81.79it/s]\n",
      "propagate in video: 100%|██████████| 14/14 [00:13<00:00,  1.01it/s]\n"
     ]
    },
    {
     "name": "stdout",
     "output_type": "stream",
     "text": [
      "E-07_F0003: /home/lippincm/Documents/live_cell_timelapse_apoptosis/3b.run_sam/sam2_processing_dir/tiny_model_15x_factor/pngs/E-07_F0003/001.jpeg\n",
      "127 127\n"
     ]
    },
    {
     "name": "stderr",
     "output_type": "stream",
     "text": [
      "frame loading (JPEG): 100%|██████████| 14/14 [00:00<00:00, 80.16it/s]\n",
      "propagate in video: 100%|██████████| 14/14 [00:14<00:00,  1.03s/it]\n"
     ]
    },
    {
     "name": "stdout",
     "output_type": "stream",
     "text": [
      "C-03_F0002: /home/lippincm/Documents/live_cell_timelapse_apoptosis/3b.run_sam/sam2_processing_dir/tiny_model_15x_factor/pngs/C-03_F0002/001.jpeg\n",
      "127 127\n"
     ]
    },
    {
     "name": "stderr",
     "output_type": "stream",
     "text": [
      "frame loading (JPEG): 100%|██████████| 14/14 [00:00<00:00, 74.52it/s]\n",
      "propagate in video: 100%|██████████| 14/14 [00:17<00:00,  1.28s/it]\n"
     ]
    },
    {
     "name": "stdout",
     "output_type": "stream",
     "text": [
      "E-02_F0006: /home/lippincm/Documents/live_cell_timelapse_apoptosis/3b.run_sam/sam2_processing_dir/tiny_model_15x_factor/pngs/E-02_F0006/001.jpeg\n",
      "127 127\n"
     ]
    },
    {
     "name": "stderr",
     "output_type": "stream",
     "text": [
      "frame loading (JPEG): 100%|██████████| 1/1 [00:00<00:00, 56.93it/s]\n",
      "propagate in video: 100%|██████████| 1/1 [00:00<00:00, 19.78it/s]\n"
     ]
    },
    {
     "name": "stdout",
     "output_type": "stream",
     "text": [
      "C-04_F0002: /home/lippincm/Documents/live_cell_timelapse_apoptosis/3b.run_sam/sam2_processing_dir/tiny_model_15x_factor/pngs/C-04_F0002/001.jpeg\n",
      "127 127\n"
     ]
    },
    {
     "name": "stderr",
     "output_type": "stream",
     "text": [
      "frame loading (JPEG): 100%|██████████| 14/14 [00:00<00:00, 76.23it/s]\n",
      "propagate in video: 100%|██████████| 14/14 [00:34<00:00,  2.44s/it]\n"
     ]
    },
    {
     "name": "stdout",
     "output_type": "stream",
     "text": [
      "C-09_F0005: /home/lippincm/Documents/live_cell_timelapse_apoptosis/3b.run_sam/sam2_processing_dir/tiny_model_15x_factor/pngs/C-09_F0005/001.jpeg\n",
      "127 127\n"
     ]
    },
    {
     "name": "stderr",
     "output_type": "stream",
     "text": [
      "frame loading (JPEG): 100%|██████████| 1/1 [00:00<00:00, 62.27it/s]\n",
      "propagate in video: 100%|██████████| 1/1 [00:00<00:00, 38.52it/s]\n"
     ]
    },
    {
     "name": "stdout",
     "output_type": "stream",
     "text": [
      "C-08_F0002: /home/lippincm/Documents/live_cell_timelapse_apoptosis/3b.run_sam/sam2_processing_dir/tiny_model_15x_factor/pngs/C-08_F0002/001.jpeg\n",
      "127 127\n"
     ]
    },
    {
     "name": "stderr",
     "output_type": "stream",
     "text": [
      "frame loading (JPEG): 100%|██████████| 14/14 [00:00<00:00, 73.98it/s]\n",
      "propagate in video: 100%|██████████| 14/14 [00:27<00:00,  1.96s/it]\n"
     ]
    },
    {
     "name": "stdout",
     "output_type": "stream",
     "text": [
      "C-06_F0006: /home/lippincm/Documents/live_cell_timelapse_apoptosis/3b.run_sam/sam2_processing_dir/tiny_model_15x_factor/pngs/C-06_F0006/001.jpeg\n",
      "127 127\n"
     ]
    },
    {
     "name": "stderr",
     "output_type": "stream",
     "text": [
      "frame loading (JPEG): 100%|██████████| 1/1 [00:00<00:00, 67.69it/s]\n",
      "propagate in video: 100%|██████████| 1/1 [00:00<00:00, 27.45it/s]\n"
     ]
    },
    {
     "name": "stdout",
     "output_type": "stream",
     "text": [
      "E-05_F0005: /home/lippincm/Documents/live_cell_timelapse_apoptosis/3b.run_sam/sam2_processing_dir/tiny_model_15x_factor/pngs/E-05_F0005/001.jpeg\n",
      "127 127\n"
     ]
    },
    {
     "name": "stderr",
     "output_type": "stream",
     "text": [
      "frame loading (JPEG): 100%|██████████| 1/1 [00:00<00:00, 71.90it/s]\n",
      "propagate in video: 100%|██████████| 1/1 [00:00<00:00, 19.44it/s]\n"
     ]
    },
    {
     "name": "stdout",
     "output_type": "stream",
     "text": [
      "C-06_F0003: /home/lippincm/Documents/live_cell_timelapse_apoptosis/3b.run_sam/sam2_processing_dir/tiny_model_15x_factor/pngs/C-06_F0003/001.jpeg\n",
      "127 127\n"
     ]
    },
    {
     "name": "stderr",
     "output_type": "stream",
     "text": [
      "frame loading (JPEG): 100%|██████████| 14/14 [00:00<00:00, 80.20it/s]\n",
      "propagate in video: 100%|██████████| 14/14 [00:19<00:00,  1.39s/it]\n"
     ]
    },
    {
     "name": "stdout",
     "output_type": "stream",
     "text": [
      "E-07_F0006: /home/lippincm/Documents/live_cell_timelapse_apoptosis/3b.run_sam/sam2_processing_dir/tiny_model_15x_factor/pngs/E-07_F0006/001.jpeg\n",
      "127 127\n"
     ]
    },
    {
     "name": "stderr",
     "output_type": "stream",
     "text": [
      "frame loading (JPEG): 100%|██████████| 1/1 [00:00<00:00, 61.46it/s]\n",
      "propagate in video: 100%|██████████| 1/1 [00:00<00:00, 37.82it/s]\n"
     ]
    },
    {
     "name": "stdout",
     "output_type": "stream",
     "text": [
      "C-02_F0003: /home/lippincm/Documents/live_cell_timelapse_apoptosis/3b.run_sam/sam2_processing_dir/tiny_model_15x_factor/pngs/C-02_F0003/001.jpeg\n",
      "127 127\n"
     ]
    },
    {
     "name": "stderr",
     "output_type": "stream",
     "text": [
      "frame loading (JPEG): 100%|██████████| 14/14 [00:00<00:00, 75.88it/s]\n",
      "propagate in video: 100%|██████████| 14/14 [00:12<00:00,  1.09it/s]\n"
     ]
    },
    {
     "name": "stdout",
     "output_type": "stream",
     "text": [
      "C-07_F0001: /home/lippincm/Documents/live_cell_timelapse_apoptosis/3b.run_sam/sam2_processing_dir/tiny_model_15x_factor/pngs/C-07_F0001/001.jpeg\n",
      "127 127\n"
     ]
    },
    {
     "name": "stderr",
     "output_type": "stream",
     "text": [
      "frame loading (JPEG): 100%|██████████| 14/14 [00:00<00:00, 80.79it/s]\n",
      "propagate in video: 100%|██████████| 14/14 [00:17<00:00,  1.22s/it]\n"
     ]
    },
    {
     "name": "stdout",
     "output_type": "stream",
     "text": [
      "C-05_F0001: /home/lippincm/Documents/live_cell_timelapse_apoptosis/3b.run_sam/sam2_processing_dir/tiny_model_15x_factor/pngs/C-05_F0001/001.jpeg\n",
      "127 127\n"
     ]
    },
    {
     "name": "stderr",
     "output_type": "stream",
     "text": [
      "frame loading (JPEG): 100%|██████████| 14/14 [00:00<00:00, 73.90it/s]\n",
      "propagate in video: 100%|██████████| 14/14 [00:26<00:00,  1.89s/it]\n"
     ]
    },
    {
     "name": "stdout",
     "output_type": "stream",
     "text": [
      "E-06_F0004: /home/lippincm/Documents/live_cell_timelapse_apoptosis/3b.run_sam/sam2_processing_dir/tiny_model_15x_factor/pngs/E-06_F0004/001.jpeg\n",
      "127 127\n"
     ]
    },
    {
     "name": "stderr",
     "output_type": "stream",
     "text": [
      "frame loading (JPEG): 100%|██████████| 14/14 [00:00<00:00, 77.83it/s]\n",
      "propagate in video: 100%|██████████| 14/14 [00:24<00:00,  1.74s/it]\n"
     ]
    },
    {
     "name": "stdout",
     "output_type": "stream",
     "text": [
      "C-09_F0002: /home/lippincm/Documents/live_cell_timelapse_apoptosis/3b.run_sam/sam2_processing_dir/tiny_model_15x_factor/pngs/C-09_F0002/001.jpeg\n",
      "127 127\n"
     ]
    },
    {
     "name": "stderr",
     "output_type": "stream",
     "text": [
      "frame loading (JPEG): 100%|██████████| 14/14 [00:00<00:00, 71.32it/s]\n",
      "propagate in video: 100%|██████████| 14/14 [00:25<00:00,  1.80s/it]\n"
     ]
    },
    {
     "name": "stdout",
     "output_type": "stream",
     "text": [
      "E-04_F0003: /home/lippincm/Documents/live_cell_timelapse_apoptosis/3b.run_sam/sam2_processing_dir/tiny_model_15x_factor/pngs/E-04_F0003/001.jpeg\n",
      "127 127\n"
     ]
    },
    {
     "name": "stderr",
     "output_type": "stream",
     "text": [
      "frame loading (JPEG): 100%|██████████| 14/14 [00:00<00:00, 70.88it/s]\n",
      "propagate in video: 100%|██████████| 14/14 [00:35<00:00,  2.52s/it]\n"
     ]
    },
    {
     "name": "stdout",
     "output_type": "stream",
     "text": [
      "D-11_F0005: /home/lippincm/Documents/live_cell_timelapse_apoptosis/3b.run_sam/sam2_processing_dir/tiny_model_15x_factor/pngs/D-11_F0005/001.jpeg\n",
      "127 127\n"
     ]
    },
    {
     "name": "stderr",
     "output_type": "stream",
     "text": [
      "frame loading (JPEG): 100%|██████████| 1/1 [00:00<00:00, 61.83it/s]\n",
      "propagate in video: 100%|██████████| 1/1 [00:00<00:00, 1606.40it/s]\n"
     ]
    },
    {
     "name": "stdout",
     "output_type": "stream",
     "text": [
      "C-02_F0004: /home/lippincm/Documents/live_cell_timelapse_apoptosis/3b.run_sam/sam2_processing_dir/tiny_model_15x_factor/pngs/C-02_F0004/001.jpeg\n",
      "127 127\n"
     ]
    },
    {
     "name": "stderr",
     "output_type": "stream",
     "text": [
      "frame loading (JPEG): 100%|██████████| 14/14 [00:00<00:00, 70.77it/s]\n",
      "propagate in video: 100%|██████████| 14/14 [00:31<00:00,  2.24s/it]\n"
     ]
    },
    {
     "name": "stdout",
     "output_type": "stream",
     "text": [
      "D-10_F0004: /home/lippincm/Documents/live_cell_timelapse_apoptosis/3b.run_sam/sam2_processing_dir/tiny_model_15x_factor/pngs/D-10_F0004/001.jpeg\n",
      "127 127\n"
     ]
    },
    {
     "name": "stderr",
     "output_type": "stream",
     "text": [
      "frame loading (JPEG): 100%|██████████| 14/14 [00:00<00:00, 71.74it/s]\n",
      "propagate in video: 100%|██████████| 14/14 [00:22<00:00,  1.57s/it]\n"
     ]
    },
    {
     "name": "stdout",
     "output_type": "stream",
     "text": [
      "E-06_F0006: /home/lippincm/Documents/live_cell_timelapse_apoptosis/3b.run_sam/sam2_processing_dir/tiny_model_15x_factor/pngs/E-06_F0006/001.jpeg\n",
      "127 127\n"
     ]
    },
    {
     "name": "stderr",
     "output_type": "stream",
     "text": [
      "frame loading (JPEG): 100%|██████████| 1/1 [00:00<00:00, 59.04it/s]\n",
      "propagate in video: 100%|██████████| 1/1 [00:00<00:00, 36.70it/s]\n"
     ]
    },
    {
     "name": "stdout",
     "output_type": "stream",
     "text": [
      "C-08_F0001: /home/lippincm/Documents/live_cell_timelapse_apoptosis/3b.run_sam/sam2_processing_dir/tiny_model_15x_factor/pngs/C-08_F0001/001.jpeg\n",
      "127 127\n"
     ]
    },
    {
     "name": "stderr",
     "output_type": "stream",
     "text": [
      "frame loading (JPEG): 100%|██████████| 14/14 [00:00<00:00, 72.14it/s]\n",
      "propagate in video: 100%|██████████| 14/14 [00:29<00:00,  2.08s/it]\n"
     ]
    },
    {
     "name": "stdout",
     "output_type": "stream",
     "text": [
      "C-10_F0002: /home/lippincm/Documents/live_cell_timelapse_apoptosis/3b.run_sam/sam2_processing_dir/tiny_model_15x_factor/pngs/C-10_F0002/001.jpeg\n",
      "127 127\n"
     ]
    },
    {
     "name": "stderr",
     "output_type": "stream",
     "text": [
      "frame loading (JPEG): 100%|██████████| 14/14 [00:00<00:00, 71.17it/s]\n",
      "propagate in video: 100%|██████████| 14/14 [00:19<00:00,  1.36s/it]\n"
     ]
    },
    {
     "name": "stdout",
     "output_type": "stream",
     "text": [
      "E-10_F0002: /home/lippincm/Documents/live_cell_timelapse_apoptosis/3b.run_sam/sam2_processing_dir/tiny_model_15x_factor/pngs/E-10_F0002/001.jpeg\n",
      "127 127\n"
     ]
    },
    {
     "name": "stderr",
     "output_type": "stream",
     "text": [
      "frame loading (JPEG): 100%|██████████| 14/14 [00:00<00:00, 71.69it/s]\n",
      "propagate in video: 100%|██████████| 14/14 [00:24<00:00,  1.75s/it]\n"
     ]
    },
    {
     "name": "stdout",
     "output_type": "stream",
     "text": [
      "D-02_F0001: /home/lippincm/Documents/live_cell_timelapse_apoptosis/3b.run_sam/sam2_processing_dir/tiny_model_15x_factor/pngs/D-02_F0001/001.jpeg\n",
      "127 127\n"
     ]
    },
    {
     "name": "stderr",
     "output_type": "stream",
     "text": [
      "frame loading (JPEG): 100%|██████████| 14/14 [00:00<00:00, 74.09it/s]\n",
      "propagate in video: 100%|██████████| 14/14 [00:18<00:00,  1.31s/it]\n"
     ]
    },
    {
     "name": "stdout",
     "output_type": "stream",
     "text": [
      "D-03_F0001: /home/lippincm/Documents/live_cell_timelapse_apoptosis/3b.run_sam/sam2_processing_dir/tiny_model_15x_factor/pngs/D-03_F0001/001.jpeg\n",
      "127 127\n"
     ]
    },
    {
     "name": "stderr",
     "output_type": "stream",
     "text": [
      "frame loading (JPEG): 100%|██████████| 14/14 [00:00<00:00, 80.26it/s]\n",
      "propagate in video: 100%|██████████| 14/14 [00:20<00:00,  1.47s/it]\n"
     ]
    },
    {
     "name": "stdout",
     "output_type": "stream",
     "text": [
      "E-02_F0005: /home/lippincm/Documents/live_cell_timelapse_apoptosis/3b.run_sam/sam2_processing_dir/tiny_model_15x_factor/pngs/E-02_F0005/001.jpeg\n",
      "127 127\n"
     ]
    },
    {
     "name": "stderr",
     "output_type": "stream",
     "text": [
      "frame loading (JPEG): 100%|██████████| 1/1 [00:00<00:00, 60.41it/s]\n",
      "propagate in video: 100%|██████████| 1/1 [00:00<00:00, 13.79it/s]\n"
     ]
    },
    {
     "name": "stdout",
     "output_type": "stream",
     "text": [
      "E-11_F0005: /home/lippincm/Documents/live_cell_timelapse_apoptosis/3b.run_sam/sam2_processing_dir/tiny_model_15x_factor/pngs/E-11_F0005/001.jpeg\n",
      "127 127\n"
     ]
    },
    {
     "name": "stderr",
     "output_type": "stream",
     "text": [
      "frame loading (JPEG): 100%|██████████| 1/1 [00:00<00:00, 65.85it/s]\n",
      "propagate in video: 100%|██████████| 1/1 [00:00<00:00, 48.14it/s]\n"
     ]
    },
    {
     "name": "stdout",
     "output_type": "stream",
     "text": [
      "C-05_F0005: /home/lippincm/Documents/live_cell_timelapse_apoptosis/3b.run_sam/sam2_processing_dir/tiny_model_15x_factor/pngs/C-05_F0005/001.jpeg\n",
      "127 127\n"
     ]
    },
    {
     "name": "stderr",
     "output_type": "stream",
     "text": [
      "frame loading (JPEG): 100%|██████████| 1/1 [00:00<00:00, 67.68it/s]\n",
      "propagate in video: 100%|██████████| 1/1 [00:00<00:00, 45.96it/s]\n"
     ]
    },
    {
     "name": "stdout",
     "output_type": "stream",
     "text": [
      "E-11_F0004: /home/lippincm/Documents/live_cell_timelapse_apoptosis/3b.run_sam/sam2_processing_dir/tiny_model_15x_factor/pngs/E-11_F0004/001.jpeg\n",
      "127 127\n"
     ]
    },
    {
     "name": "stderr",
     "output_type": "stream",
     "text": [
      "frame loading (JPEG): 100%|██████████| 14/14 [00:00<00:00, 73.44it/s]\n",
      "propagate in video: 100%|██████████| 14/14 [00:10<00:00,  1.32it/s]\n"
     ]
    },
    {
     "name": "stdout",
     "output_type": "stream",
     "text": [
      "C-11_F0006: /home/lippincm/Documents/live_cell_timelapse_apoptosis/3b.run_sam/sam2_processing_dir/tiny_model_15x_factor/pngs/C-11_F0006/001.jpeg\n",
      "127 127\n"
     ]
    },
    {
     "name": "stderr",
     "output_type": "stream",
     "text": [
      "frame loading (JPEG): 100%|██████████| 1/1 [00:00<00:00, 59.57it/s]\n",
      "propagate in video: 100%|██████████| 1/1 [00:00<00:00, 150.52it/s]\n"
     ]
    },
    {
     "name": "stdout",
     "output_type": "stream",
     "text": [
      "E-10_F0001: /home/lippincm/Documents/live_cell_timelapse_apoptosis/3b.run_sam/sam2_processing_dir/tiny_model_15x_factor/pngs/E-10_F0001/001.jpeg\n",
      "127 127\n"
     ]
    },
    {
     "name": "stderr",
     "output_type": "stream",
     "text": [
      "frame loading (JPEG): 100%|██████████| 14/14 [00:00<00:00, 70.88it/s]\n",
      "propagate in video: 100%|██████████| 14/14 [00:23<00:00,  1.69s/it]\n"
     ]
    },
    {
     "name": "stdout",
     "output_type": "stream",
     "text": [
      "C-07_F0006: /home/lippincm/Documents/live_cell_timelapse_apoptosis/3b.run_sam/sam2_processing_dir/tiny_model_15x_factor/pngs/C-07_F0006/001.jpeg\n",
      "127 127\n"
     ]
    },
    {
     "name": "stderr",
     "output_type": "stream",
     "text": [
      "frame loading (JPEG): 100%|██████████| 1/1 [00:00<00:00, 60.26it/s]\n",
      "propagate in video: 100%|██████████| 1/1 [00:00<00:00, 107.14it/s]\n"
     ]
    },
    {
     "name": "stdout",
     "output_type": "stream",
     "text": [
      "D-11_F0003: /home/lippincm/Documents/live_cell_timelapse_apoptosis/3b.run_sam/sam2_processing_dir/tiny_model_15x_factor/pngs/D-11_F0003/001.jpeg\n",
      "127 127\n"
     ]
    },
    {
     "name": "stderr",
     "output_type": "stream",
     "text": [
      "frame loading (JPEG): 100%|██████████| 14/14 [00:00<00:00, 75.85it/s]\n",
      "propagate in video: 100%|██████████| 14/14 [00:24<00:00,  1.74s/it]\n"
     ]
    },
    {
     "name": "stdout",
     "output_type": "stream",
     "text": [
      "E-02_F0002: /home/lippincm/Documents/live_cell_timelapse_apoptosis/3b.run_sam/sam2_processing_dir/tiny_model_15x_factor/pngs/E-02_F0002/001.jpeg\n",
      "127 127\n"
     ]
    },
    {
     "name": "stderr",
     "output_type": "stream",
     "text": [
      "frame loading (JPEG): 100%|██████████| 14/14 [00:00<00:00, 66.67it/s]\n",
      "propagate in video: 100%|██████████| 14/14 [00:29<00:00,  2.14s/it]\n"
     ]
    },
    {
     "name": "stdout",
     "output_type": "stream",
     "text": [
      "C-10_F0005: /home/lippincm/Documents/live_cell_timelapse_apoptosis/3b.run_sam/sam2_processing_dir/tiny_model_15x_factor/pngs/C-10_F0005/001.jpeg\n",
      "127 127\n"
     ]
    },
    {
     "name": "stderr",
     "output_type": "stream",
     "text": [
      "frame loading (JPEG): 100%|██████████| 1/1 [00:00<00:00, 61.25it/s]\n",
      "propagate in video: 100%|██████████| 1/1 [00:00<00:00, 57.39it/s]\n"
     ]
    },
    {
     "name": "stdout",
     "output_type": "stream",
     "text": [
      "D-10_F0002: /home/lippincm/Documents/live_cell_timelapse_apoptosis/3b.run_sam/sam2_processing_dir/tiny_model_15x_factor/pngs/D-10_F0002/001.jpeg\n",
      "127 127\n"
     ]
    },
    {
     "name": "stderr",
     "output_type": "stream",
     "text": [
      "frame loading (JPEG): 100%|██████████| 14/14 [00:00<00:00, 68.22it/s]\n",
      "propagate in video: 100%|██████████| 14/14 [00:23<00:00,  1.69s/it]\n"
     ]
    },
    {
     "name": "stdout",
     "output_type": "stream",
     "text": [
      "C-08_F0004: /home/lippincm/Documents/live_cell_timelapse_apoptosis/3b.run_sam/sam2_processing_dir/tiny_model_15x_factor/pngs/C-08_F0004/001.jpeg\n",
      "127 127\n"
     ]
    },
    {
     "name": "stderr",
     "output_type": "stream",
     "text": [
      "frame loading (JPEG): 100%|██████████| 14/14 [00:00<00:00, 74.76it/s]\n",
      "propagate in video: 100%|██████████| 14/14 [00:15<00:00,  1.12s/it]\n"
     ]
    },
    {
     "name": "stdout",
     "output_type": "stream",
     "text": [
      "C-03_F0004: /home/lippincm/Documents/live_cell_timelapse_apoptosis/3b.run_sam/sam2_processing_dir/tiny_model_15x_factor/pngs/C-03_F0004/001.jpeg\n",
      "127 127\n"
     ]
    },
    {
     "name": "stderr",
     "output_type": "stream",
     "text": [
      "frame loading (JPEG): 100%|██████████| 14/14 [00:00<00:00, 71.67it/s]\n",
      "propagate in video: 100%|██████████| 14/14 [00:24<00:00,  1.77s/it]\n"
     ]
    },
    {
     "name": "stdout",
     "output_type": "stream",
     "text": [
      "D-02_F0006: /home/lippincm/Documents/live_cell_timelapse_apoptosis/3b.run_sam/sam2_processing_dir/tiny_model_15x_factor/pngs/D-02_F0006/001.jpeg\n",
      "127 127\n"
     ]
    },
    {
     "name": "stderr",
     "output_type": "stream",
     "text": [
      "frame loading (JPEG): 100%|██████████| 1/1 [00:00<00:00, 61.49it/s]\n",
      "propagate in video: 100%|██████████| 1/1 [00:00<00:00, 20.54it/s]\n"
     ]
    },
    {
     "name": "stdout",
     "output_type": "stream",
     "text": [
      "D-07_F0005: /home/lippincm/Documents/live_cell_timelapse_apoptosis/3b.run_sam/sam2_processing_dir/tiny_model_15x_factor/pngs/D-07_F0005/001.jpeg\n",
      "127 127\n"
     ]
    },
    {
     "name": "stderr",
     "output_type": "stream",
     "text": [
      "frame loading (JPEG): 100%|██████████| 1/1 [00:00<00:00, 75.08it/s]\n",
      "propagate in video: 100%|██████████| 1/1 [00:00<00:00, 27.97it/s]\n"
     ]
    },
    {
     "name": "stdout",
     "output_type": "stream",
     "text": [
      "C-04_F0004: /home/lippincm/Documents/live_cell_timelapse_apoptosis/3b.run_sam/sam2_processing_dir/tiny_model_15x_factor/pngs/C-04_F0004/001.jpeg\n",
      "127 127\n"
     ]
    },
    {
     "name": "stderr",
     "output_type": "stream",
     "text": [
      "frame loading (JPEG): 100%|██████████| 14/14 [00:00<00:00, 76.04it/s]\n",
      "propagate in video: 100%|██████████| 14/14 [00:27<00:00,  1.95s/it]\n"
     ]
    },
    {
     "name": "stdout",
     "output_type": "stream",
     "text": [
      "D-02_F0003: /home/lippincm/Documents/live_cell_timelapse_apoptosis/3b.run_sam/sam2_processing_dir/tiny_model_15x_factor/pngs/D-02_F0003/001.jpeg\n",
      "127 127\n"
     ]
    },
    {
     "name": "stderr",
     "output_type": "stream",
     "text": [
      "frame loading (JPEG): 100%|██████████| 14/14 [00:00<00:00, 75.02it/s]\n",
      "propagate in video: 100%|██████████| 14/14 [00:21<00:00,  1.51s/it]\n"
     ]
    },
    {
     "name": "stdout",
     "output_type": "stream",
     "text": [
      "E-03_F0004: /home/lippincm/Documents/live_cell_timelapse_apoptosis/3b.run_sam/sam2_processing_dir/tiny_model_15x_factor/pngs/E-03_F0004/001.jpeg\n",
      "127 127\n"
     ]
    },
    {
     "name": "stderr",
     "output_type": "stream",
     "text": [
      "frame loading (JPEG): 100%|██████████| 14/14 [00:00<00:00, 75.07it/s]\n",
      "propagate in video: 100%|██████████| 14/14 [00:22<00:00,  1.61s/it]\n"
     ]
    },
    {
     "name": "stdout",
     "output_type": "stream",
     "text": [
      "C-06_F0004: /home/lippincm/Documents/live_cell_timelapse_apoptosis/3b.run_sam/sam2_processing_dir/tiny_model_15x_factor/pngs/C-06_F0004/001.jpeg\n",
      "127 127\n"
     ]
    },
    {
     "name": "stderr",
     "output_type": "stream",
     "text": [
      "frame loading (JPEG): 100%|██████████| 14/14 [00:00<00:00, 77.33it/s]\n",
      "propagate in video: 100%|██████████| 14/14 [00:23<00:00,  1.66s/it]\n"
     ]
    },
    {
     "name": "stdout",
     "output_type": "stream",
     "text": [
      "E-08_F0006: /home/lippincm/Documents/live_cell_timelapse_apoptosis/3b.run_sam/sam2_processing_dir/tiny_model_15x_factor/pngs/E-08_F0006/001.jpeg\n",
      "127 127\n"
     ]
    },
    {
     "name": "stderr",
     "output_type": "stream",
     "text": [
      "frame loading (JPEG): 100%|██████████| 1/1 [00:00<00:00, 64.05it/s]\n",
      "propagate in video: 100%|██████████| 1/1 [00:00<00:00, 26.70it/s]\n"
     ]
    },
    {
     "name": "stdout",
     "output_type": "stream",
     "text": [
      "D-04_F0005: /home/lippincm/Documents/live_cell_timelapse_apoptosis/3b.run_sam/sam2_processing_dir/tiny_model_15x_factor/pngs/D-04_F0005/001.jpeg\n",
      "127 127\n"
     ]
    },
    {
     "name": "stderr",
     "output_type": "stream",
     "text": [
      "frame loading (JPEG): 100%|██████████| 1/1 [00:00<00:00, 67.57it/s]\n",
      "propagate in video: 100%|██████████| 1/1 [00:00<00:00, 102.88it/s]\n"
     ]
    },
    {
     "name": "stdout",
     "output_type": "stream",
     "text": [
      "C-11_F0002: /home/lippincm/Documents/live_cell_timelapse_apoptosis/3b.run_sam/sam2_processing_dir/tiny_model_15x_factor/pngs/C-11_F0002/001.jpeg\n",
      "127 127\n"
     ]
    },
    {
     "name": "stderr",
     "output_type": "stream",
     "text": [
      "frame loading (JPEG): 100%|██████████| 14/14 [00:00<00:00, 75.49it/s]\n",
      "propagate in video: 100%|██████████| 14/14 [00:22<00:00,  1.61s/it]\n"
     ]
    },
    {
     "name": "stdout",
     "output_type": "stream",
     "text": [
      "E-03_F0002: /home/lippincm/Documents/live_cell_timelapse_apoptosis/3b.run_sam/sam2_processing_dir/tiny_model_15x_factor/pngs/E-03_F0002/001.jpeg\n",
      "127 127\n"
     ]
    },
    {
     "name": "stderr",
     "output_type": "stream",
     "text": [
      "frame loading (JPEG): 100%|██████████| 14/14 [00:00<00:00, 78.75it/s]\n",
      "propagate in video: 100%|██████████| 14/14 [00:19<00:00,  1.41s/it]\n"
     ]
    },
    {
     "name": "stdout",
     "output_type": "stream",
     "text": [
      "D-03_F0005: /home/lippincm/Documents/live_cell_timelapse_apoptosis/3b.run_sam/sam2_processing_dir/tiny_model_15x_factor/pngs/D-03_F0005/001.jpeg\n",
      "127 127\n"
     ]
    },
    {
     "name": "stderr",
     "output_type": "stream",
     "text": [
      "frame loading (JPEG): 100%|██████████| 1/1 [00:00<00:00, 56.27it/s]\n",
      "propagate in video: 100%|██████████| 1/1 [00:00<00:00, 78.11it/s]\n"
     ]
    },
    {
     "name": "stdout",
     "output_type": "stream",
     "text": [
      "E-11_F0002: /home/lippincm/Documents/live_cell_timelapse_apoptosis/3b.run_sam/sam2_processing_dir/tiny_model_15x_factor/pngs/E-11_F0002/001.jpeg\n",
      "127 127\n"
     ]
    },
    {
     "name": "stderr",
     "output_type": "stream",
     "text": [
      "frame loading (JPEG): 100%|██████████| 14/14 [00:00<00:00, 76.34it/s]\n",
      "propagate in video: 100%|██████████| 14/14 [00:15<00:00,  1.10s/it]\n"
     ]
    },
    {
     "name": "stdout",
     "output_type": "stream",
     "text": [
      "D-04_F0001: /home/lippincm/Documents/live_cell_timelapse_apoptosis/3b.run_sam/sam2_processing_dir/tiny_model_15x_factor/pngs/D-04_F0001/001.jpeg\n",
      "127 127\n"
     ]
    },
    {
     "name": "stderr",
     "output_type": "stream",
     "text": [
      "frame loading (JPEG): 100%|██████████| 14/14 [00:00<00:00, 77.70it/s]\n",
      "propagate in video: 100%|██████████| 14/14 [00:14<00:00,  1.03s/it]\n"
     ]
    },
    {
     "name": "stdout",
     "output_type": "stream",
     "text": [
      "C-11_F0003: /home/lippincm/Documents/live_cell_timelapse_apoptosis/3b.run_sam/sam2_processing_dir/tiny_model_15x_factor/pngs/C-11_F0003/001.jpeg\n",
      "127 127\n"
     ]
    },
    {
     "name": "stderr",
     "output_type": "stream",
     "text": [
      "frame loading (JPEG): 100%|██████████| 14/14 [00:00<00:00, 77.94it/s]\n",
      "propagate in video: 100%|██████████| 14/14 [00:30<00:00,  2.19s/it]\n"
     ]
    },
    {
     "name": "stdout",
     "output_type": "stream",
     "text": [
      "D-08_F0004: /home/lippincm/Documents/live_cell_timelapse_apoptosis/3b.run_sam/sam2_processing_dir/tiny_model_15x_factor/pngs/D-08_F0004/001.jpeg\n",
      "127 127\n"
     ]
    },
    {
     "name": "stderr",
     "output_type": "stream",
     "text": [
      "frame loading (JPEG): 100%|██████████| 14/14 [00:00<00:00, 79.07it/s]\n",
      "propagate in video: 100%|██████████| 14/14 [00:13<00:00,  1.00it/s]\n"
     ]
    },
    {
     "name": "stdout",
     "output_type": "stream",
     "text": [
      "D-03_F0003: /home/lippincm/Documents/live_cell_timelapse_apoptosis/3b.run_sam/sam2_processing_dir/tiny_model_15x_factor/pngs/D-03_F0003/001.jpeg\n",
      "127 127\n"
     ]
    },
    {
     "name": "stderr",
     "output_type": "stream",
     "text": [
      "frame loading (JPEG): 100%|██████████| 14/14 [00:00<00:00, 81.83it/s]\n",
      "propagate in video: 100%|██████████| 14/14 [00:26<00:00,  1.93s/it]\n"
     ]
    },
    {
     "name": "stdout",
     "output_type": "stream",
     "text": [
      "D-08_F0003: /home/lippincm/Documents/live_cell_timelapse_apoptosis/3b.run_sam/sam2_processing_dir/tiny_model_15x_factor/pngs/D-08_F0003/001.jpeg\n",
      "127 127\n"
     ]
    },
    {
     "name": "stderr",
     "output_type": "stream",
     "text": [
      "frame loading (JPEG): 100%|██████████| 14/14 [00:00<00:00, 80.16it/s]\n",
      "propagate in video: 100%|██████████| 14/14 [00:21<00:00,  1.50s/it]\n"
     ]
    },
    {
     "name": "stdout",
     "output_type": "stream",
     "text": [
      "E-07_F0001: /home/lippincm/Documents/live_cell_timelapse_apoptosis/3b.run_sam/sam2_processing_dir/tiny_model_15x_factor/pngs/E-07_F0001/001.jpeg\n",
      "127 127\n"
     ]
    },
    {
     "name": "stderr",
     "output_type": "stream",
     "text": [
      "frame loading (JPEG): 100%|██████████| 14/14 [00:00<00:00, 77.45it/s]\n",
      "propagate in video: 100%|██████████| 14/14 [00:32<00:00,  2.31s/it]\n"
     ]
    },
    {
     "name": "stdout",
     "output_type": "stream",
     "text": [
      "C-02_F0006: /home/lippincm/Documents/live_cell_timelapse_apoptosis/3b.run_sam/sam2_processing_dir/tiny_model_15x_factor/pngs/C-02_F0006/001.jpeg\n",
      "127 127\n"
     ]
    },
    {
     "name": "stderr",
     "output_type": "stream",
     "text": [
      "frame loading (JPEG): 100%|██████████| 1/1 [00:00<00:00, 63.53it/s]\n",
      "propagate in video: 100%|██████████| 1/1 [00:00<00:00, 16.47it/s]\n"
     ]
    },
    {
     "name": "stdout",
     "output_type": "stream",
     "text": [
      "E-04_F0004: /home/lippincm/Documents/live_cell_timelapse_apoptosis/3b.run_sam/sam2_processing_dir/tiny_model_15x_factor/pngs/E-04_F0004/001.jpeg\n",
      "127 127\n"
     ]
    },
    {
     "name": "stderr",
     "output_type": "stream",
     "text": [
      "frame loading (JPEG): 100%|██████████| 14/14 [00:00<00:00, 77.55it/s]\n",
      "propagate in video: 100%|██████████| 14/14 [00:14<00:00,  1.03s/it]\n"
     ]
    },
    {
     "name": "stdout",
     "output_type": "stream",
     "text": [
      "C-10_F0001: /home/lippincm/Documents/live_cell_timelapse_apoptosis/3b.run_sam/sam2_processing_dir/tiny_model_15x_factor/pngs/C-10_F0001/001.jpeg\n",
      "127 127\n"
     ]
    },
    {
     "name": "stderr",
     "output_type": "stream",
     "text": [
      "frame loading (JPEG): 100%|██████████| 14/14 [00:00<00:00, 81.48it/s]\n",
      "propagate in video: 100%|██████████| 14/14 [00:12<00:00,  1.08it/s]\n"
     ]
    },
    {
     "name": "stdout",
     "output_type": "stream",
     "text": [
      "D-02_F0004: /home/lippincm/Documents/live_cell_timelapse_apoptosis/3b.run_sam/sam2_processing_dir/tiny_model_15x_factor/pngs/D-02_F0004/001.jpeg\n",
      "127 127\n"
     ]
    },
    {
     "name": "stderr",
     "output_type": "stream",
     "text": [
      "frame loading (JPEG): 100%|██████████| 14/14 [00:00<00:00, 81.41it/s]\n",
      "propagate in video: 100%|██████████| 14/14 [00:25<00:00,  1.85s/it]\n"
     ]
    }
   ],
   "source": [
    "# loop through each image set and predict the instances\n",
    "for i in range(len(image_set_dict[\"image_set_name\"])):\n",
    "    print(\n",
    "        f\"{image_set_dict['image_set_name'][i]}: {image_set_dict['image_set_first_frame'][i]}\"\n",
    "    )\n",
    "    frame_names = sorted(list(Path(image_set_dict[\"image_set_path\"][i]).glob(\"*.jpeg\")))\n",
    "    img = io.imread(frame_names[0])\n",
    "    h, w = img.shape\n",
    "    print(h, w)\n",
    "    # initialize the state\n",
    "    inference_state = predictor.init_state(\n",
    "        video_path=str(image_set_dict[\"image_set_path\"][i]),\n",
    "        offload_video_to_cpu=True,  # set to True if the video is too large to fit in GPU memory\n",
    "        offload_state_to_cpu=True,  # set to True if the state is too large to fit in GPU memory\n",
    "    )\n",
    "    predictor.reset_state(inference_state)\n",
    "    prompts = {}\n",
    "    ann_frame_idx = 0\n",
    "    ann_obj_idx = 1\n",
    "    samples = 1\n",
    "    negative_sampling = (\n",
    "        False  # set True to generate negative samples for better training\n",
    "    )\n",
    "    # loop through the points and add them to the state and get the masks\n",
    "    for _point, _label in zip(\n",
    "        image_set_dict[\"image_x_y_coords\"][i], image_set_dict[\"image_labels\"][i]\n",
    "    ):\n",
    "        _label = np.array([_label], dtype=np.int32)\n",
    "        _point = np.array([_point], dtype=np.float32)\n",
    "\n",
    "        if negative_sampling:\n",
    "            random_points, random_labels = generate_random_coords(\n",
    "                img=img, coords=_point, samples=samples\n",
    "            )\n",
    "            _point = np.concatenate([_point, random_points], axis=0)\n",
    "            _label = np.concatenate([_label, random_labels], axis=0)\n",
    "        # add the points to the state\n",
    "        _, out_obj_ids, out_mask_logits = predictor.add_new_points(\n",
    "            inference_state=inference_state,\n",
    "            frame_idx=ann_frame_idx,\n",
    "            obj_id=ann_obj_idx,\n",
    "            points=_point,\n",
    "            labels=_label,\n",
    "        )\n",
    "        # save the prompts\n",
    "        prompts[ann_obj_idx] = {\n",
    "            \"points\": _point,\n",
    "            \"labels\": _label,\n",
    "            \"out_obj_ids\": out_obj_ids[0],\n",
    "            \"out_mask_logits\": out_mask_logits[0].detach().cpu().numpy(),\n",
    "        }\n",
    "        # increment the object index for this frame\n",
    "        ann_obj_idx += 1\n",
    "\n",
    "    del prompts\n",
    "    del samples\n",
    "    # run propagation throughout the video and collect the results in a dict\n",
    "    video_segments = {}  # video_segments contains the per-frame segmentation results\n",
    "\n",
    "    for out_frame_idx, out_obj_ids, out_mask_logits in predictor.propagate_in_video(\n",
    "        inference_state\n",
    "    ):\n",
    "        video_segments[out_frame_idx] = {\n",
    "            out_obj_id: (out_mask_logits[i] > 0.0).cpu().numpy()\n",
    "            for i, out_obj_id in enumerate(range(1, ann_obj_idx))\n",
    "        }\n",
    "    stored_video_segments[image_set_dict[\"image_set_name\"][i]] = video_segments\n",
    "\n",
    "    # clear the memory\n",
    "    del inference_state\n",
    "\n",
    "    del out_mask_logits\n",
    "    del out_obj_ids\n",
    "    del out_frame_idx\n",
    "    torch.cuda.empty_cache()\n",
    "    gc.collect()"
   ]
  },
  {
   "cell_type": "markdown",
   "metadata": {},
   "source": [
    "### stop GPU profiling"
   ]
  },
  {
   "cell_type": "code",
   "execution_count": 20,
   "metadata": {},
   "outputs": [
    {
     "name": "stderr",
     "output_type": "stream",
     "text": [
      "INFO:__main__:Saving snapshot to local file: /home/lippincm/Documents/live_cell_timelapse_apoptosis/3b.run_sam/memory_snapshots/pine_Oct_10_14_36_09.pickle\n",
      "INFO:__main__:Stopping snapshot record_memory_history\n"
     ]
    }
   ],
   "source": [
    "# save the memory snapshot to a file\n",
    "export_memory_snapshot(\n",
    "    logger=logger,\n",
    "    save_dir=pathlib.Path(\n",
    "        f\"../memory_snapshots/{model_to_use}_model_{downscale_factor}x_factor/\"\n",
    "    ).resolve(),\n",
    ")\n",
    "stop_record_memory_history(logger=logger)"
   ]
  },
  {
   "cell_type": "code",
   "execution_count": 21,
   "metadata": {},
   "outputs": [],
   "source": [
    "# remove previous runs generated files\n",
    "# each of these directories will be created if they do not exist\n",
    "# the new files will be saved in these directories\n",
    "\n",
    "# for masks\n",
    "masks_dir = pathlib.Path(sam2_processing_dir / \"masks\").resolve()\n",
    "if masks_dir.exists():\n",
    "    shutil.rmtree(masks_dir)\n",
    "masks_dir.mkdir(exist_ok=True, parents=True)\n",
    "\n",
    "# for gifs\n",
    "gifs_dir = pathlib.Path(sam2_processing_dir / \"gifs\").resolve()\n",
    "if gifs_dir.exists():\n",
    "    shutil.rmtree(gifs_dir)\n",
    "gifs_dir.mkdir(exist_ok=True, parents=True)\n",
    "\n",
    "# for combined masks and tiffs\n",
    "combined_dir = pathlib.Path(sam2_processing_dir / \"CP_input\").resolve()\n",
    "if combined_dir.exists():\n",
    "    shutil.rmtree(combined_dir)\n",
    "combined_dir.mkdir(exist_ok=True, parents=True)"
   ]
  },
  {
   "cell_type": "code",
   "execution_count": 22,
   "metadata": {},
   "outputs": [],
   "source": [
    "output_dict = {\n",
    "    \"image_set_name\": [],\n",
    "    \"frame\": [],\n",
    "    \"object_id\": [],\n",
    "    \"x\": [],\n",
    "    \"y\": [],\n",
    "    \"mask_path\": [],\n",
    "    \"mask_file_name\": [],\n",
    "}"
   ]
  },
  {
   "cell_type": "code",
   "execution_count": 23,
   "metadata": {},
   "outputs": [
    {
     "name": "stdout",
     "output_type": "stream",
     "text": [
      "D-09_F0005: /home/lippincm/Documents/live_cell_timelapse_apoptosis/3b.run_sam/sam2_processing_dir/tiny_model_15x_factor/pngs/D-09_F0005/001.jpeg\n",
      "127 127 upscaled 1905 1905\n",
      "E-06_F0001: /home/lippincm/Documents/live_cell_timelapse_apoptosis/3b.run_sam/sam2_processing_dir/tiny_model_15x_factor/pngs/E-06_F0001/001.jpeg\n",
      "127 127 upscaled 1905 1905\n",
      "C-04_F0003: /home/lippincm/Documents/live_cell_timelapse_apoptosis/3b.run_sam/sam2_processing_dir/tiny_model_15x_factor/pngs/C-04_F0003/001.jpeg\n",
      "127 127 upscaled 1905 1905\n",
      "D-04_F0003: /home/lippincm/Documents/live_cell_timelapse_apoptosis/3b.run_sam/sam2_processing_dir/tiny_model_15x_factor/pngs/D-04_F0003/001.jpeg\n",
      "127 127 upscaled 1905 1905\n",
      "D-06_F0002: /home/lippincm/Documents/live_cell_timelapse_apoptosis/3b.run_sam/sam2_processing_dir/tiny_model_15x_factor/pngs/D-06_F0002/001.jpeg\n",
      "127 127 upscaled 1905 1905\n",
      "D-08_F0002: /home/lippincm/Documents/live_cell_timelapse_apoptosis/3b.run_sam/sam2_processing_dir/tiny_model_15x_factor/pngs/D-08_F0002/001.jpeg\n",
      "127 127 upscaled 1905 1905\n",
      "D-04_F0006: /home/lippincm/Documents/live_cell_timelapse_apoptosis/3b.run_sam/sam2_processing_dir/tiny_model_15x_factor/pngs/D-04_F0006/001.jpeg\n",
      "127 127 upscaled 1905 1905\n",
      "D-05_F0004: /home/lippincm/Documents/live_cell_timelapse_apoptosis/3b.run_sam/sam2_processing_dir/tiny_model_15x_factor/pngs/D-05_F0004/001.jpeg\n",
      "127 127 upscaled 1905 1905\n",
      "E-05_F0001: /home/lippincm/Documents/live_cell_timelapse_apoptosis/3b.run_sam/sam2_processing_dir/tiny_model_15x_factor/pngs/E-05_F0001/001.jpeg\n",
      "127 127 upscaled 1905 1905\n",
      "D-03_F0004: /home/lippincm/Documents/live_cell_timelapse_apoptosis/3b.run_sam/sam2_processing_dir/tiny_model_15x_factor/pngs/D-03_F0004/001.jpeg\n",
      "127 127 upscaled 1905 1905\n",
      "D-11_F0001: /home/lippincm/Documents/live_cell_timelapse_apoptosis/3b.run_sam/sam2_processing_dir/tiny_model_15x_factor/pngs/D-11_F0001/001.jpeg\n",
      "127 127 upscaled 1905 1905\n",
      "E-07_F0005: /home/lippincm/Documents/live_cell_timelapse_apoptosis/3b.run_sam/sam2_processing_dir/tiny_model_15x_factor/pngs/E-07_F0005/001.jpeg\n",
      "127 127 upscaled 1905 1905\n",
      "E-07_F0004: /home/lippincm/Documents/live_cell_timelapse_apoptosis/3b.run_sam/sam2_processing_dir/tiny_model_15x_factor/pngs/E-07_F0004/001.jpeg\n",
      "127 127 upscaled 1905 1905\n",
      "E-04_F0001: /home/lippincm/Documents/live_cell_timelapse_apoptosis/3b.run_sam/sam2_processing_dir/tiny_model_15x_factor/pngs/E-04_F0001/001.jpeg\n",
      "127 127 upscaled 1905 1905\n",
      "E-10_F0005: /home/lippincm/Documents/live_cell_timelapse_apoptosis/3b.run_sam/sam2_processing_dir/tiny_model_15x_factor/pngs/E-10_F0005/001.jpeg\n",
      "127 127 upscaled 1905 1905\n",
      "D-06_F0006: /home/lippincm/Documents/live_cell_timelapse_apoptosis/3b.run_sam/sam2_processing_dir/tiny_model_15x_factor/pngs/D-06_F0006/001.jpeg\n",
      "127 127 upscaled 1905 1905\n",
      "C-04_F0001: /home/lippincm/Documents/live_cell_timelapse_apoptosis/3b.run_sam/sam2_processing_dir/tiny_model_15x_factor/pngs/C-04_F0001/001.jpeg\n",
      "127 127 upscaled 1905 1905\n",
      "E-02_F0003: /home/lippincm/Documents/live_cell_timelapse_apoptosis/3b.run_sam/sam2_processing_dir/tiny_model_15x_factor/pngs/E-02_F0003/001.jpeg\n",
      "127 127 upscaled 1905 1905\n",
      "E-08_F0003: /home/lippincm/Documents/live_cell_timelapse_apoptosis/3b.run_sam/sam2_processing_dir/tiny_model_15x_factor/pngs/E-08_F0003/001.jpeg\n",
      "127 127 upscaled 1905 1905\n",
      "E-10_F0003: /home/lippincm/Documents/live_cell_timelapse_apoptosis/3b.run_sam/sam2_processing_dir/tiny_model_15x_factor/pngs/E-10_F0003/001.jpeg\n",
      "127 127 upscaled 1905 1905\n",
      "C-08_F0006: /home/lippincm/Documents/live_cell_timelapse_apoptosis/3b.run_sam/sam2_processing_dir/tiny_model_15x_factor/pngs/C-08_F0006/001.jpeg\n",
      "127 127 upscaled 1905 1905\n",
      "E-09_F0003: /home/lippincm/Documents/live_cell_timelapse_apoptosis/3b.run_sam/sam2_processing_dir/tiny_model_15x_factor/pngs/E-09_F0003/001.jpeg\n",
      "127 127 upscaled 1905 1905\n",
      "E-03_F0006: /home/lippincm/Documents/live_cell_timelapse_apoptosis/3b.run_sam/sam2_processing_dir/tiny_model_15x_factor/pngs/E-03_F0006/001.jpeg\n",
      "127 127 upscaled 1905 1905\n",
      "E-08_F0004: /home/lippincm/Documents/live_cell_timelapse_apoptosis/3b.run_sam/sam2_processing_dir/tiny_model_15x_factor/pngs/E-08_F0004/001.jpeg\n",
      "127 127 upscaled 1905 1905\n",
      "C-10_F0006: /home/lippincm/Documents/live_cell_timelapse_apoptosis/3b.run_sam/sam2_processing_dir/tiny_model_15x_factor/pngs/C-10_F0006/001.jpeg\n",
      "127 127 upscaled 1905 1905\n",
      "D-08_F0006: /home/lippincm/Documents/live_cell_timelapse_apoptosis/3b.run_sam/sam2_processing_dir/tiny_model_15x_factor/pngs/D-08_F0006/001.jpeg\n",
      "127 127 upscaled 1905 1905\n",
      "C-06_F0002: /home/lippincm/Documents/live_cell_timelapse_apoptosis/3b.run_sam/sam2_processing_dir/tiny_model_15x_factor/pngs/C-06_F0002/001.jpeg\n",
      "127 127 upscaled 1905 1905\n",
      "C-03_F0001: /home/lippincm/Documents/live_cell_timelapse_apoptosis/3b.run_sam/sam2_processing_dir/tiny_model_15x_factor/pngs/C-03_F0001/001.jpeg\n",
      "127 127 upscaled 1905 1905\n",
      "C-05_F0002: /home/lippincm/Documents/live_cell_timelapse_apoptosis/3b.run_sam/sam2_processing_dir/tiny_model_15x_factor/pngs/C-05_F0002/001.jpeg\n",
      "127 127 upscaled 1905 1905\n",
      "E-04_F0006: /home/lippincm/Documents/live_cell_timelapse_apoptosis/3b.run_sam/sam2_processing_dir/tiny_model_15x_factor/pngs/E-04_F0006/001.jpeg\n",
      "127 127 upscaled 1905 1905\n",
      "C-05_F0003: /home/lippincm/Documents/live_cell_timelapse_apoptosis/3b.run_sam/sam2_processing_dir/tiny_model_15x_factor/pngs/C-05_F0003/001.jpeg\n",
      "127 127 upscaled 1905 1905\n",
      "E-07_F0002: /home/lippincm/Documents/live_cell_timelapse_apoptosis/3b.run_sam/sam2_processing_dir/tiny_model_15x_factor/pngs/E-07_F0002/001.jpeg\n",
      "127 127 upscaled 1905 1905\n",
      "D-11_F0004: /home/lippincm/Documents/live_cell_timelapse_apoptosis/3b.run_sam/sam2_processing_dir/tiny_model_15x_factor/pngs/D-11_F0004/001.jpeg\n",
      "127 127 upscaled 1905 1905\n",
      "D-05_F0005: /home/lippincm/Documents/live_cell_timelapse_apoptosis/3b.run_sam/sam2_processing_dir/tiny_model_15x_factor/pngs/D-05_F0005/001.jpeg\n",
      "127 127 upscaled 1905 1905\n",
      "D-11_F0002: /home/lippincm/Documents/live_cell_timelapse_apoptosis/3b.run_sam/sam2_processing_dir/tiny_model_15x_factor/pngs/D-11_F0002/001.jpeg\n",
      "127 127 upscaled 1905 1905\n",
      "C-10_F0004: /home/lippincm/Documents/live_cell_timelapse_apoptosis/3b.run_sam/sam2_processing_dir/tiny_model_15x_factor/pngs/C-10_F0004/001.jpeg\n",
      "127 127 upscaled 1905 1905\n",
      "D-09_F0001: /home/lippincm/Documents/live_cell_timelapse_apoptosis/3b.run_sam/sam2_processing_dir/tiny_model_15x_factor/pngs/D-09_F0001/001.jpeg\n",
      "127 127 upscaled 1905 1905\n",
      "D-02_F0002: /home/lippincm/Documents/live_cell_timelapse_apoptosis/3b.run_sam/sam2_processing_dir/tiny_model_15x_factor/pngs/D-02_F0002/001.jpeg\n",
      "127 127 upscaled 1905 1905\n",
      "C-07_F0004: /home/lippincm/Documents/live_cell_timelapse_apoptosis/3b.run_sam/sam2_processing_dir/tiny_model_15x_factor/pngs/C-07_F0004/001.jpeg\n",
      "127 127 upscaled 1905 1905\n",
      "E-10_F0006: /home/lippincm/Documents/live_cell_timelapse_apoptosis/3b.run_sam/sam2_processing_dir/tiny_model_15x_factor/pngs/E-10_F0006/001.jpeg\n",
      "127 127 upscaled 1905 1905\n",
      "C-09_F0004: /home/lippincm/Documents/live_cell_timelapse_apoptosis/3b.run_sam/sam2_processing_dir/tiny_model_15x_factor/pngs/C-09_F0004/001.jpeg\n",
      "127 127 upscaled 1905 1905\n",
      "E-08_F0005: /home/lippincm/Documents/live_cell_timelapse_apoptosis/3b.run_sam/sam2_processing_dir/tiny_model_15x_factor/pngs/E-08_F0005/001.jpeg\n",
      "127 127 upscaled 1905 1905\n",
      "D-11_F0006: /home/lippincm/Documents/live_cell_timelapse_apoptosis/3b.run_sam/sam2_processing_dir/tiny_model_15x_factor/pngs/D-11_F0006/001.jpeg\n",
      "127 127 upscaled 1905 1905\n",
      "C-11_F0005: /home/lippincm/Documents/live_cell_timelapse_apoptosis/3b.run_sam/sam2_processing_dir/tiny_model_15x_factor/pngs/C-11_F0005/001.jpeg\n",
      "127 127 upscaled 1905 1905\n",
      "E-05_F0003: /home/lippincm/Documents/live_cell_timelapse_apoptosis/3b.run_sam/sam2_processing_dir/tiny_model_15x_factor/pngs/E-05_F0003/001.jpeg\n",
      "127 127 upscaled 1905 1905\n",
      "C-04_F0005: /home/lippincm/Documents/live_cell_timelapse_apoptosis/3b.run_sam/sam2_processing_dir/tiny_model_15x_factor/pngs/C-04_F0005/001.jpeg\n",
      "127 127 upscaled 1905 1905\n",
      "D-07_F0004: /home/lippincm/Documents/live_cell_timelapse_apoptosis/3b.run_sam/sam2_processing_dir/tiny_model_15x_factor/pngs/D-07_F0004/001.jpeg\n",
      "127 127 upscaled 1905 1905\n",
      "E-09_F0002: /home/lippincm/Documents/live_cell_timelapse_apoptosis/3b.run_sam/sam2_processing_dir/tiny_model_15x_factor/pngs/E-09_F0002/001.jpeg\n",
      "127 127 upscaled 1905 1905\n",
      "D-09_F0006: /home/lippincm/Documents/live_cell_timelapse_apoptosis/3b.run_sam/sam2_processing_dir/tiny_model_15x_factor/pngs/D-09_F0006/001.jpeg\n",
      "127 127 upscaled 1905 1905\n",
      "C-09_F0001: /home/lippincm/Documents/live_cell_timelapse_apoptosis/3b.run_sam/sam2_processing_dir/tiny_model_15x_factor/pngs/C-09_F0001/001.jpeg\n",
      "127 127 upscaled 1905 1905\n",
      "D-08_F0005: /home/lippincm/Documents/live_cell_timelapse_apoptosis/3b.run_sam/sam2_processing_dir/tiny_model_15x_factor/pngs/D-08_F0005/001.jpeg\n",
      "127 127 upscaled 1905 1905\n",
      "E-05_F0004: /home/lippincm/Documents/live_cell_timelapse_apoptosis/3b.run_sam/sam2_processing_dir/tiny_model_15x_factor/pngs/E-05_F0004/001.jpeg\n",
      "127 127 upscaled 1905 1905\n",
      "C-03_F0005: /home/lippincm/Documents/live_cell_timelapse_apoptosis/3b.run_sam/sam2_processing_dir/tiny_model_15x_factor/pngs/C-03_F0005/001.jpeg\n",
      "127 127 upscaled 1905 1905\n",
      "C-08_F0005: /home/lippincm/Documents/live_cell_timelapse_apoptosis/3b.run_sam/sam2_processing_dir/tiny_model_15x_factor/pngs/C-08_F0005/001.jpeg\n",
      "127 127 upscaled 1905 1905\n",
      "C-03_F0003: /home/lippincm/Documents/live_cell_timelapse_apoptosis/3b.run_sam/sam2_processing_dir/tiny_model_15x_factor/pngs/C-03_F0003/001.jpeg\n",
      "127 127 upscaled 1905 1905\n",
      "E-05_F0006: /home/lippincm/Documents/live_cell_timelapse_apoptosis/3b.run_sam/sam2_processing_dir/tiny_model_15x_factor/pngs/E-05_F0006/001.jpeg\n",
      "127 127 upscaled 1905 1905\n",
      "E-11_F0001: /home/lippincm/Documents/live_cell_timelapse_apoptosis/3b.run_sam/sam2_processing_dir/tiny_model_15x_factor/pngs/E-11_F0001/001.jpeg\n",
      "127 127 upscaled 1905 1905\n",
      "E-04_F0005: /home/lippincm/Documents/live_cell_timelapse_apoptosis/3b.run_sam/sam2_processing_dir/tiny_model_15x_factor/pngs/E-04_F0005/001.jpeg\n",
      "127 127 upscaled 1905 1905\n",
      "C-09_F0003: /home/lippincm/Documents/live_cell_timelapse_apoptosis/3b.run_sam/sam2_processing_dir/tiny_model_15x_factor/pngs/C-09_F0003/001.jpeg\n",
      "127 127 upscaled 1905 1905\n",
      "E-04_F0002: /home/lippincm/Documents/live_cell_timelapse_apoptosis/3b.run_sam/sam2_processing_dir/tiny_model_15x_factor/pngs/E-04_F0002/001.jpeg\n",
      "127 127 upscaled 1905 1905\n",
      "D-05_F0002: /home/lippincm/Documents/live_cell_timelapse_apoptosis/3b.run_sam/sam2_processing_dir/tiny_model_15x_factor/pngs/D-05_F0002/001.jpeg\n",
      "127 127 upscaled 1905 1905\n",
      "D-10_F0003: /home/lippincm/Documents/live_cell_timelapse_apoptosis/3b.run_sam/sam2_processing_dir/tiny_model_15x_factor/pngs/D-10_F0003/001.jpeg\n",
      "127 127 upscaled 1905 1905\n",
      "D-06_F0004: /home/lippincm/Documents/live_cell_timelapse_apoptosis/3b.run_sam/sam2_processing_dir/tiny_model_15x_factor/pngs/D-06_F0004/001.jpeg\n",
      "127 127 upscaled 1905 1905\n",
      "C-09_F0006: /home/lippincm/Documents/live_cell_timelapse_apoptosis/3b.run_sam/sam2_processing_dir/tiny_model_15x_factor/pngs/C-09_F0006/001.jpeg\n",
      "127 127 upscaled 1905 1905\n",
      "D-07_F0003: /home/lippincm/Documents/live_cell_timelapse_apoptosis/3b.run_sam/sam2_processing_dir/tiny_model_15x_factor/pngs/D-07_F0003/001.jpeg\n",
      "127 127 upscaled 1905 1905\n",
      "C-06_F0005: /home/lippincm/Documents/live_cell_timelapse_apoptosis/3b.run_sam/sam2_processing_dir/tiny_model_15x_factor/pngs/C-06_F0005/001.jpeg\n",
      "127 127 upscaled 1905 1905\n",
      "D-09_F0003: /home/lippincm/Documents/live_cell_timelapse_apoptosis/3b.run_sam/sam2_processing_dir/tiny_model_15x_factor/pngs/D-09_F0003/001.jpeg\n",
      "127 127 upscaled 1905 1905\n",
      "C-05_F0004: /home/lippincm/Documents/live_cell_timelapse_apoptosis/3b.run_sam/sam2_processing_dir/tiny_model_15x_factor/pngs/C-05_F0004/001.jpeg\n",
      "127 127 upscaled 1905 1905\n",
      "C-02_F0002: /home/lippincm/Documents/live_cell_timelapse_apoptosis/3b.run_sam/sam2_processing_dir/tiny_model_15x_factor/pngs/C-02_F0002/001.jpeg\n",
      "127 127 upscaled 1905 1905\n",
      "D-06_F0003: /home/lippincm/Documents/live_cell_timelapse_apoptosis/3b.run_sam/sam2_processing_dir/tiny_model_15x_factor/pngs/D-06_F0003/001.jpeg\n",
      "127 127 upscaled 1905 1905\n",
      "D-05_F0006: /home/lippincm/Documents/live_cell_timelapse_apoptosis/3b.run_sam/sam2_processing_dir/tiny_model_15x_factor/pngs/D-05_F0006/001.jpeg\n",
      "127 127 upscaled 1905 1905\n",
      "C-11_F0004: /home/lippincm/Documents/live_cell_timelapse_apoptosis/3b.run_sam/sam2_processing_dir/tiny_model_15x_factor/pngs/C-11_F0004/001.jpeg\n",
      "127 127 upscaled 1905 1905\n",
      "D-05_F0001: /home/lippincm/Documents/live_cell_timelapse_apoptosis/3b.run_sam/sam2_processing_dir/tiny_model_15x_factor/pngs/D-05_F0001/001.jpeg\n",
      "127 127 upscaled 1905 1905\n",
      "D-02_F0005: /home/lippincm/Documents/live_cell_timelapse_apoptosis/3b.run_sam/sam2_processing_dir/tiny_model_15x_factor/pngs/D-02_F0005/001.jpeg\n",
      "127 127 upscaled 1905 1905\n",
      "D-06_F0001: /home/lippincm/Documents/live_cell_timelapse_apoptosis/3b.run_sam/sam2_processing_dir/tiny_model_15x_factor/pngs/D-06_F0001/001.jpeg\n",
      "127 127 upscaled 1905 1905\n",
      "E-09_F0004: /home/lippincm/Documents/live_cell_timelapse_apoptosis/3b.run_sam/sam2_processing_dir/tiny_model_15x_factor/pngs/E-09_F0004/001.jpeg\n",
      "127 127 upscaled 1905 1905\n",
      "E-09_F0005: /home/lippincm/Documents/live_cell_timelapse_apoptosis/3b.run_sam/sam2_processing_dir/tiny_model_15x_factor/pngs/E-09_F0005/001.jpeg\n",
      "127 127 upscaled 1905 1905\n",
      "D-03_F0002: /home/lippincm/Documents/live_cell_timelapse_apoptosis/3b.run_sam/sam2_processing_dir/tiny_model_15x_factor/pngs/D-03_F0002/001.jpeg\n",
      "127 127 upscaled 1905 1905\n",
      "C-07_F0003: /home/lippincm/Documents/live_cell_timelapse_apoptosis/3b.run_sam/sam2_processing_dir/tiny_model_15x_factor/pngs/C-07_F0003/001.jpeg\n",
      "127 127 upscaled 1905 1905\n",
      "D-10_F0001: /home/lippincm/Documents/live_cell_timelapse_apoptosis/3b.run_sam/sam2_processing_dir/tiny_model_15x_factor/pngs/D-10_F0001/001.jpeg\n",
      "127 127 upscaled 1905 1905\n",
      "E-06_F0003: /home/lippincm/Documents/live_cell_timelapse_apoptosis/3b.run_sam/sam2_processing_dir/tiny_model_15x_factor/pngs/E-06_F0003/001.jpeg\n",
      "127 127 upscaled 1905 1905\n",
      "D-08_F0001: /home/lippincm/Documents/live_cell_timelapse_apoptosis/3b.run_sam/sam2_processing_dir/tiny_model_15x_factor/pngs/D-08_F0001/001.jpeg\n",
      "127 127 upscaled 1905 1905\n",
      "E-11_F0006: /home/lippincm/Documents/live_cell_timelapse_apoptosis/3b.run_sam/sam2_processing_dir/tiny_model_15x_factor/pngs/E-11_F0006/001.jpeg\n",
      "127 127 upscaled 1905 1905\n",
      "E-06_F0002: /home/lippincm/Documents/live_cell_timelapse_apoptosis/3b.run_sam/sam2_processing_dir/tiny_model_15x_factor/pngs/E-06_F0002/001.jpeg\n",
      "127 127 upscaled 1905 1905\n",
      "E-08_F0002: /home/lippincm/Documents/live_cell_timelapse_apoptosis/3b.run_sam/sam2_processing_dir/tiny_model_15x_factor/pngs/E-08_F0002/001.jpeg\n",
      "127 127 upscaled 1905 1905\n",
      "C-07_F0002: /home/lippincm/Documents/live_cell_timelapse_apoptosis/3b.run_sam/sam2_processing_dir/tiny_model_15x_factor/pngs/C-07_F0002/001.jpeg\n",
      "127 127 upscaled 1905 1905\n",
      "C-02_F0005: /home/lippincm/Documents/live_cell_timelapse_apoptosis/3b.run_sam/sam2_processing_dir/tiny_model_15x_factor/pngs/C-02_F0005/001.jpeg\n",
      "127 127 upscaled 1905 1905\n",
      "C-04_F0006: /home/lippincm/Documents/live_cell_timelapse_apoptosis/3b.run_sam/sam2_processing_dir/tiny_model_15x_factor/pngs/C-04_F0006/001.jpeg\n",
      "127 127 upscaled 1905 1905\n",
      "C-02_F0001: /home/lippincm/Documents/live_cell_timelapse_apoptosis/3b.run_sam/sam2_processing_dir/tiny_model_15x_factor/pngs/C-02_F0001/001.jpeg\n",
      "127 127 upscaled 1905 1905\n",
      "D-10_F0005: /home/lippincm/Documents/live_cell_timelapse_apoptosis/3b.run_sam/sam2_processing_dir/tiny_model_15x_factor/pngs/D-10_F0005/001.jpeg\n",
      "127 127 upscaled 1905 1905\n",
      "C-11_F0001: /home/lippincm/Documents/live_cell_timelapse_apoptosis/3b.run_sam/sam2_processing_dir/tiny_model_15x_factor/pngs/C-11_F0001/001.jpeg\n",
      "127 127 upscaled 1905 1905\n",
      "D-07_F0001: /home/lippincm/Documents/live_cell_timelapse_apoptosis/3b.run_sam/sam2_processing_dir/tiny_model_15x_factor/pngs/D-07_F0001/001.jpeg\n",
      "127 127 upscaled 1905 1905\n",
      "D-06_F0005: /home/lippincm/Documents/live_cell_timelapse_apoptosis/3b.run_sam/sam2_processing_dir/tiny_model_15x_factor/pngs/D-06_F0005/001.jpeg\n",
      "127 127 upscaled 1905 1905\n",
      "C-10_F0003: /home/lippincm/Documents/live_cell_timelapse_apoptosis/3b.run_sam/sam2_processing_dir/tiny_model_15x_factor/pngs/C-10_F0003/001.jpeg\n",
      "127 127 upscaled 1905 1905\n",
      "E-02_F0004: /home/lippincm/Documents/live_cell_timelapse_apoptosis/3b.run_sam/sam2_processing_dir/tiny_model_15x_factor/pngs/E-02_F0004/001.jpeg\n",
      "127 127 upscaled 1905 1905\n",
      "E-10_F0004: /home/lippincm/Documents/live_cell_timelapse_apoptosis/3b.run_sam/sam2_processing_dir/tiny_model_15x_factor/pngs/E-10_F0004/001.jpeg\n",
      "127 127 upscaled 1905 1905\n",
      "D-04_F0004: /home/lippincm/Documents/live_cell_timelapse_apoptosis/3b.run_sam/sam2_processing_dir/tiny_model_15x_factor/pngs/D-04_F0004/001.jpeg\n",
      "127 127 upscaled 1905 1905\n",
      "D-09_F0004: /home/lippincm/Documents/live_cell_timelapse_apoptosis/3b.run_sam/sam2_processing_dir/tiny_model_15x_factor/pngs/D-09_F0004/001.jpeg\n",
      "127 127 upscaled 1905 1905\n",
      "E-03_F0003: /home/lippincm/Documents/live_cell_timelapse_apoptosis/3b.run_sam/sam2_processing_dir/tiny_model_15x_factor/pngs/E-03_F0003/001.jpeg\n",
      "127 127 upscaled 1905 1905\n",
      "E-03_F0001: /home/lippincm/Documents/live_cell_timelapse_apoptosis/3b.run_sam/sam2_processing_dir/tiny_model_15x_factor/pngs/E-03_F0001/001.jpeg\n",
      "127 127 upscaled 1905 1905\n",
      "C-06_F0001: /home/lippincm/Documents/live_cell_timelapse_apoptosis/3b.run_sam/sam2_processing_dir/tiny_model_15x_factor/pngs/C-06_F0001/001.jpeg\n",
      "127 127 upscaled 1905 1905\n",
      "E-09_F0001: /home/lippincm/Documents/live_cell_timelapse_apoptosis/3b.run_sam/sam2_processing_dir/tiny_model_15x_factor/pngs/E-09_F0001/001.jpeg\n",
      "127 127 upscaled 1905 1905\n",
      "E-03_F0005: /home/lippincm/Documents/live_cell_timelapse_apoptosis/3b.run_sam/sam2_processing_dir/tiny_model_15x_factor/pngs/E-03_F0005/001.jpeg\n",
      "127 127 upscaled 1905 1905\n",
      "D-07_F0002: /home/lippincm/Documents/live_cell_timelapse_apoptosis/3b.run_sam/sam2_processing_dir/tiny_model_15x_factor/pngs/D-07_F0002/001.jpeg\n",
      "127 127 upscaled 1905 1905\n",
      "D-04_F0002: /home/lippincm/Documents/live_cell_timelapse_apoptosis/3b.run_sam/sam2_processing_dir/tiny_model_15x_factor/pngs/D-04_F0002/001.jpeg\n",
      "127 127 upscaled 1905 1905\n",
      "E-05_F0002: /home/lippincm/Documents/live_cell_timelapse_apoptosis/3b.run_sam/sam2_processing_dir/tiny_model_15x_factor/pngs/E-05_F0002/001.jpeg\n",
      "127 127 upscaled 1905 1905\n",
      "D-10_F0006: /home/lippincm/Documents/live_cell_timelapse_apoptosis/3b.run_sam/sam2_processing_dir/tiny_model_15x_factor/pngs/D-10_F0006/001.jpeg\n",
      "127 127 upscaled 1905 1905\n",
      "C-08_F0003: /home/lippincm/Documents/live_cell_timelapse_apoptosis/3b.run_sam/sam2_processing_dir/tiny_model_15x_factor/pngs/C-08_F0003/001.jpeg\n",
      "127 127 upscaled 1905 1905\n",
      "E-02_F0001: /home/lippincm/Documents/live_cell_timelapse_apoptosis/3b.run_sam/sam2_processing_dir/tiny_model_15x_factor/pngs/E-02_F0001/001.jpeg\n",
      "127 127 upscaled 1905 1905\n",
      "D-07_F0006: /home/lippincm/Documents/live_cell_timelapse_apoptosis/3b.run_sam/sam2_processing_dir/tiny_model_15x_factor/pngs/D-07_F0006/001.jpeg\n",
      "127 127 upscaled 1905 1905\n",
      "E-11_F0003: /home/lippincm/Documents/live_cell_timelapse_apoptosis/3b.run_sam/sam2_processing_dir/tiny_model_15x_factor/pngs/E-11_F0003/001.jpeg\n",
      "127 127 upscaled 1905 1905\n",
      "D-03_F0006: /home/lippincm/Documents/live_cell_timelapse_apoptosis/3b.run_sam/sam2_processing_dir/tiny_model_15x_factor/pngs/D-03_F0006/001.jpeg\n",
      "127 127 upscaled 1905 1905\n",
      "E-06_F0005: /home/lippincm/Documents/live_cell_timelapse_apoptosis/3b.run_sam/sam2_processing_dir/tiny_model_15x_factor/pngs/E-06_F0005/001.jpeg\n",
      "127 127 upscaled 1905 1905\n",
      "C-07_F0005: /home/lippincm/Documents/live_cell_timelapse_apoptosis/3b.run_sam/sam2_processing_dir/tiny_model_15x_factor/pngs/C-07_F0005/001.jpeg\n",
      "127 127 upscaled 1905 1905\n",
      "D-05_F0003: /home/lippincm/Documents/live_cell_timelapse_apoptosis/3b.run_sam/sam2_processing_dir/tiny_model_15x_factor/pngs/D-05_F0003/001.jpeg\n",
      "127 127 upscaled 1905 1905\n",
      "E-09_F0006: /home/lippincm/Documents/live_cell_timelapse_apoptosis/3b.run_sam/sam2_processing_dir/tiny_model_15x_factor/pngs/E-09_F0006/001.jpeg\n",
      "127 127 upscaled 1905 1905\n",
      "C-05_F0006: /home/lippincm/Documents/live_cell_timelapse_apoptosis/3b.run_sam/sam2_processing_dir/tiny_model_15x_factor/pngs/C-05_F0006/001.jpeg\n",
      "127 127 upscaled 1905 1905\n",
      "E-08_F0001: /home/lippincm/Documents/live_cell_timelapse_apoptosis/3b.run_sam/sam2_processing_dir/tiny_model_15x_factor/pngs/E-08_F0001/001.jpeg\n",
      "127 127 upscaled 1905 1905\n",
      "C-03_F0006: /home/lippincm/Documents/live_cell_timelapse_apoptosis/3b.run_sam/sam2_processing_dir/tiny_model_15x_factor/pngs/C-03_F0006/001.jpeg\n",
      "127 127 upscaled 1905 1905\n",
      "D-09_F0002: /home/lippincm/Documents/live_cell_timelapse_apoptosis/3b.run_sam/sam2_processing_dir/tiny_model_15x_factor/pngs/D-09_F0002/001.jpeg\n",
      "127 127 upscaled 1905 1905\n",
      "E-07_F0003: /home/lippincm/Documents/live_cell_timelapse_apoptosis/3b.run_sam/sam2_processing_dir/tiny_model_15x_factor/pngs/E-07_F0003/001.jpeg\n",
      "127 127 upscaled 1905 1905\n",
      "C-03_F0002: /home/lippincm/Documents/live_cell_timelapse_apoptosis/3b.run_sam/sam2_processing_dir/tiny_model_15x_factor/pngs/C-03_F0002/001.jpeg\n",
      "127 127 upscaled 1905 1905\n",
      "E-02_F0006: /home/lippincm/Documents/live_cell_timelapse_apoptosis/3b.run_sam/sam2_processing_dir/tiny_model_15x_factor/pngs/E-02_F0006/001.jpeg\n",
      "127 127 upscaled 1905 1905\n",
      "C-04_F0002: /home/lippincm/Documents/live_cell_timelapse_apoptosis/3b.run_sam/sam2_processing_dir/tiny_model_15x_factor/pngs/C-04_F0002/001.jpeg\n",
      "127 127 upscaled 1905 1905\n",
      "C-09_F0005: /home/lippincm/Documents/live_cell_timelapse_apoptosis/3b.run_sam/sam2_processing_dir/tiny_model_15x_factor/pngs/C-09_F0005/001.jpeg\n",
      "127 127 upscaled 1905 1905\n",
      "C-08_F0002: /home/lippincm/Documents/live_cell_timelapse_apoptosis/3b.run_sam/sam2_processing_dir/tiny_model_15x_factor/pngs/C-08_F0002/001.jpeg\n",
      "127 127 upscaled 1905 1905\n",
      "C-06_F0006: /home/lippincm/Documents/live_cell_timelapse_apoptosis/3b.run_sam/sam2_processing_dir/tiny_model_15x_factor/pngs/C-06_F0006/001.jpeg\n",
      "127 127 upscaled 1905 1905\n",
      "E-05_F0005: /home/lippincm/Documents/live_cell_timelapse_apoptosis/3b.run_sam/sam2_processing_dir/tiny_model_15x_factor/pngs/E-05_F0005/001.jpeg\n",
      "127 127 upscaled 1905 1905\n",
      "C-06_F0003: /home/lippincm/Documents/live_cell_timelapse_apoptosis/3b.run_sam/sam2_processing_dir/tiny_model_15x_factor/pngs/C-06_F0003/001.jpeg\n",
      "127 127 upscaled 1905 1905\n",
      "E-07_F0006: /home/lippincm/Documents/live_cell_timelapse_apoptosis/3b.run_sam/sam2_processing_dir/tiny_model_15x_factor/pngs/E-07_F0006/001.jpeg\n",
      "127 127 upscaled 1905 1905\n",
      "C-02_F0003: /home/lippincm/Documents/live_cell_timelapse_apoptosis/3b.run_sam/sam2_processing_dir/tiny_model_15x_factor/pngs/C-02_F0003/001.jpeg\n",
      "127 127 upscaled 1905 1905\n",
      "C-07_F0001: /home/lippincm/Documents/live_cell_timelapse_apoptosis/3b.run_sam/sam2_processing_dir/tiny_model_15x_factor/pngs/C-07_F0001/001.jpeg\n",
      "127 127 upscaled 1905 1905\n",
      "C-05_F0001: /home/lippincm/Documents/live_cell_timelapse_apoptosis/3b.run_sam/sam2_processing_dir/tiny_model_15x_factor/pngs/C-05_F0001/001.jpeg\n",
      "127 127 upscaled 1905 1905\n",
      "E-06_F0004: /home/lippincm/Documents/live_cell_timelapse_apoptosis/3b.run_sam/sam2_processing_dir/tiny_model_15x_factor/pngs/E-06_F0004/001.jpeg\n",
      "127 127 upscaled 1905 1905\n",
      "C-09_F0002: /home/lippincm/Documents/live_cell_timelapse_apoptosis/3b.run_sam/sam2_processing_dir/tiny_model_15x_factor/pngs/C-09_F0002/001.jpeg\n",
      "127 127 upscaled 1905 1905\n",
      "E-04_F0003: /home/lippincm/Documents/live_cell_timelapse_apoptosis/3b.run_sam/sam2_processing_dir/tiny_model_15x_factor/pngs/E-04_F0003/001.jpeg\n",
      "127 127 upscaled 1905 1905\n",
      "D-11_F0005: /home/lippincm/Documents/live_cell_timelapse_apoptosis/3b.run_sam/sam2_processing_dir/tiny_model_15x_factor/pngs/D-11_F0005/001.jpeg\n",
      "127 127 upscaled 1905 1905\n",
      "C-02_F0004: /home/lippincm/Documents/live_cell_timelapse_apoptosis/3b.run_sam/sam2_processing_dir/tiny_model_15x_factor/pngs/C-02_F0004/001.jpeg\n",
      "127 127 upscaled 1905 1905\n",
      "D-10_F0004: /home/lippincm/Documents/live_cell_timelapse_apoptosis/3b.run_sam/sam2_processing_dir/tiny_model_15x_factor/pngs/D-10_F0004/001.jpeg\n",
      "127 127 upscaled 1905 1905\n",
      "E-06_F0006: /home/lippincm/Documents/live_cell_timelapse_apoptosis/3b.run_sam/sam2_processing_dir/tiny_model_15x_factor/pngs/E-06_F0006/001.jpeg\n",
      "127 127 upscaled 1905 1905\n",
      "C-08_F0001: /home/lippincm/Documents/live_cell_timelapse_apoptosis/3b.run_sam/sam2_processing_dir/tiny_model_15x_factor/pngs/C-08_F0001/001.jpeg\n",
      "127 127 upscaled 1905 1905\n",
      "C-10_F0002: /home/lippincm/Documents/live_cell_timelapse_apoptosis/3b.run_sam/sam2_processing_dir/tiny_model_15x_factor/pngs/C-10_F0002/001.jpeg\n",
      "127 127 upscaled 1905 1905\n",
      "E-10_F0002: /home/lippincm/Documents/live_cell_timelapse_apoptosis/3b.run_sam/sam2_processing_dir/tiny_model_15x_factor/pngs/E-10_F0002/001.jpeg\n",
      "127 127 upscaled 1905 1905\n",
      "D-02_F0001: /home/lippincm/Documents/live_cell_timelapse_apoptosis/3b.run_sam/sam2_processing_dir/tiny_model_15x_factor/pngs/D-02_F0001/001.jpeg\n",
      "127 127 upscaled 1905 1905\n",
      "D-03_F0001: /home/lippincm/Documents/live_cell_timelapse_apoptosis/3b.run_sam/sam2_processing_dir/tiny_model_15x_factor/pngs/D-03_F0001/001.jpeg\n",
      "127 127 upscaled 1905 1905\n",
      "E-02_F0005: /home/lippincm/Documents/live_cell_timelapse_apoptosis/3b.run_sam/sam2_processing_dir/tiny_model_15x_factor/pngs/E-02_F0005/001.jpeg\n",
      "127 127 upscaled 1905 1905\n",
      "E-11_F0005: /home/lippincm/Documents/live_cell_timelapse_apoptosis/3b.run_sam/sam2_processing_dir/tiny_model_15x_factor/pngs/E-11_F0005/001.jpeg\n",
      "127 127 upscaled 1905 1905\n",
      "C-05_F0005: /home/lippincm/Documents/live_cell_timelapse_apoptosis/3b.run_sam/sam2_processing_dir/tiny_model_15x_factor/pngs/C-05_F0005/001.jpeg\n",
      "127 127 upscaled 1905 1905\n",
      "E-11_F0004: /home/lippincm/Documents/live_cell_timelapse_apoptosis/3b.run_sam/sam2_processing_dir/tiny_model_15x_factor/pngs/E-11_F0004/001.jpeg\n",
      "127 127 upscaled 1905 1905\n",
      "C-11_F0006: /home/lippincm/Documents/live_cell_timelapse_apoptosis/3b.run_sam/sam2_processing_dir/tiny_model_15x_factor/pngs/C-11_F0006/001.jpeg\n",
      "127 127 upscaled 1905 1905\n",
      "E-10_F0001: /home/lippincm/Documents/live_cell_timelapse_apoptosis/3b.run_sam/sam2_processing_dir/tiny_model_15x_factor/pngs/E-10_F0001/001.jpeg\n",
      "127 127 upscaled 1905 1905\n",
      "C-07_F0006: /home/lippincm/Documents/live_cell_timelapse_apoptosis/3b.run_sam/sam2_processing_dir/tiny_model_15x_factor/pngs/C-07_F0006/001.jpeg\n",
      "127 127 upscaled 1905 1905\n",
      "D-11_F0003: /home/lippincm/Documents/live_cell_timelapse_apoptosis/3b.run_sam/sam2_processing_dir/tiny_model_15x_factor/pngs/D-11_F0003/001.jpeg\n",
      "127 127 upscaled 1905 1905\n",
      "E-02_F0002: /home/lippincm/Documents/live_cell_timelapse_apoptosis/3b.run_sam/sam2_processing_dir/tiny_model_15x_factor/pngs/E-02_F0002/001.jpeg\n",
      "127 127 upscaled 1905 1905\n",
      "C-10_F0005: /home/lippincm/Documents/live_cell_timelapse_apoptosis/3b.run_sam/sam2_processing_dir/tiny_model_15x_factor/pngs/C-10_F0005/001.jpeg\n",
      "127 127 upscaled 1905 1905\n",
      "D-10_F0002: /home/lippincm/Documents/live_cell_timelapse_apoptosis/3b.run_sam/sam2_processing_dir/tiny_model_15x_factor/pngs/D-10_F0002/001.jpeg\n",
      "127 127 upscaled 1905 1905\n",
      "C-08_F0004: /home/lippincm/Documents/live_cell_timelapse_apoptosis/3b.run_sam/sam2_processing_dir/tiny_model_15x_factor/pngs/C-08_F0004/001.jpeg\n",
      "127 127 upscaled 1905 1905\n",
      "C-03_F0004: /home/lippincm/Documents/live_cell_timelapse_apoptosis/3b.run_sam/sam2_processing_dir/tiny_model_15x_factor/pngs/C-03_F0004/001.jpeg\n",
      "127 127 upscaled 1905 1905\n",
      "D-02_F0006: /home/lippincm/Documents/live_cell_timelapse_apoptosis/3b.run_sam/sam2_processing_dir/tiny_model_15x_factor/pngs/D-02_F0006/001.jpeg\n",
      "127 127 upscaled 1905 1905\n",
      "D-07_F0005: /home/lippincm/Documents/live_cell_timelapse_apoptosis/3b.run_sam/sam2_processing_dir/tiny_model_15x_factor/pngs/D-07_F0005/001.jpeg\n",
      "127 127 upscaled 1905 1905\n",
      "C-04_F0004: /home/lippincm/Documents/live_cell_timelapse_apoptosis/3b.run_sam/sam2_processing_dir/tiny_model_15x_factor/pngs/C-04_F0004/001.jpeg\n",
      "127 127 upscaled 1905 1905\n",
      "D-02_F0003: /home/lippincm/Documents/live_cell_timelapse_apoptosis/3b.run_sam/sam2_processing_dir/tiny_model_15x_factor/pngs/D-02_F0003/001.jpeg\n",
      "127 127 upscaled 1905 1905\n",
      "E-03_F0004: /home/lippincm/Documents/live_cell_timelapse_apoptosis/3b.run_sam/sam2_processing_dir/tiny_model_15x_factor/pngs/E-03_F0004/001.jpeg\n",
      "127 127 upscaled 1905 1905\n",
      "C-06_F0004: /home/lippincm/Documents/live_cell_timelapse_apoptosis/3b.run_sam/sam2_processing_dir/tiny_model_15x_factor/pngs/C-06_F0004/001.jpeg\n",
      "127 127 upscaled 1905 1905\n",
      "E-08_F0006: /home/lippincm/Documents/live_cell_timelapse_apoptosis/3b.run_sam/sam2_processing_dir/tiny_model_15x_factor/pngs/E-08_F0006/001.jpeg\n",
      "127 127 upscaled 1905 1905\n",
      "D-04_F0005: /home/lippincm/Documents/live_cell_timelapse_apoptosis/3b.run_sam/sam2_processing_dir/tiny_model_15x_factor/pngs/D-04_F0005/001.jpeg\n",
      "127 127 upscaled 1905 1905\n",
      "C-11_F0002: /home/lippincm/Documents/live_cell_timelapse_apoptosis/3b.run_sam/sam2_processing_dir/tiny_model_15x_factor/pngs/C-11_F0002/001.jpeg\n",
      "127 127 upscaled 1905 1905\n",
      "E-03_F0002: /home/lippincm/Documents/live_cell_timelapse_apoptosis/3b.run_sam/sam2_processing_dir/tiny_model_15x_factor/pngs/E-03_F0002/001.jpeg\n",
      "127 127 upscaled 1905 1905\n",
      "D-03_F0005: /home/lippincm/Documents/live_cell_timelapse_apoptosis/3b.run_sam/sam2_processing_dir/tiny_model_15x_factor/pngs/D-03_F0005/001.jpeg\n",
      "127 127 upscaled 1905 1905\n",
      "E-11_F0002: /home/lippincm/Documents/live_cell_timelapse_apoptosis/3b.run_sam/sam2_processing_dir/tiny_model_15x_factor/pngs/E-11_F0002/001.jpeg\n",
      "127 127 upscaled 1905 1905\n",
      "D-04_F0001: /home/lippincm/Documents/live_cell_timelapse_apoptosis/3b.run_sam/sam2_processing_dir/tiny_model_15x_factor/pngs/D-04_F0001/001.jpeg\n",
      "127 127 upscaled 1905 1905\n",
      "C-11_F0003: /home/lippincm/Documents/live_cell_timelapse_apoptosis/3b.run_sam/sam2_processing_dir/tiny_model_15x_factor/pngs/C-11_F0003/001.jpeg\n",
      "127 127 upscaled 1905 1905\n",
      "D-08_F0004: /home/lippincm/Documents/live_cell_timelapse_apoptosis/3b.run_sam/sam2_processing_dir/tiny_model_15x_factor/pngs/D-08_F0004/001.jpeg\n",
      "127 127 upscaled 1905 1905\n",
      "D-03_F0003: /home/lippincm/Documents/live_cell_timelapse_apoptosis/3b.run_sam/sam2_processing_dir/tiny_model_15x_factor/pngs/D-03_F0003/001.jpeg\n",
      "127 127 upscaled 1905 1905\n",
      "D-08_F0003: /home/lippincm/Documents/live_cell_timelapse_apoptosis/3b.run_sam/sam2_processing_dir/tiny_model_15x_factor/pngs/D-08_F0003/001.jpeg\n",
      "127 127 upscaled 1905 1905\n",
      "E-07_F0001: /home/lippincm/Documents/live_cell_timelapse_apoptosis/3b.run_sam/sam2_processing_dir/tiny_model_15x_factor/pngs/E-07_F0001/001.jpeg\n",
      "127 127 upscaled 1905 1905\n",
      "C-02_F0006: /home/lippincm/Documents/live_cell_timelapse_apoptosis/3b.run_sam/sam2_processing_dir/tiny_model_15x_factor/pngs/C-02_F0006/001.jpeg\n",
      "127 127 upscaled 1905 1905\n",
      "E-04_F0004: /home/lippincm/Documents/live_cell_timelapse_apoptosis/3b.run_sam/sam2_processing_dir/tiny_model_15x_factor/pngs/E-04_F0004/001.jpeg\n",
      "127 127 upscaled 1905 1905\n",
      "C-10_F0001: /home/lippincm/Documents/live_cell_timelapse_apoptosis/3b.run_sam/sam2_processing_dir/tiny_model_15x_factor/pngs/C-10_F0001/001.jpeg\n",
      "127 127 upscaled 1905 1905\n",
      "D-02_F0004: /home/lippincm/Documents/live_cell_timelapse_apoptosis/3b.run_sam/sam2_processing_dir/tiny_model_15x_factor/pngs/D-02_F0004/001.jpeg\n",
      "127 127 upscaled 1905 1905\n"
     ]
    }
   ],
   "source": [
    "# loop through each image set and save the predicted masks as images\n",
    "for i in range(len(image_set_dict[\"image_set_name\"])):\n",
    "    print(\n",
    "        f\"{image_set_dict['image_set_name'][i]}: {image_set_dict['image_set_first_frame'][i]}\"\n",
    "    )\n",
    "    frame_names = sorted(list(Path(image_set_dict[\"image_set_path\"][i]).glob(\"*.jpeg\")))\n",
    "    img = io.imread(frame_names[0])\n",
    "    h, w = img.shape\n",
    "    upscale_h = h * downscale_factor\n",
    "    upscale_w = w * downscale_factor\n",
    "    print(h, w, \"upscaled\", upscale_h, upscale_w)\n",
    "    # add all of the frames together for a rendered gif\n",
    "    # create a list of all the frames\n",
    "    frames = []\n",
    "\n",
    "    video_segments = stored_video_segments[image_set_dict[\"image_set_name\"][i]]\n",
    "    for out_frame_idx in range(0, len(frame_names), 1):\n",
    "        # create a figure\n",
    "        # set the frame path and make the directory if it doesn't exist\n",
    "        # create a frame image\n",
    "        frame_image = np.zeros((h, w), dtype=np.uint8)\n",
    "        # loop through the objects in the frame\n",
    "        for out_obj_id, out_mask in video_segments[out_frame_idx].items():\n",
    "            # add the mask to the frame image\n",
    "            frame_image += (out_mask[0] * 255).astype(np.uint8)\n",
    "            out_mask = np.array(out_mask[0], dtype=np.float32)\n",
    "            # convert the outmask to an image\n",
    "            regions = regionprops(label(out_mask))\n",
    "            for region in regions:\n",
    "                y, x = region.centroid\n",
    "                # scale the x and y coordinates back to the original size\n",
    "                x = x * downscale_factor\n",
    "                y = y * downscale_factor\n",
    "                output_dict[\"frame\"].append(out_frame_idx)\n",
    "                output_dict[\"object_id\"].append(out_obj_id)\n",
    "                output_dict[\"x\"].append(x)\n",
    "                output_dict[\"y\"].append(y)\n",
    "                output_dict[\"mask_file_name\"].append(f\"{out_frame_idx}.png\")\n",
    "                output_dict[\"image_set_name\"].append(\n",
    "                    image_set_dict[\"image_set_name\"][i]\n",
    "                )\n",
    "                output_dict[\"mask_path\"].append(masks_dir)\n",
    "\n",
    "        # save the frame image\n",
    "        # scale the image upscale back to the original size\n",
    "        frame_image = Image.fromarray(frame_image)\n",
    "        frame_image = frame_image.resize((upscale_w, upscale_h), Image.NEAREST)\n",
    "\n",
    "        # convert the frame image to ints\n",
    "        frame_image_path = f\"{masks_dir}/{image_set_dict['image_set_name'][i]}_T{str(out_frame_idx + 1).zfill(4)}_Z0001_mask.png\"\n",
    "        frame_image.save(frame_image_path)\n",
    "\n",
    "        # add title to the subplot\n",
    "        fig, ax = plt.subplots(1, 1, figsize=(10, 10))\n",
    "        # show the image\n",
    "        ax.imshow(frame_image, cmap=\"gray\")\n",
    "        ax.set_title(f\"Frame {out_frame_idx}\")\n",
    "        # save the figure to a file\n",
    "        tmpdir = pathlib.Path(\n",
    "            sam2_processing_dir / f\"tmp_{out_frame_idx}.png\"\n",
    "        ).resolve()\n",
    "        fig.savefig(tmpdir)\n",
    "        # close the figure\n",
    "        plt.close(fig)\n",
    "        # open the image\n",
    "        img = Image.open(tmpdir)\n",
    "        # append the image to the frames\n",
    "        frames.append(img)\n",
    "\n",
    "    fig_path = pathlib.Path(\n",
    "        f\"{gifs_dir}/{image_set_dict['image_set_name'][i]}_out.gif\"\n",
    "    ).resolve()\n",
    "    # save the frames as a gif\n",
    "    frames[0].save(\n",
    "        fig_path, save_all=True, append_images=frames[1:], duration=10, loop=0\n",
    "    )\n",
    "\n",
    "    # get all files that have tmp in the name\n",
    "    tmp_files = list(Path(\".\").glob(\"tmp*.png\"))\n",
    "    # delete all the tmp files\n",
    "    [f.unlink() for f in tmp_files]"
   ]
  },
  {
   "cell_type": "code",
   "execution_count": 24,
   "metadata": {},
   "outputs": [
    {
     "name": "stderr",
     "output_type": "stream",
     "text": [
      "[2024-10-10T20:42:38Z WARN  lance::dataset] No existing dataset at /home/lippincm/Documents/live_cell_timelapse_apoptosis/data/objects_db/1.masked_images.lance, it will be created\n"
     ]
    }
   ],
   "source": [
    "file_paths_df = pd.DataFrame(output_dict)\n",
    "# add the mask file path\n",
    "file_paths_df[\"mask_file_path\"] = (\n",
    "    file_paths_df[\"mask_path\"].astype(str)\n",
    "    + \"/\"\n",
    "    + file_paths_df[\"mask_file_name\"].astype(str)\n",
    ")\n",
    "# type cast the columns\n",
    "file_paths_df[\"image_set_name\"] = file_paths_df[\"image_set_name\"].astype(str)\n",
    "file_paths_df[\"frame\"] = file_paths_df[\"frame\"].astype(np.int32)\n",
    "file_paths_df[\"object_id\"] = file_paths_df[\"object_id\"].astype(np.int32)\n",
    "file_paths_df[\"x\"] = file_paths_df[\"x\"].astype(np.float32)\n",
    "file_paths_df[\"y\"] = file_paths_df[\"y\"].astype(np.float32)\n",
    "file_paths_df[\"mask_path\"] = file_paths_df[\"mask_path\"].astype(str)\n",
    "file_paths_df[\"mask_file_name\"] = file_paths_df[\"mask_file_name\"].astype(str)\n",
    "file_paths_df[\"mask_file_path\"] = file_paths_df[\"mask_file_path\"].astype(str)\n",
    "# add to the db\n",
    "# set up schema\n",
    "schema = pa.schema(\n",
    "    [\n",
    "        pa.field(\"image_set_name\", pa.string()),\n",
    "        pa.field(\"frame\", pa.int32()),\n",
    "        pa.field(\"object_id\", pa.int32()),\n",
    "        pa.field(\"x\", pa.float32()),\n",
    "        pa.field(\"y\", pa.float32()),\n",
    "        pa.field(\"mask_path\", pa.string()),\n",
    "        pa.field(\"mask_file_name\", pa.string()),\n",
    "        pa.field(\"mask_file_path\", pa.string()),\n",
    "    ]\n",
    ")\n",
    "\n",
    "# create the table\n",
    "tbl = db.create_table(\"1.masked_images\", schema=schema, mode=\"overwrite\")\n",
    "# write the data to the table\n",
    "tbl.add(file_paths_df)"
   ]
  },
  {
   "cell_type": "code",
   "execution_count": 25,
   "metadata": {},
   "outputs": [
    {
     "data": {
      "text/html": [
       "<div>\n",
       "<style scoped>\n",
       "    .dataframe tbody tr th:only-of-type {\n",
       "        vertical-align: middle;\n",
       "    }\n",
       "\n",
       "    .dataframe tbody tr th {\n",
       "        vertical-align: top;\n",
       "    }\n",
       "\n",
       "    .dataframe thead th {\n",
       "        text-align: right;\n",
       "    }\n",
       "</style>\n",
       "<table border=\"1\" class=\"dataframe\">\n",
       "  <thead>\n",
       "    <tr style=\"text-align: right;\">\n",
       "      <th></th>\n",
       "      <th>image_set_name</th>\n",
       "      <th>frame</th>\n",
       "      <th>object_id</th>\n",
       "      <th>x</th>\n",
       "      <th>y</th>\n",
       "      <th>mask_path</th>\n",
       "      <th>mask_file_name</th>\n",
       "      <th>mask_file_path</th>\n",
       "    </tr>\n",
       "  </thead>\n",
       "  <tbody>\n",
       "    <tr>\n",
       "      <th>0</th>\n",
       "      <td>D-09_F0005</td>\n",
       "      <td>0</td>\n",
       "      <td>1</td>\n",
       "      <td>1579.6875</td>\n",
       "      <td>78.75</td>\n",
       "      <td>/home/lippincm/Documents/live_cell_timelapse_a...</td>\n",
       "      <td>0.png</td>\n",
       "      <td>/home/lippincm/Documents/live_cell_timelapse_a...</td>\n",
       "    </tr>\n",
       "    <tr>\n",
       "      <th>1</th>\n",
       "      <td>D-09_F0005</td>\n",
       "      <td>0</td>\n",
       "      <td>1</td>\n",
       "      <td>1590.0000</td>\n",
       "      <td>135.00</td>\n",
       "      <td>/home/lippincm/Documents/live_cell_timelapse_a...</td>\n",
       "      <td>0.png</td>\n",
       "      <td>/home/lippincm/Documents/live_cell_timelapse_a...</td>\n",
       "    </tr>\n",
       "    <tr>\n",
       "      <th>2</th>\n",
       "      <td>D-09_F0005</td>\n",
       "      <td>0</td>\n",
       "      <td>2</td>\n",
       "      <td>994.5000</td>\n",
       "      <td>372.00</td>\n",
       "      <td>/home/lippincm/Documents/live_cell_timelapse_a...</td>\n",
       "      <td>0.png</td>\n",
       "      <td>/home/lippincm/Documents/live_cell_timelapse_a...</td>\n",
       "    </tr>\n",
       "    <tr>\n",
       "      <th>3</th>\n",
       "      <td>D-09_F0005</td>\n",
       "      <td>0</td>\n",
       "      <td>3</td>\n",
       "      <td>1140.0000</td>\n",
       "      <td>400.00</td>\n",
       "      <td>/home/lippincm/Documents/live_cell_timelapse_a...</td>\n",
       "      <td>0.png</td>\n",
       "      <td>/home/lippincm/Documents/live_cell_timelapse_a...</td>\n",
       "    </tr>\n",
       "    <tr>\n",
       "      <th>4</th>\n",
       "      <td>D-09_F0005</td>\n",
       "      <td>0</td>\n",
       "      <td>4</td>\n",
       "      <td>1395.0000</td>\n",
       "      <td>517.50</td>\n",
       "      <td>/home/lippincm/Documents/live_cell_timelapse_a...</td>\n",
       "      <td>0.png</td>\n",
       "      <td>/home/lippincm/Documents/live_cell_timelapse_a...</td>\n",
       "    </tr>\n",
       "  </tbody>\n",
       "</table>\n",
       "</div>"
      ],
      "text/plain": [
       "  image_set_name  frame  object_id          x       y  \\\n",
       "0     D-09_F0005      0          1  1579.6875   78.75   \n",
       "1     D-09_F0005      0          1  1590.0000  135.00   \n",
       "2     D-09_F0005      0          2   994.5000  372.00   \n",
       "3     D-09_F0005      0          3  1140.0000  400.00   \n",
       "4     D-09_F0005      0          4  1395.0000  517.50   \n",
       "\n",
       "                                           mask_path mask_file_name  \\\n",
       "0  /home/lippincm/Documents/live_cell_timelapse_a...          0.png   \n",
       "1  /home/lippincm/Documents/live_cell_timelapse_a...          0.png   \n",
       "2  /home/lippincm/Documents/live_cell_timelapse_a...          0.png   \n",
       "3  /home/lippincm/Documents/live_cell_timelapse_a...          0.png   \n",
       "4  /home/lippincm/Documents/live_cell_timelapse_a...          0.png   \n",
       "\n",
       "                                      mask_file_path  \n",
       "0  /home/lippincm/Documents/live_cell_timelapse_a...  \n",
       "1  /home/lippincm/Documents/live_cell_timelapse_a...  \n",
       "2  /home/lippincm/Documents/live_cell_timelapse_a...  \n",
       "3  /home/lippincm/Documents/live_cell_timelapse_a...  \n",
       "4  /home/lippincm/Documents/live_cell_timelapse_a...  "
      ]
     },
     "execution_count": 25,
     "metadata": {},
     "output_type": "execute_result"
    }
   ],
   "source": [
    "# read the data from the table and check the first few rows\n",
    "tbl.to_pandas().head()"
   ]
  }
 ],
 "metadata": {
  "kernelspec": {
   "display_name": "sam2_env",
   "language": "python",
   "name": "python3"
  },
  "language_info": {
   "codemirror_mode": {
    "name": "ipython",
    "version": 3
   },
   "file_extension": ".py",
   "mimetype": "text/x-python",
   "name": "python",
   "nbconvert_exporter": "python",
   "pygments_lexer": "ipython3",
   "version": "3.12.4"
  }
 },
 "nbformat": 4,
 "nbformat_minor": 2
}
