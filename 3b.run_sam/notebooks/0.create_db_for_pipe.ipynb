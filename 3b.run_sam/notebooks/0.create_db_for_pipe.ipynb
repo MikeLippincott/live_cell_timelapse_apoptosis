{
 "cells": [
  {
   "cell_type": "markdown",
   "metadata": {},
   "source": [
    "This notebook creates a lance database for storing image/single-cell metadata for tracking single cells through time. \n",
    "This lance db will be called in the next notebook in this analysis."
   ]
  },
  {
   "cell_type": "code",
   "execution_count": 1,
   "metadata": {},
   "outputs": [],
   "source": [
    "import os\n",
    "import pathlib\n",
    "\n",
    "import lance\n",
    "import lancedb\n",
    "import matplotlib.pyplot as plt\n",
    "import numpy as np\n",
    "import pandas as pd\n",
    "import pyarrow as pa\n",
    "import tifffile\n",
    "from tqdm import tqdm"
   ]
  },
  {
   "cell_type": "code",
   "execution_count": 2,
   "metadata": {},
   "outputs": [],
   "source": [
    "# create the database object\n",
    "uri = pathlib.Path(\"../../data/objects_db\").resolve()\n",
    "# delete the database directory if it exists\n",
    "if uri.exists():\n",
    "    os.system(f\"rm -rf {uri}\")\n",
    "db = lancedb.connect(uri)"
   ]
  },
  {
   "cell_type": "code",
   "execution_count": 3,
   "metadata": {},
   "outputs": [],
   "source": [
    "# set the path to the videos\n",
    "tiff_dir = pathlib.Path(\n",
    "    \"../../2.cellprofiler_ic_processing/illum_directory/20231017ChromaLive_6hr_4ch_MaxIP/\"\n",
    ").resolve(strict=True)\n",
    "\n",
    "# set the path to the terminal data\n",
    "terminal_data = pathlib.Path(\n",
    "    \"../../2.cellprofiler_ic_processing/illum_directory/20231017ChromaLive_endpoint_w_AnnexinV_2ch_MaxIP/\"\n",
    ").resolve(strict=True)"
   ]
  },
  {
   "cell_type": "markdown",
   "metadata": {},
   "source": [
    "### Get data formatted correctly"
   ]
  },
  {
   "cell_type": "code",
   "execution_count": 4,
   "metadata": {},
   "outputs": [
    {
     "data": {
      "text/html": [
       "<div>\n",
       "<style scoped>\n",
       "    .dataframe tbody tr th:only-of-type {\n",
       "        vertical-align: middle;\n",
       "    }\n",
       "\n",
       "    .dataframe tbody tr th {\n",
       "        vertical-align: top;\n",
       "    }\n",
       "\n",
       "    .dataframe thead th {\n",
       "        text-align: right;\n",
       "    }\n",
       "</style>\n",
       "<table border=\"1\" class=\"dataframe\">\n",
       "  <thead>\n",
       "    <tr style=\"text-align: right;\">\n",
       "      <th></th>\n",
       "      <th>file_name</th>\n",
       "      <th>file_path</th>\n",
       "      <th>Well</th>\n",
       "      <th>FOV</th>\n",
       "      <th>Timepoint</th>\n",
       "      <th>Z-slice</th>\n",
       "      <th>Well_FOV</th>\n",
       "      <th>image</th>\n",
       "      <th>binary_image</th>\n",
       "    </tr>\n",
       "  </thead>\n",
       "  <tbody>\n",
       "    <tr>\n",
       "      <th>0</th>\n",
       "      <td>C-02_F0001_T0001_Z0001_C01_illumcorrect</td>\n",
       "      <td>/home/lippincm/Documents/live_cell_timelapse_a...</td>\n",
       "      <td>C-02</td>\n",
       "      <td>F0001</td>\n",
       "      <td>T0001</td>\n",
       "      <td>Z0001</td>\n",
       "      <td>C-02_F0001</td>\n",
       "      <td>[0, 0, 0, 0, 0, 0, 0, 0, 0, 0, 0, 0, 0, 0, 0, ...</td>\n",
       "      <td>b'\\x00\\x00\\x00\\x00\\x00\\x00\\x00\\x00\\x00\\x00\\x00...</td>\n",
       "    </tr>\n",
       "  </tbody>\n",
       "</table>\n",
       "</div>"
      ],
      "text/plain": [
       "                                 file_name  \\\n",
       "0  C-02_F0001_T0001_Z0001_C01_illumcorrect   \n",
       "\n",
       "                                           file_path  Well    FOV Timepoint  \\\n",
       "0  /home/lippincm/Documents/live_cell_timelapse_a...  C-02  F0001     T0001   \n",
       "\n",
       "  Z-slice    Well_FOV                                              image  \\\n",
       "0   Z0001  C-02_F0001  [0, 0, 0, 0, 0, 0, 0, 0, 0, 0, 0, 0, 0, 0, 0, ...   \n",
       "\n",
       "                                        binary_image  \n",
       "0  b'\\x00\\x00\\x00\\x00\\x00\\x00\\x00\\x00\\x00\\x00\\x00...  "
      ]
     },
     "execution_count": 4,
     "metadata": {},
     "output_type": "execute_result"
    }
   ],
   "source": [
    "# get the list of tiff files in the directory\n",
    "tiff_files = list(tiff_dir.glob(\"*.tiff\"))\n",
    "tiff_files = tiff_files + list(terminal_data.glob(\"*.tiff\"))\n",
    "tiff_file_names = [file.stem for file in tiff_files]\n",
    "# files to df\n",
    "tiff_df = pd.DataFrame({\"file_name\": tiff_file_names, \"file_path\": tiff_files})\n",
    "\n",
    "# split the file_path column by _ but keep the original column\n",
    "tiff_df[\"file_name\"] = tiff_df[\"file_name\"].astype(str)\n",
    "tiff_df[[\"Well\", \"FOV\", \"Timepoint\", \"Z-slice\", \"Channel\", \"illum\"]] = tiff_df[\n",
    "    \"file_name\"\n",
    "].str.split(\"_\", expand=True)\n",
    "tiff_df[\"Well_FOV\"] = tiff_df[\"Well\"] + \"_\" + tiff_df[\"FOV\"]\n",
    "# drop all channels except for the first one\n",
    "# this is so there is one row per cell\n",
    "# specifically the first channel is the nuclei channel\n",
    "# and I will be tracking the obj=ects through the nuclei channel\n",
    "tiff_df = tiff_df[tiff_df[\"Channel\"] == \"C01\"]\n",
    "tiff_df = tiff_df.drop(columns=[\"Channel\", \"illum\"])\n",
    "\n",
    "# cast all types to string\n",
    "tiff_df = tiff_df.astype(str)\n",
    "# load binary data into the df of each image\n",
    "tiff_df[\"image\"] = tiff_df[\"file_path\"].apply(lambda x: tifffile.imread(x).flatten())\n",
    "tiff_df[\"binary_image\"] = tiff_df[\"image\"].apply(lambda x: x.tobytes())\n",
    "# sort the df by the well, fov, timepoint, z-slice\n",
    "tiff_df = tiff_df.sort_values([\"Well\", \"FOV\", \"Timepoint\", \"Z-slice\"])\n",
    "tiff_df.reset_index(drop=True, inplace=True)\n",
    "tiff_df.head(1)"
   ]
  },
  {
   "cell_type": "code",
   "execution_count": 5,
   "metadata": {},
   "outputs": [
    {
     "ename": "ArrowInvalid",
     "evalue": "offset overflow while concatenating arrays",
     "output_type": "error",
     "traceback": [
      "\u001b[0;31m---------------------------------------------------------------------------\u001b[0m",
      "\u001b[0;31mArrowInvalid\u001b[0m                              Traceback (most recent call last)",
      "Cell \u001b[0;32mIn[5], line 17\u001b[0m\n\u001b[1;32m      2\u001b[0m schema \u001b[38;5;241m=\u001b[39m pa\u001b[38;5;241m.\u001b[39mschema(\n\u001b[1;32m      3\u001b[0m     [\n\u001b[1;32m      4\u001b[0m         pa\u001b[38;5;241m.\u001b[39mfield(\u001b[38;5;124m\"\u001b[39m\u001b[38;5;124mfile_name\u001b[39m\u001b[38;5;124m\"\u001b[39m, pa\u001b[38;5;241m.\u001b[39mstring()),\n\u001b[0;32m   (...)\u001b[0m\n\u001b[1;32m     14\u001b[0m     ]\n\u001b[1;32m     15\u001b[0m )\n\u001b[1;32m     16\u001b[0m \u001b[38;5;66;03m# create the table in the database following the schema\u001b[39;00m\n\u001b[0;32m---> 17\u001b[0m tbl \u001b[38;5;241m=\u001b[39m db\u001b[38;5;241m.\u001b[39mcreate_table(\n\u001b[1;32m     18\u001b[0m     \u001b[38;5;124m\"\u001b[39m\u001b[38;5;124m0.original_images\u001b[39m\u001b[38;5;124m\"\u001b[39m, mode\u001b[38;5;241m=\u001b[39m\u001b[38;5;124m\"\u001b[39m\u001b[38;5;124moverwrite\u001b[39m\u001b[38;5;124m\"\u001b[39m, data\u001b[38;5;241m=\u001b[39mtiff_df, schema\u001b[38;5;241m=\u001b[39mschema\n\u001b[1;32m     19\u001b[0m )\n",
      "File \u001b[0;32m~/miniforge3/envs/sam2_env/lib/python3.12/site-packages/lancedb/db.py:417\u001b[0m, in \u001b[0;36mLanceDBConnection.create_table\u001b[0;34m(self, name, data, schema, mode, exist_ok, on_bad_vectors, fill_value, embedding_functions)\u001b[0m\n\u001b[1;32m    414\u001b[0m     \u001b[38;5;28;01mraise\u001b[39;00m \u001b[38;5;167;01mValueError\u001b[39;00m(\u001b[38;5;124m\"\u001b[39m\u001b[38;5;124mmode must be either \u001b[39m\u001b[38;5;124m'\u001b[39m\u001b[38;5;124mcreate\u001b[39m\u001b[38;5;124m'\u001b[39m\u001b[38;5;124m or \u001b[39m\u001b[38;5;124m'\u001b[39m\u001b[38;5;124moverwrite\u001b[39m\u001b[38;5;124m'\u001b[39m\u001b[38;5;124m\"\u001b[39m)\n\u001b[1;32m    415\u001b[0m validate_table_name(name)\n\u001b[0;32m--> 417\u001b[0m tbl \u001b[38;5;241m=\u001b[39m LanceTable\u001b[38;5;241m.\u001b[39mcreate(\n\u001b[1;32m    418\u001b[0m     \u001b[38;5;28mself\u001b[39m,\n\u001b[1;32m    419\u001b[0m     name,\n\u001b[1;32m    420\u001b[0m     data,\n\u001b[1;32m    421\u001b[0m     schema,\n\u001b[1;32m    422\u001b[0m     mode\u001b[38;5;241m=\u001b[39mmode,\n\u001b[1;32m    423\u001b[0m     exist_ok\u001b[38;5;241m=\u001b[39mexist_ok,\n\u001b[1;32m    424\u001b[0m     on_bad_vectors\u001b[38;5;241m=\u001b[39mon_bad_vectors,\n\u001b[1;32m    425\u001b[0m     fill_value\u001b[38;5;241m=\u001b[39mfill_value,\n\u001b[1;32m    426\u001b[0m     embedding_functions\u001b[38;5;241m=\u001b[39membedding_functions,\n\u001b[1;32m    427\u001b[0m )\n\u001b[1;32m    428\u001b[0m \u001b[38;5;28;01mreturn\u001b[39;00m tbl\n",
      "File \u001b[0;32m~/miniforge3/envs/sam2_env/lib/python3.12/site-packages/lancedb/table.py:1551\u001b[0m, in \u001b[0;36mLanceTable.create\u001b[0;34m(cls, db, name, data, schema, mode, exist_ok, on_bad_vectors, fill_value, embedding_functions)\u001b[0m\n\u001b[1;32m   1548\u001b[0m     metadata \u001b[38;5;241m=\u001b[39m registry\u001b[38;5;241m.\u001b[39mget_table_metadata(embedding_functions)\n\u001b[1;32m   1550\u001b[0m \u001b[38;5;28;01mif\u001b[39;00m data \u001b[38;5;129;01mis\u001b[39;00m \u001b[38;5;129;01mnot\u001b[39;00m \u001b[38;5;28;01mNone\u001b[39;00m:\n\u001b[0;32m-> 1551\u001b[0m     data, schema \u001b[38;5;241m=\u001b[39m _sanitize_data(\n\u001b[1;32m   1552\u001b[0m         data,\n\u001b[1;32m   1553\u001b[0m         schema,\n\u001b[1;32m   1554\u001b[0m         metadata\u001b[38;5;241m=\u001b[39mmetadata,\n\u001b[1;32m   1555\u001b[0m         on_bad_vectors\u001b[38;5;241m=\u001b[39mon_bad_vectors,\n\u001b[1;32m   1556\u001b[0m         fill_value\u001b[38;5;241m=\u001b[39mfill_value,\n\u001b[1;32m   1557\u001b[0m     )\n\u001b[1;32m   1559\u001b[0m \u001b[38;5;28;01mif\u001b[39;00m schema \u001b[38;5;129;01mis\u001b[39;00m \u001b[38;5;28;01mNone\u001b[39;00m:\n\u001b[1;32m   1560\u001b[0m     \u001b[38;5;28;01mif\u001b[39;00m data \u001b[38;5;129;01mis\u001b[39;00m \u001b[38;5;28;01mNone\u001b[39;00m:\n",
      "File \u001b[0;32m~/miniforge3/envs/sam2_env/lib/python3.12/site-packages/lancedb/table.py:128\u001b[0m, in \u001b[0;36m_sanitize_data\u001b[0;34m(data, schema, metadata, on_bad_vectors, fill_value)\u001b[0m\n\u001b[1;32m    126\u001b[0m         metadata\u001b[38;5;241m.\u001b[39mupdate(data\u001b[38;5;241m.\u001b[39mschema\u001b[38;5;241m.\u001b[39mmetadata \u001b[38;5;129;01mor\u001b[39;00m {})\n\u001b[1;32m    127\u001b[0m         data \u001b[38;5;241m=\u001b[39m data\u001b[38;5;241m.\u001b[39mreplace_schema_metadata(metadata)\n\u001b[0;32m--> 128\u001b[0m     data \u001b[38;5;241m=\u001b[39m _sanitize_schema(\n\u001b[1;32m    129\u001b[0m         data, schema\u001b[38;5;241m=\u001b[39mschema, on_bad_vectors\u001b[38;5;241m=\u001b[39mon_bad_vectors, fill_value\u001b[38;5;241m=\u001b[39mfill_value\n\u001b[1;32m    130\u001b[0m     )\n\u001b[1;32m    131\u001b[0m \u001b[38;5;28;01melif\u001b[39;00m \u001b[38;5;28misinstance\u001b[39m(data, Iterable):\n\u001b[1;32m    132\u001b[0m     data \u001b[38;5;241m=\u001b[39m _to_record_batch_generator(\n\u001b[1;32m    133\u001b[0m         data, schema, metadata, on_bad_vectors, fill_value\n\u001b[1;32m    134\u001b[0m     )\n",
      "File \u001b[0;32m~/miniforge3/envs/sam2_env/lib/python3.12/site-packages/lancedb/table.py:1782\u001b[0m, in \u001b[0;36m_sanitize_schema\u001b[0;34m(data, schema, on_bad_vectors, fill_value)\u001b[0m\n\u001b[1;32m   1780\u001b[0m     \u001b[38;5;28;01mreturn\u001b[39;00m data\n\u001b[1;32m   1781\u001b[0m \u001b[38;5;66;03m# cast the columns to the expected types\u001b[39;00m\n\u001b[0;32m-> 1782\u001b[0m data \u001b[38;5;241m=\u001b[39m data\u001b[38;5;241m.\u001b[39mcombine_chunks()\n\u001b[1;32m   1783\u001b[0m \u001b[38;5;28;01mfor\u001b[39;00m field \u001b[38;5;129;01min\u001b[39;00m schema:\n\u001b[1;32m   1784\u001b[0m     \u001b[38;5;66;03m# TODO: we're making an assumption that fixed size list of 10 or more\u001b[39;00m\n\u001b[1;32m   1785\u001b[0m     \u001b[38;5;66;03m# is a vector column. This is definitely a bit hacky.\u001b[39;00m\n\u001b[1;32m   1786\u001b[0m     likely_vector_col \u001b[38;5;241m=\u001b[39m (\n\u001b[1;32m   1787\u001b[0m         pa\u001b[38;5;241m.\u001b[39mtypes\u001b[38;5;241m.\u001b[39mis_fixed_size_list(field\u001b[38;5;241m.\u001b[39mtype)\n\u001b[1;32m   1788\u001b[0m         \u001b[38;5;129;01mand\u001b[39;00m pa\u001b[38;5;241m.\u001b[39mtypes\u001b[38;5;241m.\u001b[39mis_float32(field\u001b[38;5;241m.\u001b[39mtype\u001b[38;5;241m.\u001b[39mvalue_type)\n\u001b[1;32m   1789\u001b[0m         \u001b[38;5;129;01mand\u001b[39;00m field\u001b[38;5;241m.\u001b[39mtype\u001b[38;5;241m.\u001b[39mlist_size \u001b[38;5;241m>\u001b[39m\u001b[38;5;241m=\u001b[39m \u001b[38;5;241m10\u001b[39m\n\u001b[1;32m   1790\u001b[0m     )\n",
      "File \u001b[0;32m~/miniforge3/envs/sam2_env/lib/python3.12/site-packages/pyarrow/table.pxi:4289\u001b[0m, in \u001b[0;36mpyarrow.lib.Table.combine_chunks\u001b[0;34m()\u001b[0m\n",
      "File \u001b[0;32m~/miniforge3/envs/sam2_env/lib/python3.12/site-packages/pyarrow/error.pxi:154\u001b[0m, in \u001b[0;36mpyarrow.lib.pyarrow_internal_check_status\u001b[0;34m()\u001b[0m\n",
      "File \u001b[0;32m~/miniforge3/envs/sam2_env/lib/python3.12/site-packages/pyarrow/error.pxi:91\u001b[0m, in \u001b[0;36mpyarrow.lib.check_status\u001b[0;34m()\u001b[0m\n",
      "\u001b[0;31mArrowInvalid\u001b[0m: offset overflow while concatenating arrays"
     ]
    }
   ],
   "source": [
    "# create the schema for the table in the database\n",
    "schema = pa.schema(\n",
    "    [\n",
    "        pa.field(\"file_name\", pa.string()),\n",
    "        pa.field(\"file_path\", pa.string()),\n",
    "        pa.field(\"Well\", pa.string()),\n",
    "        pa.field(\"FOV\", pa.string()),\n",
    "        pa.field(\"Timepoint\", pa.string()),\n",
    "        pa.field(\"Z-slice\", pa.string()),\n",
    "        pa.field(\"Well_FOV\", pa.string()),\n",
    "        pa.field(\"image\", pa.list_(pa.int16())),\n",
    "        # add binary data\n",
    "        pa.field(\"binary_image\", pa.binary()),\n",
    "    ]\n",
    ")\n",
    "# create the table in the database following the schema\n",
    "tbl = db.create_table(\n",
    "    \"0.original_images\", mode=\"overwrite\", data=tiff_df, schema=schema\n",
    ")"
   ]
  }
 ],
 "metadata": {
  "kernelspec": {
   "display_name": "sam2_env",
   "language": "python",
   "name": "python3"
  },
  "language_info": {
   "codemirror_mode": {
    "name": "ipython",
    "version": 3
   },
   "file_extension": ".py",
   "mimetype": "text/x-python",
   "name": "python",
   "nbconvert_exporter": "python",
   "pygments_lexer": "ipython3",
   "version": "3.12.4"
  }
 },
 "nbformat": 4,
 "nbformat_minor": 2
}
