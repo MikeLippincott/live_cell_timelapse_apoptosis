{
 "cells": [
  {
   "cell_type": "markdown",
   "metadata": {},
   "source": [
    "This notebook creates a lance database for storing image/single-cell metadata for tracking single cells through time. \n",
    "This lance db will be called in the next notebook in this analysis."
   ]
  },
  {
   "cell_type": "code",
   "execution_count": 1,
   "metadata": {},
   "outputs": [],
   "source": [
    "import os\n",
    "import pathlib\n",
    "\n",
    "import lance\n",
    "import lancedb\n",
    "import matplotlib.pyplot as plt\n",
    "import numpy as np\n",
    "import pandas as pd\n",
    "import pyarrow as pa\n",
    "import tifffile\n",
    "from tqdm import tqdm"
   ]
  },
  {
   "cell_type": "code",
   "execution_count": 2,
   "metadata": {},
   "outputs": [],
   "source": [
    "# create the database object\n",
    "uri = pathlib.Path(\"../../data/objects_db\").resolve()\n",
    "# delete the database directory if it exists\n",
    "if uri.exists():\n",
    "    os.system(f\"rm -rf {uri}\")\n",
    "db = lancedb.connect(uri)"
   ]
  },
  {
   "cell_type": "code",
   "execution_count": 3,
   "metadata": {},
   "outputs": [],
   "source": [
    "# set the path to the videos\n",
    "tiff_dir = pathlib.Path(\n",
    "    \"../../2.cellprofiler_ic_processing/illum_directory/20231017ChromaLive_6hr_4ch_MaxIP/\"\n",
    ").resolve(strict=True)\n",
    "\n",
    "# set the path to the terminal data\n",
    "terminal_data = pathlib.Path(\n",
    "    \"../../2.cellprofiler_ic_processing/illum_directory/20231017ChromaLive_endpoint_w_AnnexinV_2ch_MaxIP/\"\n",
    ").resolve(strict=True)"
   ]
  },
  {
   "cell_type": "markdown",
   "metadata": {},
   "source": [
    "### Get data formatted correctly"
   ]
  },
  {
   "cell_type": "code",
   "execution_count": 4,
   "metadata": {},
   "outputs": [
    {
     "data": {
      "text/html": [
       "<div>\n",
       "<style scoped>\n",
       "    .dataframe tbody tr th:only-of-type {\n",
       "        vertical-align: middle;\n",
       "    }\n",
       "\n",
       "    .dataframe tbody tr th {\n",
       "        vertical-align: top;\n",
       "    }\n",
       "\n",
       "    .dataframe thead th {\n",
       "        text-align: right;\n",
       "    }\n",
       "</style>\n",
       "<table border=\"1\" class=\"dataframe\">\n",
       "  <thead>\n",
       "    <tr style=\"text-align: right;\">\n",
       "      <th></th>\n",
       "      <th>file_name</th>\n",
       "      <th>file_path</th>\n",
       "      <th>Well</th>\n",
       "      <th>FOV</th>\n",
       "      <th>Timepoint</th>\n",
       "      <th>Z-slice</th>\n",
       "      <th>Well_FOV</th>\n",
       "      <th>image</th>\n",
       "      <th>binary_image</th>\n",
       "    </tr>\n",
       "  </thead>\n",
       "  <tbody>\n",
       "    <tr>\n",
       "      <th>0</th>\n",
       "      <td>C-02_F0001_T0001_Z0001_C01_illumcorrect</td>\n",
       "      <td>/home/lippincm/Documents/live_cell_timelapse_a...</td>\n",
       "      <td>C-02</td>\n",
       "      <td>F0001</td>\n",
       "      <td>T0001</td>\n",
       "      <td>Z0001</td>\n",
       "      <td>C-02_F0001</td>\n",
       "      <td>[0, 0, 0, 0, 0, 0, 0, 0, 0, 0, 0, 0, 0, 0, 0, ...</td>\n",
       "      <td>b'\\x00\\x00\\x00\\x00\\x00\\x00\\x00\\x00\\x00\\x00\\x00...</td>\n",
       "    </tr>\n",
       "  </tbody>\n",
       "</table>\n",
       "</div>"
      ],
      "text/plain": [
       "                                 file_name  \\\n",
       "0  C-02_F0001_T0001_Z0001_C01_illumcorrect   \n",
       "\n",
       "                                           file_path  Well    FOV Timepoint  \\\n",
       "0  /home/lippincm/Documents/live_cell_timelapse_a...  C-02  F0001     T0001   \n",
       "\n",
       "  Z-slice    Well_FOV                                              image  \\\n",
       "0   Z0001  C-02_F0001  [0, 0, 0, 0, 0, 0, 0, 0, 0, 0, 0, 0, 0, 0, 0, ...   \n",
       "\n",
       "                                        binary_image  \n",
       "0  b'\\x00\\x00\\x00\\x00\\x00\\x00\\x00\\x00\\x00\\x00\\x00...  "
      ]
     },
     "execution_count": 4,
     "metadata": {},
     "output_type": "execute_result"
    }
   ],
   "source": [
    "# get the list of tiff files in the directory\n",
    "tiff_files = list(tiff_dir.glob(\"*.tiff\"))\n",
    "tiff_files = tiff_files + list(terminal_data.glob(\"*.tiff\"))\n",
    "tiff_file_names = [file.stem for file in tiff_files]\n",
    "# files to df\n",
    "tiff_df = pd.DataFrame({\"file_name\": tiff_file_names, \"file_path\": tiff_files})\n",
    "\n",
    "# split the file_path column by _ but keep the original column\n",
    "tiff_df[\"file_name\"] = tiff_df[\"file_name\"].astype(str)\n",
    "tiff_df[[\"Well\", \"FOV\", \"Timepoint\", \"Z-slice\", \"Channel\", \"illum\"]] = tiff_df[\n",
    "    \"file_name\"\n",
    "].str.split(\"_\", expand=True)\n",
    "tiff_df[\"Well_FOV\"] = tiff_df[\"Well\"] + \"_\" + tiff_df[\"FOV\"]\n",
    "# drop all channels except for the first one\n",
    "# this is so there is one row per cell\n",
    "# specifically the first channel is the nuclei channel\n",
    "# and I will be tracking the obj=ects through the nuclei channel\n",
    "tiff_df = tiff_df[tiff_df[\"Channel\"] == \"C01\"]\n",
    "tiff_df = tiff_df.drop(columns=[\"Channel\", \"illum\"])\n",
    "\n",
    "# cast all types to string\n",
    "tiff_df = tiff_df.astype(str)\n",
    "# load binary data into the df of each image\n",
    "tiff_df[\"image\"] = tiff_df[\"file_path\"].apply(lambda x: tifffile.imread(x).flatten())\n",
    "tiff_df[\"binary_image\"] = tiff_df[\"image\"].apply(lambda x: x.tobytes())\n",
    "# sort the df by the well, fov, timepoint, z-slice\n",
    "tiff_df = tiff_df.sort_values([\"Well\", \"FOV\", \"Timepoint\", \"Z-slice\"])\n",
    "tiff_df.reset_index(drop=True, inplace=True)\n",
    "tiff_df.head(1)"
   ]
  },
  {
   "cell_type": "code",
   "execution_count": 5,
   "metadata": {},
   "outputs": [
    {
     "name": "stdout",
     "output_type": "stream",
     "text": [
      "Arrow Table created successfully\n"
     ]
    },
    {
     "name": "stderr",
     "output_type": "stream",
     "text": [
      "[2024-10-10T20:29:00Z WARN  lance::dataset] No existing dataset at /home/lippincm/Documents/live_cell_timelapse_apoptosis/data/objects_db/0.original_images.lance, it will be created\n"
     ]
    },
    {
     "name": "stdout",
     "output_type": "stream",
     "text": [
      "Table created successfully\n"
     ]
    }
   ],
   "source": [
    "# create the schema for the table in the database\n",
    "schema = pa.schema(\n",
    "    [\n",
    "        pa.field(\"file_name\", pa.string()),\n",
    "        pa.field(\"file_path\", pa.string()),\n",
    "        pa.field(\"Well\", pa.string()),\n",
    "        pa.field(\"FOV\", pa.string()),\n",
    "        pa.field(\"Timepoint\", pa.string()),\n",
    "        pa.field(\"Z-slice\", pa.string()),\n",
    "        pa.field(\"Well_FOV\", pa.string()),\n",
    "        pa.field(\"image\", pa.list_(pa.int16())),\n",
    "        # add binary data\n",
    "        pa.field(\"binary_image\", pa.binary()),\n",
    "    ]\n",
    ")\n",
    "# Convert DataFrame to Arrow Table\n",
    "try:\n",
    "    arrow_table = pa.Table.from_pandas(tiff_df, schema=schema)\n",
    "    print(\"Arrow Table created successfully\")\n",
    "except pa.ArrowInvalid as e:\n",
    "    print(f\"Error: {e}\")\n",
    "\n",
    "# Create the table in the database\n",
    "try:\n",
    "    tbl = db.create_table(\n",
    "        \"0.original_images\", mode=\"overwrite\", data=arrow_table, schema=schema\n",
    "    )\n",
    "    print(\"Table created successfully\")\n",
    "except Exception as e:\n",
    "    print(f\"Error: {e}\")"
   ]
  }
 ],
 "metadata": {
  "kernelspec": {
   "display_name": "sam2_env",
   "language": "python",
   "name": "python3"
  },
  "language_info": {
   "codemirror_mode": {
    "name": "ipython",
    "version": 3
   },
   "file_extension": ".py",
   "mimetype": "text/x-python",
   "name": "python",
   "nbconvert_exporter": "python",
   "pygments_lexer": "ipython3",
   "version": "3.12.4"
  }
 },
 "nbformat": 4,
 "nbformat_minor": 2
}
