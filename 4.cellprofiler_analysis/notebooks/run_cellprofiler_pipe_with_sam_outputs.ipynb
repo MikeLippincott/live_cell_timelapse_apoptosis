{
 "cells": [
  {
   "cell_type": "code",
   "execution_count": 1,
   "metadata": {},
   "outputs": [],
   "source": [
    "import pathlib\n",
    "import pprint\n",
    "import shutil\n",
    "import sys\n",
    "\n",
    "sys.path.append(\"../../utils/\")\n",
    "import cp_parallel"
   ]
  },
  {
   "cell_type": "markdown",
   "metadata": {},
   "source": [
    "## Set paths and variables"
   ]
  },
  {
   "cell_type": "code",
   "execution_count": 2,
   "metadata": {},
   "outputs": [],
   "source": [
    "HPC = False"
   ]
  },
  {
   "cell_type": "code",
   "execution_count": 3,
   "metadata": {},
   "outputs": [],
   "source": [
    "# set the run type for the parallelization\n",
    "run_name = \"analysis\"\n",
    "\n",
    "# set main output dir for all plates\n",
    "output_dir = pathlib.Path(\"../analysis_output\")\n",
    "output_dir.mkdir(exist_ok=True, parents=True)\n",
    "\n",
    "# directory where images are located within folders\n",
    "images_dir = pathlib.Path(\n",
    "    \"../../2.cellprofiler_ic_processing/illum_directory/20231017ChromaLive_6hr_4ch_MaxIP_test_small\"\n",
    ").resolve()\n",
    "# directory where masks are located within folders\n",
    "masks_dir = pathlib.Path(\"../../3b.run_sam/sam2_processing_dir/masks\").resolve()\n",
    "\n",
    "# path to plugins directory as one of the pipelines uses the RunCellpose plugin\n",
    "plugins_dir = pathlib.Path(\n",
    "    \"/home/lippincm/Documents/CellProfiler-plugins/active_plugins\"\n",
    ").resolve()\n",
    "\n",
    "HPC_plugins_dir = pathlib.Path(\"/scratch/alpine/mlippincott@xsede.org/\").resolve()"
   ]
  },
  {
   "cell_type": "code",
   "execution_count": 4,
   "metadata": {},
   "outputs": [],
   "source": [
    "# make a new dir for input images\n",
    "CP_input_dir = pathlib.Path(\"../../3b.run_sam/sam2_processing_dir/CP_input/\").resolve()\n",
    "# remove any existing files in the dir from previous runs\n",
    "if CP_input_dir.exists():\n",
    "    shutil.rmtree(CP_input_dir)\n",
    "CP_input_dir.mkdir(exist_ok=True, parents=True)\n",
    "\n",
    "# copy all images to the new dir\n",
    "for image in images_dir.rglob(\"*.tiff\"):\n",
    "    if image.is_file():\n",
    "        shutil.copy(image, CP_input_dir)\n",
    "for mask in masks_dir.rglob(\"*.png\"):\n",
    "    if mask.is_file():\n",
    "        # check if the mask is a terminal mask\n",
    "        if not \"T0014\" in mask.stem:\n",
    "            shutil.copy(mask, CP_input_dir)"
   ]
  },
  {
   "cell_type": "markdown",
   "metadata": {},
   "source": [
    "## Create dictionary with all info for each plate"
   ]
  },
  {
   "cell_type": "code",
   "execution_count": 5,
   "metadata": {},
   "outputs": [
    {
     "name": "stdout",
     "output_type": "stream",
     "text": [
      "{   '20231017ChromaLive_6hr_4ch_MaxIP_sam': {   'path_to_images': PosixPath('/home/lippincm/Documents/live_cell_timelapse_apoptosis/3b.run_sam/sam2_processing_dir/CP_input'),\n",
      "                                                'path_to_output': PosixPath('/home/lippincm/Documents/live_cell_timelapse_apoptosis/4.cellprofiler_analysis/analysis_output/20231017ChromaLive_6hr_4ch_MaxIP_test_small'),\n",
      "                                                'path_to_pipeline': PosixPath('/home/lippincm/Documents/live_cell_timelapse_apoptosis/4.cellprofiler_analysis/pipelines/analysis_4ch_with_sam.cppipe')},\n",
      "    'run_20231017ChromaLive_endpoint_w_AnnexinV_2ch_MaxIP': {   'path_to_images': PosixPath('/home/lippincm/Documents/live_cell_timelapse_apoptosis/2.cellprofiler_ic_processing/illum_directory/20231017ChromaLive_endpoint_w_AnnexinV_2ch_MaxIP_test_small'),\n",
      "                                                                'path_to_output': PosixPath('/home/lippincm/Documents/live_cell_timelapse_apoptosis/4.cellprofiler_analysis/analysis_output/20231017ChromaLive_endpoint_w_AnnexinV_2ch_MaxIP_test_small'),\n",
      "                                                                'path_to_pipeline': PosixPath('/home/lippincm/Documents/live_cell_timelapse_apoptosis/4.cellprofiler_analysis/pipelines/analysis_2ch.cppipe')}}\n"
     ]
    }
   ],
   "source": [
    "dict_of_inputs = {\n",
    "    \"20231017ChromaLive_6hr_4ch_MaxIP_sam\": {\n",
    "        \"path_to_images\": pathlib.Path(f\"{CP_input_dir}\").resolve(),\n",
    "        \"path_to_output\": pathlib.Path(\n",
    "            f\"{output_dir}/20231017ChromaLive_6hr_4ch_MaxIP_test_small/\"\n",
    "        ).resolve(),\n",
    "        \"path_to_pipeline\": pathlib.Path(\n",
    "            \"../pipelines/analysis_4ch_with_sam.cppipe\"\n",
    "        ).resolve(),\n",
    "    },\n",
    "    \"run_20231017ChromaLive_endpoint_w_AnnexinV_2ch_MaxIP\": {\n",
    "        \"path_to_images\": pathlib.Path(\n",
    "            \"../../2.cellprofiler_ic_processing/illum_directory/20231017ChromaLive_endpoint_w_AnnexinV_2ch_MaxIP_test_small\"\n",
    "        ).resolve(strict=True),\n",
    "        \"path_to_output\": pathlib.Path(\n",
    "            f\"{output_dir}/20231017ChromaLive_endpoint_w_AnnexinV_2ch_MaxIP_test_small/\"\n",
    "        ).resolve(),\n",
    "        \"path_to_pipeline\": pathlib.Path(\"../pipelines/analysis_2ch.cppipe\").resolve(),\n",
    "    },\n",
    "}\n",
    "\n",
    "# view the dictionary to assess that all info is added correctly\n",
    "pprint.pprint(dict_of_inputs, indent=4)"
   ]
  },
  {
   "cell_type": "code",
   "execution_count": 6,
   "metadata": {},
   "outputs": [
    {
     "name": "stdout",
     "output_type": "stream",
     "text": [
      "Number of processes: 2\n",
      "All processes have been completed!\n",
      "20231017ChromaLive_6hr_4ch_MaxIP_test_small 0\n",
      "20231017ChromaLive_endpoint_w_AnnexinV_2ch_MaxIP_test_small 0\n",
      "All results have been converted to log files!\n"
     ]
    }
   ],
   "source": [
    "if not HPC:\n",
    "    cp_parallel.run_cellprofiler_parallel(\n",
    "        plate_info_dictionary=dict_of_inputs,\n",
    "        run_name=run_name,\n",
    "        plugins_dir=plugins_dir,\n",
    "    )\n",
    "else:\n",
    "    cp_parallel.run_cellprofiler_parallel(\n",
    "        plate_info_dictionary=dict_of_inputs,\n",
    "        run_name=run_name,\n",
    "        plugins_dir=HPC_plugins_dir,\n",
    "    )"
   ]
  }
 ],
 "metadata": {
  "kernelspec": {
   "display_name": "cellprofiler_timelapse_env",
   "language": "python",
   "name": "python3"
  },
  "language_info": {
   "codemirror_mode": {
    "name": "ipython",
    "version": 3
   },
   "file_extension": ".py",
   "mimetype": "text/x-python",
   "name": "python",
   "nbconvert_exporter": "python",
   "pygments_lexer": "ipython3",
   "version": "3.8.19"
  }
 },
 "nbformat": 4,
 "nbformat_minor": 2
}
