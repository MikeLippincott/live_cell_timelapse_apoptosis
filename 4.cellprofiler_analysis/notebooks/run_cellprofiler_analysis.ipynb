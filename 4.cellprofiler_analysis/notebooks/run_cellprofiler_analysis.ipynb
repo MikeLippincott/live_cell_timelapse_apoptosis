{
 "cells": [
  {
   "attachments": {},
   "cell_type": "markdown",
   "metadata": {},
   "source": [
    "# Perform segmentation and feature extraction for each plate using CellProfiler Parallel"
   ]
  },
  {
   "attachments": {},
   "cell_type": "markdown",
   "metadata": {},
   "source": [
    "## Import libraries"
   ]
  },
  {
   "cell_type": "code",
   "execution_count": 1,
   "metadata": {},
   "outputs": [],
   "source": [
    "import argparse\n",
    "import pathlib\n",
    "import pprint\n",
    "import sys\n",
    "import time\n",
    "\n",
    "sys.path.append(\"../../utils/\")\n",
    "import cp_utils\n",
    "\n",
    "# check if in a jupyter notebook\n",
    "try:\n",
    "    cfg = get_ipython().config\n",
    "    in_notebook = True\n",
    "except NameError:\n",
    "    in_notebook = False"
   ]
  },
  {
   "attachments": {},
   "cell_type": "markdown",
   "metadata": {},
   "source": [
    "## Set paths and variables"
   ]
  },
  {
   "cell_type": "code",
   "execution_count": 2,
   "metadata": {},
   "outputs": [],
   "source": [
    "# directory where images are located within folders\n",
    "images_dir = pathlib.Path(\"../../2.cellprofiler_ic_processing/illum_directory\")\n",
    "experiment_prefix_timelapse = \"20231017ChromaLive_6hr_4ch_MaxIP_\"\n",
    "experiment_prefix_endpoint = \"20231017ChromaLive_endpoint_w_AnnexinV_2ch_MaxIP_\""
   ]
  },
  {
   "cell_type": "code",
   "execution_count": 3,
   "metadata": {},
   "outputs": [
    {
     "name": "stdout",
     "output_type": "stream",
     "text": [
      "Running in a notebook\n"
     ]
    }
   ],
   "source": [
    "if not in_notebook:\n",
    "    print(\"Running as script\")\n",
    "    # set up arg parser\n",
    "    parser = argparse.ArgumentParser(description=\"Illumination correction\")\n",
    "\n",
    "    parser.add_argument(\n",
    "        \"--well_fov\",\n",
    "        type=str,\n",
    "        help=\"Path to the input directory containing the tiff images\",\n",
    "    )\n",
    "\n",
    "    args = parser.parse_args()\n",
    "    well_fov = args.well_fov\n",
    "    timelapse_dir = pathlib.Path(\n",
    "        f\"{images_dir}/timelapse/{experiment_prefix_timelapse}{well_fov}/\"\n",
    "    )\n",
    "    endpoint_dir = pathlib.Path(\n",
    "        f\"{images_dir}/endpoint/{experiment_prefix_endpoint}{well_fov}/\"\n",
    "    )\n",
    "else:\n",
    "    print(\"Running in a notebook\")\n",
    "    well_fov = \"C-05_F0004\"\n",
    "    timelapse_dir = pathlib.Path(\n",
    "        f\"{images_dir}/timelapse/{experiment_prefix_timelapse}{well_fov}/\"\n",
    "    )\n",
    "    endpoint_dir = pathlib.Path(\n",
    "        f\"{images_dir}/endpoint/{experiment_prefix_endpoint}{well_fov}/\"\n",
    "    )\n",
    "\n",
    "path_to_pipelines = pathlib.Path(\"../pipelines/\").resolve(strict=True)\n",
    "\n",
    "# set main output dir for all plates\n",
    "output_dir = pathlib.Path(\"../analysis_output/\")\n",
    "output_dir.mkdir(exist_ok=True, parents=True)"
   ]
  },
  {
   "cell_type": "markdown",
   "metadata": {},
   "source": [
    "## Create dictionary with all info for each plate"
   ]
  },
  {
   "cell_type": "code",
   "execution_count": null,
   "metadata": {},
   "outputs": [
    {
     "name": "stdout",
     "output_type": "stream",
     "text": [
      "{   'run_20231017ChromaLive_endpoint_w_AnnexinV_2ch_MaxIP_whole_image': {   'path_to_images': PosixPath('/home/lippincm/4TB_A/live_cell_timelapse_apoptosis/2.cellprofiler_ic_processing/illum_directory/endpoint/20231017ChromaLive_endpoint_w_AnnexinV_2ch_MaxIP_C-05_F0004'),\n",
      "                                                                            'path_to_output': PosixPath('/home/lippincm/4TB_A/live_cell_timelapse_apoptosis/4.cellprofiler_analysis/analysis_output/endpoint_whole_image/C-05_F0004'),\n",
      "                                                                            'path_to_pipeline': PosixPath('/home/lippincm/4TB_A/live_cell_timelapse_apoptosis/4.cellprofiler_analysis/pipelines/analysis_2ch_image.cppipe')}}\n"
     ]
    }
   ],
   "source": [
    "dict_of_inputs = {\n",
    "    \"20231017ChromaLive_6hr_4ch_MaxIP\": {\n",
    "        \"path_to_images\": pathlib.Path(timelapse_dir).resolve(strict=True),\n",
    "        \"path_to_output\": pathlib.Path(f\"{output_dir}/timelapse/{well_fov}\").resolve(),\n",
    "        \"path_to_pipeline\": pathlib.Path(\n",
    "            f\"{path_to_pipelines}/analysis_4ch.cppipe\"\n",
    "        ).resolve(),\n",
    "    },\n",
    "    \"run_20231017ChromaLive_endpoint_w_AnnexinV_2ch_MaxIP\": {\n",
    "        \"path_to_images\": pathlib.Path(endpoint_dir).resolve(),\n",
    "        \"path_to_output\": pathlib.Path(f\"{output_dir}/endpoint/{well_fov}\").resolve(),\n",
    "        \"path_to_pipeline\": pathlib.Path(\n",
    "            f\"{path_to_pipelines}/analysis_2ch.cppipe\"\n",
    "        ).resolve(),\n",
    "    },\n",
    "    \"run_20231017ChromaLive_endpoint_w_AnnexinV_2ch_MaxIP_whole_image\": {\n",
    "        \"path_to_images\": pathlib.Path(endpoint_dir).resolve(),\n",
    "        \"path_to_output\": pathlib.Path(\n",
    "            f\"{output_dir}/endpoint_whole_image/{well_fov}\"\n",
    "        ).resolve(),\n",
    "        \"path_to_pipeline\": pathlib.Path(\n",
    "            f\"{path_to_pipelines}/analysis_2ch_image.cppipe\"\n",
    "        ).resolve(),\n",
    "    },\n",
    "}\n",
    "\n",
    "# view the dictionary to assess that all info is added correctly\n",
    "pprint.pprint(dict_of_inputs, indent=4)"
   ]
  },
  {
   "attachments": {},
   "cell_type": "markdown",
   "metadata": {},
   "source": [
    "## Run analysis pipeline on each plate in parallel\n",
    "\n",
    "This cell is not finished to completion due to how long it would take. It is ran in the python file instead."
   ]
  },
  {
   "cell_type": "code",
   "execution_count": 5,
   "metadata": {},
   "outputs": [],
   "source": [
    "start = time.time()"
   ]
  },
  {
   "cell_type": "code",
   "execution_count": 6,
   "metadata": {},
   "outputs": [
    {
     "name": "stdout",
     "output_type": "stream",
     "text": [
      "The CellProfiler run has been completed with log. Please check log file for any errors.\n"
     ]
    }
   ],
   "source": [
    "for run in dict_of_inputs.keys():\n",
    "    cp_utils.run_cellprofiler(\n",
    "        path_to_pipeline=dict_of_inputs[run][\"path_to_pipeline\"],\n",
    "        path_to_input=dict_of_inputs[run][\"path_to_images\"],\n",
    "        path_to_output=dict_of_inputs[run][\"path_to_output\"],\n",
    "    )"
   ]
  },
  {
   "cell_type": "code",
   "execution_count": 7,
   "metadata": {},
   "outputs": [
    {
     "name": "stdout",
     "output_type": "stream",
     "text": [
      "Total time taken: 00:00:02.45\n"
     ]
    }
   ],
   "source": [
    "end = time.time()\n",
    "# format the time taken into hours, minutes, seconds\n",
    "hours, rem = divmod(end - start, 3600)\n",
    "minutes, seconds = divmod(rem, 60)\n",
    "print(\n",
    "    \"Total time taken: {:0>2}:{:0>2}:{:05.2f}\".format(int(hours), int(minutes), seconds)\n",
    ")"
   ]
  }
 ],
 "metadata": {
  "kernelspec": {
   "display_name": "cellprofiler_timelapse_env",
   "language": "python",
   "name": "python3"
  },
  "language_info": {
   "codemirror_mode": {
    "name": "ipython",
    "version": 3
   },
   "file_extension": ".py",
   "mimetype": "text/x-python",
   "name": "python",
   "nbconvert_exporter": "python",
   "pygments_lexer": "ipython3",
   "version": "3.8.20"
  },
  "orig_nbformat": 4
 },
 "nbformat": 4,
 "nbformat_minor": 2
}
