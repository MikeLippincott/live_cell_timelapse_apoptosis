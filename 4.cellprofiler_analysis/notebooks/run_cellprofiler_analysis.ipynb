{
 "cells": [
  {
   "attachments": {},
   "cell_type": "markdown",
   "metadata": {},
   "source": [
    "# Perform segmentation and feature extraction for each plate using CellProfiler Parallel"
   ]
  },
  {
   "attachments": {},
   "cell_type": "markdown",
   "metadata": {},
   "source": [
    "## Import libraries"
   ]
  },
  {
   "cell_type": "code",
   "execution_count": null,
   "metadata": {},
   "outputs": [],
   "source": [
    "import pathlib\n",
    "import pprint\n",
    "import sys\n",
    "\n",
    "sys.path.append(\"../../utils/\")\n",
    "import cp_parallel"
   ]
  },
  {
   "attachments": {},
   "cell_type": "markdown",
   "metadata": {},
   "source": [
    "## Set paths and variables"
   ]
  },
  {
   "cell_type": "code",
   "execution_count": null,
   "metadata": {},
   "outputs": [],
   "source": [
    "# set the run type for the parallelization\n",
    "run_name = \"analysis\"\n",
    "\n",
    "# set main output dir for all plates\n",
    "output_dir = pathlib.Path(\"../analysis_output\")\n",
    "output_dir.mkdir(exist_ok=True, parents=True)\n",
    "\n",
    "# directory where images are located within folders\n",
    "images_dir = pathlib.Path(\"../../2.cellprofiler_ic_processing/illum_directory\")\n",
    "# directory where masks are located within folders\n",
    "masks_dir = pathlib.Path(\n",
    "    \"../../3.optimizing_CP_attempt/run_sam/sam2_processing_dir/masks\"\n",
    ")\n",
    "\n",
    "# path to plugins directory as one of the pipelines uses the RunCellpose plugin\n",
    "plugins_dir = pathlib.Path(\n",
    "    \"/home/lippincm/Documents/CellProfiler-plugins/active_plugins\"\n",
    ")"
   ]
  },
  {
   "cell_type": "markdown",
   "metadata": {},
   "source": [
    "## Create dictionary with all info for each plate"
   ]
  },
  {
   "cell_type": "code",
   "execution_count": null,
   "metadata": {},
   "outputs": [],
   "source": [
    "dict_of_inputs = {\n",
    "    \"run_20230920ChromaLiveTL_24hr4ch_MaxIP\": {\n",
    "        \"path_to_images\": pathlib.Path(\n",
    "            f\"{images_dir}/20230920ChromaLiveTL_24hr4ch_MaxIP/\"\n",
    "        ).resolve(),\n",
    "        \"path_to_output\": pathlib.Path(\n",
    "            f\"{output_dir}/20230920ChromaLiveTL_24hr4ch_MaxIP/\"\n",
    "        ).resolve(),\n",
    "        \"path_to_pipeline\": pathlib.Path(\"../pipelines/analysis_4ch.cppipe\").resolve(),\n",
    "    },\n",
    "    \"20231017ChromaLive_6hr_4ch_MaxIP\": {\n",
    "        \"path_to_images\": pathlib.Path(\n",
    "            f\"{images_dir}/20231017ChromaLive_6hr_4ch_MaxIP/\"\n",
    "        ).resolve(),\n",
    "        \"path_to_output\": pathlib.Path(\n",
    "            f\"{output_dir}/20231017ChromaLive_6hr_4ch_MaxIP/\"\n",
    "        ).resolve(),\n",
    "        \"path_to_pipeline\": pathlib.Path(\"../pipelines/analysis_4ch.cppipe\").resolve(),\n",
    "    },\n",
    "    \"run_20231017ChromaLive_endpoint_w_AnnexinV_2ch_MaxIP\": {\n",
    "        \"path_to_images\": pathlib.Path(\n",
    "            f\"{images_dir}/20231017ChromaLive_endpoint_w_AnnexinV_2ch_MaxIP/\"\n",
    "        ).resolve(strict=True),\n",
    "        \"path_to_output\": pathlib.Path(\n",
    "            f\"{output_dir}/20231017ChromaLive_endpoint_w_AnnexinV_2ch_MaxIP/\"\n",
    "        ).resolve(),\n",
    "        \"path_to_pipeline\": pathlib.Path(\"../pipelines/analysis_2ch.cppipe\").resolve(),\n",
    "    },\n",
    "    \"run_20231017ChromaLive_endpoint_w_AnnexinV_2ch_MaxIP_whole_image\": {\n",
    "        \"path_to_images\": pathlib.Path(\n",
    "            f\"{images_dir}/20231017ChromaLive_endpoint_w_AnnexinV_2ch_MaxIP/\"\n",
    "        ).resolve(),\n",
    "        \"path_to_output\": pathlib.Path(\n",
    "            f\"{output_dir}/20231017ChromaLive_endpoint_w_AnnexinV_2ch_MaxIP_whole_image/\"\n",
    "        ).resolve(),\n",
    "        \"path_to_pipeline\": pathlib.Path(\n",
    "            \"../pipelines/analysis_2ch_image.cppipe\"\n",
    "        ).resolve(),\n",
    "    },\n",
    "}\n",
    "\n",
    "# view the dictionary to assess that all info is added correctly\n",
    "pprint.pprint(dict_of_inputs, indent=4)"
   ]
  },
  {
   "attachments": {},
   "cell_type": "markdown",
   "metadata": {},
   "source": [
    "## Run analysis pipeline on each plate in parallel\n",
    "\n",
    "This cell is not finished to completion due to how long it would take. It is ran in the python file instead."
   ]
  },
  {
   "cell_type": "code",
   "execution_count": null,
   "metadata": {},
   "outputs": [],
   "source": [
    "cp_parallel.run_cellprofiler_parallel(\n",
    "    plate_info_dictionary=dict_of_inputs,\n",
    "    run_name=run_name,\n",
    "    plugins_dir=plugins_dir,\n",
    ")"
   ]
  }
 ],
 "metadata": {
  "kernelspec": {
   "display_name": "cellprofiler_timelapse_env",
   "language": "python",
   "name": "python3"
  },
  "language_info": {
   "codemirror_mode": {
    "name": "ipython",
    "version": 3
   },
   "file_extension": ".py",
   "mimetype": "text/x-python",
   "name": "python",
   "nbconvert_exporter": "python",
   "pygments_lexer": "ipython3",
   "version": "3.8.20"
  },
  "orig_nbformat": 4
 },
 "nbformat": 4,
 "nbformat_minor": 2
}
